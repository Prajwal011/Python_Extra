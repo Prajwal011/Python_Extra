{
  "nbformat": 4,
  "nbformat_minor": 5,
  "metadata": {
    "kernelspec": {
      "display_name": "Python 3",
      "language": "python",
      "name": "python3"
    },
    "language_info": {
      "codemirror_mode": {
        "name": "ipython",
        "version": 3
      },
      "file_extension": ".py",
      "mimetype": "text/x-python",
      "name": "python",
      "nbconvert_exporter": "python",
      "pygments_lexer": "ipython3",
      "version": "3.8.8"
    },
    "colab": {
      "name": "Four_in_Row_Notebook .ipynb",
      "provenance": [],
      "collapsed_sections": []
    }
  },
  "cells": [
    {
      "cell_type": "markdown",
      "metadata": {
        "id": "6d15a13e"
      },
      "source": [
        "# Problem statement\n",
        "Create classic 'Four In A Row' board game for two players.\n",
        "\n",
        "## Rules\n",
        "\n",
        "1.First player gets 'X' as a tile sign and 'O' for a second player.\n",
        "\n",
        "2.Player wins the game when player fills four consecutive places with same tile in a row, or in a column, or in a diagonal.\n",
        "\n",
        "3.Player must prevent opponent from doing the same.\n"
      ],
      "id": "6d15a13e"
    },
    {
      "cell_type": "markdown",
      "metadata": {
        "id": "b21783a4"
      },
      "source": [
        "# Steps to solve the problem\n",
        "\n",
        "### Step 1\n",
        "- Create a dictionary with co-ordinates as keys and assign '.'(dot) as a value to every key.\n",
        "\n",
        "### Step 2\n",
        "- Display a board with six rows and seven columns.\n",
        "\n",
        "- Display board with all places filled with a dot(.) representing empty places.\n",
        "\n",
        "Initial display:-\n",
        "\n",
        "      1 2 3 4 5 6 7\n",
        "     +- - - - - - -+\n",
        "    1|. . . . . . .|\n",
        "    2|. . . . . . .|\n",
        "    3|. . . . . . .|\n",
        "    4|. . . . . . .|\n",
        "    5|. . . . . . .|\n",
        "    6|. . . . . . .|\n",
        "     +- - - - - - -+\n",
        "     \n",
        "### Step 3\n",
        "- Accept input from user and fill that place with the respective player's tile sign.\n",
        "\n",
        "- Define invalid moves using `if` statements.\n",
        "\n",
        "- Display updated Board.\n",
        "\n",
        "Example: \n",
        "\n",
        "Player1 uses the tile_sign X\n",
        "\n",
        "Enter row index: 4\n",
        "\n",
        "Enter column index: 5\n",
        "\n",
        "      1 2 3 4 5 6 7\n",
        "     +- - - - - - -+\n",
        "    1|. . . . . . .|\n",
        "    2|. . . . . . .|\n",
        "    3|. . . . . . .|\n",
        "    4|. . . . X . .|\n",
        "    5|. . . . . . .|\n",
        "    6|. . . . . . .|\n",
        "     +- - - - - - -+\n",
        "     \n",
        "### Step 4\n",
        "- Define a function to check if the board game is filled completely.\n",
        "\n",
        "### Step 5\n",
        "- Define all the three winning conditions."
      ],
      "id": "b21783a4"
    },
    {
      "cell_type": "markdown",
      "metadata": {
        "id": "a5331fd1"
      },
      "source": [
        "## Lesson 1"
      ],
      "id": "a5331fd1"
    },
    {
      "cell_type": "markdown",
      "metadata": {
        "id": "3d324d61"
      },
      "source": [
        "Defining variables initially:\n",
        "1. Define variable for players.\n",
        "2. Define variable for signs of tiles.\n",
        "3. Define variable for a list that stores all the inputs from user in the form of tuple, empty for the time being.\n",
        "\n",
        "(Remember that values assigned to variables `player` and `tile_sign` must change with player. As of now, assign the values for first player.)\n",
        "\n",
        "Example: player = 'player1', tile_sign = 'X', input_index_list = [ ]"
      ],
      "id": "3d324d61"
    },
    {
      "cell_type": "code",
      "metadata": {
        "id": "0153b257"
      },
      "source": [
        "#### Your code ####"
      ],
      "id": "0153b257",
      "execution_count": null,
      "outputs": []
    },
    {
      "cell_type": "markdown",
      "metadata": {
        "id": "f433a65d"
      },
      "source": [
        "Write a `getNewBoard()`function returning dictionary `board` with co-ordinates of six row index and seven column index as keys in the form of tuples and assign dot(.) as a value to every key. "
      ],
      "id": "f433a65d"
    },
    {
      "cell_type": "code",
      "metadata": {
        "id": "566d50fb"
      },
      "source": [
        "#### Your code ####"
      ],
      "id": "566d50fb",
      "execution_count": null,
      "outputs": []
    },
    {
      "cell_type": "markdown",
      "metadata": {
        "id": "1ef94ce3"
      },
      "source": [
        "## Lesson 2"
      ],
      "id": "1ef94ce3"
    },
    {
      "cell_type": "markdown",
      "metadata": {
        "id": "1c852613"
      },
      "source": [
        "Write a `displayBoard()` that takes `board` as an argument returned by above function and displays empty board game. All the places must be filled with dots(.) indicating empty places as shown below:\n",
        "\n",
        "      1 2 3 4 5 6 7\n",
        "     +- - - - - - -+\n",
        "    1|. . . . . . .|\n",
        "    2|. . . . . . .|\n",
        "    3|. . . . . . .|\n",
        "    4|. . . . . . .|\n",
        "    5|. . . . . . .|\n",
        "    6|. . . . . . .|\n",
        "     +- - - - - - -+\n",
        "     \n",
        "**Hint**: Create a list of all values from all the keys of `board` dictionary and fill those places with the values from the list using `.format(*list_name)` method.\n",
        "\n",
        "Before jumping to write a function, understand the use of asterisk sign from examples given below."
      ],
      "id": "1c852613"
    },
    {
      "cell_type": "code",
      "metadata": {
        "id": "56f7adbb"
      },
      "source": [
        "# Use of asterisk (*)"
      ],
      "id": "56f7adbb",
      "execution_count": null,
      "outputs": []
    },
    {
      "cell_type": "code",
      "metadata": {
        "colab": {
          "base_uri": "https://localhost:8080/"
        },
        "id": "99ac1dc4",
        "outputId": "b3b60602-1e60-4843-f293-439b12153d5a"
      },
      "source": [
        "# Run the code cell below as it is.\n",
        "# Using tuple\n",
        "\n",
        "browser = ('Google', 'browser', 'Yahoo', 'browser')\n",
        "print('{} {} is used by more users than {} {}.'.format(*browser))"
      ],
      "id": "99ac1dc4",
      "execution_count": null,
      "outputs": [
        {
          "output_type": "stream",
          "name": "stdout",
          "text": [
            "Google browser is used by more users than Yahoo browser.\n"
          ]
        }
      ]
    },
    {
      "cell_type": "code",
      "metadata": {
        "colab": {
          "base_uri": "https://localhost:8080/"
        },
        "id": "91e14b6e",
        "outputId": "ac3c440a-4419-4a00-fc80-c7b5c67178a8"
      },
      "source": [
        "# Run the code cell below as it is.\n",
        "# Using list\n",
        "\n",
        "person_info = ['Ram', 'student']\n",
        "print('I am {} and I am a {}.'.format(*person_info))"
      ],
      "id": "91e14b6e",
      "execution_count": null,
      "outputs": [
        {
          "output_type": "stream",
          "name": "stdout",
          "text": [
            "I am Ram and I am a student.\n"
          ]
        }
      ]
    },
    {
      "cell_type": "code",
      "metadata": {
        "colab": {
          "base_uri": "https://localhost:8080/"
        },
        "id": "e1b6173f",
        "outputId": "e8aad44a-f9ca-4201-ffb3-6b20cd2eaa57"
      },
      "source": [
        "# Run the code cell below as it is.\n",
        "# Using dictionary\n",
        "\n",
        "sports = {\"Team1\":\"Indian Cricket\", \"Team2\":\"England Cricket\"}\n",
        "print(\"{} defeated {} in ODI.\".format(*sports))"
      ],
      "id": "e1b6173f",
      "execution_count": null,
      "outputs": [
        {
          "output_type": "stream",
          "name": "stdout",
          "text": [
            "Team1 defeated Team2 in ODI.\n"
          ]
        }
      ]
    },
    {
      "cell_type": "code",
      "metadata": {
        "colab": {
          "base_uri": "https://localhost:8080/"
        },
        "id": "78853a3c",
        "outputId": "5ef1ad27-0044-455b-b6f7-c6a7ff65d480"
      },
      "source": [
        "# Run the code cell below as it is.\n",
        "# Using dictionary values\n",
        "\n",
        "sports = {\"Team1\":\"Indian Cricket\", \"Team2\":\"England Cricket\"}\n",
        "print(\"{} team defeated the {} team in ODI.\".format(*sports.values()))"
      ],
      "id": "78853a3c",
      "execution_count": null,
      "outputs": [
        {
          "output_type": "stream",
          "name": "stdout",
          "text": [
            "Indian Cricket team defeated the England Cricket team in ODI.\n"
          ]
        }
      ]
    },
    {
      "cell_type": "code",
      "metadata": {
        "colab": {
          "base_uri": "https://localhost:8080/"
        },
        "id": "c8546ef9",
        "outputId": "1e49675c-6097-4054-96c3-180f08927054"
      },
      "source": [
        "# Run the code cell below as it is.\n",
        "# Using dictionary keys\n",
        "\n",
        "sports = {\"Team1\":\"Indian Cricket\", \"Team2\":\"England Cricket\"}\n",
        "print(\"{} defeated {} in ODI.\".format(*sports.keys()))"
      ],
      "id": "c8546ef9",
      "execution_count": null,
      "outputs": [
        {
          "output_type": "stream",
          "name": "stdout",
          "text": [
            "Team1 defeated Team2 in ODI.\n"
          ]
        }
      ]
    },
    {
      "cell_type": "code",
      "metadata": {
        "colab": {
          "base_uri": "https://localhost:8080/"
        },
        "id": "ce35ede5",
        "outputId": "5abb2412-b3f7-410e-b8b6-8443c8d712c0"
      },
      "source": [
        "# Run the code cell below as it is.\n",
        "\n",
        "sport = [('Indian', 'Cricket Team'), ('Enland', 'Cricket Team')]\n",
        "print(\"Today's match: {} VS {}\".format(*sport))"
      ],
      "id": "ce35ede5",
      "execution_count": null,
      "outputs": [
        {
          "output_type": "stream",
          "name": "stdout",
          "text": [
            "Today's match: ('Indian', 'Cricket Team') VS ('Enland', 'Cricket Team')\n"
          ]
        }
      ]
    },
    {
      "cell_type": "code",
      "metadata": {
        "colab": {
          "base_uri": "https://localhost:8080/"
        },
        "id": "4d8ea9af",
        "outputId": "1bbcca9e-1fc2-4731-d813-0d367baf967e"
      },
      "source": [
        "# Run the code cell below as it is.\n",
        "# This code will be of great help to define the function\n",
        "\n",
        "step_design = ['*']*9\n",
        "print(\"\"\"\n",
        " _\n",
        "|{}|_\n",
        "|{}{}{}|_\n",
        "|{}{}{}{}{}|\n",
        "\"\"\".format(*step_design))"
      ],
      "id": "4d8ea9af",
      "execution_count": null,
      "outputs": [
        {
          "output_type": "stream",
          "name": "stdout",
          "text": [
            "\n",
            " _\n",
            "|*|_\n",
            "|***|_\n",
            "|*****|\n",
            "\n"
          ]
        }
      ]
    },
    {
      "cell_type": "code",
      "metadata": {
        "id": "1088b0f6"
      },
      "source": [
        "#### Your code ####\n",
        "# Read the hint in Lesson 2"
      ],
      "id": "1088b0f6",
      "execution_count": null,
      "outputs": []
    },
    {
      "cell_type": "markdown",
      "metadata": {
        "id": "839d3601"
      },
      "source": [
        "## Lesson 3"
      ],
      "id": "839d3601"
    },
    {
      "cell_type": "markdown",
      "metadata": {
        "id": "7c3acc3c"
      },
      "source": [
        "Write a `askForMove()` function that accepts input as row index and column index from player indicating place to fill in board  while taking `input_index_list`, `tile_sign`, `board` as arguments and returns `board`(which is a dictionary) updated with player's move. \n",
        "\n",
        "Display the updated board.\n",
        "\n",
        "Add conditions for invalid input. Figure out two such conditions."
      ],
      "id": "7c3acc3c"
    },
    {
      "cell_type": "code",
      "metadata": {
        "id": "ae392d32"
      },
      "source": [
        "#### Your code ####"
      ],
      "id": "ae392d32",
      "execution_count": null,
      "outputs": []
    },
    {
      "cell_type": "markdown",
      "metadata": {
        "id": "4373d436"
      },
      "source": [
        "## Lesson 4"
      ],
      "id": "4373d436"
    },
    {
      "cell_type": "markdown",
      "metadata": {
        "id": "4f754861"
      },
      "source": [
        "Write a `isFull()` function that takes `board` as an argument and returns `True` if board is full with the tile signs of players."
      ],
      "id": "4f754861"
    },
    {
      "cell_type": "code",
      "metadata": {
        "id": "363ee748"
      },
      "source": [
        "#### Your code ####"
      ],
      "id": "363ee748",
      "execution_count": null,
      "outputs": []
    },
    {
      "cell_type": "markdown",
      "metadata": {
        "id": "03362760"
      },
      "source": [
        "## Lesson 5"
      ],
      "id": "03362760"
    },
    {
      "cell_type": "markdown",
      "metadata": {
        "id": "f1f3519a"
      },
      "source": [
        "Write a `isWinner()` function that accepts `tile_sign` and `board` as arguments and  checks for a winning condition returning `True` if any of the three conditions is fulfilled.\n",
        "\n",
        "(In a winning condition for a diagonal, two conditions are required. Figure them out!)"
      ],
      "id": "f1f3519a"
    },
    {
      "cell_type": "code",
      "metadata": {
        "id": "c25ba29e"
      },
      "source": [
        "#### Your code ####"
      ],
      "id": "c25ba29e",
      "execution_count": null,
      "outputs": []
    },
    {
      "cell_type": "markdown",
      "metadata": {
        "id": "7a1d510f"
      },
      "source": [
        "Do not forget to switch the player for next player's turn"
      ],
      "id": "7a1d510f"
    },
    {
      "cell_type": "code",
      "metadata": {
        "id": "3d99bd02"
      },
      "source": [
        "#### Your code ####"
      ],
      "id": "3d99bd02",
      "execution_count": null,
      "outputs": []
    },
    {
      "cell_type": "markdown",
      "metadata": {
        "id": "3782cbd4"
      },
      "source": [
        "### Complete game (using all the above functions in use)"
      ],
      "id": "3782cbd4"
    },
    {
      "cell_type": "code",
      "metadata": {
        "colab": {
          "base_uri": "https://localhost:8080/",
          "height": 129
        },
        "id": "9d2835af",
        "outputId": "3a144b3c-f2a6-4540-ea8a-ac9e951ef11e"
      },
      "source": [
        "# Define a FourInARow() function\n",
        "\n",
        "# Define variables\n",
        "\n",
        "# Display empty board\n",
        "\n",
        "while True:\n",
        "    \n",
        "    ## Check for a player and accordingly assign a tile_sign\n",
        "    \n",
        "    ## Call askForMove() funtion to accept input \n",
        "    \n",
        "    ## Call displayBoard() function to display the board\n",
        "    \n",
        "    ## Check for a winning condition and if the board is filled completely.\n",
        "    \n",
        "    ## Switch the player for next player's turn"
      ],
      "id": "9d2835af",
      "execution_count": null,
      "outputs": [
        {
          "output_type": "error",
          "ename": "SyntaxError",
          "evalue": "ignored",
          "traceback": [
            "\u001b[0;36m  File \u001b[0;32m\"<ipython-input-30-5a6163f356b8>\"\u001b[0;36m, line \u001b[0;32m17\u001b[0m\n\u001b[0;31m    ## Switch the player for next player's turn\u001b[0m\n\u001b[0m                                               ^\u001b[0m\n\u001b[0;31mSyntaxError\u001b[0m\u001b[0;31m:\u001b[0m unexpected EOF while parsing\n"
          ]
        }
      ]
    },
    {
      "cell_type": "code",
      "metadata": {
        "id": "fjxpzqEzO4NB"
      },
      "source": [
        "FourInARow()"
      ],
      "id": "fjxpzqEzO4NB",
      "execution_count": null,
      "outputs": []
    },
    {
      "cell_type": "markdown",
      "metadata": {
        "id": "-Dx6VRpWOrbk"
      },
      "source": [
        "### Congratulations !!!\n",
        "\n",
        "Kudos to you. :clap: :clap: You have added another feather to your hat. This game you've developed is mostly based on your knowledge of how to traverse through 2D frame of game and check the conditions of game winning. "
      ],
      "id": "-Dx6VRpWOrbk"
    }
  ]
}