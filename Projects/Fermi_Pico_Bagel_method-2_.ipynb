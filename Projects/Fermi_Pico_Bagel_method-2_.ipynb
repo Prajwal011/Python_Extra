{
 "cells": [
  {
   "cell_type": "markdown",
   "id": "32b7a667",
   "metadata": {},
   "source": [
    "## Fermi Pico Bagels\n",
    "Try playing game and understand the rules : https://communicrossings.com/html/js/pfb.htm\n"
   ]
  },
  {
   "cell_type": "markdown",
   "id": "c9b078fe",
   "metadata": {},
   "source": [
    "## Step 1\n",
    "Ask the user for how many digits should be there in a number to guess. Store it in a variable `digits`.\n"
   ]
  },
  {
   "cell_type": "code",
   "execution_count": null,
   "id": "236e9d98",
   "metadata": {},
   "outputs": [],
   "source": [
    "## Your code goes here"
   ]
  },
  {
   "cell_type": "markdown",
   "id": "9fcaf933",
   "metadata": {},
   "source": [
    "## Step 2\n",
    "In this method, we will obtain random number using built-in `random` module.\n",
    "So we import `sample` method from `random` module.\n"
   ]
  },
  {
   "cell_type": "code",
   "execution_count": null,
   "id": "de32b17f",
   "metadata": {},
   "outputs": [],
   "source": [
    "## Your code goes here"
   ]
  },
  {
   "cell_type": "markdown",
   "id": "e5719038",
   "metadata": {},
   "source": [
    "## Step 3\n",
    "Use `sample` method, taking `digits` as one of the arguments. It returns a list called `digit_list`."
   ]
  },
  {
   "cell_type": "code",
   "execution_count": null,
   "id": "ca3566e4",
   "metadata": {},
   "outputs": [],
   "source": [
    "## Your code goes here"
   ]
  },
  {
   "cell_type": "markdown",
   "id": "8e86a7ba",
   "metadata": {},
   "source": [
    "You can check `digit_list` using `print` function."
   ]
  },
  {
   "cell_type": "code",
   "execution_count": null,
   "id": "2f0f04f2",
   "metadata": {},
   "outputs": [],
   "source": [
    "## Your code goes here"
   ]
  },
  {
   "cell_type": "markdown",
   "id": "41c1d67e",
   "metadata": {},
   "source": [
    "## Step 4\n",
    "Join all these digits and convert it into single integer using `join()` method.  Store it in a variable `original_number`.\n"
   ]
  },
  {
   "cell_type": "code",
   "execution_count": null,
   "id": "5360d4cc",
   "metadata": {},
   "outputs": [],
   "source": [
    "## Your code goes here"
   ]
  },
  {
   "cell_type": "markdown",
   "id": "e6a4c72a",
   "metadata": {},
   "source": [
    "## Step 5\n",
    "Define `guess_number_count` variable to count the number of guesses. Initially set it's value 1.\n"
   ]
  },
  {
   "cell_type": "code",
   "execution_count": null,
   "id": "eb14939f",
   "metadata": {},
   "outputs": [],
   "source": [
    "## Your code goes here"
   ]
  },
  {
   "cell_type": "markdown",
   "id": "7d366525",
   "metadata": {},
   "source": [
    "## Step 6\n",
    "Ask for how many number of guesses player wants to guess the number and store it in variable `guesses`."
   ]
  },
  {
   "cell_type": "code",
   "execution_count": null,
   "id": "37c38040",
   "metadata": {},
   "outputs": [],
   "source": [
    "## Your code goes here"
   ]
  },
  {
   "cell_type": "markdown",
   "id": "859a1ed4",
   "metadata": {},
   "source": [
    "## Step 7\n",
    "Create empty list called output where we will store the output in the form of list.\n",
    "\n",
    "For example: output = [ ' Fermi ', ' Pico ' ,' Pico ' ]"
   ]
  },
  {
   "cell_type": "code",
   "execution_count": null,
   "id": "c01be9ea",
   "metadata": {},
   "outputs": [],
   "source": [
    "## Your code goes here"
   ]
  },
  {
   "cell_type": "markdown",
   "id": "2f049244",
   "metadata": {},
   "source": [
    "## Step 8\n",
    "Import `shuffle` method from `random` module and write `shuffle(output)`."
   ]
  },
  {
   "cell_type": "code",
   "execution_count": null,
   "id": "39fcc2d8",
   "metadata": {},
   "outputs": [],
   "source": [
    "## Your code goes here"
   ]
  },
  {
   "cell_type": "markdown",
   "id": "a61e98d9",
   "metadata": {},
   "source": [
    "## Step 9\n",
    "Take a number as user input and save it in a variable `guess_number`."
   ]
  },
  {
   "cell_type": "code",
   "execution_count": null,
   "id": "51f429b6",
   "metadata": {},
   "outputs": [],
   "source": [
    "## Your code goes here"
   ]
  },
  {
   "cell_type": "markdown",
   "id": "95601859",
   "metadata": {},
   "source": [
    "## Step 10\n",
    "Check if number of digits of `original_number` and `guess_number` is same, if not then ask user for valid input.(Use `len()` function)."
   ]
  },
  {
   "cell_type": "code",
   "execution_count": null,
   "id": "8cd22201",
   "metadata": {},
   "outputs": [],
   "source": [
    "## Your code goes here"
   ]
  },
  {
   "cell_type": "markdown",
   "id": "a432ccc9",
   "metadata": {},
   "source": [
    "## Step 11\n",
    "Check if the digits are not repeated in a `guess_number` using `set()`.\n",
    "Note that datatype `set` allows unique values only.\n"
   ]
  },
  {
   "cell_type": "code",
   "execution_count": null,
   "id": "548cbab9",
   "metadata": {},
   "outputs": [],
   "source": [
    "## Your code goes here"
   ]
  },
  {
   "cell_type": "markdown",
   "id": "c8ff52fd",
   "metadata": {},
   "source": [
    "## Step 12\n",
    "Check if any digit and it's position in both `guess_number` and `original_number` are same then append 'Fermi' to `ouput` list or if only digit matches and not the position then append 'Pico' to `output`.\n"
   ]
  },
  {
   "cell_type": "code",
   "execution_count": null,
   "id": "054b5f24",
   "metadata": {},
   "outputs": [],
   "source": [
    "## Your code goes here"
   ]
  },
  {
   "cell_type": "markdown",
   "id": "dc7c88d8",
   "metadata": {},
   "source": [
    "## Step 13\n",
    "Convert the a list `output` into string with each value separated by space. Define that string as `output_string`.\n",
    "\n",
    "Use `join()` method to add space between them."
   ]
  },
  {
   "cell_type": "code",
   "execution_count": null,
   "id": "2e13ab89",
   "metadata": {},
   "outputs": [],
   "source": [
    "## Your code goes here"
   ]
  },
  {
   "cell_type": "markdown",
   "id": "fc4fe4c5",
   "metadata": {},
   "source": [
    "## Step 14\n",
    "Check if neither any digit matches nor any position then output must be `Bagel`.This means output list should be empty.\n",
    "\n",
    "\n",
    "Otherwise print `output_string`."
   ]
  },
  {
   "cell_type": "code",
   "execution_count": null,
   "id": "31aa75c1",
   "metadata": {},
   "outputs": [],
   "source": [
    "## Your code goes here"
   ]
  },
  {
   "cell_type": "markdown",
   "id": "f20e2364",
   "metadata": {},
   "source": [
    "## Step 15\n",
    "Check winning condition and print ' You win !! '.\n"
   ]
  },
  {
   "cell_type": "code",
   "execution_count": null,
   "id": "ea66476b",
   "metadata": {},
   "outputs": [],
   "source": [
    "## Your code goes here"
   ]
  },
  {
   "cell_type": "markdown",
   "id": "7cf7e9ea",
   "metadata": {},
   "source": [
    "Check losing condition i.e. when player could not guess the number within allowed number of guesses and print the answer."
   ]
  },
  {
   "cell_type": "code",
   "execution_count": 1,
   "id": "2f58084e",
   "metadata": {},
   "outputs": [],
   "source": [
    "## Your code goes here"
   ]
  },
  {
   "cell_type": "markdown",
   "id": "4a7da325",
   "metadata": {},
   "source": [
    "## Complete game"
   ]
  },
  {
   "cell_type": "code",
   "execution_count": null,
   "id": "bfd5aa98",
   "metadata": {},
   "outputs": [],
   "source": [
    "## step 2\n",
    "\n",
    "## step 1\n",
    "\n",
    "## step3 and step 4\n",
    "\n",
    "## step 5 and step 6\n",
    "\n",
    "## infinite while loop\n",
    "\n",
    "## step 7 \n",
    "\n",
    "# print('Guess ', guess_number_count ) (uncomment this line)\n",
    "\n",
    "## step 9\n",
    "\n",
    "## step 10 with continue statement\n",
    "\n",
    "## step 11 with continue statement\n",
    "\n",
    "## step 12\n",
    "\n",
    "## step 8\n",
    "\n",
    "# guess_number_count = guess_number_count + 1  (uncomment this line)\n",
    "\n",
    "## step 13 and step 14\n",
    "\n",
    "## step 15 add break statement after both winning and losing condition\n"
   ]
  }
 ],
 "metadata": {
  "kernelspec": {
   "display_name": "Python 3",
   "language": "python",
   "name": "python3"
  },
  "language_info": {
   "codemirror_mode": {
    "name": "ipython",
    "version": 3
   },
   "file_extension": ".py",
   "mimetype": "text/x-python",
   "name": "python",
   "nbconvert_exporter": "python",
   "pygments_lexer": "ipython3",
   "version": "3.8.8"
  }
 },
 "nbformat": 4,
 "nbformat_minor": 5
}
