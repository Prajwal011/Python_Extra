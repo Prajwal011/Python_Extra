{
 "cells": [
  {
   "cell_type": "markdown",
   "id": "7507b31d",
   "metadata": {},
   "source": [
    "## Fermi Pico Bagel\n",
    "Try playing game and understand the rules : https://communicrossings.com/html/js/pfb.htm"
   ]
  },
  {
   "cell_type": "markdown",
   "id": "bea3a44e",
   "metadata": {},
   "source": [
    "## Step 1\n",
    "Store any number(number to be guessed by player) in a variable `original_number`."
   ]
  },
  {
   "cell_type": "code",
   "execution_count": 2,
   "id": "7a13b189",
   "metadata": {},
   "outputs": [],
   "source": [
    "original_number = 123  #You can write any number"
   ]
  },
  {
   "cell_type": "markdown",
   "id": "e4c51279",
   "metadata": {},
   "source": [
    "## Step 2\n",
    "Take a number as user input and save it in a variable `guess_number`.(Remember that datatype of input will be string so convert it into integer.)"
   ]
  },
  {
   "cell_type": "code",
   "execution_count": 4,
   "id": "4d4d94d4",
   "metadata": {},
   "outputs": [
    {
     "name": "stdout",
     "output_type": "stream",
     "text": [
      "Guess the number: 123\n"
     ]
    }
   ],
   "source": [
    "guess_number = int(input('Guess the number: '))"
   ]
  },
  {
   "cell_type": "markdown",
   "id": "fa1e6ce3",
   "metadata": {},
   "source": [
    "## Step 3\n",
    "Check if total number of digits in `original_number` and `guess_number` is not same(Use `len()` function) then ask user for valid input.(First convert number into string then use `len()` to get total digits in `original_number` and `guess_number`. )"
   ]
  },
  {
   "cell_type": "code",
   "execution_count": 5,
   "id": "e5368402",
   "metadata": {},
   "outputs": [],
   "source": [
    "if len(str(guess_number)) != len(str(original_number)):\n",
    "    print(f'Enter {len(str(original_number))} digit number.')"
   ]
  },
  {
   "cell_type": "markdown",
   "id": "bca02ed8",
   "metadata": {},
   "source": [
    "## Step 4\n",
    "Using `set()`, check if the digits are repeated in a `guess_number` .\n",
    "Note that datatype `set` allows unique values only.\n",
    "\n",
    "For ex. if `user_input`is 122, then it should print the string 'Duplicate number' as digit 2 is repeated."
   ]
  },
  {
   "cell_type": "code",
   "execution_count": 6,
   "id": "65822747",
   "metadata": {},
   "outputs": [],
   "source": [
    "if len(str(guess_number))  != len(set(str(guess_number))):\n",
    "    print('Duplicate number')"
   ]
  },
  {
   "cell_type": "markdown",
   "id": "13a45d25",
   "metadata": {},
   "source": [
    "## Step 5\n",
    "Check winning condition i.e. if both `guess_number` and `original_number` are same, then print 'Fermi' as many number of times as number of digits in a number and print ' You win !! '."
   ]
  },
  {
   "cell_type": "code",
   "execution_count": 7,
   "id": "605e1dd4",
   "metadata": {},
   "outputs": [
    {
     "name": "stdout",
     "output_type": "stream",
     "text": [
      "Fermi Fermi Fermi \n",
      "\n",
      "You won !!\n"
     ]
    }
   ],
   "source": [
    "if (guess_number - original_number) == 0 :\n",
    "    print('Fermi '*len(str(original_number)))\n",
    "    print('\\nYou won !!')"
   ]
  },
  {
   "cell_type": "markdown",
   "id": "7d45a9df",
   "metadata": {},
   "source": [
    "## Step 6\n",
    "Create empty list called `output` where we will store the output in the form of list.\n",
    "\n",
    "For example: output = [ ' Fermi ', ' Pico ' ,' Pico ' ]"
   ]
  },
  {
   "cell_type": "code",
   "execution_count": 15,
   "id": "3eefb750",
   "metadata": {},
   "outputs": [],
   "source": [
    "output = []"
   ]
  },
  {
   "cell_type": "markdown",
   "id": "587293e5",
   "metadata": {},
   "source": [
    "## Step 7\n",
    "Check if any digit and it's position in both `guess_number` and `original_number` are same then append 'Fermi' to `output` list or if only digit matches and not the position then append 'Pico' to `output`."
   ]
  },
  {
   "cell_type": "code",
   "execution_count": 18,
   "id": "d5629045",
   "metadata": {},
   "outputs": [],
   "source": [
    "for i in range(len(str(original_number))): \n",
    "    for j in range(len(str(guess_number))):     \n",
    "        if str(original_number)[i] == str(guess_number)[j]: \n",
    "            if i == j:               \n",
    "                output.append('Fermi')\n",
    "            else:\n",
    "                output.append('Pico')"
   ]
  },
  {
   "cell_type": "markdown",
   "id": "02cd96d8",
   "metadata": {},
   "source": [
    "## Step 8\n",
    "Define a variable called `output_string` which has all values from a list `output` with each value separated by space. (Use 'for' loop to get all the values from a list `output`.)"
   ]
  },
  {
   "cell_type": "code",
   "execution_count": 23,
   "id": "a8fdf48c",
   "metadata": {},
   "outputs": [
    {
     "name": "stdout",
     "output_type": "stream",
     "text": [
      " Fermi Fermi Fermi\n"
     ]
    }
   ],
   "source": [
    "output_string = ''\n",
    "\n",
    "for item in output :\n",
    "    output_string = output_string + ' ' + item \n",
    "    \n",
    "print(output_string)"
   ]
  },
  {
   "cell_type": "code",
   "execution_count": null,
   "id": "9da8a42a",
   "metadata": {},
   "outputs": [],
   "source": [
    "# alternative way:\n",
    "# output_string = ' '.join(output)"
   ]
  },
  {
   "cell_type": "markdown",
   "id": "b65dec08",
   "metadata": {},
   "source": [
    "## Step 9\n",
    "Check if neither any digit nor any position matches i.e. if length of `output` list is zero then print `Bagel`.\n",
    "\n",
    "Otherwise print `output_string`."
   ]
  },
  {
   "cell_type": "code",
   "execution_count": 24,
   "id": "6f498286",
   "metadata": {},
   "outputs": [
    {
     "name": "stdout",
     "output_type": "stream",
     "text": [
      " Fermi Fermi Fermi\n"
     ]
    }
   ],
   "source": [
    "if len(output) == 0:           \n",
    "    print('Bagels')\n",
    "else:\n",
    "    print(output_string)"
   ]
  },
  {
   "cell_type": "markdown",
   "id": "a2cb76fd",
   "metadata": {},
   "source": [
    "## Step 10\n",
    "\n",
    "## Complete game\n",
    "Here use continue and break statements at appropriate places."
   ]
  },
  {
   "cell_type": "code",
   "execution_count": 34,
   "id": "55efc5c5",
   "metadata": {},
   "outputs": [
    {
     "name": "stdout",
     "output_type": "stream",
     "text": [
      "\n",
      "Guess the number: 4589\n",
      " Pico Pico Fermi Fermi\n",
      "\n",
      "Guess the number: 5489\n",
      " Fermi  Fermi  Fermi  Fermi \n",
      " \n",
      "You won !!\n"
     ]
    }
   ],
   "source": [
    "original_number = 5489  #You can write any number\n",
    "\n",
    "while True :\n",
    "    output = []\n",
    "    guess_number = int(input('\\nGuess the number: '))\n",
    "    \n",
    "    if len(str(guess_number)) != len(str(original_number)):\n",
    "        print(f'Enter {len(str(original_number))} digit number')\n",
    "        continue\n",
    "        \n",
    "    if len(str(guess_number))  != len(set(str(guess_number))):\n",
    "        print('Duplicate number')\n",
    "        continue\n",
    "    \n",
    "    if (int(guess_number) - original_number) == 0 :\n",
    "        print(' Fermi '*len(str(original_number)))\n",
    "        print('\\nYou won !!')\n",
    "        break\n",
    "    \n",
    "    for i in range(len(str(original_number))): \n",
    "        for j in range(len(str(guess_number))):     \n",
    "            if str(original_number)[i] == str(guess_number)[j]: \n",
    "                if i == j:               \n",
    "                    output.append('Fermi')\n",
    "                else:\n",
    "                    output.append('Pico')\n",
    "                    \n",
    "    output_string = ''\n",
    "    for item in output :\n",
    "        output_string = output_string + ' ' + item \n",
    "        \n",
    "    \n",
    "    if len(output) == 0:           \n",
    "        print(' Bagels')\n",
    "    else:\n",
    "        print(output_string)\n",
    "        "
   ]
  },
  {
   "cell_type": "code",
   "execution_count": null,
   "id": "c8dd2da5",
   "metadata": {},
   "outputs": [],
   "source": []
  }
 ],
 "metadata": {
  "kernelspec": {
   "display_name": "Python 3",
   "language": "python",
   "name": "python3"
  },
  "language_info": {
   "codemirror_mode": {
    "name": "ipython",
    "version": 3
   },
   "file_extension": ".py",
   "mimetype": "text/x-python",
   "name": "python",
   "nbconvert_exporter": "python",
   "pygments_lexer": "ipython3",
   "version": "3.8.8"
  }
 },
 "nbformat": 4,
 "nbformat_minor": 5
}
