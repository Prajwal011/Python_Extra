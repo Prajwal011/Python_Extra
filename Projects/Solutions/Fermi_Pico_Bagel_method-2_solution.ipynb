{
 "cells": [
  {
   "cell_type": "markdown",
   "id": "d45cde2c",
   "metadata": {},
   "source": [
    "## Fermi Pico Bagels\n",
    "Try playing game and understand the rules : https://communicrossings.com/html/js/pfb.htm"
   ]
  },
  {
   "cell_type": "markdown",
   "id": "1b042802",
   "metadata": {},
   "source": [
    "## Step 1\n",
    "Ask the user for how many digits should be there in a number to guess. Store it in a variable `digits`."
   ]
  },
  {
   "cell_type": "code",
   "execution_count": 1,
   "id": "b6c11408",
   "metadata": {},
   "outputs": [
    {
     "name": "stdout",
     "output_type": "stream",
     "text": [
      "Enter the number of digits: 3\n"
     ]
    }
   ],
   "source": [
    "digits = int(input('Enter the number of digits: '))"
   ]
  },
  {
   "cell_type": "markdown",
   "id": "c2f7fc85",
   "metadata": {},
   "source": [
    "## Step 2\n",
    "In this method, we will obtain random number using built-in `random` module.\n",
    "So we import `sample` method from `random` module."
   ]
  },
  {
   "cell_type": "code",
   "execution_count": 2,
   "id": "a760b2f4",
   "metadata": {},
   "outputs": [],
   "source": [
    "from random import sample"
   ]
  },
  {
   "cell_type": "markdown",
   "id": "2c2fff07",
   "metadata": {},
   "source": [
    "## Step 3\n",
    "Use `sample` method, taking `digits` as one of the arguments. It returns a list called `digit_list`."
   ]
  },
  {
   "cell_type": "code",
   "execution_count": 3,
   "id": "6ea45e51",
   "metadata": {},
   "outputs": [],
   "source": [
    "digit_list = sample('123456789', digits)"
   ]
  },
  {
   "cell_type": "markdown",
   "id": "37109d78",
   "metadata": {},
   "source": [
    "You can check `digit_list` using `print` function."
   ]
  },
  {
   "cell_type": "code",
   "execution_count": 4,
   "id": "219a3f47",
   "metadata": {},
   "outputs": [
    {
     "name": "stdout",
     "output_type": "stream",
     "text": [
      "['9', '4', '7']\n"
     ]
    }
   ],
   "source": [
    "print(digit_list)"
   ]
  },
  {
   "cell_type": "markdown",
   "id": "cbfee3f5",
   "metadata": {},
   "source": [
    "## Step 4\n",
    "Join all these digits and convert it into single integer using `join()` method."
   ]
  },
  {
   "cell_type": "code",
   "execution_count": 6,
   "id": "4475dea8",
   "metadata": {},
   "outputs": [],
   "source": [
    "original_number = ''.join(digit_list)"
   ]
  },
  {
   "cell_type": "markdown",
   "id": "24c86b45",
   "metadata": {},
   "source": [
    "## Step 5\n",
    "Define `guess_number_count` variable to count the number of guesses. Initially set it's value 1."
   ]
  },
  {
   "cell_type": "code",
   "execution_count": 10,
   "id": "0889052e",
   "metadata": {},
   "outputs": [],
   "source": [
    "guess_number_count = 1"
   ]
  },
  {
   "cell_type": "markdown",
   "id": "ddd93a03",
   "metadata": {},
   "source": [
    "## Step 6\n",
    "Ask for how many number of guesses player wants to guess the number and store it in variable `guesses`."
   ]
  },
  {
   "cell_type": "code",
   "execution_count": null,
   "id": "40c534a2",
   "metadata": {},
   "outputs": [],
   "source": [
    "guesses = int(input('How many guesses you want: '))"
   ]
  },
  {
   "cell_type": "markdown",
   "id": "f97d9e89",
   "metadata": {},
   "source": [
    "## Step 7\n",
    "Create empty list called output where we will store the output in the form of list.\n",
    "\n",
    "For example: output = [ ' Fermi ', ' Pico ' ,' Pico ' ]"
   ]
  },
  {
   "cell_type": "code",
   "execution_count": 17,
   "id": "48c608fa",
   "metadata": {},
   "outputs": [],
   "source": [
    "output = []"
   ]
  },
  {
   "cell_type": "markdown",
   "id": "e6041bad",
   "metadata": {},
   "source": [
    "## Step 8\n",
    "Import `shuffle` method from `random` module and write `shuffle(output)`."
   ]
  },
  {
   "cell_type": "code",
   "execution_count": 18,
   "id": "a7067ece",
   "metadata": {},
   "outputs": [],
   "source": [
    "from random import shuffle\n",
    "\n",
    "shuffle(output)"
   ]
  },
  {
   "cell_type": "markdown",
   "id": "a6847305",
   "metadata": {},
   "source": [
    "## Step 9\n",
    "Take a number as user input and save it in a variable `guess_number`."
   ]
  },
  {
   "cell_type": "code",
   "execution_count": null,
   "id": "864710ae",
   "metadata": {},
   "outputs": [],
   "source": [
    "guess_number = input('Guess the number: ')"
   ]
  },
  {
   "cell_type": "markdown",
   "id": "69f848a3",
   "metadata": {},
   "source": [
    "## Step 10\n",
    "Check if number of digits of `original_number` and `guess_number` is same, if not then ask user for valid input.(Use `len()` function)."
   ]
  },
  {
   "cell_type": "code",
   "execution_count": null,
   "id": "e4b46554",
   "metadata": {},
   "outputs": [],
   "source": [
    "if len(guess_number) != len(original_number):\n",
    "    print(f'Enter {len(original_number)} digit number.')"
   ]
  },
  {
   "cell_type": "markdown",
   "id": "5ddc2e40",
   "metadata": {},
   "source": [
    "## Step 11\n",
    "Check if the digits are not repeated in a `guess_number` using `set()`.\n",
    "Note that datatype `set` allows unique values only."
   ]
  },
  {
   "cell_type": "code",
   "execution_count": null,
   "id": "06bf1d84",
   "metadata": {},
   "outputs": [],
   "source": [
    "if len(guess_number) != len(set(guess_number)):\n",
    "    print('Duplicate number')"
   ]
  },
  {
   "cell_type": "markdown",
   "id": "861f98bc",
   "metadata": {},
   "source": [
    "## Step 12\n",
    "Check if any digit and it's position in both `guess_number` and `original_number` are same then append 'Fermi' to `ouput` list or if only digit matches and not the position then append 'Pico' to `output`."
   ]
  },
  {
   "cell_type": "code",
   "execution_count": null,
   "id": "3f47cfe3",
   "metadata": {},
   "outputs": [],
   "source": [
    "for i in range(digits):\n",
    "    if guess_number[i] == original_number[i]:\n",
    "        output.append('Fermi')\n",
    "    elif guess_number[i] in original_number:\n",
    "        output.append('Pico')"
   ]
  },
  {
   "cell_type": "markdown",
   "id": "81439585",
   "metadata": {},
   "source": [
    "## Step 13\n",
    "Convert the a list `output` into string with each value separated by space. Define that string as `output_string`.\n",
    "\n",
    "Use `join()` method to add space between them."
   ]
  },
  {
   "cell_type": "code",
   "execution_count": null,
   "id": "27f4b7ea",
   "metadata": {},
   "outputs": [],
   "source": [
    "output_string = ' '.join(output)"
   ]
  },
  {
   "cell_type": "markdown",
   "id": "528e8964",
   "metadata": {},
   "source": [
    "## Step 14\n",
    "Check if neither any digit matches nor any position then output must be `Bagel`.This means output list should be empty.\n",
    "\n",
    "Otherwise print `output_string`."
   ]
  },
  {
   "cell_type": "code",
   "execution_count": 20,
   "id": "b0ae0fdc",
   "metadata": {},
   "outputs": [
    {
     "name": "stdout",
     "output_type": "stream",
     "text": [
      "Bagel\n"
     ]
    }
   ],
   "source": [
    "if len(output) == 0:           \n",
    "    print('Bagels')\n",
    "else:\n",
    "    print(output_string)"
   ]
  },
  {
   "cell_type": "markdown",
   "id": "4d4dc658",
   "metadata": {},
   "source": [
    "## Step 15\n",
    "Check winning condition and print ' You win !! '."
   ]
  },
  {
   "cell_type": "code",
   "execution_count": null,
   "id": "b6f401fb",
   "metadata": {},
   "outputs": [],
   "source": [
    "if (guess_number == original_number):\n",
    "    print('You win !!')"
   ]
  },
  {
   "cell_type": "markdown",
   "id": "56295855",
   "metadata": {},
   "source": [
    "Check losing condition i.e. when player could not guess the number within allowed number of guesses and print the answer."
   ]
  },
  {
   "cell_type": "code",
   "execution_count": 45,
   "id": "c9d60f55",
   "metadata": {
    "scrolled": true
   },
   "outputs": [
    {
     "name": "stdout",
     "output_type": "stream",
     "text": [
      "You lost. The answer was 5\n"
     ]
    }
   ],
   "source": [
    "if guess_number_count > guesses:\n",
    "    print(f'Your {guesses} guesses are over. You lost. The answer was {original_number}.')"
   ]
  },
  {
   "cell_type": "markdown",
   "id": "7ed17b96",
   "metadata": {},
   "source": [
    "## Complete game"
   ]
  },
  {
   "cell_type": "code",
   "execution_count": 2,
   "id": "f07d6bf0",
   "metadata": {},
   "outputs": [
    {
     "name": "stdout",
     "output_type": "stream",
     "text": [
      "Enter the number of digits: 2\n",
      "How many guesses you want: 10\n",
      "\n",
      "Guess  1\n",
      "Guess the number: 24\n",
      "Bagels\n",
      "\n",
      "Guess  2\n",
      "Guess the number: 65\n",
      "Fermi\n",
      "\n",
      "Guess  3\n",
      "Guess the number: 68\n",
      "Fermi Fermi\n",
      "You win !!\n"
     ]
    }
   ],
   "source": [
    "from random import sample, shuffle\n",
    "\n",
    "digits = int(input('Enter the number of digits: '))\n",
    "digit_list = sample('123456789', digits)\n",
    "original_number = ''.join(digit_list)\n",
    "\n",
    "guess_number_count = 1\n",
    "\n",
    "guesses = int(input('How many guesses you want: '))\n",
    "\n",
    "\n",
    "while True :\n",
    "    \n",
    "    output = []\n",
    "    print('\\nGuess ', guess_number_count )\n",
    "    guess_number = input('Guess the number: ')\n",
    "    \n",
    "    if len(guess_number) != len(original_number):\n",
    "        print(f'Enter {len(original_number)} digit number')\n",
    "        continue\n",
    "        \n",
    "    if len(guess_number) != len(set(guess_number)):\n",
    "        print('Duplicate number')\n",
    "        continue\n",
    "    \n",
    "    for i in range(digits):\n",
    "        if guess_number[i] == original_number[i]:\n",
    "            output.append('Fermi')\n",
    "        elif guess_number[i] in original_number:\n",
    "            output.append('Pico')\n",
    "    \n",
    "    shuffle(output)\n",
    "    \n",
    "    guess_number_count = guess_number_count + 1\n",
    "    \n",
    "    output_string = ' '.join(output)\n",
    "    if len(output) == 0:           \n",
    "        print('Bagels')\n",
    "    else:\n",
    "        print(output_string)\n",
    "    \n",
    "    if (guess_number == original_number):\n",
    "        print('You win !!')\n",
    "        break\n",
    "        \n",
    "    if guess_number_count > guesses:\n",
    "        print(f'Your {guesses} guesses are over. You lost. The answer was {original_number}.')\n",
    "        break\n",
    "    \n",
    "    "
   ]
  },
  {
   "cell_type": "code",
   "execution_count": null,
   "id": "37fc760f",
   "metadata": {},
   "outputs": [],
   "source": []
  },
  {
   "cell_type": "code",
   "execution_count": null,
   "id": "934e9c67",
   "metadata": {},
   "outputs": [],
   "source": []
  }
 ],
 "metadata": {
  "kernelspec": {
   "display_name": "Python 3",
   "language": "python",
   "name": "python3"
  },
  "language_info": {
   "codemirror_mode": {
    "name": "ipython",
    "version": 3
   },
   "file_extension": ".py",
   "mimetype": "text/x-python",
   "name": "python",
   "nbconvert_exporter": "python",
   "pygments_lexer": "ipython3",
   "version": "3.8.8"
  }
 },
 "nbformat": 4,
 "nbformat_minor": 5
}
