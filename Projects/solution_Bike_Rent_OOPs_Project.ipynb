{
 "cells": [
  {
   "cell_type": "markdown",
   "id": "303d18ca",
   "metadata": {},
   "source": [
    "## OOP project"
   ]
  },
  {
   "cell_type": "markdown",
   "id": "5cada111",
   "metadata": {},
   "source": [
    "A Bike Rental System\n",
    "\n",
    "A full fledged bike rental system implemented in Python using object oriented programming.\n",
    "\n",
    "Customers can see available bikes on the shop.\n",
    "Rent bikes on daily basis Rs.100 per day.\n",
    "Rent bikes on weekly basis Rs.500 per week.\n",
    "Family Rental, a promotion that can include from 3 to 5 Rentals (of any type) with a discount of 30% of the total price.\n",
    "\n",
    "The bike rental shop can issue a bill when customer decides to return the bike,\n",
    "display available inventory ,take requests on daily and weekly basis by cross verifying stock.\n",
    "\n",
    "For simplicity we assume that\n",
    "Any customer requests rentals of only one type i.e daily or weekly and is free to choose the number of bikes he/she wants.\n",
    "Requested bikes should be less than available stock."
   ]
  },
  {
   "cell_type": "code",
   "execution_count": null,
   "id": "81b2891a",
   "metadata": {},
   "outputs": [],
   "source": []
  },
  {
   "cell_type": "markdown",
   "id": "abae9162",
   "metadata": {},
   "source": [
    "## Step 1\n",
    "\n",
    "Create a parent class `BikeRental`. Define `stock` as `class attribute` and assign value 100 to it.\n",
    "\n",
    "This class should not take any other attribute and when the object is created, it should display the message \"Welcome to rental bike shop.\"\n",
    "\n",
    "Define a method `displaystock` inside this class and when this method is called, it should display the total number of stock available."
   ]
  },
  {
   "cell_type": "code",
   "execution_count": 1,
   "id": "12d99645",
   "metadata": {},
   "outputs": [],
   "source": [
    "# parent class\n",
    "class BikeRental():\n",
    "    stock = 100 # class attribute\n",
    "    \n",
    "    def __init__(self):\n",
    "\n",
    "        print('Welcome to rental bike shop.')\n",
    "        \n",
    "    def displaystock(self):\n",
    "        \"\"\"\n",
    "        Displays the bikes currently available for rent in the shop.\n",
    "        \"\"\"\n",
    "        print(\"We have currently \"+ str(BikeRental.stock) + \" bikes available to rent.\")\n",
    "             "
   ]
  },
  {
   "cell_type": "code",
   "execution_count": null,
   "id": "8816e06c",
   "metadata": {},
   "outputs": [],
   "source": []
  },
  {
   "cell_type": "markdown",
   "id": "2ca3fb5c",
   "metadata": {},
   "source": [
    "Create an object `bike_shop` of above class."
   ]
  },
  {
   "cell_type": "code",
   "execution_count": 2,
   "id": "5184fc96",
   "metadata": {},
   "outputs": [
    {
     "name": "stdout",
     "output_type": "stream",
     "text": [
      "Welcome to rental bike shop.\n"
     ]
    }
   ],
   "source": [
    "bike_shop = BikeRental()"
   ]
  },
  {
   "cell_type": "code",
   "execution_count": null,
   "id": "ef59df60",
   "metadata": {},
   "outputs": [],
   "source": []
  },
  {
   "cell_type": "markdown",
   "id": "73d006a8",
   "metadata": {},
   "source": [
    "Check if above created object can access the `class attribute` `stock`."
   ]
  },
  {
   "cell_type": "code",
   "execution_count": 3,
   "id": "a96da206",
   "metadata": {
    "scrolled": true
   },
   "outputs": [
    {
     "data": {
      "text/plain": [
       "100"
      ]
     },
     "execution_count": 3,
     "metadata": {},
     "output_type": "execute_result"
    }
   ],
   "source": [
    "bike_shop.stock"
   ]
  },
  {
   "cell_type": "code",
   "execution_count": null,
   "id": "4460bd03",
   "metadata": {},
   "outputs": [],
   "source": []
  },
  {
   "cell_type": "markdown",
   "id": "a702f97d",
   "metadata": {},
   "source": [
    "Call the method `displaystock` using above created object `bike_shop`."
   ]
  },
  {
   "cell_type": "code",
   "execution_count": 4,
   "id": "c4dc35b0",
   "metadata": {},
   "outputs": [
    {
     "name": "stdout",
     "output_type": "stream",
     "text": [
      "We have currently 100 bikes available to rent.\n"
     ]
    }
   ],
   "source": [
    "bike_shop.displaystock()"
   ]
  },
  {
   "cell_type": "code",
   "execution_count": null,
   "id": "6a859671",
   "metadata": {},
   "outputs": [],
   "source": []
  },
  {
   "cell_type": "markdown",
   "id": "d3a33de1",
   "metadata": {},
   "source": [
    "## Step 2\n",
    "\n",
    "Create a derived class `Customer` to inherit the methods from `BikeRental` class.\n",
    "Define `bill` as `class attribute`and set it's initial value as zero.\n",
    "\n",
    "This class has `number_of_bikes`, `rentalBasis` (daily or weekly) and `number_of_days_or_weeks` as attributes."
   ]
  },
  {
   "cell_type": "code",
   "execution_count": 5,
   "id": "50196270",
   "metadata": {},
   "outputs": [],
   "source": [
    "# derived class\n",
    "class Customer(BikeRental):\n",
    "    bill = 0 # class attribute\n",
    "    \n",
    "    def __init__(self, number_of_bikes, rentalBasis, number_of_days_or_weeks) :\n",
    "        self.rentalBasis = rentalBasis       # daily or weekly\n",
    "        self.number_of_bikes = number_of_bikes\n",
    "        self.number_of_days_or_weeks = number_of_days_or_weeks"
   ]
  },
  {
   "cell_type": "code",
   "execution_count": null,
   "id": "363883ea",
   "metadata": {},
   "outputs": [],
   "source": []
  },
  {
   "cell_type": "markdown",
   "id": "98a400fe",
   "metadata": {},
   "source": [
    "Define a function `rentBike`, it should have following conditions:\n",
    "\n",
    "- if `number_of_bikes` is less than or equal to zero, it should display the message \"Number of bikes should be positive!\".\n",
    "\n",
    "- if `number_of_bikes` is greater than the `stock`, it should display the `number_of_bikes` available to rent.\n",
    "\n",
    "- Otherwise display the total `number_of_bikes` rented by the customer. Do not forget to update the value of `stock` i.e. subtract the `number_of_bikes` rented from stock and display the updated `stock`."
   ]
  },
  {
   "cell_type": "code",
   "execution_count": 9,
   "id": "0f15d993",
   "metadata": {},
   "outputs": [],
   "source": [
    "def rentBike(self):\n",
    "        \"\"\"\n",
    "        Rents a bike on daily/weekly basis to a customer.\n",
    "        \"\"\"\n",
    "        \n",
    "        if self.number_of_bikes <= 0:\n",
    "                \n",
    "            print(\"Number of bikes should be positive!\")\n",
    "            \n",
    "        elif self.number_of_bikes > BikeRental.stock:\n",
    "            \n",
    "            print(\"Sorry! We have currently \"+ str(BikeRental.stock) +\" bikes available to rent.\")\n",
    "    \n",
    "        else:\n",
    "            print(\"You have rented \" + str(self.number_of_bikes) +\" bike(s).\")\n",
    "            \n",
    "            print(\"We hope that you enjoy our service.\")\n",
    "            \n",
    "            BikeRental.stock -= self.number_of_bikes # stock is attribite of parent class BikeRental\n",
    "            \n",
    "            print('Now we have '+ str(BikeRental.stock) + ' bikes in our stock.')"
   ]
  },
  {
   "cell_type": "code",
   "execution_count": null,
   "id": "e66fb261",
   "metadata": {},
   "outputs": [],
   "source": []
  },
  {
   "cell_type": "markdown",
   "id": "cb22ec0f",
   "metadata": {},
   "source": [
    "Define a function `returnBike` to return the total bill of customer.\n",
    "- Check if `rentalBasis` is ' daily ' or ' weekly ' and accordingly calculate the bill. Rent on ' daily ' basis is Rs. 100 per bike and for ' weekly ' basis it is Rs. 500 per bike.\n",
    "\n",
    "- If `number_of_bikes` rented by customer is between 3 to 5 (both values inclusive), 30% discount is offered on total bill. So it should display the message \"You are eligible for Family rental promotion of 30% discount\"."
   ]
  },
  {
   "cell_type": "code",
   "execution_count": 61,
   "id": "29935c98",
   "metadata": {},
   "outputs": [],
   "source": [
    "def returnBike(self):\n",
    "        \"\"\"\n",
    "        Returns a bill \n",
    "        \"\"\"\n",
    "        if self.number_of_bikes <= 0:\n",
    "            \n",
    "            print(\"Number of bikes should be positive!\")\n",
    "        \n",
    "        elif self.number_of_bikes > BikeRental.stock:\n",
    "            \n",
    "            print(\"Sorry! We have currently \"+ str(BikeRental.stock) +\" bikes available to rent.\")\n",
    "            \n",
    "        else :\n",
    "            \n",
    "            # daily bill calculation\n",
    "            if self.rentalBasis == 'day':\n",
    "                \n",
    "                bill = self.number_of_days_or_weeks * 100 * self.number_of_bikes\n",
    "             \n",
    "        \n",
    "            # weekly bill calculation\n",
    "            elif self.rentalBasis == 'week':\n",
    "                \n",
    "                bill = self.number_of_days_or_weeks * 500 * self.number_of_bikes\n",
    "            \n",
    "            # family discount calculation\n",
    "            if (3 <= self.number_of_bikes <= 5):\n",
    "                print(\"You are eligible for Family rental promotion of 30% discount\")\n",
    "                \n",
    "                bill = bill * 0.7\n",
    "                \n",
    "                print(\"Thanks for returning your bike. Hope you enjoyed our service!\")\n",
    "            \n",
    "            \n",
    "            return \"That would be \" + str(bill) + \" bill.\"\n",
    "    \n"
   ]
  },
  {
   "cell_type": "markdown",
   "id": "fa66397a",
   "metadata": {},
   "source": [
    "## Step 3\n",
    "\n",
    "Write complete `Customer` class using above defined functions `returnBike` and `rentBike` inside it as methods."
   ]
  },
  {
   "cell_type": "code",
   "execution_count": 10,
   "id": "e1c7c3f5",
   "metadata": {},
   "outputs": [],
   "source": [
    "# derived class\n",
    "class Customer(BikeRental):\n",
    "    bill = 0 # class attribute\n",
    "    \n",
    "    def __init__(self, number_of_bikes, rentalBasis, number_of_days_or_weeks) :\n",
    "        self.rentalBasis = rentalBasis       # daily or weekly\n",
    "        self.number_of_bikes = number_of_bikes\n",
    "        self.number_of_days_or_weeks = number_of_days_or_weeks\n",
    "\n",
    "        \n",
    "    def rentBike(self):\n",
    "        \"\"\"\n",
    "        Rents a bike on daily/weekly basis to a customer.\n",
    "        \"\"\"\n",
    "        \n",
    "        if self.number_of_bikes <= 0:\n",
    "            \n",
    "            print(\"Number of bikes should be positive!\")\n",
    "            \n",
    "        elif self.number_of_bikes > BikeRental.stock:\n",
    "            \n",
    "            print(\"Sorry! We have currently \"+ str(BikeRental.stock) +\" bikes available to rent.\")\n",
    "    \n",
    "        else:\n",
    "            print(\"You have rented \" + str(self.number_of_bikes) +\" bike(s).\")\n",
    "            \n",
    "            print(\"We hope that you enjoy our service.\")\n",
    "            \n",
    "            BikeRental.stock -= self.number_of_bikes # stock is attribite of parent class BikeRental\n",
    "            \n",
    "            print('Now we have '+ str(BikeRental.stock) + ' bikes in our stock.')\n",
    "\n",
    "        \n",
    "    def returnBike(self):\n",
    "        \"\"\"\n",
    "        Returns a bill \n",
    "        \"\"\"\n",
    "        if self.number_of_bikes <= 0:\n",
    "            \n",
    "            print(\"Number of bikes should be positive!\")\n",
    "            \n",
    "        elif self.number_of_bikes > BikeRental.stock:\n",
    "            \n",
    "            print(\"Sorry! We have currently \"+ str(BikeRental.stock) +\" bikes available to rent.\")\n",
    "            \n",
    "        else :\n",
    "            \n",
    "            # daily bill calculation\n",
    "            if self.rentalBasis == 'day':\n",
    "                \n",
    "                bill = self.number_of_days_or_weeks * 100 * self.number_of_bikes\n",
    "             \n",
    "        \n",
    "            # weekly bill calculation\n",
    "            elif self.rentalBasis == 'week':\n",
    "                \n",
    "                bill = self.number_of_days_or_weeks * 500 * self.number_of_bikes\n",
    "            \n",
    "            # family discount calculation\n",
    "            if (3 <= self.number_of_bikes <= 5):\n",
    "                print(\"You are eligible for Family rental promotion of 30% discount\")\n",
    "                \n",
    "                bill = bill * 0.7\n",
    "                \n",
    "                print(\"Thanks for returning your bike. Hope you enjoyed our service!\")\n",
    "            \n",
    "            \n",
    "            return \"That would be \" + str(bill) + \" bill.\"\n",
    "    \n"
   ]
  },
  {
   "cell_type": "code",
   "execution_count": null,
   "id": "b8753564",
   "metadata": {},
   "outputs": [],
   "source": []
  },
  {
   "cell_type": "markdown",
   "id": "dea7483f",
   "metadata": {},
   "source": [
    "## Step 4\n",
    "\n",
    "Check your `Bike Rental System` for test-case objects given below :\n",
    "\n",
    "For first four customers - check all the three attribute values and call `rentBike` and `returnBike` methods. \n",
    "\n",
    "- customer_1 = Customer(2,'day',5)\n",
    "\n",
    "- customer_2 = Customer(1,'week',3)\n",
    "\n",
    "- customer_3 = Customer(4,'day',3)  - Is family discount applicable here ?\n",
    "\n",
    "- customer_4 = Customer(3,'week',3) - Is family discount applicable here ?\n",
    "\n",
    "Call `rentBike` and `displaystock` methods for test-case objects given below :\n",
    "\n",
    "- customer_5 = Customer(120,'week',3)\n",
    "\n",
    "- customer_6 = Customer(0,'week',3)\n",
    "\n",
    "- customer_7 = Customer(-5,'week',3)\n",
    "\n",
    "- customer_8 = Customer(1,'day',3)"
   ]
  },
  {
   "cell_type": "code",
   "execution_count": 11,
   "id": "f5108ad9",
   "metadata": {},
   "outputs": [],
   "source": [
    "# customer 1"
   ]
  },
  {
   "cell_type": "code",
   "execution_count": 12,
   "id": "fa844245",
   "metadata": {},
   "outputs": [],
   "source": [
    "customer_1 = Customer(2,'day',5)"
   ]
  },
  {
   "cell_type": "code",
   "execution_count": 13,
   "id": "a7554278",
   "metadata": {},
   "outputs": [
    {
     "data": {
      "text/plain": [
       "2"
      ]
     },
     "execution_count": 13,
     "metadata": {},
     "output_type": "execute_result"
    }
   ],
   "source": [
    "customer_1.number_of_bikes"
   ]
  },
  {
   "cell_type": "code",
   "execution_count": 14,
   "id": "0a60ff0c",
   "metadata": {},
   "outputs": [
    {
     "data": {
      "text/plain": [
       "'day'"
      ]
     },
     "execution_count": 14,
     "metadata": {},
     "output_type": "execute_result"
    }
   ],
   "source": [
    "customer_1.rentalBasis"
   ]
  },
  {
   "cell_type": "code",
   "execution_count": 15,
   "id": "36ef8b2f",
   "metadata": {},
   "outputs": [
    {
     "data": {
      "text/plain": [
       "5"
      ]
     },
     "execution_count": 15,
     "metadata": {},
     "output_type": "execute_result"
    }
   ],
   "source": [
    "customer_1.number_of_days_or_weeks"
   ]
  },
  {
   "cell_type": "code",
   "execution_count": 16,
   "id": "318444dc",
   "metadata": {},
   "outputs": [
    {
     "name": "stdout",
     "output_type": "stream",
     "text": [
      "You have rented 2 bike(s).\n",
      "We hope that you enjoy our service.\n",
      "Now we have 98 bikes in our stock.\n"
     ]
    }
   ],
   "source": [
    "customer_1.rentBike()"
   ]
  },
  {
   "cell_type": "code",
   "execution_count": 17,
   "id": "96040ba7",
   "metadata": {},
   "outputs": [
    {
     "data": {
      "text/plain": [
       "'That would be 1000 bill.'"
      ]
     },
     "execution_count": 17,
     "metadata": {},
     "output_type": "execute_result"
    }
   ],
   "source": [
    "customer_1.returnBike()"
   ]
  },
  {
   "cell_type": "code",
   "execution_count": null,
   "id": "4dd71458",
   "metadata": {},
   "outputs": [],
   "source": []
  },
  {
   "cell_type": "code",
   "execution_count": 18,
   "id": "b7232cdb",
   "metadata": {},
   "outputs": [],
   "source": [
    "# customer 2"
   ]
  },
  {
   "cell_type": "code",
   "execution_count": 19,
   "id": "fbe35130",
   "metadata": {},
   "outputs": [],
   "source": [
    "customer_2 = Customer(1,'week',3)"
   ]
  },
  {
   "cell_type": "code",
   "execution_count": 20,
   "id": "e726c530",
   "metadata": {},
   "outputs": [
    {
     "data": {
      "text/plain": [
       "1"
      ]
     },
     "execution_count": 20,
     "metadata": {},
     "output_type": "execute_result"
    }
   ],
   "source": [
    "customer_2.number_of_bikes"
   ]
  },
  {
   "cell_type": "code",
   "execution_count": 21,
   "id": "548f699e",
   "metadata": {},
   "outputs": [
    {
     "data": {
      "text/plain": [
       "'week'"
      ]
     },
     "execution_count": 21,
     "metadata": {},
     "output_type": "execute_result"
    }
   ],
   "source": [
    "customer_2.rentalBasis"
   ]
  },
  {
   "cell_type": "code",
   "execution_count": 22,
   "id": "332fd614",
   "metadata": {},
   "outputs": [
    {
     "data": {
      "text/plain": [
       "3"
      ]
     },
     "execution_count": 22,
     "metadata": {},
     "output_type": "execute_result"
    }
   ],
   "source": [
    "customer_2.number_of_days_or_weeks"
   ]
  },
  {
   "cell_type": "code",
   "execution_count": 23,
   "id": "8cec5f7c",
   "metadata": {},
   "outputs": [
    {
     "name": "stdout",
     "output_type": "stream",
     "text": [
      "You have rented 1 bike(s).\n",
      "We hope that you enjoy our service.\n",
      "Now we have 97 bikes in our stock.\n"
     ]
    }
   ],
   "source": [
    "customer_2.rentBike()"
   ]
  },
  {
   "cell_type": "code",
   "execution_count": 24,
   "id": "c32ecef3",
   "metadata": {},
   "outputs": [
    {
     "data": {
      "text/plain": [
       "'That would be 1500 bill.'"
      ]
     },
     "execution_count": 24,
     "metadata": {},
     "output_type": "execute_result"
    }
   ],
   "source": [
    "customer_2.returnBike()"
   ]
  },
  {
   "cell_type": "code",
   "execution_count": null,
   "id": "4c2dbb65",
   "metadata": {},
   "outputs": [],
   "source": []
  },
  {
   "cell_type": "code",
   "execution_count": 25,
   "id": "31df0750",
   "metadata": {},
   "outputs": [],
   "source": [
    "# customer 3"
   ]
  },
  {
   "cell_type": "code",
   "execution_count": 26,
   "id": "4c5bc052",
   "metadata": {},
   "outputs": [],
   "source": [
    "customer_3 = Customer(4,'day',3)"
   ]
  },
  {
   "cell_type": "code",
   "execution_count": 27,
   "id": "23ed1dca",
   "metadata": {},
   "outputs": [
    {
     "data": {
      "text/plain": [
       "'day'"
      ]
     },
     "execution_count": 27,
     "metadata": {},
     "output_type": "execute_result"
    }
   ],
   "source": [
    "customer_3.rentalBasis"
   ]
  },
  {
   "cell_type": "code",
   "execution_count": 28,
   "id": "f335b91a",
   "metadata": {},
   "outputs": [
    {
     "data": {
      "text/plain": [
       "4"
      ]
     },
     "execution_count": 28,
     "metadata": {},
     "output_type": "execute_result"
    }
   ],
   "source": [
    "customer_3.number_of_bikes"
   ]
  },
  {
   "cell_type": "code",
   "execution_count": 29,
   "id": "a9cab1ae",
   "metadata": {},
   "outputs": [
    {
     "data": {
      "text/plain": [
       "3"
      ]
     },
     "execution_count": 29,
     "metadata": {},
     "output_type": "execute_result"
    }
   ],
   "source": [
    "customer_3.number_of_days_or_weeks"
   ]
  },
  {
   "cell_type": "code",
   "execution_count": 30,
   "id": "764efd89",
   "metadata": {},
   "outputs": [
    {
     "name": "stdout",
     "output_type": "stream",
     "text": [
      "We have currently 97 bikes available to rent.\n"
     ]
    }
   ],
   "source": [
    "customer_3.displaystock()"
   ]
  },
  {
   "cell_type": "code",
   "execution_count": 31,
   "id": "43bbf5e3",
   "metadata": {},
   "outputs": [
    {
     "name": "stdout",
     "output_type": "stream",
     "text": [
      "You have rented 4 bike(s).\n",
      "We hope that you enjoy our service.\n",
      "Now we have 93 bikes in our stock.\n"
     ]
    }
   ],
   "source": [
    "customer_3.rentBike()"
   ]
  },
  {
   "cell_type": "code",
   "execution_count": 32,
   "id": "4d575f0e",
   "metadata": {},
   "outputs": [
    {
     "name": "stdout",
     "output_type": "stream",
     "text": [
      "We have currently 93 bikes available to rent.\n"
     ]
    }
   ],
   "source": [
    "customer_3.displaystock()"
   ]
  },
  {
   "cell_type": "code",
   "execution_count": 33,
   "id": "8090d06a",
   "metadata": {},
   "outputs": [
    {
     "name": "stdout",
     "output_type": "stream",
     "text": [
      "You are eligible for Family rental promotion of 30% discount\n",
      "Thanks for returning your bike. Hope you enjoyed our service!\n"
     ]
    },
    {
     "data": {
      "text/plain": [
       "'That would be 840.0 bill.'"
      ]
     },
     "execution_count": 33,
     "metadata": {},
     "output_type": "execute_result"
    }
   ],
   "source": [
    "customer_3.returnBike()"
   ]
  },
  {
   "cell_type": "code",
   "execution_count": null,
   "id": "884f04c1",
   "metadata": {},
   "outputs": [],
   "source": []
  },
  {
   "cell_type": "code",
   "execution_count": 34,
   "id": "1b26cdd9",
   "metadata": {},
   "outputs": [],
   "source": [
    "# customer 4"
   ]
  },
  {
   "cell_type": "code",
   "execution_count": 35,
   "id": "bcae254e",
   "metadata": {},
   "outputs": [],
   "source": [
    "customer_4 = Customer(3,'week',3)"
   ]
  },
  {
   "cell_type": "code",
   "execution_count": 36,
   "id": "c2facddd",
   "metadata": {},
   "outputs": [
    {
     "name": "stdout",
     "output_type": "stream",
     "text": [
      "We have currently 93 bikes available to rent.\n"
     ]
    }
   ],
   "source": [
    "customer_4.displaystock()"
   ]
  },
  {
   "cell_type": "code",
   "execution_count": 37,
   "id": "22084318",
   "metadata": {},
   "outputs": [
    {
     "data": {
      "text/plain": [
       "3"
      ]
     },
     "execution_count": 37,
     "metadata": {},
     "output_type": "execute_result"
    }
   ],
   "source": [
    "customer_4.number_of_bikes"
   ]
  },
  {
   "cell_type": "code",
   "execution_count": 38,
   "id": "d31db5be",
   "metadata": {
    "scrolled": true
   },
   "outputs": [
    {
     "data": {
      "text/plain": [
       "'week'"
      ]
     },
     "execution_count": 38,
     "metadata": {},
     "output_type": "execute_result"
    }
   ],
   "source": [
    "customer_4.rentalBasis"
   ]
  },
  {
   "cell_type": "code",
   "execution_count": 39,
   "id": "1052b50f",
   "metadata": {},
   "outputs": [
    {
     "data": {
      "text/plain": [
       "3"
      ]
     },
     "execution_count": 39,
     "metadata": {},
     "output_type": "execute_result"
    }
   ],
   "source": [
    "customer_4.number_of_days_or_weeks"
   ]
  },
  {
   "cell_type": "code",
   "execution_count": 40,
   "id": "be14de73",
   "metadata": {},
   "outputs": [
    {
     "name": "stdout",
     "output_type": "stream",
     "text": [
      "You have rented 3 bike(s).\n",
      "We hope that you enjoy our service.\n",
      "Now we have 90 bikes in our stock.\n"
     ]
    }
   ],
   "source": [
    "customer_4.rentBike()"
   ]
  },
  {
   "cell_type": "code",
   "execution_count": 41,
   "id": "46351b7f",
   "metadata": {},
   "outputs": [
    {
     "name": "stdout",
     "output_type": "stream",
     "text": [
      "You are eligible for Family rental promotion of 30% discount\n",
      "Thanks for returning your bike. Hope you enjoyed our service!\n"
     ]
    },
    {
     "data": {
      "text/plain": [
       "'That would be 3150.0 bill.'"
      ]
     },
     "execution_count": 41,
     "metadata": {},
     "output_type": "execute_result"
    }
   ],
   "source": [
    "customer_4.returnBike()"
   ]
  },
  {
   "cell_type": "code",
   "execution_count": 42,
   "id": "2588e7a2",
   "metadata": {},
   "outputs": [
    {
     "name": "stdout",
     "output_type": "stream",
     "text": [
      "We have currently 90 bikes available to rent.\n"
     ]
    }
   ],
   "source": [
    "customer_4.displaystock()"
   ]
  },
  {
   "cell_type": "code",
   "execution_count": null,
   "id": "df1ea6ac",
   "metadata": {},
   "outputs": [],
   "source": []
  },
  {
   "cell_type": "code",
   "execution_count": 43,
   "id": "41ef8184",
   "metadata": {},
   "outputs": [],
   "source": [
    "# customer 5 "
   ]
  },
  {
   "cell_type": "code",
   "execution_count": 44,
   "id": "110def7f",
   "metadata": {},
   "outputs": [],
   "source": [
    "customer_5 = Customer(120,'week',3)"
   ]
  },
  {
   "cell_type": "code",
   "execution_count": 45,
   "id": "b072110f",
   "metadata": {},
   "outputs": [
    {
     "name": "stdout",
     "output_type": "stream",
     "text": [
      "Sorry! We have currently 90 bikes available to rent.\n"
     ]
    }
   ],
   "source": [
    "customer_5.rentBike()"
   ]
  },
  {
   "cell_type": "code",
   "execution_count": 46,
   "id": "79c20bda",
   "metadata": {},
   "outputs": [
    {
     "name": "stdout",
     "output_type": "stream",
     "text": [
      "Sorry! We have currently 90 bikes available to rent.\n"
     ]
    }
   ],
   "source": [
    "customer_5.returnBike()"
   ]
  },
  {
   "cell_type": "code",
   "execution_count": null,
   "id": "9c315bd0",
   "metadata": {},
   "outputs": [],
   "source": []
  },
  {
   "cell_type": "code",
   "execution_count": 47,
   "id": "dce12cbe",
   "metadata": {},
   "outputs": [],
   "source": [
    "# customer 6"
   ]
  },
  {
   "cell_type": "code",
   "execution_count": 48,
   "id": "ce686676",
   "metadata": {},
   "outputs": [],
   "source": [
    "customer_6 = Customer(0,'week',3)"
   ]
  },
  {
   "cell_type": "code",
   "execution_count": 49,
   "id": "eab890fc",
   "metadata": {},
   "outputs": [
    {
     "name": "stdout",
     "output_type": "stream",
     "text": [
      "Number of bikes should be positive!\n"
     ]
    }
   ],
   "source": [
    "customer_6.rentBike()"
   ]
  },
  {
   "cell_type": "code",
   "execution_count": 50,
   "id": "29bcf445",
   "metadata": {},
   "outputs": [
    {
     "name": "stdout",
     "output_type": "stream",
     "text": [
      "Number of bikes should be positive!\n"
     ]
    }
   ],
   "source": [
    "customer_6.returnBike()"
   ]
  },
  {
   "cell_type": "code",
   "execution_count": null,
   "id": "665683a5",
   "metadata": {},
   "outputs": [],
   "source": []
  },
  {
   "cell_type": "code",
   "execution_count": 51,
   "id": "b3897fec",
   "metadata": {},
   "outputs": [],
   "source": [
    "# customer 7"
   ]
  },
  {
   "cell_type": "code",
   "execution_count": 52,
   "id": "97c8ae2b",
   "metadata": {},
   "outputs": [],
   "source": [
    "customer_7 = Customer(-5,'week',3)"
   ]
  },
  {
   "cell_type": "code",
   "execution_count": 53,
   "id": "9ab35437",
   "metadata": {
    "scrolled": true
   },
   "outputs": [
    {
     "name": "stdout",
     "output_type": "stream",
     "text": [
      "Number of bikes should be positive!\n"
     ]
    }
   ],
   "source": [
    "customer_7.rentBike()"
   ]
  },
  {
   "cell_type": "code",
   "execution_count": 54,
   "id": "d588c6bb",
   "metadata": {},
   "outputs": [
    {
     "name": "stdout",
     "output_type": "stream",
     "text": [
      "We have currently 90 bikes available to rent.\n"
     ]
    }
   ],
   "source": [
    "customer_7.displaystock()"
   ]
  },
  {
   "cell_type": "code",
   "execution_count": null,
   "id": "556f5a86",
   "metadata": {},
   "outputs": [],
   "source": []
  },
  {
   "cell_type": "code",
   "execution_count": 55,
   "id": "5ddb2309",
   "metadata": {},
   "outputs": [],
   "source": [
    "# customer 8"
   ]
  },
  {
   "cell_type": "code",
   "execution_count": 56,
   "id": "fc1d1969",
   "metadata": {},
   "outputs": [],
   "source": [
    "customer_8 = Customer(1,'day',3)"
   ]
  },
  {
   "cell_type": "code",
   "execution_count": 57,
   "id": "16dbf276",
   "metadata": {},
   "outputs": [
    {
     "name": "stdout",
     "output_type": "stream",
     "text": [
      "You have rented 1 bike(s).\n",
      "We hope that you enjoy our service.\n",
      "Now we have 89 bikes in our stock.\n"
     ]
    }
   ],
   "source": [
    "customer_8.rentBike()"
   ]
  },
  {
   "cell_type": "code",
   "execution_count": 58,
   "id": "948c6e43",
   "metadata": {},
   "outputs": [
    {
     "name": "stdout",
     "output_type": "stream",
     "text": [
      "We have currently 89 bikes available to rent.\n"
     ]
    }
   ],
   "source": [
    "customer_8.displaystock()"
   ]
  },
  {
   "cell_type": "code",
   "execution_count": null,
   "id": "f1448008",
   "metadata": {},
   "outputs": [],
   "source": []
  }
 ],
 "metadata": {
  "kernelspec": {
   "display_name": "Python 3",
   "language": "python",
   "name": "python3"
  },
  "language_info": {
   "codemirror_mode": {
    "name": "ipython",
    "version": 3
   },
   "file_extension": ".py",
   "mimetype": "text/x-python",
   "name": "python",
   "nbconvert_exporter": "python",
   "pygments_lexer": "ipython3",
   "version": "3.8.8"
  }
 },
 "nbformat": 4,
 "nbformat_minor": 5
}
