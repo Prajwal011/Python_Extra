{
  "nbformat": 4,
  "nbformat_minor": 0,
  "metadata": {
    "colab": {
      "name": "scratchpad",
      "provenance": []
    },
    "kernelspec": {
      "display_name": "Python 3",
      "name": "python3",
      "language": "python"
    }
  },
  "cells": [
    {
      "cell_type": "markdown",
      "metadata": {
        "id": "qw0NPWR6Rv5v"
      },
      "source": [
        "# Loops Practice problems and solutions\n",
        "\n"
      ]
    },
    {
      "cell_type": "markdown",
      "metadata": {
        "id": "qQYBHGoGaLAs"
      },
      "source": [
        "- Write a program to print first 10 even numbers in reverse order. (Using both the loops)"
      ]
    },
    {
      "cell_type": "code",
      "metadata": {
        "colab": {
          "base_uri": "https://localhost:8080/"
        },
        "id": "TqXwZh_dUmtF",
        "outputId": "f473edcf-dba2-4005-8eaf-68b5230b03de"
      },
      "source": [
        "# Using while loop\n",
        "i = 10\n",
        "print('Output of while loop') # Optional\n",
        "while i > 0:\n",
        "  print(i, end = ' ')\n",
        "  i-=1\n",
        "\n",
        "print('\\n')  # Optional\n",
        "\n",
        "\n",
        "# Using for loop\n",
        "print('Output of for loop: ') # Optional\n",
        "for i in range(10,0,-1):\n",
        "  print(i,end = ' ')\n",
        "\n"
      ],
      "execution_count": 10,
      "outputs": [
        {
          "output_type": "stream",
          "name": "stdout",
          "text": [
            "Output of while loop\n",
            "10 9 8 7 6 5 4 3 2 1 \n",
            "\n",
            "Output of for loop: \n",
            "10 9 8 7 6 5 4 3 2 1 "
          ]
        }
      ]
    },
    {
      "cell_type": "markdown",
      "metadata": {
        "id": "9Nhbu3c5WA-2"
      },
      "source": [
        "- Using loop write a program that keep on accepting user input until user enters 0 and print the sum of all the number entered."
      ]
    },
    {
      "cell_type": "code",
      "metadata": {
        "colab": {
          "base_uri": "https://localhost:8080/"
        },
        "id": "lIYdn1woOS1n",
        "outputId": "6ecebd5a-6463-49ee-8c42-53eb13a95aa7"
      },
      "source": [
        "num=1\n",
        "s=0\n",
        "while(num!=0):\n",
        "   num=int(input(\"Enter any number --> \"))\n",
        "   s=s+num\n",
        "print('The sum of all the number that you entered is ', s)"
      ],
      "execution_count": 3,
      "outputs": [
        {
          "output_type": "stream",
          "name": "stdout",
          "text": [
            "Enter any number --> 2\n",
            "Enter any number --> 10\n",
            "Enter any number --> 3\n",
            "Enter any number --> 0\n",
            "The sum of all the number that you entered is  15\n"
          ]
        }
      ]
    },
    {
      "cell_type": "markdown",
      "metadata": {
        "id": "2tlSas4cWGXe"
      },
      "source": [
        "- Try to replicate the following output by using loops and write an appropriate program.\n",
        "\n",
        "The Multiplication Table of 2 \n",
        "\n",
        "\n",
        "2 x 1 = 2\n",
        "\n",
        ".\n",
        "\n",
        ".\n",
        "\n",
        ".\n",
        "\n",
        "The Multiplication Table of 3\n",
        "\n",
        "\n",
        "3 x 1 = 3\n",
        "\n",
        ".\n",
        "\n",
        ".\n",
        "\n",
        ".\n",
        "\n",
        "The Multiplication Table of 4\n",
        "\n",
        "\n",
        "4 x 1 = 4\n",
        "\n",
        ".\n",
        "\n",
        ".\n",
        "\n",
        ".\t\n"
      ]
    },
    {
      "cell_type": "code",
      "metadata": {
        "colab": {
          "base_uri": "https://localhost:8080/"
        },
        "id": "gQUQJ47WAJkt",
        "outputId": "34e9bd4d-9f35-477d-b78d-200405b69f97"
      },
      "source": [
        "for i in range(2, 5):\n",
        "  print('The Multiplication Table of '+str(i))\n",
        "  for j in range(1,11):\n",
        "    print(str(i) + ' x ' + str(j) + ' = ' + str(i*j))\n",
        "  print('\\t')"
      ],
      "execution_count": 15,
      "outputs": [
        {
          "output_type": "stream",
          "name": "stdout",
          "text": [
            "The Multiplication Table of 2\n",
            "2 x 1 = 2\n",
            "2 x 2 = 4\n",
            "2 x 3 = 6\n",
            "2 x 4 = 8\n",
            "2 x 5 = 10\n",
            "2 x 6 = 12\n",
            "2 x 7 = 14\n",
            "2 x 8 = 16\n",
            "2 x 9 = 18\n",
            "2 x 10 = 20\n",
            "\t\n",
            "The Multiplication Table of 3\n",
            "3 x 1 = 3\n",
            "3 x 2 = 6\n",
            "3 x 3 = 9\n",
            "3 x 4 = 12\n",
            "3 x 5 = 15\n",
            "3 x 6 = 18\n",
            "3 x 7 = 21\n",
            "3 x 8 = 24\n",
            "3 x 9 = 27\n",
            "3 x 10 = 30\n",
            "\t\n",
            "The Multiplication Table of 4\n",
            "4 x 1 = 4\n",
            "4 x 2 = 8\n",
            "4 x 3 = 12\n",
            "4 x 4 = 16\n",
            "4 x 5 = 20\n",
            "4 x 6 = 24\n",
            "4 x 7 = 28\n",
            "4 x 8 = 32\n",
            "4 x 9 = 36\n",
            "4 x 10 = 40\n",
            "\t\n"
          ]
        }
      ]
    }
  ]
}