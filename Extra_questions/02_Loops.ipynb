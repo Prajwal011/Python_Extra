{
 "cells": [
  {
   "cell_type": "markdown",
   "metadata": {
    "id": "qw0NPWR6Rv5v"
   },
   "source": [
    "# Loops Practice problems and solutions\n",
    "\n"
   ]
  },
  {
   "cell_type": "markdown",
   "metadata": {
    "id": "qQYBHGoGaLAs"
   },
   "source": [
    "- Write a program to print first 10 even numbers in reverse order. (Using both the loops)"
   ]
  },
  {
   "cell_type": "markdown",
   "metadata": {
    "id": "9Nhbu3c5WA-2"
   },
   "source": [
    "- Using loop write a program that keep on accepting user input until user enters 0 and print the sum of all the number entered."
   ]
  },
  {
   "cell_type": "markdown",
   "metadata": {
    "id": "2tlSas4cWGXe"
   },
   "source": [
    "- Try to replicate the following output by using loops and write an appropriate program.\n",
    "\n",
    "The Multiplication Table of 2 \n",
    "\n",
    "\n",
    "2 x 1 = 2\n",
    "\n",
    ".\n",
    "\n",
    ".\n",
    "\n",
    ".\n",
    "\n",
    "The Multiplication Table of 3\n",
    "\n",
    "\n",
    "3 x 1 = 3\n",
    "\n",
    ".\n",
    "\n",
    ".\n",
    "\n",
    ".\n",
    "\n",
    "The Multiplication Table of 4\n",
    "\n",
    "\n",
    "4 x 1 = 4\n",
    "\n",
    ".\n",
    "\n",
    ".\n",
    "\n",
    ".\t\n"
   ]
  },
  {
   "cell_type": "markdown",
   "metadata": {},
   "source": [
    "- Write a program to print the factorial of a number."
   ]
  },
  {
   "cell_type": "markdown",
   "metadata": {},
   "source": [
    "- Write a program to print cube of first five numbers in SINGLE line using 'end' parameter of 'print' function using both for and while loop."
   ]
  },
  {
   "cell_type": "markdown",
   "metadata": {},
   "source": [
    "- Starting from 6 to 16, find ONLY first number divisible by 5. Print that number and break the loop."
   ]
  },
  {
   "cell_type": "markdown",
   "metadata": {},
   "source": [
    "-  Write a program to print the following series till n terms.\n",
    "   2,22,222,2222,...... n terms"
   ]
  }
 ],
 "metadata": {
  "colab": {
   "name": "scratchpad",
   "provenance": []
  },
  "kernelspec": {
   "display_name": "Python 3",
   "language": "python",
   "name": "python3"
  },
  "language_info": {
   "codemirror_mode": {
    "name": "ipython",
    "version": 3
   },
   "file_extension": ".py",
   "mimetype": "text/x-python",
   "name": "python",
   "nbconvert_exporter": "python",
   "pygments_lexer": "ipython3",
   "version": "3.8.3"
  }
 },
 "nbformat": 4,
 "nbformat_minor": 1
}