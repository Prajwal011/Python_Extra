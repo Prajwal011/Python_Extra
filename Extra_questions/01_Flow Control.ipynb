{
  "nbformat": 4,
  "nbformat_minor": 0,
  "metadata": {
    "colab": {
      "name": "scratchpad",
      "provenance": []
    },
    "kernelspec": {
      "display_name": "Python 3",
      "name": "python3",
      "language": "python"
    }
  },
  "cells": [
    {
      "cell_type": "markdown",
      "metadata": {
        "id": "qw0NPWR6Rv5v"
      },
      "source": [
        "# Flow Control Practice problems and solutions\n",
        "\n"
      ]
    },
    {
      "cell_type": "markdown",
      "metadata": {
        "id": "SHIka-WmSoD1"
      },
      "source": [
        "- A student will not be allowed to sit in exam if his/her attendance is less than 75%.\n",
        "Take following input from user\n",
        "\n",
        "    - Number of classes held\n",
        "    - Number of classes attended.\n",
        "\n",
        "\n",
        "And print percentage of class attended. Is student is allowed to sit in exam or not.\n",
        "\n"
      ]
    },
    {
      "cell_type": "code",
      "metadata": {
        "colab": {
          "base_uri": "https://localhost:8080/"
        },
        "id": "EFllXEDPSv8e",
        "outputId": "cc9546c3-9f0c-41a2-d7cf-2e0c2d026bd5"
      },
      "source": [
        "cls_held = int(input('Enter the number of classes held. '))\n",
        "cls_atd = int(input('Enter the number of classes attended. '))\n",
        "\n",
        "\n",
        "if (cls_atd/cls_held)*100 >=75:\n",
        "  print('The student is allowed for the exam.')\n",
        "else:\n",
        "  print('The student is allowed for the exam.')"
      ],
      "execution_count": 20,
      "outputs": [
        {
          "output_type": "stream",
          "name": "stdout",
          "text": [
            "Enter the number of classes held. 20\n",
            "Enter the number of classes attended. 15\n",
            "The student is allowed for the exam.\n"
          ]
        }
      ]
    },
    {
      "cell_type": "markdown",
      "metadata": {
        "id": "joQAcohhTim3"
      },
      "source": [
        "-  Write a program to accept the cost price of a bike and display the total price of the bike including tax to be paid according to the following criteria : \n",
        "\n",
        "| Cost price (in Rs)  | Tax |\n",
        "|---------------------|-----|\n",
        "| > 100000            | 15 %| \n",
        "|> 50000 and <= 100000| 10% |\n",
        "|<= 50000             | 5%  |"
      ]
    },
    {
      "cell_type": "code",
      "metadata": {
        "colab": {
          "base_uri": "https://localhost:8080/"
        },
        "id": "eXrz_FyWSt2k",
        "outputId": "69835b40-7325-41e8-cf4c-1e98dc9ba316"
      },
      "source": [
        "cost_price = int(input('Enter the cost of the bike.'))\n",
        "\n",
        "if cost_price > 100000:\n",
        "  total_price = cost_price + (cost_price * 0.15)\n",
        "\n",
        "elif 50000 < cost_price <= 100000:\n",
        "  total_price = cost_price + (cost_price * 0.10)\n",
        "\n",
        "elif cost_price <=50000:\n",
        "  total_price = cost_price + (cost_price * 0.05)\n",
        "\n",
        "print('The final price of your bike will be (Rs.) ',total_price) "
      ],
      "execution_count": 23,
      "outputs": [
        {
          "output_type": "stream",
          "name": "stdout",
          "text": [
            "Enter the cost of the bike.75000\n",
            "The final price of your bike will be (Rs.)  82500.0\n"
          ]
        }
      ]
    },
    {
      "cell_type": "markdown",
      "metadata": {
        "id": "kxUTYMntUYGh"
      },
      "source": [
        "-  Write a program to accept a number from 1 to 12 and display name of the month and days in that month like 1 for January and number of days 31 and so on."
      ]
    },
    {
      "cell_type": "code",
      "metadata": {
        "colab": {
          "base_uri": "https://localhost:8080/"
        },
        "id": "nshZxSMESnlo",
        "outputId": "707453e2-c358-4c00-f30f-1a048409d94a"
      },
      "source": [
        "enter_month  = int(input('Enter the number of the month.'))\n",
        "\n",
        "\n",
        "months = {1: 'January', 2: 'February',3: 'March',4: 'April',\n",
        "          5: 'May',6: 'June',7: 'July',8: 'August',\n",
        "          9: 'September', 10: 'October',11: 'November',12: 'December'}\n",
        "\n",
        "days_31 = [1,3,5,7,8,10,12]\n",
        "days_30 = [4,6,9,11]\n",
        "\n",
        "if enter_month in days_31:\n",
        "  print(months[enter_month] + ' has ' + '31 Days.')\n",
        "\n",
        "elif enter_month in days_30:\n",
        "  print(months[enter_month] + ' has ' + '30 Days.')\n",
        "\n",
        "else :\n",
        "  print(months[enter_month] +' has ' + '28 days') \n",
        "\n",
        "\n"
      ],
      "execution_count": 26,
      "outputs": [
        {
          "output_type": "stream",
          "name": "stdout",
          "text": [
            "Enter the number of the month.1\n",
            "January has 31 Days.\n"
          ]
        }
      ]
    }
  ]
}