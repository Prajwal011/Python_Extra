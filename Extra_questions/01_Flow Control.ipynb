{
 "cells": [
  {
   "cell_type": "markdown",
   "metadata": {
    "id": "qw0NPWR6Rv5v"
   },
   "source": [
    "# Flow Control Practice problems and solutions\n",
    "\n"
   ]
  },
  {
   "cell_type": "markdown",
   "metadata": {
    "id": "SHIka-WmSoD1"
   },
   "source": [
    "- A student will not be allowed to sit in exam if his/her attendance is less than 75%.\n",
    "Take following input from user\n",
    "\n",
    "    - Number of classes held\n",
    "    - Number of classes attended.\n",
    "\n",
    "\n",
    "And print percentage of class attended. Is student is allowed to sit in exam or not.\n",
    "\n"
   ]
  },
  {
   "cell_type": "markdown",
   "metadata": {
    "id": "joQAcohhTim3"
   },
   "source": [
    "-  Write a program to accept the cost price of a bike and display the total price of the bike including tax to be paid according to the following criteria : \n",
    "\n",
    "| Cost price (in Rs)  | Tax |\n",
    "|---------------------|-----|\n",
    "| > 100000            | 15 %| \n",
    "|> 50000 and <= 100000| 10% |\n",
    "|<= 50000             | 5%  |"
   ]
  },
  {
   "cell_type": "markdown",
   "metadata": {
    "id": "kxUTYMntUYGh"
   },
   "source": [
    "-  Write a program to accept a number from 1 to 12 and display name of the month and days in that month like 1 for January and number of days 31 and so on."
   ]
  },
  {
   "cell_type": "markdown",
   "metadata": {},
   "source": [
    "- Ask the user, what is the net worth of Mark Zuckerberg. (do not enter commas when entering the number)\n",
    "If the user enters 54500000000, print “yes and that’s a 54.5 billion”. If the user enters less than 54500000000, print “that's not much”. If the user enters more than \n",
    "54500000000, print “I'll make more when I graduate”."
   ]
  },
  {
   "cell_type": "markdown",
   "metadata": {},
   "source": [
    "- Accept the electric units from user and calculate the bill according to the following rates.\n",
    "\n",
    "First 100 Units     :  Free\n",
    "\n",
    "Next 200 Units      :  Rs 2 per unit\n",
    "\n",
    "Above 300 Units    :  Rs 5 per unit\n",
    "\n",
    "if number of unit is 550 then total bill = 0 +400+1250 = 1650"
   ]
  },
  {
   "cell_type": "markdown",
   "metadata": {},
   "source": [
    "- Accept the age, sex (‘M’, ‘F’), number of days and display the wages accordingly\n",
    "      \n",
    "      >=18 and <30             \n",
    "                          M             700 \n",
    "                          F             750\n",
    "      >=30 and <=40            \n",
    "                          M             800\n",
    "                          F             850"
   ]
  },
  {
   "cell_type": "markdown",
   "metadata": {},
   "source": [
    "- Accept the number of days from the user and calculate the charge for library according to following :\n",
    "\n",
    "Till five days : Rs 2/day.\n",
    "\n",
    "Six to ten days  : Rs 3/day.\n",
    "\n",
    "11 to 15 days  : Rs 4/day\n",
    "\n",
    "After 15 days    : Rs 5/day"
   ]
  }
 ],
 "metadata": {
  "colab": {
   "name": "scratchpad",
   "provenance": []
  },
  "kernelspec": {
   "display_name": "Python 3",
   "language": "python",
   "name": "python3"
  },
  "language_info": {
   "codemirror_mode": {
    "name": "ipython",
    "version": 3
   },
   "file_extension": ".py",
   "mimetype": "text/x-python",
   "name": "python",
   "nbconvert_exporter": "python",
   "pygments_lexer": "ipython3",
   "version": "3.8.3"
  }
 },
 "nbformat": 4,
 "nbformat_minor": 1
}