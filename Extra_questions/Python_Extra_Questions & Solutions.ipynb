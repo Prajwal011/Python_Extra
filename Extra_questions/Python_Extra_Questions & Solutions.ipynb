{
  "nbformat": 4,
  "nbformat_minor": 0,
  "metadata": {
    "colab": {
      "name": "scratchpad",
      "provenance": []
    },
    "kernelspec": {
      "display_name": "Python 3",
      "name": "python3"
    }
  },
  "cells": [
    {
      "cell_type": "markdown",
      "metadata": {
        "id": "qw0NPWR6Rv5v"
      },
      "source": [
        "# Python Practice problems and solutions\n",
        "\n"
      ]
    },
    {
      "cell_type": "markdown",
      "metadata": {
        "id": "oc4E8TFcR3ja"
      },
      "source": [
        "## Expressions\n",
        "\n",
        "- Try to implement compound interest formula V=P(1+r/n)^nt\n",
        "\n",
        "    - P = 1500\n",
        "    - r = 0.043\n",
        "    - n = 4\n",
        "    - t = 6"
      ]
    },
    {
      "cell_type": "code",
      "metadata": {
        "colab": {
          "base_uri": "https://localhost:8080/"
        },
        "id": "XcYizRL-SDnj",
        "outputId": "8b7fe0cb-504e-4372-8d81-7a7758c9906b"
      },
      "source": [
        "P = 1500\n",
        "r = 0.043\n",
        "n = 4\n",
        "t = 6\n",
        "\n",
        "V=(P*(1+r/n))**(n*t)\n",
        "V"
      ],
      "execution_count": 17,
      "outputs": [
        {
          "output_type": "execute_result",
          "data": {
            "text/plain": [
              "2.175906439573089e+76"
            ]
          },
          "metadata": {},
          "execution_count": 17
        }
      ]
    },
    {
      "cell_type": "markdown",
      "metadata": {
        "id": "ESd_NG2eSUZr"
      },
      "source": [
        "- Implement Simple Interest Formula\n",
        "S.I. = P × R × T\n",
        "\n",
        "    - P = 1500\n",
        "    - R = 9.5\n",
        "    - T = 20"
      ]
    },
    {
      "cell_type": "code",
      "metadata": {
        "colab": {
          "base_uri": "https://localhost:8080/"
        },
        "id": "hL1VCYZ7SYKr",
        "outputId": "a88786ac-c6ca-4577-f085-c0324f7bfa88"
      },
      "source": [
        "P = 1500\n",
        "R = 9.5\n",
        "T = 20\n",
        "\n",
        "SI = P * R * T\n",
        "SI"
      ],
      "execution_count": 19,
      "outputs": [
        {
          "output_type": "execute_result",
          "data": {
            "text/plain": [
              "285000.0"
            ]
          },
          "metadata": {},
          "execution_count": 19
        }
      ]
    },
    {
      "cell_type": "markdown",
      "metadata": {
        "id": "SHIka-WmSoD1"
      },
      "source": [
        "## Flow Control\n",
        "\n",
        "- A student will not be allowed to sit in exam if his/her attendance is less than 75%.\n",
        "Take following input from user\n",
        "\n",
        "    - Number of classes held\n",
        "    - Number of classes attended.\n",
        "\n",
        "\n",
        "And print percentage of class attended. Is student is allowed to sit in exam or not.\n",
        "\n"
      ]
    },
    {
      "cell_type": "code",
      "metadata": {
        "colab": {
          "base_uri": "https://localhost:8080/"
        },
        "id": "EFllXEDPSv8e",
        "outputId": "cc9546c3-9f0c-41a2-d7cf-2e0c2d026bd5"
      },
      "source": [
        "cls_held = int(input('Enter the number of classes held. '))\n",
        "cls_atd = int(input('Enter the number of classes attended. '))\n",
        "\n",
        "\n",
        "if (cls_atd/cls_held)*100 >=75:\n",
        "  print('The student is allowed for the exam.')\n",
        "else:\n",
        "  print('The student is allowed for the exam.')"
      ],
      "execution_count": 20,
      "outputs": [
        {
          "output_type": "stream",
          "name": "stdout",
          "text": [
            "Enter the number of classes held. 20\n",
            "Enter the number of classes attended. 15\n",
            "The student is allowed for the exam.\n"
          ]
        }
      ]
    },
    {
      "cell_type": "markdown",
      "metadata": {
        "id": "joQAcohhTim3"
      },
      "source": [
        "-  Write a program to accept the cost price of a bike and display the total price of the bike including tax to be paid according to the following criteria : \n",
        "\n",
        "| Cost price (in Rs)  | Tax |\n",
        "|---------------------|-----|\n",
        "| > 100000            | 15 %| \n",
        "|> 50000 and <= 100000| 10% |\n",
        "|<= 50000             | 5%  |"
      ]
    },
    {
      "cell_type": "code",
      "metadata": {
        "colab": {
          "base_uri": "https://localhost:8080/"
        },
        "id": "eXrz_FyWSt2k",
        "outputId": "69835b40-7325-41e8-cf4c-1e98dc9ba316"
      },
      "source": [
        "cost_price = int(input('Enter the cost of the bike.'))\n",
        "\n",
        "if cost_price > 100000:\n",
        "  total_price = cost_price + (cost_price * 0.15)\n",
        "\n",
        "elif 50000 < cost_price <= 100000:\n",
        "  total_price = cost_price + (cost_price * 0.10)\n",
        "\n",
        "elif cost_price <=50000:\n",
        "  total_price = cost_price + (cost_price * 0.05)\n",
        "\n",
        "print('The final price of your bike will be (Rs.) ',total_price) "
      ],
      "execution_count": 23,
      "outputs": [
        {
          "output_type": "stream",
          "name": "stdout",
          "text": [
            "Enter the cost of the bike.75000\n",
            "The final price of your bike will be (Rs.)  82500.0\n"
          ]
        }
      ]
    },
    {
      "cell_type": "markdown",
      "metadata": {
        "id": "kxUTYMntUYGh"
      },
      "source": [
        "-  Write a program to accept a number from 1 to 12 and display name of the month and days in that month like 1 for January and number of days 31 and so on."
      ]
    },
    {
      "cell_type": "code",
      "metadata": {
        "colab": {
          "base_uri": "https://localhost:8080/"
        },
        "id": "nshZxSMESnlo",
        "outputId": "707453e2-c358-4c00-f30f-1a048409d94a"
      },
      "source": [
        "enter_month  = int(input('Enter the number of the month.'))\n",
        "\n",
        "\n",
        "months = {1: 'January', 2: 'February',3: 'March',4: 'April',\n",
        "          5: 'May',6: 'June',7: 'July',8: 'August',\n",
        "          9: 'September', 10: 'October',11: 'November',12: 'December'}\n",
        "\n",
        "days_31 = [1,3,5,7,8,10,12]\n",
        "days_30 = [4,6,9,11]\n",
        "\n",
        "if enter_month in days_31:\n",
        "  print(months[enter_month] + ' has ' + '31 Days.')\n",
        "\n",
        "elif enter_month in days_30:\n",
        "  print(months[enter_month] + ' has ' + '30 Days.')\n",
        "\n",
        "else :\n",
        "  print(months[enter_month] +' has ' + '28 days') \n",
        "\n",
        "\n"
      ],
      "execution_count": 26,
      "outputs": [
        {
          "output_type": "stream",
          "name": "stdout",
          "text": [
            "Enter the number of the month.1\n",
            "January has 31 Days.\n"
          ]
        }
      ]
    },
    {
      "cell_type": "markdown",
      "metadata": {
        "id": "UYrJomohZEZZ"
      },
      "source": [
        "## Function\n",
        "\n",
        "-  Write a function called calculate_area that takes base and height as an input and returns and area of a triangle. Equation of an area of a triangle is,\n",
        "\n",
        "    - area = (1/2) * base * height\n"
      ]
    },
    {
      "cell_type": "code",
      "metadata": {
        "id": "F4m9vlg6ZJHU"
      },
      "source": [
        "def calculate_area(base, height):\n",
        "  area = (1/2)*base*height\n",
        "  return area"
      ],
      "execution_count": 27,
      "outputs": []
    },
    {
      "cell_type": "code",
      "metadata": {
        "colab": {
          "base_uri": "https://localhost:8080/"
        },
        "id": "1Tm7F7FpZVGf",
        "outputId": "7b0e85c9-6ae5-4694-a5a1-6d8e711f7035"
      },
      "source": [
        "calculate_area(2,6)"
      ],
      "execution_count": 28,
      "outputs": [
        {
          "output_type": "execute_result",
          "data": {
            "text/plain": [
              "6.0"
            ]
          },
          "metadata": {},
          "execution_count": 28
        }
      ]
    },
    {
      "cell_type": "markdown",
      "metadata": {
        "id": "m-RxvujcZa4o"
      },
      "source": [
        "-  Modify the above function to take the third parameter shape type. It can be either “triangle” or “rectangle”. Based on shape type it will calculate area. Equation of rectangle’s area is,\n",
        "\n",
        "    - rectangle area = base * height"
      ]
    },
    {
      "cell_type": "code",
      "metadata": {
        "id": "LnBTMUldZsIo"
      },
      "source": [
        "def calculate_area(base, height, shape_type):\n",
        "  if shape_type =='Triangle':\n",
        "\n",
        "    area = (1/2)*base*height\n",
        "  elif shape_type == 'Rectangle':\n",
        "    area = base*height \n",
        "  return area"
      ],
      "execution_count": 29,
      "outputs": []
    },
    {
      "cell_type": "code",
      "metadata": {
        "colab": {
          "base_uri": "https://localhost:8080/"
        },
        "id": "Ika6jwV5aBVi",
        "outputId": "77369c49-d1c4-47b6-c633-bb8689ddaf23"
      },
      "source": [
        "calculate_area(2,6,'Rectangle')"
      ],
      "execution_count": 30,
      "outputs": [
        {
          "output_type": "execute_result",
          "data": {
            "text/plain": [
              "12"
            ]
          },
          "metadata": {},
          "execution_count": 30
        }
      ]
    },
    {
      "cell_type": "markdown",
      "metadata": {
        "id": "qQYBHGoGaLAs"
      },
      "source": [
        "## Loops\n",
        "\n",
        "- Write a program to print first 10 even numbers in reverse order. (Using both the loops)"
      ]
    },
    {
      "cell_type": "code",
      "metadata": {
        "colab": {
          "base_uri": "https://localhost:8080/"
        },
        "id": "TqXwZh_dUmtF",
        "outputId": "f473edcf-dba2-4005-8eaf-68b5230b03de"
      },
      "source": [
        "# Using while loop\n",
        "i = 10\n",
        "print('Output of while loop') # Optional\n",
        "while i > 0:\n",
        "  print(i, end = ' ')\n",
        "  i-=1\n",
        "\n",
        "print('\\n')  # Optional\n",
        "\n",
        "\n",
        "# Using for loop\n",
        "print('Output of for loop: ') # Optional\n",
        "for i in range(10,0,-1):\n",
        "  print(i,end = ' ')\n",
        "\n"
      ],
      "execution_count": 10,
      "outputs": [
        {
          "output_type": "stream",
          "name": "stdout",
          "text": [
            "Output of while loop\n",
            "10 9 8 7 6 5 4 3 2 1 \n",
            "\n",
            "Output of for loop: \n",
            "10 9 8 7 6 5 4 3 2 1 "
          ]
        }
      ]
    },
    {
      "cell_type": "markdown",
      "metadata": {
        "id": "9Nhbu3c5WA-2"
      },
      "source": [
        "- Using loop write a program that keep on accepting user input until user enters 0 and print the sum of all the number entered."
      ]
    },
    {
      "cell_type": "code",
      "metadata": {
        "colab": {
          "base_uri": "https://localhost:8080/"
        },
        "id": "lIYdn1woOS1n",
        "outputId": "6ecebd5a-6463-49ee-8c42-53eb13a95aa7"
      },
      "source": [
        "num=1\n",
        "s=0\n",
        "while(num!=0):\n",
        "   num=int(input(\"Enter any number --> \"))\n",
        "   s=s+num\n",
        "print('The sum of all the number that you entered is ', s)"
      ],
      "execution_count": 3,
      "outputs": [
        {
          "output_type": "stream",
          "name": "stdout",
          "text": [
            "Enter any number --> 2\n",
            "Enter any number --> 10\n",
            "Enter any number --> 3\n",
            "Enter any number --> 0\n",
            "The sum of all the number that you entered is  15\n"
          ]
        }
      ]
    },
    {
      "cell_type": "markdown",
      "metadata": {
        "id": "2tlSas4cWGXe"
      },
      "source": [
        "- Try to replicate the following output by using loops and write an appropriate program.\n",
        "\n",
        "The Multiplication Table of 2 \n",
        "\n",
        "\n",
        "2 x 1 = 2\n",
        "\n",
        ".\n",
        "\n",
        ".\n",
        "\n",
        ".\n",
        "\n",
        "The Multiplication Table of 3\n",
        "\n",
        "\n",
        "3 x 1 = 3\n",
        "\n",
        ".\n",
        "\n",
        ".\n",
        "\n",
        ".\n",
        "\n",
        "The Multiplication Table of 4\n",
        "\n",
        "\n",
        "4 x 1 = 4\n",
        "\n",
        ".\n",
        "\n",
        ".\n",
        "\n",
        ".\t\n"
      ]
    },
    {
      "cell_type": "code",
      "metadata": {
        "colab": {
          "base_uri": "https://localhost:8080/"
        },
        "id": "gQUQJ47WAJkt",
        "outputId": "34e9bd4d-9f35-477d-b78d-200405b69f97"
      },
      "source": [
        "for i in range(2, 5):\n",
        "  print('The Multiplication Table of '+str(i))\n",
        "  for j in range(1,11):\n",
        "    print(str(i) + ' x ' + str(j) + ' = ' + str(i*j))\n",
        "  print('\\t')"
      ],
      "execution_count": 15,
      "outputs": [
        {
          "output_type": "stream",
          "name": "stdout",
          "text": [
            "The Multiplication Table of 2\n",
            "2 x 1 = 2\n",
            "2 x 2 = 4\n",
            "2 x 3 = 6\n",
            "2 x 4 = 8\n",
            "2 x 5 = 10\n",
            "2 x 6 = 12\n",
            "2 x 7 = 14\n",
            "2 x 8 = 16\n",
            "2 x 9 = 18\n",
            "2 x 10 = 20\n",
            "\t\n",
            "The Multiplication Table of 3\n",
            "3 x 1 = 3\n",
            "3 x 2 = 6\n",
            "3 x 3 = 9\n",
            "3 x 4 = 12\n",
            "3 x 5 = 15\n",
            "3 x 6 = 18\n",
            "3 x 7 = 21\n",
            "3 x 8 = 24\n",
            "3 x 9 = 27\n",
            "3 x 10 = 30\n",
            "\t\n",
            "The Multiplication Table of 4\n",
            "4 x 1 = 4\n",
            "4 x 2 = 8\n",
            "4 x 3 = 12\n",
            "4 x 4 = 16\n",
            "4 x 5 = 20\n",
            "4 x 6 = 24\n",
            "4 x 7 = 28\n",
            "4 x 8 = 32\n",
            "4 x 9 = 36\n",
            "4 x 10 = 40\n",
            "\t\n"
          ]
        }
      ]
    },
    {
      "cell_type": "code",
      "metadata": {
        "id": "QFdpL4JQBD0u"
      },
      "source": [],
      "execution_count": null,
      "outputs": []
    }
  ]
}