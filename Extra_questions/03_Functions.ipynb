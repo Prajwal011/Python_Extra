{
  "nbformat": 4,
  "nbformat_minor": 0,
  "metadata": {
    "colab": {
      "name": "scratchpad",
      "provenance": []
    },
    "kernelspec": {
      "display_name": "Python 3",
      "name": "python3",
      "language": "python"
    }
  },
  "cells": [
    {
      "cell_type": "markdown",
      "metadata": {
        "id": "qw0NPWR6Rv5v"
      },
      "source": [
        "# Functions Practice problems and solutions\n",
        "\n"
      ]
    },
    {
      "cell_type": "markdown",
      "metadata": {
        "id": "UYrJomohZEZZ"
      },
      "source": [
        "-  Write a function called calculate_area that takes base and height as an input and returns and area of a triangle. Equation of an area of a triangle is,\n",
        "\n",
        "    - area = 1/2 x (base x height)\n"
      ]
    },
    {
      "cell_type": "code",
      "metadata": {
        "id": "F4m9vlg6ZJHU"
      },
      "source": [
        "def calculate_area(base, height):\n",
        "  area = (1/2) * base * height\n",
        "  return area"
      ],
      "execution_count": 1,
      "outputs": []
    },
    {
      "cell_type": "code",
      "metadata": {
        "colab": {
          "base_uri": "https://localhost:8080/"
        },
        "id": "1Tm7F7FpZVGf",
        "outputId": "7b0e85c9-6ae5-4694-a5a1-6d8e711f7035"
      },
      "source": [
        "calculate_area(2,6)"
      ],
      "execution_count": 28,
      "outputs": [
        {
          "output_type": "execute_result",
          "data": {
            "text/plain": [
              "6.0"
            ]
          },
          "metadata": {},
          "execution_count": 28
        }
      ]
    },
    {
      "cell_type": "markdown",
      "metadata": {
        "id": "m-RxvujcZa4o"
      },
      "source": [
        "-  Modify the above function to take the third parameter shape type. It can be either “triangle” or “rectangle”. Based on shape type it will calculate area. Equation of rectangle’s area is,\n",
        "\n",
        "    - rectangle area = base x height"
      ]
    },
    {
      "cell_type": "code",
      "metadata": {
        "id": "LnBTMUldZsIo"
      },
      "source": [
        "def calculate_area(base, height, shape_type):\n",
        "  if shape_type =='Triangle':\n",
        "\n",
        "    area = (1/2)*base*height\n",
        "  elif shape_type == 'Rectangle':\n",
        "    area = base*height \n",
        "  return area"
      ],
      "execution_count": 29,
      "outputs": []
    },
    {
      "cell_type": "code",
      "metadata": {
        "colab": {
          "base_uri": "https://localhost:8080/"
        },
        "id": "Ika6jwV5aBVi",
        "outputId": "77369c49-d1c4-47b6-c633-bb8689ddaf23"
      },
      "source": [
        "calculate_area(2,6,'Rectangle')"
      ],
      "execution_count": 30,
      "outputs": [
        {
          "output_type": "execute_result",
          "data": {
            "text/plain": [
              "12"
            ]
          },
          "metadata": {},
          "execution_count": 30
        }
      ]
    }
  ]
}