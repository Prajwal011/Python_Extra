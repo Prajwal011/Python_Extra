{
 "cells": [
  {
   "cell_type": "markdown",
   "metadata": {
    "id": "qw0NPWR6Rv5v"
   },
   "source": [
    "# Functions Practice problems and solutions\n",
    "\n"
   ]
  },
  {
   "cell_type": "markdown",
   "metadata": {},
   "source": [
    "- Define a function `cube`, it takes a number as an argument and gives it's cube as output.\n",
    "\n",
    "\n",
    "**For Example:-**\n",
    " \n",
    "```python\n",
    "def cube(number):\n",
    "    ### your code here\n",
    "\n",
    "number = 4\n",
    "\n",
    "cube(number)\n",
    "\n",
    ">>> 64\n",
    "```"
   ]
  },
  {
   "cell_type": "code",
   "execution_count": 2,
   "metadata": {},
   "outputs": [
    {
     "data": {
      "text/plain": [
       "64"
      ]
     },
     "execution_count": 2,
     "metadata": {},
     "output_type": "execute_result"
    }
   ],
   "source": [
    "def cube(number):\n",
    "    return number**3\n",
    "cube(4)"
   ]
  },
  {
   "cell_type": "markdown",
   "metadata": {},
   "source": [
    "- In above function keep 1 as default value and now check the output."
   ]
  },
  {
   "cell_type": "code",
   "execution_count": 3,
   "metadata": {},
   "outputs": [
    {
     "data": {
      "text/plain": [
       "1"
      ]
     },
     "execution_count": 3,
     "metadata": {},
     "output_type": "execute_result"
    }
   ],
   "source": [
    "def cube(number = 1):\n",
    "    return number**3\n",
    "\n",
    "cube()"
   ]
  },
  {
   "cell_type": "markdown",
   "metadata": {},
   "source": [
    "- Use above function in the `for` as well as in `while` loop to print cubes of first 5 numbers.(Use `range(5)` in for loop)."
   ]
  },
  {
   "cell_type": "code",
   "execution_count": 5,
   "metadata": {},
   "outputs": [
    {
     "name": "stdout",
     "output_type": "stream",
     "text": [
      "0\n",
      "1\n",
      "8\n",
      "27\n",
      "64\n"
     ]
    }
   ],
   "source": [
    "for i in range(5):\n",
    "    print(cube(i))"
   ]
  },
  {
   "cell_type": "code",
   "execution_count": 7,
   "metadata": {
    "tags": []
   },
   "outputs": [
    {
     "name": "stdout",
     "output_type": "stream",
     "text": [
      "0\n",
      "1\n",
      "8\n",
      "27\n",
      "64\n"
     ]
    }
   ],
   "source": [
    "i = 0\n",
    "while(i<5):\n",
    "    print(cube(i))\n",
    "    i+=1"
   ]
  },
  {
   "cell_type": "code",
   "execution_count": null,
   "metadata": {},
   "outputs": [],
   "source": []
  },
  {
   "cell_type": "markdown",
   "metadata": {
    "id": "UYrJomohZEZZ"
   },
   "source": [
    "-  Write a function called calculate_area that takes base and height as an input and returns and area of a triangle. \n",
    "\n",
    "**For Example:-**\n",
    " \n",
    "```python\n",
    "def calculate_area(base, height):\n",
    "    ### your code here\n",
    "\n",
    "b = 2\n",
    "h = 6\n",
    "\n",
    "calculate_area(b,h)\n",
    "\n",
    ">>> 6.0\n",
    "```\n"
   ]
  },
  {
   "cell_type": "code",
   "execution_count": 1,
   "metadata": {
    "id": "F4m9vlg6ZJHU"
   },
   "outputs": [],
   "source": [
    "def calculate_area(base, height):\n",
    "  area = (1/2) * base * height\n",
    "  return area"
   ]
  },
  {
   "cell_type": "code",
   "execution_count": 28,
   "metadata": {
    "colab": {
     "base_uri": "https://localhost:8080/"
    },
    "id": "1Tm7F7FpZVGf",
    "outputId": "7b0e85c9-6ae5-4694-a5a1-6d8e711f7035"
   },
   "outputs": [
    {
     "data": {
      "text/plain": [
       "6.0"
      ]
     },
     "execution_count": 28,
     "metadata": {},
     "output_type": "execute_result"
    }
   ],
   "source": [
    "calculate_area(2,6)"
   ]
  },
  {
   "cell_type": "markdown",
   "metadata": {
    "id": "m-RxvujcZa4o"
   },
   "source": [
    "-  Modify the above function to take the third parameter shape type. It can be either “triangle” or “rectangle”. Based on shape type it will calculate area.\n",
    "\n",
    "\n",
    "**For Example:-**\n",
    " \n",
    "```python\n",
    "def calculate_area(base, height,shape):\n",
    "    ### your code here\n",
    "\n",
    "b = 2\n",
    "h = 6\n",
    "\n",
    "calculate_area(b,h, 'Rectangle')\n",
    "\n",
    ">>> 12\n",
    "\n",
    "\n",
    "calculate_area(b,h, 'Triangle')\n",
    "\n",
    ">>> 6.0\n",
    "```\n"
   ]
  },
  {
   "cell_type": "code",
   "execution_count": 29,
   "metadata": {
    "id": "LnBTMUldZsIo"
   },
   "outputs": [],
   "source": [
    "def calculate_area(base, height, shape_type):\n",
    "  if shape_type =='Triangle':\n",
    "\n",
    "    area = (1/2)*base*height\n",
    "  elif shape_type == 'Rectangle':\n",
    "    area = base*height \n",
    "  return area"
   ]
  },
  {
   "cell_type": "code",
   "execution_count": 30,
   "metadata": {
    "colab": {
     "base_uri": "https://localhost:8080/"
    },
    "id": "Ika6jwV5aBVi",
    "outputId": "77369c49-d1c4-47b6-c633-bb8689ddaf23"
   },
   "outputs": [
    {
     "data": {
      "text/plain": [
       "12"
      ]
     },
     "execution_count": 30,
     "metadata": {},
     "output_type": "execute_result"
    }
   ],
   "source": [
    "calculate_area(2,6,'Rectangle')"
   ]
  },
  {
   "cell_type": "markdown",
   "metadata": {},
   "source": [
    "- Write a Python function to check whether a string is a pangram or not.\n",
    "\n",
    "Pangram definition: is a short sentence containing all 26 letters of the English alphabet.\n",
    "\n",
    "**For Example:-**\n",
    " \n",
    "```python\n",
    "def ispangram(sentence):\n",
    "    ### your code here\n",
    "\n",
    "sentence1 = \"a quick brown fo jumps over the lazy dog\"\n",
    "sentence2 = \"hello my name is ramesh\"\n",
    "\n",
    "ispangram(sentence1)\n",
    "\n",
    ">>> True\n",
    "\n",
    "ispangram(sentence2)\n",
    "\n",
    ">>> False\n",
    "\n",
    "```\n"
   ]
  },
  {
   "cell_type": "code",
   "execution_count": 15,
   "metadata": {},
   "outputs": [],
   "source": [
    "def ispangram(string):\n",
    "    count = 0\n",
    "    alphabets = \"abcdefghijklmnopqrstuvwxyz\"\n",
    "    for i in alphabets:\n",
    "        if i in string:\n",
    "            count+=1\n",
    "        \n",
    "    return count"
   ]
  },
  {
   "cell_type": "code",
   "execution_count": 17,
   "metadata": {},
   "outputs": [
    {
     "name": "stdout",
     "output_type": "stream",
     "text": [
      "It is a pangram.\n"
     ]
    }
   ],
   "source": [
    "ustr= input(\"enter a string to check if it is pangram or not: \\n\")\n",
    "cout = ispangram(ustr)\n",
    "if cout>=26:\n",
    "    print('It is a pangram.')\n",
    "else:\n",
    "    print('It is not a pangram.')"
   ]
  },
  {
   "cell_type": "markdown",
   "metadata": {},
   "source": [
    "- We know that temperature in °C can be converted to °F using some formula. Write a function which converts °C to °F using the formula, an name it as celsius_to_fahrenheit. Take temperature in °C as an argument to the function.\n",
    "\n",
    "\n",
    "**For Example:-**\n",
    " \n",
    "```python\n",
    "def celsius_to_fahrenheit(temp_in_cel):\n",
    "    ### your code here\n",
    "\n",
    "temperature = 26\n",
    "celsius_to_fahrenheit(temperature)\n",
    "\n",
    ">>> 78.80000000000001\n",
    "```"
   ]
  },
  {
   "cell_type": "code",
   "execution_count": 11,
   "metadata": {},
   "outputs": [],
   "source": [
    "def celsius_to_fahrenheit(celsius):\n",
    "    farenheit = (celsius * (9/5)) + 32\n",
    "    return farenheit\n"
   ]
  },
  {
   "cell_type": "code",
   "execution_count": 13,
   "metadata": {},
   "outputs": [
    {
     "data": {
      "text/plain": [
       "78.80000000000001"
      ]
     },
     "execution_count": 13,
     "metadata": {},
     "output_type": "execute_result"
    }
   ],
   "source": [
    "celsius_to_fahrenheit(26)"
   ]
  },
  {
   "cell_type": "markdown",
   "metadata": {},
   "source": [
    "- Write a python program to sum the sequence: 1 + 1/1! + 1/2! + 1/3! + + 1/n!\n",
    "\n",
    "```python \n",
    "def sequence(n):\n",
    "    ### your code here\n",
    "\n",
    "sequence(5)\n",
    ">>> 2.7166666666666663\n",
    "```"
   ]
  },
  {
   "cell_type": "code",
   "execution_count": 2,
   "metadata": {},
   "outputs": [
    {
     "data": {
      "text/plain": [
       "2.7166666666666663"
      ]
     },
     "execution_count": 2,
     "metadata": {},
     "output_type": "execute_result"
    }
   ],
   "source": [
    "def sequence(n):\n",
    "    result= 1\n",
    "    for num in range(1,n+1):\n",
    "        fact= 1\n",
    "        for f in range(num,0,-1):\n",
    "            fact*=f\n",
    "        term= 1/fact\n",
    "        result+=term\n",
    "    return result\n",
    "\n",
    "sequence(5)"
   ]
  }
 ],
 "metadata": {
  "colab": {
   "name": "scratchpad",
   "provenance": []
  },
  "kernelspec": {
   "display_name": "Python 3",
   "language": "python",
   "name": "python3"
  },
  "language_info": {
   "codemirror_mode": {
    "name": "ipython",
    "version": 3
   },
   "file_extension": ".py",
   "mimetype": "text/x-python",
   "name": "python",
   "nbconvert_exporter": "python",
   "pygments_lexer": "ipython3",
   "version": "3.8.3"
  }
 },
 "nbformat": 4,
 "nbformat_minor": 1
}
