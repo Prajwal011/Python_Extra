{
 "cells": [
  {
   "cell_type": "markdown",
   "metadata": {
    "id": "qw0NPWR6Rv5v"
   },
   "source": [
    "# Functions Practice problems and solutions\n",
    "\n"
   ]
  },
  {
   "cell_type": "markdown",
   "metadata": {},
   "source": [
    "- Define a function `cube`, it takes a number as an argument and gives it's cube as output.\n",
    "\n",
    "\n",
    "**For Example:-**\n",
    " \n",
    "```python\n",
    "def cube(number):\n",
    "    ### your code here\n",
    "\n",
    "number = 4\n",
    "\n",
    "cube(number)\n",
    "\n",
    ">>> 64\n",
    "```"
   ]
  },
  {
   "cell_type": "markdown",
   "metadata": {},
   "source": [
    "- In above function keep 1 as default value and now check the output."
   ]
  },
  {
   "cell_type": "markdown",
   "metadata": {},
   "source": [
    "- Use above function in the `for` as well as in `while` loop to print cubes of first 5 numbers.(Use `range(5)` in for loop)."
   ]
  },
  {
   "cell_type": "markdown",
   "metadata": {
    "id": "UYrJomohZEZZ"
   },
   "source": [
    "-  Write a function called calculate_area that takes base and height as an input and returns and area of a triangle. \n",
    "\n",
    "**For Example:-**\n",
    " \n",
    "```python\n",
    "def calculate_area(base, height):\n",
    "    ### your code here\n",
    "\n",
    "b = 2\n",
    "h = 6\n",
    "\n",
    "calculate_area(b,h)\n",
    "\n",
    ">>> 6.0\n",
    "```\n"
   ]
  },
  {
   "cell_type": "markdown",
   "metadata": {
    "id": "m-RxvujcZa4o"
   },
   "source": [
    "-  Modify the above function to take the third parameter shape type. It can be either “triangle” or “rectangle”. Based on shape type it will calculate area.\n",
    "\n",
    "\n",
    "**For Example:-**\n",
    " \n",
    "```python\n",
    "def calculate_area(base, height,shape):\n",
    "    ### your code here\n",
    "\n",
    "b = 2\n",
    "h = 6\n",
    "\n",
    "calculate_area(b,h, 'Rectangle')\n",
    "\n",
    ">>> 12\n",
    "\n",
    "\n",
    "calculate_area(b,h, 'Triangle')\n",
    "\n",
    ">>> 6.0\n",
    "```\n"
   ]
  },
  {
   "cell_type": "markdown",
   "metadata": {},
   "source": [
    "- Write a Python function to check whether a string is a pangram or not.\n",
    "\n",
    "Pangram definition: is a short sentence containing all 26 letters of the English alphabet.\n",
    "\n",
    "**For Example:-**\n",
    " \n",
    "```python\n",
    "def ispangram(sentence):\n",
    "    ### your code here\n",
    "\n",
    "sentence1 = \"a quick brown fo jumps over the lazy dog\"\n",
    "sentence2 = \"hello my name is ramesh\"\n",
    "\n",
    "ispangram(sentence1)\n",
    "\n",
    ">>> True\n",
    "\n",
    "ispangram(sentence2)\n",
    "\n",
    ">>> False\n",
    "\n",
    "```\n"
   ]
  },
  {
   "cell_type": "markdown",
   "metadata": {},
   "source": [
    "- We know that temperature in °C can be converted to °F using some formula. Write a function which converts °C to °F using the formula, an name it as celsius_to_fahrenheit. Take temperature in °C as an argument to the function.\n",
    "\n",
    "\n",
    "**For Example:-**\n",
    " \n",
    "```python\n",
    "def celsius_to_fahrenheit(temp_in_cel):\n",
    "    ### your code here\n",
    "\n",
    "temperature = 26\n",
    "celsius_to_fahrenheit(temperature)\n",
    "\n",
    ">>> 78.80000000000001\n",
    "```"
   ]
  },
  {
   "cell_type": "markdown",
   "metadata": {},
   "source": [
    "- Write a python program to sum the sequence: 1 + 1/1! + 1/2! + 1/3! + + 1/n!\n",
    "\n",
    "```python \n",
    "def sequence(n):\n",
    "    ### your code here\n",
    "\n",
    "sequence(5)\n",
    ">>> 2.7166666666666663\n",
    "```"
   ]
  }
 ],
 "metadata": {
  "colab": {
   "name": "scratchpad",
   "provenance": []
  },
  "kernelspec": {
   "display_name": "Python 3",
   "language": "python",
   "name": "python3"
  },
  "language_info": {
   "codemirror_mode": {
    "name": "ipython",
    "version": 3
   },
   "file_extension": ".py",
   "mimetype": "text/x-python",
   "name": "python",
   "nbconvert_exporter": "python",
   "pygments_lexer": "ipython3",
   "version": "3.8.3"
  }
 },
 "nbformat": 4,
 "nbformat_minor": 1
}