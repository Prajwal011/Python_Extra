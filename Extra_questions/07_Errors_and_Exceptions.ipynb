{
  "nbformat": 4,
  "nbformat_minor": 0,
  "metadata": {
    "colab": {
      "name": "scratchpad",
      "provenance": []
    },
    "kernelspec": {
      "display_name": "Python 3",
      "name": "python3"
    }
  },
  "cells": [
    {
      "cell_type": "markdown",
      "metadata": {
        "id": "_v0iJbq7vGvP"
      },
      "source": [
        "# Errors and Exceptions Practice problems and solutions\n",
        "\n",
        "The code below has an intentional error. Do not type it.\n",
        "\n",
        "\n",
        "```python\n",
        "\n",
        "def print_message(day):\n",
        "    messages = {\n",
        "        'monday': 'Hello, world!',\n",
        "        'tuesday': 'Today is Tuesday!',\n",
        "        'wednesday': 'It is the middle of the week.',\n",
        "        'thursday': 'Today is Donnerstag in German!',\n",
        "        'friday': 'Last day of the week!',\n",
        "        'saturday': 'Hooray for the weekend!',\n",
        "        'sunday': 'Aw, the weekend is almost over.'\n",
        "    }\n",
        "    print(messages[day])\n",
        "print_message('Friday')\n",
        "```\n",
        "\n",
        "\n",
        "Run the code as it is and check which type of error do we get and avoid that error.\n"
      ]
    },
    {
      "cell_type": "code",
      "metadata": {
        "colab": {
          "base_uri": "https://localhost:8080/"
        },
        "id": "lIYdn1woOS1n",
        "outputId": "1557412f-f74e-45db-be4c-af100e6a569e"
      },
      "source": [
        "def print_message(day):\n",
        "    messages = {\n",
        "        'monday': 'Hello, world!',\n",
        "        'tuesday': 'Today is Tuesday!',\n",
        "        'wednesday': 'It is the middle of the week.',\n",
        "        'thursday': 'Today is Donnerstag in German!',\n",
        "        'friday': 'Last day of the week!',\n",
        "        'saturday': 'Hooray for the weekend!',\n",
        "        'sunday': 'Aw, the weekend is almost over.'\n",
        "    }\n",
        "    print(messages[day])\n",
        "\n",
        "try:    \n",
        "  print_message('Friday')\n",
        "\n",
        "except KeyError:\n",
        "  print('Either the key is not present or you made a spelling mistake.')"
      ],
      "execution_count": 2,
      "outputs": [
        {
          "output_type": "stream",
          "name": "stdout",
          "text": [
            "Either the key is not present or you made a spelling mistake.\n"
          ]
        }
      ]
    }
  ]
}