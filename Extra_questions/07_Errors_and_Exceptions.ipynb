{
  "nbformat": 4,
  "nbformat_minor": 0,
  "metadata": {
    "colab": {
      "name": "scratchpad",
      "provenance": []
    },
    "kernelspec": {
      "display_name": "Python 3",
      "name": "python3",
      "language": "python"
    }
  },
  "cells": [
    {
      "cell_type": "markdown",
      "metadata": {
        "id": "qw0NPWR6Rv5v"
      },
      "source": [
        "# Errors and Exceptions Practice problems and solutions\n",
        "\n"
      ]
    },
    {
      "source": [
        "The code below has an intentional error. Do not type it directly.\n",
        "```python\n",
        "\n",
        "def print_message(day):\n",
        "    messages = {\n",
        "        'monday': 'Hello, world!',\n",
        "        'tuesday': 'Today is Tuesday!',\n",
        "        'wednesday': 'It is the middle of the week.',\n",
        "        'thursday': 'Today is Donnerstag in German!',\n",
        "        'friday': 'Last day of the week!',\n",
        "        'saturday': 'Hooray for the weekend!',\n",
        "        'sunday': 'Aw, the weekend is almost over.'\n",
        "    }\n",
        "    print(messages[day])\n",
        "\n",
        "print_message('Friday')\n",
        "```\n",
        "\n",
        "\n",
        "Run the code as it is and check which type of error do we get and avoid that error by applying:\n",
        "\n",
        "1. Using `try-except`  block.\n",
        "2. Without using `try-except` block."
      ],
      "cell_type": "markdown",
      "metadata": {}
    },
    {
      "source": [
        "## Using `try-except` block"
      ],
      "cell_type": "markdown",
      "metadata": {}
    },
    {
      "cell_type": "code",
      "execution_count": 2,
      "metadata": {},
      "outputs": [
        {
          "output_type": "stream",
          "name": "stdout",
          "text": [
            "Either the key is not present or you made a spelling mistake.\n"
          ]
        }
      ],
      "source": [
        "def print_message(day):\n",
        "    messages = {\n",
        "        'monday': 'Hello, world!',\n",
        "        'tuesday': 'Today is Tuesday!',\n",
        "        'wednesday': 'It is the middle of the week.',\n",
        "        'thursday': 'Today is Donnerstag in German!',\n",
        "        'friday': 'Last day of the week!',\n",
        "        'saturday': 'Hooray for the weekend!',\n",
        "        'sunday': 'Aw, the weekend is almost over.'\n",
        "    }\n",
        "\n",
        "    print(messages[day])\n",
        "\n",
        "try:\n",
        "    print_message('Friday')\n",
        "\n",
        "except KeyError:\n",
        "    print('Either the key is not present or you made a spelling mistake.')"
      ]
    },
    {
      "source": [
        "## Without using `try-except` block"
      ],
      "cell_type": "markdown",
      "metadata": {}
    },
    {
      "cell_type": "code",
      "execution_count": 10,
      "metadata": {},
      "outputs": [
        {
          "output_type": "stream",
          "name": "stdout",
          "text": [
            "Either the key is not present or you made a spelling mistake.\n"
          ]
        }
      ],
      "source": [
        "from collections import defaultdict\n",
        "\n",
        "\n",
        "def print_message(day):\n",
        "    messages = {\n",
        "        'monday': 'Hello, world!',\n",
        "        'tuesday': 'Today is Tuesday!',\n",
        "        'wednesday': 'It is the middle of the week.',\n",
        "        'thursday': 'Today is Donnerstag in German!',\n",
        "        'friday': 'Last day of the week!',\n",
        "        'saturday': 'Hooray for the weekend!',\n",
        "        'sunday': 'Aw, the weekend is almost over.'\n",
        "    }\n",
        "\n",
        "    # Method 1 (Using .get() method)\n",
        "\n",
        "    print(messages.get(day,'Either the key is not present or you made a spelling mistake.'))\n",
        "    \n",
        "    # Method 2 (Using defaultdict)\n",
        "\n",
        "    # messages = defaultdict(default_val)\n",
        "    # print(messages[day]) \n",
        "\n",
        "\n",
        "def default_val():\n",
        "\n",
        "    '''Function used in method 2'''\n",
        "    \n",
        "    return 'Either the key is not present or you made a spelling mistake.'\n",
        "\n",
        "print_message('Friday')"
      ]
    }
  ]
}