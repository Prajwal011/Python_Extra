{
  "nbformat": 4,
  "nbformat_minor": 0,
  "metadata": {
    "colab": {
      "name": "scratchpad",
      "provenance": []
    },
    "kernelspec": {
      "display_name": "Python 3",
      "name": "python3",
      "language": "python"
    }
  },
  "cells": [
    {
      "cell_type": "markdown",
      "metadata": {
        "id": "qw0NPWR6Rv5v"
      },
      "source": [
        "# Files Practice problems and solutions\n",
        "\n"
      ]
    },
    {
      "source": [
        "- Write a function `display_words()` in python to read lines from a text file `\"story.txt\"`, and display unique words, which are less than 4 characters. Keep in mind \"the\" and \"The\" are two different values.\n",
        "\n",
        "The content of the file is given below.\n",
        "\n",
        "`\"India is the fastest-growing economy. India is looking for more investments around the globe. The whole world is looking at India as a great market. Most of the Indians can foresee the heights that India is capable of reaching.\"`\n",
        "\n",
        "\n",
        "**For Example:-**\n",
        " \n",
        "```python\n",
        "def display_words(file):\n",
        "    ### your code here\n",
        "\n",
        "file = your/path/to/story.txt\n",
        "display_words(file1)\n",
        "\n",
        ">>> ['the', 'for', 'The', 'as', 'at', 'is', 'can', 'a', 'of']"
      ],
      "cell_type": "markdown",
      "metadata": {}
    },
    {
      "cell_type": "code",
      "execution_count": 13,
      "metadata": {},
      "outputs": [
        {
          "output_type": "execute_result",
          "data": {
            "text/plain": [
              "['the', 'for', 'The', 'as', 'at', 'is', 'can', 'a', 'of']"
            ]
          },
          "metadata": {},
          "execution_count": 13
        }
      ],
      "source": [
        "def display_words(fname):\n",
        "    new_li = []\n",
        "    f = open(fname)\n",
        "\n",
        "    data = f.read()\n",
        "    words = data.split()\n",
        "\n",
        "    for word in words:\n",
        "        if(len(word) < 4):\n",
        "            new_li.append(word)\n",
        "    f.close()\n",
        "    return list(set(new_li))\n",
        "\n",
        "display_words('story.txt')"
      ]
    },
    {
      "source": [
        "- Aditi has used a text editing software to type some text. After saving the article as `Words.txt`, she realised that she has wrongly typed `alphabet J` in place of `alphabet I` everywhere in the article.\n",
        "\n",
        "Your task is to write a function named as `JTOI()` such that it would display the corrected version of entire content of the file `Words.txt` with all the alphabets \"J\" to be displayed as an alphabet \"I\" on screen.\n",
        "\n",
        "**Note: Assuming that `Words.txt` contains wrongly typed J alphabet otherwise.**\n",
        "\n",
        "*Example:*\n",
        "- If Aditi has stored the following content in the file WORDS.TXT:\n",
        "\n",
        "    \"WELL, THJS JS A WORD BY JTSELF. YOU COULD STRETCH THJS TO BE A SENTENCE.\"\n",
        "\n",
        "- The function `JTOI()` should display the following content:\n",
        "\n",
        "    \"WELL, THIS IS A WORD BY ITSELF. YOU COULD STRETCH THIS TO BE A SENTENCE.\"\n",
        "\n",
        "\n",
        "    "
      ],
      "cell_type": "markdown",
      "metadata": {}
    },
    {
      "cell_type": "code",
      "execution_count": 14,
      "metadata": {},
      "outputs": [
        {
          "output_type": "stream",
          "name": "stdout",
          "text": [
            "\"WELL, THIS IS A WORD BY ITSELF. YOU COULD STRETCH THIS TO BE A SENTENCE.\""
          ]
        }
      ],
      "source": [
        "def JTOI(fname):\n",
        "    \n",
        "    file = open(fname)\n",
        "    data = file.read()\n",
        "\n",
        "    for char in data:\n",
        "        if char == 'J':\n",
        "            print(\"I\",end = '')\n",
        "        else:\n",
        "            print(char,end = '')\n",
        "\n",
        "    file.close()\n",
        "\n",
        "JTOI('words.txt')"
      ]
    }
  ]
}