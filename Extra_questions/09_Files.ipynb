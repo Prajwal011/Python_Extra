{
  "nbformat": 4,
  "nbformat_minor": 0,
  "metadata": {
    "colab": {
      "name": "scratchpad",
      "provenance": []
    },
    "kernelspec": {
      "display_name": "Python 3",
      "name": "python3",
      "language": "python"
    }
  },
  "cells": [
    {
      "cell_type": "markdown",
      "metadata": {
        "id": "qw0NPWR6Rv5v"
      },
      "source": [
        "# Files Practice problems and solutions\n",
        "\n"
      ]
    },
    {
      "source": [
        "- Write a function `display_words()` in python to read lines from a text file `\"story.txt\"`, and display unique words, which are less than 4 characters. Keep in mind \"the\" and \"The\" are two different values.\n",
        "\n",
        "The content of the file is given below.\n",
        "\n",
        "`\"India is the fastest-growing economy. India is looking for more investments around the globe. The whole world is looking at India as a great market. Most of the Indians can foresee the heights that India is capable of reaching.\"`\n",
        "\n",
        "\n",
        "**For Example:-**\n",
        " \n",
        "```python\n",
        "def display_words(file):\n",
        "    ### your code here\n",
        "\n",
        "file = your/path/to/story.txt\n",
        "display_words(file1)\n",
        "\n",
        ">>> ['the', 'for', 'The', 'as', 'at', 'is', 'can', 'a', 'of']\n",
        "```"
      ],
      "cell_type": "markdown",
      "metadata": {}
    },
    {
      "source": [
        "- Aditi has used a text editing software to type some text. After saving the article as `words.txt`, she realised that she has wrongly typed `alphabet J` in place of `alphabet I` everywhere in the article.\n",
        "\n",
        "Your task is to write a function named as `JTOI()` such that it would display the corrected version of entire content of the file `words.txt` with all the alphabets \"J\" to be displayed as an alphabet \"I\" on screen.\n",
        "\n",
        "**Note: Assuming that `words.txt` contains wrongly typed J alphabet otherwise.**\n",
        "\n",
        "*Example:*\n",
        "- If Aditi has stored the following content in the file WORDS.TXT:\n",
        "\n",
        "    \"WELL, THJS JS A WORD BY JTSELF. YOU COULD STRETCH THJS TO BE A SENTENCE.\"\n",
        "\n",
        "- The function `JTOI()` should display the following content:\n",
        "\n",
        "    \"WELL, THIS IS A WORD BY ITSELF. YOU COULD STRETCH THIS TO BE A SENTENCE.\""
      ],
      "cell_type": "markdown",
      "metadata": {}
    },
    {
      "source": [
        "- You have to check your *current working directory* and create a file named as *emails.txt* there. The content of the file is given below copy it and paste in your *emails.txt*.\n",
        "\n",
        "```\n",
        "You can email us on aiadventures.pune@gmail.com\n",
        "Or you can mail specific people. Here are there emails\n",
        "Vivek Deshpande - vivek.aiadventures@gmail.com\n",
        "Pranav Uikey - pranav.aiadventures@gmail.com\n",
        "Ankur Singh - ankurs.aiadventures@gmail.com\n",
        "```\n",
        "\n",
        "After creating the file you have to write a function `search_regex()` that takes a *filepath* and a *regex* as arguments. The function should return all the occurrence of text that matches the regex in the file.\n",
        "\n"
      ],
      "cell_type": "markdown",
      "metadata": {}
    }
  ]
}