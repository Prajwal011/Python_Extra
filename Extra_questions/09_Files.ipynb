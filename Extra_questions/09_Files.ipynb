{
  "nbformat": 4,
  "nbformat_minor": 0,
  "metadata": {
    "colab": {
      "name": "scratchpad",
      "provenance": []
    },
    "kernelspec": {
      "display_name": "Python 3",
      "name": "python3",
      "language": "python"
    }
  },
  "cells": [
    {
      "cell_type": "markdown",
      "metadata": {
        "id": "qw0NPWR6Rv5v"
      },
      "source": [
        "# Files Practice problems and solutions\n",
        "\n"
      ]
    },
    {
      "source": [
        "- Write a function `display_words()` in python to read lines from a text file `\"story.txt\"`, and display those words, which are less than 4 characters.\n",
        "\n",
        "The content of the file is given below.\n",
        "\n",
        "`\"India is the fastest-growing economy. India is looking for more investments around the globe. The whole world is looking at India as a great market. Most of the Indians can foresee the heights that India is capable of reaching.\"`"
      ],
      "cell_type": "markdown",
      "metadata": {}
    },
    {
      "cell_type": "code",
      "execution_count": 8,
      "metadata": {},
      "outputs": [
        {
          "output_type": "stream",
          "name": "stdout",
          "text": [
            "is\nthe\nis\nfor\nthe\nThe\nis\nat\nas\na\nof\nthe\ncan\nthe\nis\nof\n"
          ]
        }
      ],
      "source": [
        "def display_words(fname):\n",
        "    f = open(fname)\n",
        "\n",
        "    data = f.read()\n",
        "    words = data.split()\n",
        "\n",
        "    for word in words:\n",
        "        if(len(word) < 4):\n",
        "            print(word)\n",
        "\n",
        "    f.close()\n",
        "\n",
        "display_words('story.txt')"
      ]
    },
    {
      "source": [
        "- Aditi has used a text editing software to type some text. After saving the article as `Words.txt`, she realised that she has wrongly typed `alphabet J` in place of `alphabet I` everywhere in the article.\n",
        "\n",
        "Your task is to write a function named as `JTOI()` such that it would display the corrected version of entire content of the file `Words.txt` with all the alphabets \"J\" to be displayed as an alphabet \"I\" on screen.\n",
        "\n",
        "**Note: Assuming that `Words.txt` contains wrongly typed J alphabet otherwise.**\n",
        "\n",
        "*Example:*\n",
        "- If Aditi has stored the following content in the file WORDS.TXT:\n",
        "\n",
        "    \"WELL, THJS JS A WORD BY JTSELF. YOU COULD STRETCH THJS TO BE A SENTENCE.\"\n",
        "\n",
        "- The function `JTOI()` should display the following content:\n",
        "\n",
        "    \"WELL, THIS IS A WORD BY ITSELF. YOU COULD STRETCH THIS TO BE A SENTENCE.\""
      ],
      "cell_type": "markdown",
      "metadata": {}
    },
    {
      "cell_type": "code",
      "execution_count": 14,
      "metadata": {},
      "outputs": [
        {
          "output_type": "stream",
          "name": "stdout",
          "text": [
            "\"WELL, THIS IS A WORD BY ITSELF. YOU COULD STRETCH THIS TO BE A SENTENCE.\""
          ]
        }
      ],
      "source": [
        "def JTOI(fname):\n",
        "    \n",
        "    file = open(fname)\n",
        "    data = file.read()\n",
        "\n",
        "    for char in data:\n",
        "        if char == 'J':\n",
        "            print(\"I\",end = '')\n",
        "        else:\n",
        "            print(char,end = '')\n",
        "\n",
        "    file.close()\n",
        "\n",
        "JTOI('words.txt')"
      ]
    }
  ]
}