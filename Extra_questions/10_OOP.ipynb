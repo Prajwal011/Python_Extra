{
  "nbformat": 4,
  "nbformat_minor": 0,
  "metadata": {
    "colab": {
      "name": "scratchpad",
      "provenance": []
    },
    "kernelspec": {
      "display_name": "Python 3",
      "name": "python3",
      "language": "python"
    }
  },
  "cells": [
    {
      "cell_type": "markdown",
      "metadata": {
        "id": "qw0NPWR6Rv5v"
      },
      "source": [
        "# OOP Practice problems and solutions\n",
        "\n"
      ]
    },
    {
      "source": [
        "- Create a Class named `BankAccount()` an it should contain attributes as `balance = 10000` and `min_balance=1000`, `withdraw()` and `deposit()` methods repectively.   "
      ],
      "cell_type": "markdown",
      "metadata": {}
    },
    {
      "cell_type": "code",
      "execution_count": 14,
      "metadata": {},
      "outputs": [],
      "source": [
        "class BankAccount():\n",
        "\n",
        "    def __init__(self, balance, min_balance):\n",
        "        self.balance = balance\n",
        "        self.min_balance = min_balance\n",
        "\n",
        "    def withdraw(self, amount):\n",
        "        if (self.balance - amount) >= self.min_balance:\n",
        "            self.balance -= amount\n",
        "            return self.balance \n",
        "        else:\n",
        "            print('Sorry, minimum balance must be maintained. \\nYour balance will become ₹ {} after withdrawl'.format(self.balance-amount))\n",
        "\n",
        "\n",
        "# Object \n",
        "new_acc = BankAccount(10000, 1000)"
      ]
    },
    {
      "cell_type": "code",
      "execution_count": 15,
      "metadata": {},
      "outputs": [
        {
          "output_type": "stream",
          "name": "stdout",
          "text": [
            "Sorry, minimum balance must be maintained. \nYour balance will become ₹ 0 after withdrawl\n"
          ]
        }
      ],
      "source": [
        "new_acc.withdraw(10000)"
      ]
    },
    {
      "source": [
        "- Create a class called `Animal()` it should have attributes `'name'` and `health` it also should contain methods called `walk(), run()` and `display_health()`. \n",
        "    - `walk()` - Should decrease the health of animal by 1.\n",
        "    - `run()`  - Should decrease the health of animal by 5.\n",
        "    - `display_health()`  - Should display current health of a animal.\n",
        "    \n",
        "  Once you've created the `Animal()` class you should inherit this class to `Dog()` and `Dragon()` classes.\n",
        "\n",
        "    - Dog class - Add a new method called `pet()` it will increase health by 5.\n",
        "    - Dragon class - Add a new method called `fly()` it will decrease health by 10. "
      ],
      "cell_type": "markdown",
      "metadata": {}
    },
    {
      "cell_type": "code",
      "execution_count": 16,
      "metadata": {},
      "outputs": [],
      "source": [
        "class Animal():\n",
        "    def __init__(self, name, health):\n",
        "        self.name = name\n",
        "        self.health = health\n",
        "\n",
        "    def walk(self):\n",
        "        self.health-=1\n",
        "\n",
        "    def run(self):\n",
        "        self.health-=5\n",
        "\n",
        "    def display_health(self):\n",
        "        print('Current health of {} is {}.'.format(self.name, self. health))\n",
        "\n",
        "Dog = Animal('Muffin', 100)"
      ]
    },
    {
      "cell_type": "code",
      "execution_count": 17,
      "metadata": {},
      "outputs": [
        {
          "output_type": "stream",
          "name": "stdout",
          "text": [
            "Current health of Muffin is 96.\n"
          ]
        }
      ],
      "source": [
        "Dog.walk()\n",
        "Dog.walk()\n",
        "Dog.walk()\n",
        "Dog.walk()\n",
        "Dog.display_health()"
      ]
    },
    {
      "cell_type": "code",
      "execution_count": 18,
      "metadata": {},
      "outputs": [],
      "source": [
        "class Dog(Animal):\n",
        "    def pet(self):\n",
        "        self.health+=5"
      ]
    },
    {
      "cell_type": "code",
      "execution_count": 19,
      "metadata": {},
      "outputs": [],
      "source": [
        "doggo = Dog('Muffin',100)"
      ]
    },
    {
      "cell_type": "code",
      "execution_count": 20,
      "metadata": {},
      "outputs": [
        {
          "output_type": "stream",
          "name": "stdout",
          "text": [
            "Current health of Muffin is 99.\n"
          ]
        }
      ],
      "source": [
        "doggo.walk()\n",
        "doggo.run()\n",
        "doggo.pet()\n",
        "doggo.display_health()"
      ]
    },
    {
      "cell_type": "code",
      "execution_count": 12,
      "metadata": {},
      "outputs": [],
      "source": [
        "class Dragon(Animal):\n",
        "    def fly(self):\n",
        "        self.health-=10\n",
        "\n",
        "draco = Dragon('Drogon', 200)"
      ]
    },
    {
      "cell_type": "code",
      "execution_count": 13,
      "metadata": {},
      "outputs": [
        {
          "output_type": "stream",
          "name": "stdout",
          "text": [
            "Current health of Drogon is 184.\n"
          ]
        }
      ],
      "source": [
        "draco.walk()\n",
        "draco.run()\n",
        "draco.fly()\n",
        "draco.display_health()"
      ]
    }
  ]
}