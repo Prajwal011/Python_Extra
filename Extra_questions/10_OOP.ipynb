{
 "cells": [
  {
   "cell_type": "markdown",
   "metadata": {
    "id": "qw0NPWR6Rv5v"
   },
   "source": [
    "# OOP Practice problems and solutions\n",
    "\n"
   ]
  },
  {
   "cell_type": "markdown",
   "metadata": {},
   "source": [
    "- Write a Python class named Circle constructed by a radius and two methods which will compute the area and the perimeter of a circle.\n",
    "\n",
    "**For Example:-**\n",
    " \n",
    "```python\n",
    "class Circle():\n",
    "    def __init__(self, r):\n",
    "        ### your code here\n",
    "    def area(self):\n",
    "        ### your code here\n",
    "    def perimeter(self):\n",
    "        ### your code here\n",
    "\n",
    "NewCircle = Circle(8)\n",
    "\n",
    "print(NewCircle.area())\n",
    ">>> 200.96\n",
    "\n",
    "print(NewCircle.perimeter())\n",
    ">>> 50.24\n",
    "```"
   ]
  },
  {
   "cell_type": "markdown",
   "metadata": {},
   "source": [
    "- Create a Class named `BankAccount()` an it should contain attributes as `balance = 10000` and `min_balance=1000`, `withdraw()` and `deposit()` methods repectively.   "
   ]
  },
  {
   "cell_type": "markdown",
   "metadata": {},
   "source": [
    "- Create a class called `Animal()` it should have attributes `'name'` and `health` it also should contain methods called `walk(), run()` and `display_health()`. \n",
    "    - `walk()` - Should decrease the health of animal by 1.\n",
    "    - `run()`  - Should decrease the health of animal by 5.\n",
    "    - `display_health()`  - Should display current health of a animal.\n",
    "    \n",
    "  Once you've created the `Animal()` class you should inherit this class to `Dog()` and `Dragon()` classes.\n",
    "\n",
    "    - Dog class - Add a new method called `pet()` it will increase health by 5.\n",
    "    - Dragon class - Add a new method called `fly()` it will decrease health by 10. "
   ]
  }
 ],
 "metadata": {
  "colab": {
   "name": "scratchpad",
   "provenance": []
  },
  "kernelspec": {
   "display_name": "Python 3",
   "language": "python",
   "name": "python3"
  },
  "language_info": {
   "codemirror_mode": {
    "name": "ipython",
    "version": 3
   },
   "file_extension": ".py",
   "mimetype": "text/x-python",
   "name": "python",
   "nbconvert_exporter": "python",
   "pygments_lexer": "ipython3",
   "version": "3.7.10"
  }
 },
 "nbformat": 4,
 "nbformat_minor": 1
}