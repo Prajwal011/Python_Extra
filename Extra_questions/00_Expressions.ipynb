{
  "nbformat": 4,
  "nbformat_minor": 0,
  "metadata": {
    "colab": {
      "name": "scratchpad",
      "provenance": []
    },
    "kernelspec": {
      "display_name": "Python 3",
      "name": "python3",
      "language": "python"
    }
  },
  "cells": [
    {
      "cell_type": "markdown",
      "metadata": {
        "id": "qw0NPWR6Rv5v"
      },
      "source": [
        "# Expressions Practice problems and solutions\n",
        "\n"
      ]
    },
    {
      "cell_type": "markdown",
      "metadata": {
        "id": "oc4E8TFcR3ja"
      },
      "source": [
        "- Try to implement compound interest formula V=P(1+r/n)^nt\n",
        "\n",
        "    - P = 1500\n",
        "    - r = 0.043\n",
        "    - n = 4\n",
        "    - t = 6"
      ]
    },
    {
      "cell_type": "code",
      "metadata": {
        "colab": {
          "base_uri": "https://localhost:8080/"
        },
        "id": "XcYizRL-SDnj",
        "outputId": "8b7fe0cb-504e-4372-8d81-7a7758c9906b"
      },
      "source": [
        "P = 1500\n",
        "r = 0.043\n",
        "n = 4\n",
        "t = 6\n",
        "\n",
        "V=(P*(1+r/n))**(n*t)\n",
        "V"
      ],
      "execution_count": 17,
      "outputs": [
        {
          "output_type": "execute_result",
          "data": {
            "text/plain": [
              "2.175906439573089e+76"
            ]
          },
          "metadata": {},
          "execution_count": 17
        }
      ]
    },
    {
      "cell_type": "markdown",
      "metadata": {
        "id": "ESd_NG2eSUZr"
      },
      "source": [
        "- Implement Simple Interest Formula\n",
        "S.I. = P × R × T\n",
        "\n",
        "    - P = 1500\n",
        "    - R = 9.5\n",
        "    - T = 20"
      ]
    },
    {
      "cell_type": "code",
      "metadata": {
        "colab": {
          "base_uri": "https://localhost:8080/"
        },
        "id": "hL1VCYZ7SYKr",
        "outputId": "a88786ac-c6ca-4577-f085-c0324f7bfa88"
      },
      "source": [
        "P = 1500\n",
        "R = 9.5\n",
        "T = 20\n",
        "\n",
        "SI = P * R * T\n",
        "SI"
      ],
      "execution_count": 19,
      "outputs": [
        {
          "output_type": "execute_result",
          "data": {
            "text/plain": [
              "285000.0"
            ]
          },
          "metadata": {},
          "execution_count": 19
        }
      ]
    }
  ]
}