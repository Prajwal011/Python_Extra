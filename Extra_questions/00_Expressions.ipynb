{
 "cells": [
  {
   "cell_type": "markdown",
   "metadata": {
    "id": "qw0NPWR6Rv5v"
   },
   "source": [
    "# Expressions Practice problems and solutions\n",
    "\n"
   ]
  },
  {
   "cell_type": "markdown",
   "metadata": {
    "id": "oc4E8TFcR3ja"
   },
   "source": [
    "- Try to implement compound interest formula V=P(1+r/n)^nt\n",
    "\n",
    "    - P = 1500\n",
    "    - r = 0.043\n",
    "    - n = 4\n",
    "    - t = 6"
   ]
  },
  {
   "cell_type": "markdown",
   "metadata": {
    "id": "ESd_NG2eSUZr"
   },
   "source": [
    "- Implement Simple Interest Formula\n",
    "S.I. = P × R × T\n",
    "\n",
    "    - P = 1500\n",
    "    - R = 9.5\n",
    "    - T = 20"
   ]
  },
  {
   "cell_type": "markdown",
   "metadata": {},
   "source": [
    "- Add parentheses to the following expression so that it evaluates to 0.\n",
    "              8 - 3 * 2 - 1 + 1"
   ]
  }
 ],
 "metadata": {
  "colab": {
   "name": "scratchpad",
   "provenance": []
  },
  "kernelspec": {
   "display_name": "Python 3",
   "language": "python",
   "name": "python3"
  },
  "language_info": {
   "codemirror_mode": {
    "name": "ipython",
    "version": 3
   },
   "file_extension": ".py",
   "mimetype": "text/x-python",
   "name": "python",
   "nbconvert_exporter": "python",
   "pygments_lexer": "ipython3",
   "version": "3.8.3"
  }
 },
 "nbformat": 4,
 "nbformat_minor": 1
}