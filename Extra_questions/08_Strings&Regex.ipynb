{
  "nbformat": 4,
  "nbformat_minor": 0,
  "metadata": {
    "colab": {
      "name": "scratchpad",
      "provenance": []
    },
    "kernelspec": {
      "display_name": "Python 3",
      "name": "python3",
      "language": "python"
    }
  },
  "cells": [
    {
      "cell_type": "markdown",
      "metadata": {
        "id": "qw0NPWR6Rv5v"
      },
      "source": [
        "# Strings and Regex Practice problems and solutions\n",
        "\n"
      ]
    },
    {
      "source": [
        "- Create a function which will take your full name as argument and returns the abbreviations of the first and middle names except the last name which is displayed as it is.\n",
        "\n",
        "**For Example:-**\n",
        " \n",
        "```python\n",
        "def create_abbreviations(fullname):\n",
        "    ### your code here\n",
        "\n",
        "name = \"Steve Paul Jobs\"\n",
        "\n",
        "create_abbreviations(name)\n",
        "\n",
        ">>> 'S.P.Jobs'\n",
        "```\n"
      ],
      "cell_type": "markdown",
      "metadata": {}
    },
    {
      "cell_type": "code",
      "execution_count": 3,
      "metadata": {},
      "outputs": [
        {
          "output_type": "execute_result",
          "data": {
            "text/plain": [
              "'P.A.Uikey'"
            ]
          },
          "metadata": {},
          "execution_count": 3
        }
      ],
      "source": [
        "def create_abbreviations(full_name):\n",
        "\n",
        "    name_parts = full_name.split()\n",
        "\n",
        "    return name_parts[0][0] + '.' + name_parts[1][0] + '.' +name_parts[2]\n",
        "\n",
        "name = input('Type your name in this fashion Steve Paul Jobs')\n",
        "\n",
        "create_abbreviations(name)"
      ]
    },
    {
      "source": [
        "- Create a function which will find all of the words in a string that are less than 5 letters. \n",
        "\n",
        "`string1 = \"Practice Problems to Drill List Comprehension in Your Head.\"`\n",
        "\n",
        "**For Example:-**\n",
        " \n",
        "```python\n",
        "def len_less_5(sentence):\n",
        "    ### your code here\n",
        "\n",
        "string1 = \"Practice Problems to Drill List Comprehension in Your Head.\"\n",
        "\n",
        "len_less_5(string1)\n",
        "\n",
        ">>> ['to', 'List', 'in', 'Your']\n",
        "```"
      ],
      "cell_type": "markdown",
      "metadata": {}
    },
    {
      "cell_type": "code",
      "execution_count": 5,
      "metadata": {},
      "outputs": [
        {
          "output_type": "execute_result",
          "data": {
            "text/plain": [
              "['to', 'List', 'in', 'Your']"
            ]
          },
          "metadata": {},
          "execution_count": 5
        }
      ],
      "source": [
        "def len_less_5(sentence):\n",
        "    less_5 = [word for word in sentence.split(' ') if len(word)<5]\n",
        "    return less_5\n",
        "\n",
        "string1 = \"Practice Problems to Drill List Comprehension in Your Head.\"\n",
        "len_less_5(string1)"
      ]
    },
    {
      "source": [
        "- Using function apply dictionary comprehension to count the length of each word in a sentence which will be provided as an argument to the function (Use previous string `string1`).\n",
        "\n",
        "**For Example:-**\n",
        " \n",
        "```python\n",
        "def word_len(sentence):\n",
        "    ### your code here\n",
        "\n",
        "string1 = \"Practice Problems to Drill List Comprehension in Your Head.\"\n",
        "\n",
        "word_len(string1)\n",
        "\n",
        ">>> ['to', 'List', 'in', 'Your']"
      ],
      "cell_type": "markdown",
      "metadata": {}
    },
    {
      "cell_type": "code",
      "execution_count": 6,
      "metadata": {},
      "outputs": [
        {
          "output_type": "execute_result",
          "data": {
            "text/plain": [
              "{'Practice': 8,\n",
              " 'Problems': 8,\n",
              " 'to': 2,\n",
              " 'Drill': 5,\n",
              " 'List': 4,\n",
              " 'Comprehension': 13,\n",
              " 'in': 2,\n",
              " 'Your': 4,\n",
              " 'Head.': 5}"
            ]
          },
          "metadata": {},
          "execution_count": 6
        }
      ],
      "source": [
        "def word_len(sentence):\n",
        "\n",
        "    each_word = {word : len(word) for word in string1.split() }\n",
        "    return each_word\n",
        "\n",
        "string1 = \"Practice Problems to Drill List Comprehension in Your Head.\"\n",
        "word_len(string1)"
      ]
    },
    {
      "source": [
        "- Write a Python function that accepts a string and calculates the number of upper case letters and lower case letters.\n",
        "\n",
        "Sample String : 'Hello Mr. Rogers, how are you this fine Tuesday?'\n",
        "\n",
        "Expected Output :\n",
        "\n",
        "  No. of Upper case characters : 4\n",
        "  No. of Lower case Characters : 33"
      ],
      "cell_type": "markdown",
      "metadata": {}
    },
    {
      "cell_type": "code",
      "execution_count": 3,
      "metadata": {},
      "outputs": [],
      "source": [
        "def up_low(s):\n",
        "    d={\"upper\":0, \"lower\":0}\n",
        "    for c in s:\n",
        "        if c.isupper():\n",
        "            d[\"upper\"]+=1\n",
        "        elif c.islower():\n",
        "            d[\"lower\"]+=1\n",
        "        else:\n",
        "            pass\n",
        "    print(\"Original String : \", s)\n",
        "    print(\"No. of Upper case characters : \", d[\"upper\"])\n",
        "    print(\"No. of Lower case Characters : \", d[\"lower\"])"
      ]
    },
    {
      "cell_type": "code",
      "execution_count": 4,
      "metadata": {},
      "outputs": [
        {
          "output_type": "stream",
          "name": "stdout",
          "text": [
            "Original String :  Hello Mr. Rogers, how are you this fine Tuesday?\nNo. of Upper case characters :  4\nNo. of Lower case Characters :  33\n"
          ]
        }
      ],
      "source": [
        "s = 'Hello Mr. Rogers, how are you this fine Tuesday?'\n",
        "up_low(s)"
      ]
    },
    {
      "source": [
        "- Create a function which will return a list containing the suffix of the url given in the tuple like [`com` , `org`, `net` , `in`] from this tuple `tuple1 =  (\"www.abcd.com\", \"www.a.bcd.org\", \"www.ab.cd.net\", \"www.abc.d.in\")`.\n",
        "\n",
        "**For Example:-**\n",
        " \n",
        "```python\n",
        "def fetch_suffix(t):\n",
        "    ### your code here\n",
        "\n",
        "tuple1 = (\"www.abcd.com\", \"www.a.bcd.org\", \"www.ab.cd.net\", \"www.abc.d.in\")\n",
        "fetch_suffix(tuple)\n",
        "\n",
        ">>> ['to', 'List', 'in', 'Your']\n"
      ],
      "cell_type": "markdown",
      "metadata": {}
    },
    {
      "cell_type": "code",
      "execution_count": 18,
      "metadata": {},
      "outputs": [
        {
          "output_type": "execute_result",
          "data": {
            "text/plain": [
              "['com', 'org', 'net', 'in']"
            ]
          },
          "metadata": {},
          "execution_count": 18
        }
      ],
      "source": [
        "tuple1 = (\"www.zframez.com\",\"www.wikipedia.org\",\"www.asp.net\",\"www.abcd.in\")\n",
        "\n",
        "def fetch_suffix(t):\n",
        "    output = [i.split('.')[-1] for i in t]\n",
        "    return output\n",
        "\n",
        "fetch_suffix(tuple1)"
      ]
    },
    {
      "source": [
        "- Create a  function which will take two arguments. First one will be a sentence and seond argument will be a regular expression. You have to pass a Regular Expression such that it matches the string that has an **a** followed by one or more **b**'s. The function should return `True` if it matches the a followd by b in the string else should return `False`.\n",
        "\n",
        "**For Example:-**\n",
        " \n",
        "```python\n",
        "def regex_match(sentence, reg_expression):\n",
        "    ### your code here\n",
        "\n",
        "text1 = 'The rarest blood group is ab -ve.'\n",
        "text2 = 'The quick brown fox jumps over the lazy dog.'\n",
        "pattern = # your regular expression here\n",
        "\n",
        "regex_match(text1, pattern)\n",
        "\n",
        ">>> True\n",
        "\n",
        "regex_match(text2, pattern)\n",
        "\n",
        ">>> False\n"
      ],
      "cell_type": "markdown",
      "metadata": {}
    },
    {
      "cell_type": "code",
      "execution_count": 23,
      "metadata": {},
      "outputs": [
        {
          "output_type": "execute_result",
          "data": {
            "text/plain": [
              "True"
            ]
          },
          "metadata": {},
          "execution_count": 23
        }
      ],
      "source": [
        "import re\n",
        "\n",
        "def regex_match(sentence, reg_expression):\n",
        "    regex = re.compile(reg_expression)\n",
        "\n",
        "    if regex.search(sentence):\n",
        "        return True\n",
        "\n",
        "    else:\n",
        "        return False\n",
        "\n",
        "\n",
        "text1 = 'The rarest blood group is ab -ve.'\n",
        "text2 = 'The quick brown fox jumps over the lazy dog.'\n",
        "\n",
        "pattern = r'ab+?'\n",
        "regex_match(text1, pattern)\n"
      ]
    },
    {
      "source": [
        "- Create a function which will take two arguments as above question. First argument will be a `url` instead of a sentence and second will be regular expression. you have to  create a regular expression to extract year, month and date from the url.\n",
        "\n",
        "**For Example:-**\n",
        " \n",
        "```python\n",
        "def fetch_date(url, reg_expression):\n",
        "    ### your code here\n",
        "link = 'https://www.washingtonpost.com/technology/2021/08/31/tips-phone-disasters/'\n",
        "pattern = # your regular expression here \n",
        "\n",
        "fetch_date(link, pattern)\n",
        "\n",
        ">>> [('2021', '08', '31')]"
      ],
      "cell_type": "markdown",
      "metadata": {}
    },
    {
      "cell_type": "code",
      "execution_count": 27,
      "metadata": {},
      "outputs": [
        {
          "output_type": "execute_result",
          "data": {
            "text/plain": [
              "[('2021', '08', '31')]"
            ]
          },
          "metadata": {},
          "execution_count": 27
        }
      ],
      "source": [
        "def fetch_date(url, reg_expression):\n",
        "    regex = re.compile(reg_expression)\n",
        "    return regex.findall(url)\n",
        "\n",
        "link = 'https://www.washingtonpost.com/technology/2021/08/31/tips-phone-disasters/'\n",
        "pattern = r'/(\\d{4})/(\\d{1,2})/(\\d{1,2})'\n",
        "\n",
        "fetch_date(link, pattern)"
      ]
    }
  ]
}