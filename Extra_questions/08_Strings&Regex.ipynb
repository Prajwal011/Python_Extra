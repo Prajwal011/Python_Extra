{
  "nbformat": 4,
  "nbformat_minor": 0,
  "metadata": {
    "colab": {
      "name": "scratchpad",
      "provenance": []
    },
    "kernelspec": {
      "display_name": "Python 3",
      "name": "python3",
      "language": "python"
    }
  },
  "cells": [
    {
      "cell_type": "markdown",
      "metadata": {
        "id": "qw0NPWR6Rv5v"
      },
      "source": [
        "# Strings and Regex Practice problems and solutions\n",
        "\n"
      ]
    },
    {
      "source": [
        "- Write a Python function that checks whether a word or phrase is palindrome or not.\n",
        "\n",
        "**Note:- ** A palindrome is word or sequence that reads the same backward as forward, e.g., madam, kayak, racecar, etc. \n",
        "\n",
        "**Hint:- ** You may want to check out on google search how to reverse a string in Python, there are some clever ways to do it with slicing notation."
      ],
      "cell_type": "markdown",
      "metadata": {}
    },
    {
      "source": [
        "- Create a function which will take your full name as argument and returns the abbreviations of the first and middle names except the last name which is displayed as it is.\n",
        "\n",
        "**For Example:-**\n",
        " \n",
        "```python\n",
        "def create_abbreviations(fullname):\n",
        "    ### your code here\n",
        "\n",
        "name = \"Steve Paul Jobs\"\n",
        "\n",
        "create_abbreviations(name)\n",
        "\n",
        ">>> 'S.P.Jobs'\n",
        "```"
      ],
      "cell_type": "markdown",
      "metadata": {}
    },
    {
      "source": [
        "Method 2(Regex)"
      ],
      "cell_type": "markdown",
      "metadata": {}
    },
    {
      "source": [
        "- Create a function which will find all of the words in a string that are less than 5 letters. \n",
        "\n",
        "`string1 = \"Practice Problems to Drill List Comprehension in Your Head.\"`\n",
        "\n",
        "**For Example:-**\n",
        " \n",
        "```python\n",
        "def len_less_5(sentence):\n",
        "    ### your code here\n",
        "\n",
        "string1 = \"Practice Problems to Drill List Comprehension in Your Head.\"\n",
        "\n",
        "len_less_5(string1)\n",
        "\n",
        ">>> ['to', 'List', 'in', 'Your']\n",
        "```"
      ],
      "cell_type": "markdown",
      "metadata": {}
    },
    {
      "source": [
        "- Using function apply dictionary comprehension to count the length of each word in a sentence which will be provided as an argument to the function (Use previous string `string1`).\n",
        "\n",
        "**For Example:-**\n",
        " \n",
        "```python\n",
        "def word_len(sentence):\n",
        "    ### your code here\n",
        "\n",
        "string1 = \"Practice Problems to Drill Dictionary Comprehension in Your Head.\"\n",
        "\n",
        "word_len(string1)\n",
        "\n",
        ">>> {'Practice': 8,\n'Problems': 8,\n'to': 2,\nDrill: 5,\nDictionary: 10,\n'Comprehension': 13,\n'in': 2,\n'Your': 4,\n'Head': 4,\n'.':1}\n",
        "```"
      ],
      "cell_type": "markdown",
      "metadata": {}
    },
    {
      "source": [
        "- Write a Python function that accepts a string and calculates the number of upper case letters and lower case letters.\n",
        "\n",
        "**For Example:-**\n",
        " \n",
        "```python\n",
        "def up_low(s)(sentence):\n",
        "    ### your code here\n",
        "\n",
        "string2 = 'Hello Mr. Rogers, how are you this fine Tuesday?'\n",
        "\n",
        "up_low(s)(string2)\n",
        "\n",
        ">>> No. of Upper case characters : 4\n",
        "    No. of Lower case Characters : 33\n",
        "\n",
        "```"
      ],
      "cell_type": "markdown",
      "metadata": {}
    },
    {
      "source": [
        "- Create a function which will return a list containing the suffix of the url given in the tuple like [`com` , `org`, `net` , `in`] from this tuple `tuple1 =  (\"www.abcd.com\", \"www.a.bcd.org\", \"www.ab.cd.net\", \"www.abc.d.in\")`.\n",
        "\n",
        "**For Example:-**\n",
        " \n",
        "```python\n",
        "def fetch_suffix(t):\n",
        "    ### your code here\n",
        "\n",
        "tuple1 = (\"www.abcd.com\", \"www.a.bcd.org\", \"www.ab.cd.net\", \"www.abc.d.in\")\n",
        "fetch_suffix(tuple)\n",
        "\n",
        ">>> ['to', 'List', 'in', 'Your']\n",
        "```"
      ],
      "cell_type": "markdown",
      "metadata": {}
    },
    {
      "source": [
        "- Create a  function which will take two arguments. First one will be a sentence and seond argument will be a regular expression. You have to pass a Regular Expression such that it matches the string that has an **a** followed by one or more **b**'s. The function should return `True` if it matches the a followd by b in the string else should return `False`.\n",
        "\n",
        "**For Example:-**\n",
        " \n",
        "```python\n",
        "def regex_match(sentence, reg_expression):\n",
        "    ### your code here\n",
        "\n",
        "text1 = 'The rarest blood group is ab -ve.'\n",
        "text2 = 'The quick brown fox jumps over the lazy dog.'\n",
        "pattern = # your regular expression here\n",
        "\n",
        "regex_match(text1, pattern)\n",
        "\n",
        ">>> True\n",
        "\n",
        "regex_match(text2, pattern)\n",
        "\n",
        ">>> False\n",
        "```"
      ],
      "cell_type": "markdown",
      "metadata": {}
    },
    {
      "source": [
        "- Create a function which will take two arguments as above question. First argument will be a `url` instead of a sentence and second will be regular expression. you have to  create a regular expression to extract year, month and date from the url.\n",
        "\n",
        "**For Example:-**\n",
        " \n",
        "```python\n",
        "def fetch_date(url, reg_expression):\n",
        "    ### your code here\n",
        "link = 'https://www.washingtonpost.com/technology/2021/08/31/tips-phone-disasters/'\n",
        "pattern = # your regular expression here \n",
        "\n",
        "fetch_date(link, pattern)\n",
        "\n",
        ">>> [('2021', '08', '31')]\n",
        "```"
      ],
      "cell_type": "markdown",
      "metadata": {}
    }
  ]
}
