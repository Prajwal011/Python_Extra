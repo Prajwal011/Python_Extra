{
 "cells": [
  {
   "cell_type": "markdown",
   "metadata": {
    "id": "qw0NPWR6Rv5v"
   },
   "source": [
    "# <center>Strings and Regex Practice Questions</center>"
   ]
  },
  {
   "cell_type": "markdown",
   "metadata": {},
   "source": [
    "### <center>Difficulty Level : Easy</center>"
   ]
  },
  {
   "cell_type": "markdown",
   "metadata": {},
   "source": [
    "- Create a  function that checks whether a word or phrase is palindrome or not.\n",
    "\n",
    "    **Palindrome Definition :** It is a word or sequence that when read from right-to-left or left-to-right mean the same word.\n",
    "               Example: madam, kayak, racecar, etc.\n",
    "    **Note :** Try solving this using **String Slicing** and **String Concatenation**\n",
    "    \n",
    "    **Example :**\n",
    "\n",
    "```python\n",
    "def palindrome(string):\n",
    "    ### your code here\n",
    "    \n",
    "palindrome('madam')\n",
    ">>> 'Palindrome!'\n",
    "\n",
    "palindrome('aiadventures')\n",
    ">>> 'Not Palindrome!'\n",
    "```"
   ]
  },
  {
   "cell_type": "markdown",
   "metadata": {},
   "source": [
    "- Create a function that splits the string and stores the word and length of the word in a dictionary using dictionary comprehension.\n",
    "\n",
    "    **Note :** Use **String** method as well as **Regex** method.\n",
    "\n",
    "    **Example :**\n",
    " \n",
    "```python\n",
    "def len_words(string):\n",
    "    ### your code here\n",
    "\n",
    "string1 = \"Practice Problems to Drill List Comprehension in Your Head.\"\n",
    "len_words(string1)\n",
    "\n",
    ">>> {'Practice': 8, 'Problems': 8, 'to': 2, 'Drill': 5, 'List': 4, 'Comprehension': 13, 'in': 2, 'Your': 4, 'Head.': 5}\n",
    "```"
   ]
  },
  {
   "cell_type": "markdown",
   "metadata": {},
   "source": [
    "- Create a function that partitions the string on **Python** and changes all the uppercase elements to lowercase and vice versa for the 1st part of the partition and capitalizes the words of the 2nd part of the partition.\n",
    "\n",
    "    **Note :** Use **String** method.\n",
    "\n",
    "    **Example :**\n",
    " \n",
    "```python\n",
    "def sentence_partition(string):\n",
    "    ### your code here\n",
    "\n",
    "string1 = \"Students put efforts in learning Python for a successful future in emerging technologies!\"\n",
    "len_words(string1)\n",
    "\n",
    ">>> 'sTUDENTS PUT EFFORTS IN LEARNING Python For A Successful Future In Emerging Technologies!'\n",
    "```"
   ]
  },
  {
   "cell_type": "markdown",
   "metadata": {},
   "source": [
    "- Create a function that takes your full name as argument and returns the abbreviations of the first and middle names except the last name which is displayed as it is.\n",
    "\n",
    "    **Note :** Use **String** method as well as **Regex** method.\n",
    "\n",
    "    **Example :**\n",
    " \n",
    "```python\n",
    "def create_abbreviations(fullname):\n",
    "    ### your code here\n",
    "\n",
    "name = input('Enter your full name : ')\n",
    "create_abbreviations(name)\n",
    "\n",
    ">>> \n",
    "Enter your full name : Steve Paul Jobs\n",
    "'S.P.Jobs'\n",
    "```"
   ]
  },
  {
   "cell_type": "markdown",
   "metadata": {},
   "source": [
    "### <center>Difficulty Level : Medium</center>"
   ]
  },
  {
   "cell_type": "markdown",
   "metadata": {},
   "source": [
    "- Create a function that displays a dictionary that extracts a pattern of a vowel being followed by any number of consonants from a string. The value of the dictionary is the length of the substring extracted and the key is a symmetric combination of the substring alongwith its length. The length of the key should be double the length of the substring and it should contain the substring alongwith its length being added to the left of the substring if the length is less than equal to 3 else it is added to the right.\n",
    "\n",
    "    **Note :** Use **Regex** method and try using dictionary comprehension.\n",
    "\n",
    "    **Example :**\n",
    " \n",
    "```python\n",
    "def pattern_finding(string):\n",
    "    ### your code here\n",
    "\n",
    "string1 = 'ABCDEFGHAWQETEAINDVOPLZABMNPUI'\n",
    "pattern_finding(string1)\n",
    "\n",
    ">>> {'4444ABCD': 4, '4444EFGH': 4, 'AWQ333': 3, 'ET22': 2, '4444INDV': 4, '4444OPLZ': 4, '55555ABMNP': 5}\n",
    "```"
   ]
  },
  {
   "cell_type": "markdown",
   "metadata": {},
   "source": [
    "- Create a function that replaces all the lowercase words with their uppercase versions and center the entire string in 100 spaces if the word starts with a lowercase letter or ends with an exclamation mark.\n",
    "\n",
    "    **Note :** Use **String** method as well as **Regex** method for splitting and replacing string values.\n",
    "    \n",
    "    **Note :** There is no mistake in the output of **string1** for words : **Always** to **AlwAys** ; **upgradation** to **upgrAdAtion**. Debug what might have caused.\n",
    "\n",
    "    **Example :**\n",
    " \n",
    "```python\n",
    "def string_modification(string):\n",
    "    ### your code here\n",
    "\n",
    "string1 = \"learning data science is too much fun! Always in a process of upgradation.\"\n",
    "string_modification(string1)\n",
    "\n",
    ">>> '            LEARNING DATA SCIENCE IS TOO MUCH FUN! AlwAys IN A PROCESS OF upgrAdAtion.             \n",
    "'\n",
    "\n",
    "string2 = \"Artificial Intelligence, BlockChain, Cybersecurity and Networking are going to mould the future!\"\n",
    "string_modification(string2)\n",
    "\n",
    ">>> '  Artificial Intelligence, BlockChain, Cybersecurity AND Networking ARE GOING TO MOULD THE FUTURE!  '\n",
    "```"
   ]
  },
  {
   "cell_type": "markdown",
   "metadata": {},
   "source": [
    "### <center>Difficulty Level : Hard</center>"
   ]
  },
  {
   "cell_type": "markdown",
   "metadata": {},
   "source": [
    "- Create a function that decodes a message encoded in Morse Code, displays the decoded message and the number of vowels and consonants present.\n",
    "\n",
    "    **Note :** Use **String** methods. Sharing a dictionary to help decode the message.\n",
    "    \n",
    "    **Note :** Google about Morse Code for more information.\n",
    "    \n",
    "    **Note :** **'/'** in the message specifies the space between words. ' ' between codes specifies the individual letters. \n",
    "    \n",
    "    **Example :**\n",
    " \n",
    "```python\n",
    "def decode_count(message):\n",
    "    ### your code here\n",
    "\n",
    "    \n",
    "morse_code_dict = { 'A':'.-', 'B':'-...',\n",
    "                    'C':'-.-.', 'D':'-..', 'E':'.',\n",
    "                    'F':'..-.', 'G':'--.', 'H':'....',\n",
    "                    'I':'..', 'J':'.---', 'K':'-.-',\n",
    "                    'L':'.-..', 'M':'--', 'N':'-.',\n",
    "                    'O':'---', 'P':'.--.', 'Q':'--.-',\n",
    "                    'R':'.-.', 'S':'...', 'T':'-',\n",
    "                    'U':'..-', 'V':'...-', 'W':'.--',\n",
    "                    'X':'-..-', 'Y':'-.--', 'Z':'--..',\n",
    "                    '1':'.----', '2':'..---', '3':'...--',\n",
    "                    '4':'....-', '5':'.....', '6':'-....',\n",
    "                    '7':'--...', '8':'---..', '9':'----.',\n",
    "                    '0':'-----', ', ':'--..--', '.':'.-.-.-',\n",
    "                    '?':'..--..', '!':'-.-.--','/':'-..-.', \n",
    "                    '-':'-....-','(':'-.--.', ')':'-.--.-',}\n",
    "\n",
    "message = '-.-. --- -. ... .. ... - . -. -.-. -.-- / .. ... / -.- . -.-- -.-.--'\n",
    "decode_count(message)\n",
    "    \n",
    ">>> \n",
    "Decoded Message :  CONSISTENCY IS KEY! \n",
    "Number of Vowels :  5\n",
    "Number of Consonants :  15\n",
    "```"
   ]
  },
  {
   "cell_type": "markdown",
   "metadata": {},
   "source": [
    "- Create a function that extracts information like **date**, **name of the news article**, **URL extension**, **category of news**, and **headline** from the list of the links provided and display in a tabular format. To display elements in a tabular format, the string elements and the column names are centered on the length of the longest element present inside that column.\n",
    "\n",
    "    **Note :** Use combination of **String** and **Regex** method. The links provided below are modified and thus not original links. Hence, observe the links for pattterns to extract information.\n",
    "    \n",
    "     **Note :** Make sure to decide on the number of variables required for this problem. Google to find out the length of the longest element inside the column.\n",
    "    \n",
    "    **Example :**\n",
    " \n",
    "```python\n",
    "def extract_info(links):\n",
    "    ### your code here\n",
    "    \n",
    "links = ['https://www.washingtonpost.com/TECHNOLOGY/2021/08/31/tips-phone-disasters/',\n",
    "'https://www.nytimes.com/2019/12/30/TELEVISION/indian-tv-amazon-netflix/',\n",
    "'https://www.thestar.net/TERRORISM/2019/06/15/maoist-rebels-kill-5-policemen-in-eastern-india/',\n",
    "'https://www.weforum.org/HEALTH/2022/01/10/covid19-top-stories-omicron-coronavirus/',\n",
    "'https://www.livemint.in/2022/04/22/SPORTS/neeraj-chopra-wins-gold-in-javelin-throw-at-tokyo-olympics/']\n",
    "extract_info(links)\n",
    "\n",
    ">>>\n",
    "   Date     News Article  Ext  Category                           Headline                         \n",
    "2021/08/31 washingtonpost com TECHNOLOGY                    tips-phone-disasters                   \n",
    "2019/12/30    nytimes     com TELEVISION                  indian-tv-amazon-netflix                 \n",
    "2019/06/15    thestar     net TERRORISM       maoist-rebels-kill-5-policemen-in-eastern-india      \n",
    "2022/01/10    weforum     org   HEALTH            covid19-top-stories-omicron-coronavirus          \n",
    "2022/04/22    livemint     in   SPORTS   neeraj-chopra-wins-gold-in-javelin-throw-at-tokyo-olympics\n",
    "```"
   ]
  },
  {
   "cell_type": "markdown",
   "metadata": {},
   "source": [
    "# <center>Happy Learning!</center>"
   ]
  }
 ],
 "metadata": {
  "colab": {
   "name": "scratchpad",
   "provenance": []
  },
  "kernelspec": {
   "display_name": "Python 3",
   "language": "python",
   "name": "python3"
  },
  "language_info": {
   "codemirror_mode": {
    "name": "ipython",
    "version": 3
   },
   "file_extension": ".py",
   "mimetype": "text/x-python",
   "name": "python",
   "nbconvert_exporter": "python",
   "pygments_lexer": "ipython3",
   "version": "3.7.6"
  }
 },
 "nbformat": 4,
 "nbformat_minor": 1
}
