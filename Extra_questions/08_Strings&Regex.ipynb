{
  "nbformat": 4,
  "nbformat_minor": 0,
  "metadata": {
    "colab": {
      "name": "scratchpad",
      "provenance": []
    },
    "kernelspec": {
      "display_name": "Python 3",
      "name": "python3",
      "language": "python"
    }
  },
  "cells": [
    {
      "cell_type": "markdown",
      "metadata": {
        "id": "qw0NPWR6Rv5v"
      },
      "source": [
        "# Strings and Regex Practice problems and solutions\n",
        "\n"
      ]
    },
    {
      "source": [
        "- Write a program that takes your full name as input and displays the abbreviations of the first and middle names except the last name which is displayed as it is. For example, if your name is Steve Paul Jobs, then the output should be S.P.Jobs."
      ],
      "cell_type": "markdown",
      "metadata": {}
    },
    {
      "cell_type": "code",
      "execution_count": 4,
      "metadata": {},
      "outputs": [
        {
          "output_type": "stream",
          "name": "stdout",
          "text": [
            "S.P.Jobs\n"
          ]
        }
      ],
      "source": [
        "full_name = input ()\n",
        "name_parts = full_name.split()\n",
        "\n",
        "print(name_parts[0][0] + '.' + name_parts[1][0] + '.' +name_parts[2])"
      ]
    },
    {
      "source": [
        "- Write a program to make a new string with all the consonents deleted from the string `string1 =  \"hello, have a good day\"`."
      ],
      "cell_type": "markdown",
      "metadata": {}
    },
    {
      "cell_type": "code",
      "execution_count": 5,
      "metadata": {},
      "outputs": [
        {
          "output_type": "execute_result",
          "data": {
            "text/plain": [
              "'hll, hv  gd dy'"
            ]
          },
          "metadata": {},
          "execution_count": 5
        }
      ],
      "source": [
        "string1 = 'hello, have a good day'\n",
        "vowels  = ['a','e','i','o','u']\n",
        "string2 = ''\n",
        "\n",
        "for letter in string1:\n",
        "    if letter not in vowels:\n",
        "        string2 += letter\n",
        "\n",
        "string2"
      ]
    },
    {
      "source": [
        "- Print website suffixes (com , org , net ,in) from this tuple `tuple1 =  (\"www.zframez.com\", \"www.wikipedia.org\", \"www.asp.net\", \"www.abcd.in\")`.\n"
      ],
      "cell_type": "markdown",
      "metadata": {}
    },
    {
      "cell_type": "code",
      "execution_count": 1,
      "metadata": {},
      "outputs": [
        {
          "output_type": "stream",
          "name": "stdout",
          "text": [
            "com\norg\nnet\nin\n"
          ]
        }
      ],
      "source": [
        "tuple1 = (\"www.zframez.com\",\"www.wikipedia.org\",\"www.asp.net\",\"www.abcd.in\")\n",
        "\n",
        "\n",
        "for i in tuple1:\n",
        "    print(i.split('.')[-1])"
      ]
    },
    {
      "source": [
        "- Write a Regular Expression that matches a string that has an a followed by one or more b's"
      ],
      "cell_type": "markdown",
      "metadata": {}
    },
    {
      "cell_type": "code",
      "execution_count": 9,
      "metadata": {},
      "outputs": [
        {
          "output_type": "stream",
          "name": "stdout",
          "text": [
            "Found a Match.\n"
          ]
        }
      ],
      "source": [
        "import re\n",
        "\n",
        "text1 = 'The rarest blood group is ab -ve.'\n",
        "text2 = 'The quick brown fox jumps over the lazy dog.'\n",
        "\n",
        "pattern = r'ab+?'\n",
        "regex = re.compile(pattern)\n",
        "\n",
        "if regex.search(text1):\n",
        "    print('Found a Match.')\n",
        "\n",
        "else:\n",
        "    print('Not Matched.')\n"
      ]
    },
    {
      "source": [
        "- Write a regular expression to extract year, month and date from a an url.\n",
        "\n",
        "`url = 'https://www.washingtonpost.com/technology/2021/08/31/tips-phone-disasters/'`"
      ],
      "cell_type": "markdown",
      "metadata": {}
    },
    {
      "cell_type": "code",
      "execution_count": 10,
      "metadata": {},
      "outputs": [
        {
          "output_type": "execute_result",
          "data": {
            "text/plain": [
              "[('2021', '08', '31')]"
            ]
          },
          "metadata": {},
          "execution_count": 10
        }
      ],
      "source": [
        "url = 'https://www.washingtonpost.com/technology/2021/08/31/tips-phone-disasters/'\n",
        "\n",
        "pattern = r'/(\\d{4})/(\\d{1,2})/(\\d{1,2})'\n",
        "\n",
        "regex = re.compile(pattern)\n",
        "regex.findall(url)"
      ]
    }
  ]
}