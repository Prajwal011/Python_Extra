{
  "nbformat": 4,
  "nbformat_minor": 0,
  "metadata": {
    "colab": {
      "name": "scratchpad",
      "provenance": []
    },
    "kernelspec": {
      "display_name": "Python 3",
      "name": "python3",
      "language": "python"
    }
  },
  "cells": [
    {
      "cell_type": "markdown",
      "metadata": {
        "id": "qw0NPWR6Rv5v"
      },
      "source": [
        "# Strings and Regex Practice problems and solutions\n",
        "\n"
      ]
    },
    {
      "source": [
        "- Write a program that takes your full name as input and displays the abbreviations of the first and middle names except the last name which is displayed as it is. For example, if your name is Steve Paul Jobs, then the output should be S.P.Jobs."
      ],
      "cell_type": "markdown",
      "metadata": {}
    },
    {
      "cell_type": "code",
      "execution_count": 9,
      "metadata": {},
      "outputs": [
        {
          "output_type": "execute_result",
          "data": {
            "text/plain": [
              "'S.P.Jobs'"
            ]
          },
          "metadata": {},
          "execution_count": 9
        }
      ],
      "source": [
        "full_name = input()\n",
        "\n",
        "name_split = full_name.split()\n",
        "\n",
        "name_split[0][0] +'.'+name_split[1][0]+'.'+name_split[2]"
      ]
    },
    {
      "source": [
        "- Create a new string with all the consonents deleted from the string `string1 = \"hello, have a good day\"`."
      ],
      "cell_type": "markdown",
      "metadata": {}
    },
    {
      "source": [
        "string1 = \"hello, have a good day\"\n",
        "vowels = ['a','e','i','o','u']\n",
        "\n",
        "string2 = ''\n",
        "\n",
        "for i in string1:\n",
        "    if i not in vowels:\n",
        "        string2 += i\n",
        "print(string2)  "
      ],
      "cell_type": "code",
      "metadata": {},
      "execution_count": 21,
      "outputs": [
        {
          "output_type": "stream",
          "name": "stdout",
          "text": [
            "hll, hv  gd dy\n"
          ]
        }
      ]
    },
    {
      "source": [
        "- Write a regular expression that matches a string that has an a followed by one or more b's"
      ],
      "cell_type": "markdown",
      "metadata": {}
    },
    {
      "cell_type": "code",
      "execution_count": 32,
      "metadata": {},
      "outputs": [
        {
          "output_type": "stream",
          "name": "stdout",
          "text": [
            "Match Found.\n"
          ]
        }
      ],
      "source": [
        "import re\n",
        "\n",
        "text1 = 'The rarest blood group is ab negative.'\n",
        "text2 = 'The quick brown fox jumps over the lazy dog.'\n",
        "\n",
        "pattern = r'ab+?'\n",
        "regex = re.compile(pattern)\n",
        "\n",
        "if regex.search(text):\n",
        "    print('Match Found.')\n",
        "\n",
        "else:\n",
        "    print('Match Not Found.')"
      ]
    },
    {
      "source": [
        "- Write a regular expression to extract year, month and date from a an url.\n",
        "\n",
        "`url = 'https://www.washingtonpost.com/technology/2021/08/31/tips-phone-disasters/'`"
      ],
      "cell_type": "markdown",
      "metadata": {}
    },
    {
      "cell_type": "code",
      "execution_count": 33,
      "metadata": {},
      "outputs": [
        {
          "output_type": "execute_result",
          "data": {
            "text/plain": [
              "[('2021', '0', '8')]"
            ]
          },
          "metadata": {},
          "execution_count": 33
        }
      ],
      "source": [
        "url = 'https://www.washingtonpost.com/technology/2021/08/31/tips-phone-disasters/'\n",
        "\n",
        "pattern = r'/(\\d{4})/(\\d{1,2})(\\d{1,2})'\n",
        "regex = re.compile(pattern)\n",
        "\n",
        "regex.findall(url)"
      ]
    },
    {
      "cell_type": "code",
      "execution_count": null,
      "metadata": {},
      "outputs": [],
      "source": []
    }
  ]
}