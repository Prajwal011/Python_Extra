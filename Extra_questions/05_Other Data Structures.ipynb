{
 "cells": [
  {
   "cell_type": "markdown",
   "metadata": {
    "id": "qw0NPWR6Rv5v"
   },
   "source": [
    "# Other Data Structures Practice problems and solutions\n",
    "\n"
   ]
  },
  {
   "cell_type": "markdown",
   "metadata": {},
   "source": [
    "- Create a function which will take one argument as list of countries and print the number of vowels in the name of each country.\n",
    "\n",
    "**For Example:-**\n",
    " \n",
    "```python\n",
    "def count_vowels(countries):\n",
    "    ### your code here\n",
    "\n",
    "asian_countries = ('afghanistan', 'bangladesh', 'bhutan', 'china', 'india', 'iran', 'iraq', 'israel','japan')\n",
    "count_vowels(asian_countries)\n",
    "\n",
    ">>> afghanistan has 4 vowels.\n",
    "    bangladesh has 3 vowels.\n",
    "    bhutan has 2 vowels.\n",
    "    china has 2 vowels.\n",
    "    india has 3 vowels.\n",
    "    iran has 2 vowels.\n",
    "    iraq has 2 vowels.\n",
    "    israel has 3 vowels.\n",
    "    japan has 2 vowels.\n",
    "```\n"
   ]
  },
  {
   "cell_type": "code",
   "execution_count": 28,
   "metadata": {},
   "outputs": [
    {
     "name": "stdout",
     "output_type": "stream",
     "text": [
      "afghanistan has 4 vowels.\n",
      "bangladesh has 3 vowels.\n",
      "bhutan has 2 vowels.\n",
      "china has 2 vowels.\n",
      "india has 3 vowels.\n",
      "iran has 2 vowels.\n",
      "iraq has 2 vowels.\n",
      "israel has 3 vowels.\n",
      "japan has 2 vowels.\n"
     ]
    }
   ],
   "source": [
    "def count_vowels(countries):\n",
    "    vowels = ('a','e','i','o','u')\n",
    "    for country in countries:\n",
    "        count = 0\n",
    "        for char in country:\n",
    "            if char in vowels:\n",
    "                count+=1\n",
    "\n",
    "        print(str(country) + ' has ' + str(count) + ' vowels.')\n",
    "\n",
    "asian_countries = ('afghanistan', 'bangladesh', 'bhutan', 'china', 'india', 'iran', 'iraq', 'israel','japan')\n",
    "count_vowels(asian_countries)"
   ]
  },
  {
   "cell_type": "markdown",
   "metadata": {},
   "source": [
    "- Create a dictionary of name `student`, it should contain your 'Name', 'Gender', 'Age', 'Programming language'. After creating it add a new key 'Roll number' and its value 43 into the dictionary."
   ]
  },
  {
   "cell_type": "code",
   "execution_count": 29,
   "metadata": {},
   "outputs": [
    {
     "data": {
      "text/plain": [
       "{'Name': 'Pranav',\n",
       " 'Gender': 'Male',\n",
       " 'Age': 24,\n",
       " 'Programming Language': 'C',\n",
       " 'Roll number': 43}"
      ]
     },
     "execution_count": 29,
     "metadata": {},
     "output_type": "execute_result"
    }
   ],
   "source": [
    "student = {'Name' : 'Pranav', 'Gender': 'Male','Age' : 24, 'Programming Language': 'C'}\n",
    "\n",
    "student['Roll number'] = 43\n",
    "student"
   ]
  },
  {
   "cell_type": "markdown",
   "metadata": {},
   "source": [
    "- Imagine you have a fruit shop and you have to given two dictionaries below one shows the count of each fruit that you have in stock and another one is the price of each fruit. Given below are the two dictionaries you can use:\n",
    "\n",
    "`stock = {\n",
    "    \"banana\": 6,\n",
    "    \"apple\": 0,\n",
    "    \"orange\": 32,\n",
    "    \"pear\": 15\n",
    "}`\n",
    "\n",
    "`prices = {\n",
    "    \"banana\": 4,\n",
    "    \"apple\": 2,\n",
    "    \"orange\": 1.5,\n",
    "    \"pear\": 3\n",
    "}`\n",
    "\n",
    "\n",
    "You have to write a function which will take these two dictionaries as argument and will return the total bill after selling every fruit in your shop.\n",
    "\n",
    "**For Example:-**\n",
    " \n",
    "```python\n",
    "def total_bill(first, second):\n",
    "    ### your code here\n",
    "\n",
    "stock = {\"banana\": 6, \"apple\": 0, \"orange\": 32, \"pear\": 15}\n",
    "prices = {\"banana\": 4, \"apple\": 2, \"orange\": 1.5, \"pear\": 3}\n",
    "\n",
    "total_bill(stock, prices)\n",
    ">>> 117.0\n",
    "```"
   ]
  },
  {
   "cell_type": "code",
   "execution_count": 14,
   "metadata": {},
   "outputs": [
    {
     "data": {
      "text/plain": [
       "117.0"
      ]
     },
     "execution_count": 14,
     "metadata": {},
     "output_type": "execute_result"
    }
   ],
   "source": [
    "def total_bill(first, second):\n",
    "\n",
    "    total = 0\n",
    "    for fruit in first.keys():\n",
    "        total+= (first[fruit]*second[fruit])\n",
    "    return total\n",
    "\n",
    "\n",
    "stock = {\"banana\": 6, \"apple\": 0, \"orange\": 32, \"pear\": 15}\n",
    "prices = {\"banana\": 4, \"apple\": 2, \"orange\": 1.5, \"pear\": 3}\n",
    "\n",
    "total_bill(stock, prices)"
   ]
  },
  {
   "cell_type": "markdown",
   "metadata": {},
   "source": [
    "- Given below is a list named `to_add` and a  dictionary `sampleDict`. You have to create a list \n",
    "\n",
    "`sampleDict = {\n",
    "  \"name\": \"Pranav\",\n",
    "  \"age\":25,\n",
    "  \"salary\": 80000,\n",
    "  \"city\": \"Nagpur\"\n",
    "}`\n",
    "\n",
    "`to_add = [\"name\", \"salary\"]`\n",
    "\n",
    "\n",
    "** Hint:-** You can use `for` loop. Also try to implement it in a function.\n",
    "\n",
    "\n",
    "**For Example:-**\n",
    " \n",
    "```python\n",
    "def create_dict(original_dict, keys_list):\n",
    "    ### your code here\n",
    "    newDict = {}\n",
    "\n",
    "sampleDict = {\"name\": \"Pranav\", \"age\":25, \"salary\": 80000, \"city\": \"Nagpur\"}\n",
    "to_add = [\"name\", \"salary\"]\n",
    "\n",
    "create_dict(sampleDict, to_add)\n",
    "\n",
    ">>> {'name': 'Pranav', 'salary': 80000}\n",
    "```"
   ]
  },
  {
   "cell_type": "code",
   "execution_count": 15,
   "metadata": {},
   "outputs": [
    {
     "data": {
      "text/plain": [
       "{'name': 'Pranav', 'salary': 80000}"
      ]
     },
     "execution_count": 15,
     "metadata": {},
     "output_type": "execute_result"
    }
   ],
   "source": [
    " def create_dict(original_dict, keys_list):\n",
    "    newDict={}\n",
    "    for k in original_dict.keys():\n",
    "        if k in keys_list:\n",
    "            newDict.update({k: original_dict[k]})\n",
    "    return newDict\n",
    "\n",
    "\n",
    "sampleDict = { \"name\": \"Pranav\", \"age\":25, \"salary\": 80000, \"city\": \"Nagpur\" }\n",
    "to_add = [\"name\", \"salary\"]\n",
    "\n",
    "create_dict(sampleDict, to_add)"
   ]
  },
  {
   "cell_type": "markdown",
   "metadata": {},
   "source": [
    "- Write a program, which will find all such numbers between 1000 and 3000 (both included) such that each digit of the number is an even number.\n",
    "The numbers obtained should be printed in a comma-separated sequence on a single line.\n",
    "\n",
    "**Hints**\n",
    "In case of input data being supplied to the question, it should be assumed to be a console input.\n",
    "```python\n",
    "def create_dict(original_dict, keys_list):\n",
    "    ### your code here\n",
    "    \n",
    "```\n"
   ]
  },
  {
   "cell_type": "code",
   "execution_count": 2,
   "metadata": {},
   "outputs": [
    {
     "data": {
      "text/plain": [
       "'2000,2002,2004,2006,2008,2020,2022,2024,2026,2028,2040,2042,2044,2046,2048,2060,2062,2064,2066,2068,2080,2082,2084,2086,2088,2200,2202,2204,2206,2208,2220,2222,2224,2226,2228,2240,2242,2244,2246,2248,2260,2262,2264,2266,2268,2280,2282,2284,2286,2288,2400,2402,2404,2406,2408,2420,2422,2424,2426,2428,2440,2442,2444,2446,2448,2460,2462,2464,2466,2468,2480,2482,2484,2486,2488,2600,2602,2604,2606,2608,2620,2622,2624,2626,2628,2640,2642,2644,2646,2648,2660,2662,2664,2666,2668,2680,2682,2684,2686,2688,2800,2802,2804,2806,2808,2820,2822,2824,2826,2828,2840,2842,2844,2846,2848,2860,2862,2864,2866,2868,2880,2882,2884,2886,2888'"
      ]
     },
     "execution_count": 2,
     "metadata": {},
     "output_type": "execute_result"
    }
   ],
   "source": [
    "def even_in_range():\n",
    "    values=[]\n",
    "    for i in range(1000, 3001):\n",
    "        s = str(i)\n",
    "        if (int(s[0])%2==0) and (int(s[1])%2==0) and (int(s[2])%2==0) and (int(s[3])%2==0):\n",
    "            values.append(s)\n",
    "    return \",\".join(values)\n",
    "even_in_range()"
   ]
  }
 ],
 "metadata": {
  "colab": {
   "name": "scratchpad",
   "provenance": []
  },
  "kernelspec": {
   "display_name": "Python 3",
   "language": "python",
   "name": "python3"
  },
  "language_info": {
   "codemirror_mode": {
    "name": "ipython",
    "version": 3
   },
   "file_extension": ".py",
   "mimetype": "text/x-python",
   "name": "python",
   "nbconvert_exporter": "python",
   "pygments_lexer": "ipython3",
   "version": "3.8.3"
  }
 },
 "nbformat": 4,
 "nbformat_minor": 1
}
