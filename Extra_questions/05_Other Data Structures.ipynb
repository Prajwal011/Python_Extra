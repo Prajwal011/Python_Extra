{
  "nbformat": 4,
  "nbformat_minor": 0,
  "metadata": {
    "colab": {
      "name": "scratchpad",
      "provenance": []
    },
    "kernelspec": {
      "display_name": "Python 3",
      "name": "python3",
      "language": "python"
    }
  },
  "cells": [
    {
      "cell_type": "markdown",
      "metadata": {
        "id": "qw0NPWR6Rv5v"
      },
      "source": [
        "# Other Data Structures Practice problems and solutions\n",
        "\n"
      ]
    },
    {
      "source": [
        "- Use `aiadv` dictionary and create a new sorted dictionary based on keys of given dictionary.\n",
        "\n",
        "aiadv = {'Vivek': 46, 'Ankur': 89, 'Raksha': 53,'Pranav':72}\n"
      ],
      "cell_type": "markdown",
      "metadata": {}
    },
    {
      "cell_type": "code",
      "execution_count": 5,
      "metadata": {},
      "outputs": [
        {
          "output_type": "execute_result",
          "data": {
            "text/plain": [
              "{'Ankur': 89, 'Pranav': 72, 'Raksha': 53, 'Vivek': 46}"
            ]
          },
          "metadata": {},
          "execution_count": 5
        }
      ],
      "source": [
        "aiadv = {'Vivek': 46, 'Ankur': 89, 'Raksha': 53,'Pranav':72}\n",
        "\n",
        "new_dict = dict(sorted(aiadv.items()))\n",
        "\n",
        "new_dict"
      ]
    },
    {
      "source": [
        "- Imagine you have a fruit shop and you have to given two dictionaries below 1 shows the number of each fruit that you have in stock and another one is the price of each fruit. You have to write a program to calculate how much money did you make after selling all the items in your shop.\n",
        "\n",
        "Given below are two dictionaries:\n",
        "\n",
        "`stock = {\n",
        "    \"banana\": 6,\n",
        "    \"apple\": 0,\n",
        "    \"orange\": 32,\n",
        "    \"pear\": 15\n",
        "}`\n",
        "\n",
        "`prices = {\n",
        "    \"banana\": 4,\n",
        "    \"apple\": 2,\n",
        "    \"orange\": 1.5,\n",
        "    \"pear\": 3\n",
        "}`\n"
      ],
      "cell_type": "markdown",
      "metadata": {}
    },
    {
      "cell_type": "code",
      "execution_count": 12,
      "metadata": {},
      "outputs": [],
      "source": [
        "stock = {\n",
        "    \"banana\": 6,\n",
        "    \"apple\": 0,\n",
        "    \"orange\": 32,\n",
        "    \"pear\": 15\n",
        "}\n",
        "\n",
        "prices = {\n",
        "    \"banana\": 4,\n",
        "    \"apple\": 2,\n",
        "    \"orange\": 1.5,\n",
        "    \"pear\": 3\n",
        "}"
      ]
    },
    {
      "cell_type": "code",
      "execution_count": 16,
      "metadata": {},
      "outputs": [
        {
          "output_type": "stream",
          "name": "stdout",
          "text": [
            "4 6\n2 0\n1.5 32\n3 15\n117.0\n"
          ]
        }
      ],
      "source": [
        "total_bill = 0\n",
        "for i in prices:\n",
        "    total_bill += prices[i]*stock[i]\n",
        "    print(prices[i],stock[i])\n",
        "print(total_bill)"
      ]
    }
  ]
}