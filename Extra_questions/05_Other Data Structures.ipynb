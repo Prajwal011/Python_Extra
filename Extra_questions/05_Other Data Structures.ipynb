{
  "nbformat": 4,
  "nbformat_minor": 0,
  "metadata": {
    "colab": {
      "name": "scratchpad",
      "provenance": []
    },
    "kernelspec": {
      "display_name": "Python 3",
      "name": "python3",
      "language": "python"
    }
  },
  "cells": [
    {
      "cell_type": "markdown",
      "metadata": {
        "id": "qw0NPWR6Rv5v"
      },
      "source": [
        "# Other Data Structures Practice problems and solutions\n",
        "\n"
      ]
    },
    {
      "source": [
        "- Print website suffixes (com , org , net ,in) from this tuple `tuple1 =  (\"www.zframez.com\", \"www.wikipedia.org\", \"www.asp.net\", \"www.abcd.in\")`.\n"
      ],
      "cell_type": "markdown",
      "metadata": {}
    },
    {
      "cell_type": "code",
      "execution_count": 11,
      "metadata": {},
      "outputs": [
        {
          "output_type": "stream",
          "name": "stdout",
          "text": [
            "com\norg\nnet\nin\n"
          ]
        }
      ],
      "source": [
        "tuple1 = (\"www.zframez.com\",\"www.wikipedia.org\",\"www.asp.net\",\"www.abcd.in\")\n",
        "\n",
        "\n",
        "for i in tuple1:\n",
        "    print(i.split('.')[-1])"
      ]
    },
    {
      "source": [
        "- Given below are two dictionaries\n",
        "\n",
        "`stock = {\n",
        "    \"banana\": 6,\n",
        "    \"apple\": 0,\n",
        "    \"orange\": 32,\n",
        "    \"pear\": 15\n",
        "}`\n",
        "\n",
        "`prices = {\n",
        "    \"banana\": 4,\n",
        "    \"apple\": 2,\n",
        "    \"orange\": 1.5,\n",
        "    \"pear\": 3\n",
        "}`\n",
        "\n",
        "\n",
        "Write a program that calculates the total bill after selling every item in the dictionary. For example total bill of bananas is the price of 1 banana x the number of ban\n"
      ],
      "cell_type": "markdown",
      "metadata": {}
    },
    {
      "cell_type": "code",
      "execution_count": 12,
      "metadata": {},
      "outputs": [],
      "source": [
        "stock = {\n",
        "    \"banana\": 6,\n",
        "    \"apple\": 0,\n",
        "    \"orange\": 32,\n",
        "    \"pear\": 15\n",
        "}\n",
        "\n",
        "prices = {\n",
        "    \"banana\": 4,\n",
        "    \"apple\": 2,\n",
        "    \"orange\": 1.5,\n",
        "    \"pear\": 3\n",
        "}"
      ]
    },
    {
      "cell_type": "code",
      "execution_count": 16,
      "metadata": {},
      "outputs": [
        {
          "output_type": "stream",
          "name": "stdout",
          "text": [
            "4 6\n2 0\n1.5 32\n3 15\n117.0\n"
          ]
        }
      ],
      "source": [
        "total_bill = 0\n",
        "for i in prices:\n",
        "    total_bill += prices[i]*stock[i]\n",
        "    print(prices[i],stock[i])\n",
        "print(total_bill)"
      ]
    }
  ]
}