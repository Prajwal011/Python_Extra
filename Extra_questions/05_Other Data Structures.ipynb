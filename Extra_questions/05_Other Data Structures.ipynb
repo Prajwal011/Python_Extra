{
 "cells": [
  {
   "cell_type": "markdown",
   "metadata": {
    "id": "qw0NPWR6Rv5v"
   },
   "source": [
    "# Other Data Structures Practice problems and solutions\n",
    "\n"
   ]
  },
  {
   "source": [
    "- Create a function which will take one argument as list of countries and print the number of vowels in the name of each country.\n",
    "\n",
    "**For Example:-**\n",
    " \n",
    "```python\n",
    "def count_vowels(countries):\n",
    "    ### your code here\n",
    "\n",
    "asian_countries = ('afghanistan', 'bangladesh', 'bhutan', 'china', 'india', 'iran', 'iraq', 'israel','japan')\n",
    "count_vowels(asian_countries)\n",
    "\n",
    ">>> afghanistan has 4 vowels.\n",
    "    bangladesh has 3 vowels.\n",
    "    bhutan has 2 vowels.\n",
    "    china has 2 vowels.\n",
    "    india has 3 vowels.\n",
    "    iran has 2 vowels.\n",
    "    iraq has 2 vowels.\n",
    "    israel has 3 vowels.\n",
    "    japan has 2 vowels.\n",
    "```\n"
   ],
   "cell_type": "markdown",
   "metadata": {}
  },
  {
   "cell_type": "code",
   "execution_count": 28,
   "metadata": {},
   "outputs": [
    {
     "output_type": "stream",
     "name": "stdout",
     "text": [
      "afghanistan has 4 vowels.\nbangladesh has 3 vowels.\nbhutan has 2 vowels.\nchina has 2 vowels.\nindia has 3 vowels.\niran has 2 vowels.\niraq has 2 vowels.\nisrael has 3 vowels.\njapan has 2 vowels.\n"
     ]
    }
   ],
   "source": [
    "def count_vowels(countries):\n",
    "    vowels = ('a','e','i','o','u')\n",
    "    for country in countries:\n",
    "        count = 0\n",
    "        for char in country:\n",
    "            if char in vowels:\n",
    "                count+=1\n",
    "\n",
    "        print(str(country) + ' has ' + str(count) + ' vowels.')\n",
    "\n",
    "asian_countries = ('afghanistan', 'bangladesh', 'bhutan', 'china', 'india', 'iran', 'iraq', 'israel','japan')\n",
    "count_vowels(asian_countries)"
   ]
  },
  {
   "source": [
    "- Create a dictionary of name `student`, it should contain your 'Name', 'Gender', 'Age', 'Programming language'. After creating it add a new key 'Roll number' and its value 43 into the dictionary."
   ],
   "cell_type": "markdown",
   "metadata": {}
  },
  {
   "cell_type": "code",
   "execution_count": 29,
   "metadata": {},
   "outputs": [
    {
     "output_type": "execute_result",
     "data": {
      "text/plain": [
       "{'Name': 'Pranav',\n",
       " 'Gender': 'Male',\n",
       " 'Age': 24,\n",
       " 'Programming Language': 'C',\n",
       " 'Roll number': 43}"
      ]
     },
     "metadata": {},
     "execution_count": 29
    }
   ],
   "source": [
    "student = {'Name' : 'Pranav', 'Gender': 'Male','Age' : 24, 'Programming Language': 'C'}\n",
    "\n",
    "student['Roll number'] = 43\n",
    "student"
   ]
  },
  {
   "cell_type": "markdown",
   "metadata": {},
   "source": [
    "- Imagine you have a fruit shop and you have to given two dictionaries below one shows the count of each fruit that you have in stock and another one is the price of each fruit. Given below are the two dictionaries you can use:\n",
    "\n",
    "`stock = {\n",
    "    \"banana\": 6,\n",
    "    \"apple\": 0,\n",
    "    \"orange\": 32,\n",
    "    \"pear\": 15\n",
    "}`\n",
    "\n",
    "`prices = {\n",
    "    \"banana\": 4,\n",
    "    \"apple\": 2,\n",
    "    \"orange\": 1.5,\n",
    "    \"pear\": 3\n",
    "}`\n",
    "\n",
    "\n",
    "You have to write a function which will take these two dictionaries as argument and will return the total bill after selling every fruit in your shop.\n",
    "\n",
    "**For Example:-**\n",
    " \n",
    "```python\n",
    "def total_bill(first, second):\n",
    "    ### your code here\n",
    "\n",
    "stock = {\"banana\": 6, \"apple\": 0, \"orange\": 32, \"pear\": 15}\n",
    "prices = {\"banana\": 4, \"apple\": 2, \"orange\": 1.5, \"pear\": 3}\n",
    "\n",
    "total_bill(stock, prices)\n",
    ">>> 117.0\n",
    "```"
   ]
  },
  {
   "cell_type": "code",
   "execution_count": 14,
   "metadata": {},
   "outputs": [
    {
     "output_type": "execute_result",
     "data": {
      "text/plain": [
       "117.0"
      ]
     },
     "metadata": {},
     "execution_count": 14
    }
   ],
   "source": [
    "def total_bill(first, second):\n",
    "\n",
    "    total = 0\n",
    "    for fruit in first.keys():\n",
    "        total+= (first[fruit]*second[fruit])\n",
    "    return total\n",
    "\n",
    "\n",
    "stock = {\"banana\": 6, \"apple\": 0, \"orange\": 32, \"pear\": 15}\n",
    "prices = {\"banana\": 4, \"apple\": 2, \"orange\": 1.5, \"pear\": 3}\n",
    "\n",
    "total_bill(stock, prices)"
   ]
  },
  {
   "cell_type": "markdown",
   "metadata": {},
   "source": [
    "- Given below is a list named `to_add` and a  dictionary `sampleDict`. You have to create a list \n",
    "\n",
    "`sampleDict = {\n",
    "  \"name\": \"Pranav\",\n",
    "  \"age\":25,\n",
    "  \"salary\": 80000,\n",
    "  \"city\": \"Nagpur\"\n",
    "}`\n",
    "\n",
    "`to_add = [\"name\", \"salary\"]`\n",
    "\n",
    "\n",
    "** Hint:-** You can use `for` loop. Also try to implement it in a function.\n",
    "\n",
    "\n",
    "**For Example:-**\n",
    " \n",
    "```python\n",
    "def create_dict(original_dict, keys_list):\n",
    "    ### your code here\n",
    "    newDict = {}\n",
    "\n",
    "sampleDict = {\"name\": \"Pranav\", \"age\":25, \"salary\": 80000, \"city\": \"Nagpur\"}\n",
    "to_add = [\"name\", \"salary\"]\n",
    "\n",
    "create_dict(sampleDict, to_add)\n",
    "\n",
    ">>> {'name': 'Pranav', 'salary': 80000}\n",
    "```"
   ]
  },
  {
   "cell_type": "code",
   "execution_count": 15,
   "metadata": {},
   "outputs": [
    {
     "output_type": "execute_result",
     "data": {
      "text/plain": [
       "{'name': 'Pranav', 'salary': 80000}"
      ]
     },
     "metadata": {},
     "execution_count": 15
    }
   ],
   "source": [
    " def create_dict(original_dict, keys_list):\n",
    "    newDict={}\n",
    "    for k in original_dict.keys():\n",
    "        if k in keys_list:\n",
    "            newDict.update({k: original_dict[k]})\n",
    "    return newDict\n",
    "\n",
    "\n",
    "sampleDict = { \"name\": \"Pranav\", \"age\":25, \"salary\": 80000, \"city\": \"Nagpur\" }\n",
    "to_add = [\"name\", \"salary\"]\n",
    "\n",
    "create_dict(sampleDict, to_add)"
   ]
  }
 ],
 "metadata": {
  "colab": {
   "name": "scratchpad",
   "provenance": []
  },
  "kernelspec": {
   "display_name": "Python 3",
   "language": "python",
   "name": "python3"
  },
  "language_info": {
   "codemirror_mode": {
    "name": "ipython",
    "version": 3
   },
   "file_extension": ".py",
   "mimetype": "text/x-python",
   "name": "python",
   "nbconvert_exporter": "python",
   "pygments_lexer": "ipython3",
   "version": "3.7.10"
  }
 },
 "nbformat": 4,
 "nbformat_minor": 1
}