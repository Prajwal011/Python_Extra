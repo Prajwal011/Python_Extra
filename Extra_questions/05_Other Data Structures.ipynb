{
 "cells": [
  {
   "cell_type": "markdown",
   "metadata": {
    "id": "qw0NPWR6Rv5v"
   },
   "source": [
    "# <center>Other Data Structures Questions</center>"
   ]
  },
  {
   "cell_type": "markdown",
   "metadata": {},
   "source": [
    "### <center>Difficulty Level : Easy</center>"
   ]
  },
  {
   "cell_type": "markdown",
   "metadata": {},
   "source": [
    "- Create a dictionary named `student` and it should contain your `Name`, `Gender`, `Age` & `Programming language`. After creating it add a new key `Roll number` and set its value as 43."
   ]
  },
  {
   "cell_type": "markdown",
   "metadata": {},
   "source": [
    "- Create a function to display how many times `substring` **A** has appeared in the `string` **ABRACADABRA**.\n",
    "\n",
    "    **Example :**\n",
    "    \n",
    "```python\n",
    "def match_string(string,substring):\n",
    "    ### your code here\n",
    "\n",
    "string = 'ABRACADABRA'\n",
    "substring = 'A'\n",
    "\n",
    "match_string(string,substring)\n",
    ">>> 5```    "
   ]
  },
  {
   "cell_type": "markdown",
   "metadata": {},
   "source": [
    "- Create a function that takes 2 dictionaries as arguments and returns the total bill after selling every fruit according to their rate specified.\n",
    "\n",
    "    **Example :**\n",
    " \n",
    "```python\n",
    "def total_bill(first, second):\n",
    "    ### your code here\n",
    "\n",
    "stock = {\"banana\": 6, \"apple\": 0, \"orange\": 32, \"pear\": 15}\n",
    "prices = {\"banana\": 4, \"apple\": 2, \"orange\": 1.5, \"pear\": 3}\n",
    "\n",
    "\n",
    "total_bill(stock, prices)\n",
    ">>> 117.0```"
   ]
  },
  {
   "cell_type": "markdown",
   "metadata": {},
   "source": [
    "- Create a dictionary by assigning the keys from a list and its values from the user using input function.\n",
    "\n",
    "    **List :**\n",
    "    \n",
    "    `keys_list = [ \"Name\", \"Birth Month\", \"Programming Language\", \"Salary\" ]`\n",
    "\n",
    "    **Example :**\n",
    "\n",
    "```python\n",
    "\n",
    "def create_dict(keys_list):\n",
    "    ### your code here\n",
    "    sampleDict = {}\n",
    "\n",
    "keys_list = [ \"Name\", \"Birth Month\", \"Programming Language\", \"Salary\" ]\n",
    "\n",
    "create_dict(keys_list)\n",
    ">>> \n",
    "```"
   ]
  },
  {
   "cell_type": "markdown",
   "metadata": {},
   "source": [
    "### <center>Difficulty Level : Medium</center>"
   ]
  },
  {
   "cell_type": "markdown",
   "metadata": {},
   "source": [
    "- Create a function that displays the unique elements present inside the dictionary in descending order in a single line.\n",
    "\n",
    "    **Example :**\n",
    "\n",
    "```python\n",
    "def unique_elements(dictionary):\n",
    "    ### your code here\n",
    "    \n",
    "marks = {\"English\": 78, \"Maths\": 89, \"Science\": 92, \"History\": 89, \"Geography\": 77, \"Physics\": 92, \"Chemistry\": 78}\n",
    "\n",
    "unique_elements(marks)\n",
    ">>> 92 89 78 77```  "
   ]
  },
  {
   "cell_type": "markdown",
   "metadata": {},
   "source": [
    "- Create a function that will take 1 argument as tuple of countries and display the number of vowels in the name of each country.\n",
    "\n",
    "    **Example :**\n",
    " \n",
    "```python\n",
    "def count_vowels(countries):\n",
    "    ### your code here\n",
    "\n",
    "asian_countries = ('afghanistan', 'bangladesh', 'bhutan', 'china', 'india', 'iran', 'iraq', 'israel','japan')\n",
    "count_vowels(asian_countries)\n",
    "\n",
    ">>> afghanistan has 4 vowels.\n",
    "    bangladesh has 3 vowels.\n",
    "    bhutan has 2 vowels.\n",
    "    china has 2 vowels.\n",
    "    india has 3 vowels.\n",
    "    iran has 2 vowels.\n",
    "    iraq has 2 vowels.\n",
    "    israel has 3 vowels.\n",
    "    japan has 2 vowels.\n",
    "```"
   ]
  },
  {
   "cell_type": "markdown",
   "metadata": {},
   "source": [
    "### <center>Difficulty Level : Hard</center>"
   ]
  },
  {
   "cell_type": "markdown",
   "metadata": {},
   "source": [
    "- Write a program that will find all the numbers between 1000 and 3000 (both included) such that each digit of the number is an even number and the numbers obtained should be printed in a comma - separated sequence on a single line.\n",
    "\n",
    "    **Note :** Google search for `join` function of string datatype.\n",
    "    \n",
    "```python\n",
    "def even_in_range():\n",
    "    ### your code here\n",
    "```"
   ]
  },
  {
   "cell_type": "markdown",
   "metadata": {},
   "source": [
    "- Create a function that will try to mimic the SUPEROVER scenario from Cricket. You have to create 2 dictionaries for 2 teams and each dictionary will contain the outcome of 6 balls bowled in the superover as key (i.e- run scored on that ball) and values of that dictionary will be as follows:\n",
    "\n",
    "    - 'W' : 0 runs \n",
    "\n",
    "    - 'R' : 1-6 runs  \n",
    "\n",
    "The runs scored will be generated randomly using `random` module by using `random.randint(0,6)` and make sure that you are including the number 5 in dictionary deliberately even though there is no 5 runs in cricket. You also have to track the number of wickets fallen in that superover.\n",
    "\n",
    "Also make sure that your dictionary has 6 unique keys for every deliveries in a superover. The output of the function should be dictionaries of both the teams and scorecard along with the number of wickets fallen, by compnaring the scores of both the teams show which team has won in superover, as shown in the example below:\n",
    "                \n",
    "**Example :**\n",
    "    \n",
    "```python\n",
    "def superover():\n",
    "    ### your code here\n",
    "    \n",
    "superover()\n",
    ">>> >>> Performance of Team1 : {0: 'W', 1: 'R', 3: 'R', 4: 'R', 5: 'R', 6: 'R'}\n",
    "    Performance of Team2 : {0: 'W', 1: 'R', 3: 'R', 4: 'R', 5: 'R', 6: 'R'}\n",
    "    Scorecard of Team1 : 19 / 1\n",
    "    Scorecard of Team2 : 19 / 1\n",
    "    Its a Draw!  \n",
    "    \n",
    ">>> Performance of Team1 : {0: 'W', 1: 'R', 2: 'R', 4: 'R', 5: 'R', 6: 'R'}\n",
    "    Performance of Team2 : {0: 'W', 1: 'R', 2: 'R', 3: 'R', 4: 'R', 6: 'R'}\n",
    "    Scorecard of Team1 : 18 / 1\n",
    "    Scorecard of Team2 : 16 / 1\n",
    "    Team1 wins by 2 runs!\n",
    "    \n",
    ">>> Performance of Team1 : {0: 'W', 1: 'R', 3: 'R', 4: 'R', 5: 'R', 6: 'R'}\n",
    "    Performance of Team2 : {0: 'W', 1: 'R', 2: 'R', 3: 'R', 4: 'R', 5: 'R'}\n",
    "    Scorecard of Team1 : 19 / 1\n",
    "    Scorecard of Team2 : 15 / 1\n",
    "    Team1 wins by 4 runs!\n",
    "```"
   ]
  },
  {
   "cell_type": "markdown",
   "metadata": {},
   "source": [
    "# <center>Happy Learning!</center>"
   ]
  }
 ],
 "metadata": {
  "colab": {
   "name": "scratchpad",
   "provenance": []
  },
  "kernelspec": {
   "display_name": "Python 3",
   "language": "python",
   "name": "python3"
  },
  "language_info": {
   "codemirror_mode": {
    "name": "ipython",
    "version": 3
   },
   "file_extension": ".py",
   "mimetype": "text/x-python",
   "name": "python",
   "nbconvert_exporter": "python",
   "pygments_lexer": "ipython3",
   "version": "3.7.6"
  }
 },
 "nbformat": 4,
 "nbformat_minor": 1
}