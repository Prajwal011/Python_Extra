{
 "cells": [
  {
   "cell_type": "markdown",
   "metadata": {
    "id": "qw0NPWR6Rv5v"
   },
   "source": [
    "# <center>Other Data Structures Questions</center>"
   ]
  },
  {
   "cell_type": "markdown",
   "metadata": {},
   "source": [
    "### <center>Difficulty Level : Easy</center>"
   ]
  },
  {
   "cell_type": "markdown",
   "metadata": {},
   "source": [
    "- Create a dictionary named `student` and it should contain your `Name`, `Gender`, `Age` & `Programming language`. After creating it add a new key `Roll number` and set its value as 43."
   ]
  },
  {
   "cell_type": "markdown",
   "metadata": {},
   "source": [
    "- Create a function to display how many times `substring` **A** has appeared in the `string` **ABRACADABRA**.\n",
    "\n",
    "    **Example :**\n",
    "    \n",
    "```python\n",
    "def match_string(string,substring):\n",
    "    ### your code here\n",
    "\n",
    "string = 'ABRACADABRA'\n",
    "substring = 'A'\n",
    "\n",
    "match_string(string,substring)\n",
    ">>> 5```    "
   ]
  },
  {
   "cell_type": "markdown",
   "metadata": {},
   "source": [
    "- Create a function that takes 2 dictionaries as arguments and returns the total bill after selling every fruit according to their rate specified.\n",
    "\n",
    "    **Example :**\n",
    " \n",
    "```python\n",
    "def total_bill(first, second):\n",
    "    ### your code here\n",
    "\n",
    "stock = {\"banana\": 6, \"apple\": 0, \"orange\": 32, \"pear\": 15}\n",
    "prices = {\"banana\": 4, \"apple\": 2, \"orange\": 1.5, \"pear\": 3}\n",
    "\n",
    "\n",
    "total_bill(stock, prices)\n",
    ">>> 117.0```"
   ]
  },
  {
   "cell_type": "markdown",
   "metadata": {},
   "source": [
    "- Create a dictionary by assigning the keys from a list and its values from the user using input function.\n",
    "\n",
    "    **List :**\n",
    "    \n",
    "    `keys_list = [ \"Name\", \"Birth Month\", \"Programming Language\", \"Salary\" ]`\n",
    "\n",
    "    **Example :**\n",
    "\n",
    "```python\n",
    "\n",
    "def create_dict(keys_list):\n",
    "    ### your code here\n",
    "    sampleDict = {}\n",
    "\n",
    "keys_list = [ \"Name\", \"Birth Month\", \"Programming Language\", \"Salary\" ]\n",
    "\n",
    "create_dict(keys_list)\n",
    ">>> \n",
    "```"
   ]
  },
  {
   "cell_type": "markdown",
   "metadata": {},
   "source": [
    "### <center>Difficulty Level : Medium</center>"
   ]
  },
  {
   "cell_type": "markdown",
   "metadata": {},
   "source": [
    "- Create a function that displays the unique elements present inside the dictionary in descending order in a single line.\n",
    "\n",
    "    **Example :**\n",
    "\n",
    "```python\n",
    "def unique_elements(dictionary):\n",
    "    ### your code here\n",
    "    \n",
    "marks = {\"English\": 78, \"Maths\": 89, \"Science\": 92, \"History\": 89, \"Geography\": 77, \"Physics\": 92, \"Chemistry\": 78}\n",
    "\n",
    "unique_elements(marks)\n",
    ">>> 92 89 78 77```  "
   ]
  },
  {
   "cell_type": "markdown",
   "metadata": {},
   "source": [
    "- Create a function that will take 1 argument as tuple of countries and display the number of vowels in the name of each country.\n",
    "\n",
    "    **Example :**\n",
    " \n",
    "```python\n",
    "def count_vowels(countries):\n",
    "    ### your code here\n",
    "\n",
    "asian_countries = ('afghanistan', 'bangladesh', 'bhutan', 'china', 'india', 'iran', 'iraq', 'israel','japan')\n",
    "count_vowels(asian_countries)\n",
    "\n",
    ">>> afghanistan has 4 vowels.\n",
    "    bangladesh has 3 vowels.\n",
    "    bhutan has 2 vowels.\n",
    "    china has 2 vowels.\n",
    "    india has 3 vowels.\n",
    "    iran has 2 vowels.\n",
    "    iraq has 2 vowels.\n",
    "    israel has 3 vowels.\n",
    "    japan has 2 vowels.\n",
    "```"
   ]
  },
  {
   "cell_type": "markdown",
   "metadata": {},
   "source": [
    "### <center>Difficulty Level : Hard</center>"
   ]
  },
  {
   "cell_type": "markdown",
   "metadata": {},
   "source": [
    "- Write a program that will find all the numbers between 1000 and 3000 (both included) such that each digit of the number is an even number and the numbers obtained should be printed in a comma - separated sequence on a single line.\n",
    "\n",
    "    **Note :** Google search for `join` function of string datatype.\n",
    "    \n",
    "```python\n",
    "def even_in_range():\n",
    "    ### your code here\n",
    "```"
   ]
  },
  {
   "cell_type": "markdown",
   "metadata": {},
   "source": [
    "- Create a function that will try to mimic the scenario of a `SUPEROVER` in a cricket match. This function will utilize 2 dictionaries for 2 players, runs scored will be the keys and the values to these keys will be either **O** or **R** depending on the run value. The dictionary should have 6 unique elements and should be displayed before making the final decision. The winner of the `SUPEROVER` should be declared on the basis of just like any other cricket match.\n",
    "\n",
    "    **Note :** This program does not literally mimic the superover scenario. The aim of this question is to learn about the structure of code as well as deciding the number of variables and their usage.\n",
    "    \n",
    "    **Note :** Generate runs using the following code snippet :\n",
    "    \n",
    "    import random\n",
    "    \n",
    "    random.randint(0,6)\n",
    "\n",
    "    **Labels :** \n",
    "    \n",
    "    0 : **W**\n",
    "    \n",
    "    1 - 6 : **R**\n",
    "                 \n",
    "    **Example :**\n",
    "    \n",
    "```python\n",
    "def superover():\n",
    "    ### your code here\n",
    "    \n",
    "superover()\n",
    ">>> >>> Performance of Player1 : {0: 'W', 1: 'R', 3: 'R', 4: 'R', 5: 'R', 6: 'R'}\n",
    "    Performance of Player2 : {0: 'W', 1: 'R', 3: 'R', 4: 'R', 5: 'R', 6: 'R'}\n",
    "    Scorecard of Player1 : 19 / 1\n",
    "    Scorecard of Player2 : 19 / 1\n",
    "    Its a Draw!  \n",
    "    \n",
    ">>> Performance of Player1 : {0: 'W', 1: 'R', 2: 'R', 4: 'R', 5: 'R', 6: 'R'}\n",
    "    Performance of Player2 : {0: 'W', 1: 'R', 2: 'R', 3: 'R', 4: 'R', 6: 'R'}\n",
    "    Scorecard of Player1 : 18 / 1\n",
    "    Scorecard of Player2 : 16 / 1\n",
    "    Player1 wins by 2 runs!\n",
    "    \n",
    ">>> Performance of Player1 : {0: 'W', 1: 'R', 3: 'R', 4: 'R', 5: 'R', 6: 'R'}\n",
    "    Performance of Player2 : {0: 'W', 1: 'R', 2: 'R', 3: 'R', 4: 'R', 5: 'R'}\n",
    "    Scorecard of Player1 : 19 / 1\n",
    "    Scorecard of Player2 : 15 / 1\n",
    "    Player1 wins by 4 runs!\n",
    "```"
   ]
  },
  {
   "cell_type": "markdown",
   "metadata": {},
   "source": [
    "# <center>Happy Learning!</center>"
   ]
  }
 ],
 "metadata": {
  "colab": {
   "name": "scratchpad",
   "provenance": []
  },
  "kernelspec": {
   "display_name": "Python 3",
   "language": "python",
   "name": "python3"
  },
  "language_info": {
   "codemirror_mode": {
    "name": "ipython",
    "version": 3
   },
   "file_extension": ".py",
   "mimetype": "text/x-python",
   "name": "python",
   "nbconvert_exporter": "python",
   "pygments_lexer": "ipython3",
   "version": "3.7.6"
  }
 },
 "nbformat": 4,
 "nbformat_minor": 1
}
