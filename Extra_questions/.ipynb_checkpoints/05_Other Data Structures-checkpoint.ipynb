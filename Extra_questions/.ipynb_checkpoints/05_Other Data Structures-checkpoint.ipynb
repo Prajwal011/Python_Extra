{
 "cells": [
  {
   "cell_type": "markdown",
   "metadata": {
    "id": "qw0NPWR6Rv5v"
   },
   "source": [
    "# Other Data Structures Practice problems and solutions\n",
    "\n"
   ]
  },
  {
   "cell_type": "markdown",
   "metadata": {},
   "source": [
    "- Use `aiadv` dictionary and create a new sorted dictionary based on keys of given dictionary.\n",
    "\n",
    "aiadv = {'Vivek': 46, 'Ankur': 89, 'Raksha': 53,'Pranav':72}\n"
   ]
  },
  {
   "cell_type": "code",
   "execution_count": 5,
   "metadata": {},
   "outputs": [
    {
     "data": {
      "text/plain": [
       "{'Ankur': 89, 'Pranav': 72, 'Raksha': 53, 'Vivek': 46}"
      ]
     },
     "execution_count": 5,
     "metadata": {},
     "output_type": "execute_result"
    }
   ],
   "source": [
    "aiadv = {'Vivek': 46, 'Ankur': 89, 'Raksha': 53,'Pranav':72}\n",
    "\n",
    "new_dict = dict(sorted(aiadv.items()))\n",
    "\n",
    "new_dict"
   ]
  },
  {
   "cell_type": "markdown",
   "metadata": {},
   "source": [
    "- Imagine you have a fruit shop and you have to given two dictionaries below 1 shows the number of each fruit that you have in stock and another one is the price of each fruit. You have to write a program to calculate how much money did you make after selling all the items in your shop.\n",
    "\n",
    "Given below are two dictionaries:\n",
    "\n",
    "`stock = {\n",
    "    \"banana\": 6,\n",
    "    \"apple\": 0,\n",
    "    \"orange\": 32,\n",
    "    \"pear\": 15\n",
    "}`\n",
    "\n",
    "`prices = {\n",
    "    \"banana\": 4,\n",
    "    \"apple\": 2,\n",
    "    \"orange\": 1.5,\n",
    "    \"pear\": 3\n",
    "}`\n"
   ]
  },
  {
   "cell_type": "code",
   "execution_count": 12,
   "metadata": {},
   "outputs": [],
   "source": [
    "stock = {\n",
    "    \"banana\": 6,\n",
    "    \"apple\": 0,\n",
    "    \"orange\": 32,\n",
    "    \"pear\": 15\n",
    "}\n",
    "\n",
    "prices = {\n",
    "    \"banana\": 4,\n",
    "    \"apple\": 2,\n",
    "    \"orange\": 1.5,\n",
    "    \"pear\": 3\n",
    "}"
   ]
  },
  {
   "cell_type": "code",
   "execution_count": 16,
   "metadata": {
    "scrolled": true
   },
   "outputs": [
    {
     "name": "stdout",
     "output_type": "stream",
     "text": [
      "4 6\n",
      "2 0\n",
      "1.5 32\n",
      "3 15\n",
      "117.0\n"
     ]
    }
   ],
   "source": [
    "total_bill = 0\n",
    "for i in prices:\n",
    "    total_bill += prices[i]*stock[i]\n",
    "    print(prices[i],stock[i])\n",
    "print(total_bill)"
   ]
  },
  {
   "cell_type": "markdown",
   "metadata": {},
   "source": [
    "- Create a new dictionary by extracting the following keys from a below dictionary"
   ]
  },
  {
   "cell_type": "markdown",
   "metadata": {},
   "source": [
    "sampleDict = {\n",
    "  \"name\": \"Pranav\",\n",
    "  \"age\":25,\n",
    "  \"salary\": 80000,\n",
    "  \"city\": \"Nagpur\"\n",
    "}\n",
    "\n",
    "keys = [\"name\", \"salary\"]"
   ]
  },
  {
   "cell_type": "code",
   "execution_count": 2,
   "metadata": {},
   "outputs": [],
   "source": [
    "sampleDict = { \"name\": \"Pranav\", \"age\":25, \"salary\": 80000, \"city\": \"Nagpur\" }\n",
    "\n",
    "keys = [\"name\", \"salary\"]"
   ]
  },
  {
   "cell_type": "code",
   "execution_count": 3,
   "metadata": {},
   "outputs": [
    {
     "data": {
      "text/plain": [
       "{'name': 'Pranav', 'salary': 80000}"
      ]
     },
     "execution_count": 3,
     "metadata": {},
     "output_type": "execute_result"
    }
   ],
   "source": [
    "newDict={}\n",
    "for k in sampleDict.keys():\n",
    "    if k in keys:\n",
    "        newDict.update({k: sampleDict[k]})\n",
    "newDict"
   ]
  },
  {
   "cell_type": "markdown",
   "metadata": {},
   "source": [
    "- Rename key city to location in the following dictionary\n",
    "\n",
    "Dict1 = {\n",
    "  \"name\": \"Pranav\",\n",
    "  \"age\":25,\n",
    "  \"salary\": 80000,\n",
    "  \"city\": \"Nagpur\"\n",
    "}"
   ]
  },
  {
   "cell_type": "code",
   "execution_count": 5,
   "metadata": {},
   "outputs": [],
   "source": [
    "Dict1 = {\n",
    "  \"name\": \"Pranav\",\n",
    "  \"age\":25,\n",
    "  \"salary\": 80000,\n",
    "  \"city\": \"Nagpur\"\n",
    "}"
   ]
  },
  {
   "cell_type": "code",
   "execution_count": 6,
   "metadata": {},
   "outputs": [
    {
     "data": {
      "text/plain": [
       "{'name': 'Pranav', 'age': 25, 'salary': 80000, 'Location': 'Nagpur'}"
      ]
     },
     "execution_count": 6,
     "metadata": {},
     "output_type": "execute_result"
    }
   ],
   "source": [
    "\n",
    "Dict1['Location']=Dict1.pop('city')\n",
    "Dict1"
   ]
  }
 ],
 "metadata": {
  "colab": {
   "name": "scratchpad",
   "provenance": []
  },
  "kernelspec": {
   "display_name": "Python 3",
   "language": "python",
   "name": "python3"
  },
  "language_info": {
   "codemirror_mode": {
    "name": "ipython",
    "version": 3
   },
   "file_extension": ".py",
   "mimetype": "text/x-python",
   "name": "python",
   "nbconvert_exporter": "python",
   "pygments_lexer": "ipython3",
   "version": "3.8.3"
  }
 },
 "nbformat": 4,
 "nbformat_minor": 1
}
