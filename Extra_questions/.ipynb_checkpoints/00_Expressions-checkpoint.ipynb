{
 "cells": [
  {
   "cell_type": "markdown",
   "metadata": {
    "id": "qw0NPWR6Rv5v"
   },
   "source": [
    "# Expressions Practice problems and solutions\n",
    "\n"
   ]
  },
  {
   "cell_type": "markdown",
   "metadata": {
    "id": "oc4E8TFcR3ja"
   },
   "source": [
    "- Try to implement compound interest formula V=P(1+r/n)^nt\n",
    "\n",
    "    - P = 1500\n",
    "    - r = 0.043\n",
    "    - n = 4\n",
    "    - t = 6"
   ]
  },
  {
   "cell_type": "code",
   "execution_count": 17,
   "metadata": {
    "colab": {
     "base_uri": "https://localhost:8080/"
    },
    "id": "XcYizRL-SDnj",
    "outputId": "8b7fe0cb-504e-4372-8d81-7a7758c9906b"
   },
   "outputs": [
    {
     "data": {
      "text/plain": [
       "2.175906439573089e+76"
      ]
     },
     "execution_count": 17,
     "metadata": {},
     "output_type": "execute_result"
    }
   ],
   "source": [
    "P = 1500\n",
    "r = 0.043\n",
    "n = 4\n",
    "t = 6\n",
    "\n",
    "V=(P*(1+r/n))**(n*t)\n",
    "V"
   ]
  },
  {
   "cell_type": "markdown",
   "metadata": {
    "id": "ESd_NG2eSUZr"
   },
   "source": [
    "- Implement Simple Interest Formula\n",
    "S.I. = P × R × T\n",
    "\n",
    "    - P = 1500\n",
    "    - R = 9.5\n",
    "    - T = 20"
   ]
  },
  {
   "cell_type": "code",
   "execution_count": 19,
   "metadata": {
    "colab": {
     "base_uri": "https://localhost:8080/"
    },
    "id": "hL1VCYZ7SYKr",
    "outputId": "a88786ac-c6ca-4577-f085-c0324f7bfa88"
   },
   "outputs": [
    {
     "data": {
      "text/plain": [
       "285000.0"
      ]
     },
     "execution_count": 19,
     "metadata": {},
     "output_type": "execute_result"
    }
   ],
   "source": [
    "P = 1500\n",
    "R = 9.5\n",
    "T = 20\n",
    "\n",
    "SI = P * R * T\n",
    "SI"
   ]
  },
  {
   "cell_type": "markdown",
   "metadata": {},
   "source": [
    "- Add parentheses to the following expression so that it evaluates to 0.\n",
    "              8 - 3 * 2 - 1 + 1"
   ]
  },
  {
   "cell_type": "code",
   "execution_count": 1,
   "metadata": {},
   "outputs": [
    {
     "data": {
      "text/plain": [
       "0"
      ]
     },
     "execution_count": 1,
     "metadata": {},
     "output_type": "execute_result"
    }
   ],
   "source": [
    "8 - 3 * 2 - (1 + 1)"
   ]
  }
 ],
 "metadata": {
  "colab": {
   "name": "scratchpad",
   "provenance": []
  },
  "kernelspec": {
   "display_name": "Python 3",
   "language": "python",
   "name": "python3"
  },
  "language_info": {
   "codemirror_mode": {
    "name": "ipython",
    "version": 3
   },
   "file_extension": ".py",
   "mimetype": "text/x-python",
   "name": "python",
   "nbconvert_exporter": "python",
   "pygments_lexer": "ipython3",
   "version": "3.8.3"
  }
 },
 "nbformat": 4,
 "nbformat_minor": 1
}
