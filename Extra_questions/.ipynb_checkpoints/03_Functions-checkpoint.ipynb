{
 "cells": [
  {
   "cell_type": "markdown",
   "metadata": {
    "id": "qw0NPWR6Rv5v"
   },
   "source": [
    "# <center>Functions Practice Questions</center>"
   ]
  },
  {
   "cell_type": "markdown",
   "metadata": {},
   "source": [
    "### <center>Difficulty Level : Easy</center>"
   ]
  },
  {
   "cell_type": "markdown",
   "metadata": {},
   "source": [
    "- Create a function to calculate the cube of a number that is passed as the argument to the function.\n",
    "\n",
    "    **Example :**\n",
    " \n",
    "```python\n",
    "def cube(number):\n",
    "    ### your code here\n",
    "\n",
    "number = 4\n",
    "\n",
    "cube(number)\n",
    "\n",
    ">>> 64\n",
    "```"
   ]
  },
  {
   "cell_type": "markdown",
   "metadata": {},
   "source": [
    "- Create a function to calculate the sum of square of 2 numbers that are defined as the default arguments and its square output is 5.\n",
    "\n",
    "    **Example :**\n",
    " \n",
    "```python\n",
    "def square(n1 = value,n2 = value):\n",
    "    ### your code here\n",
    "\n",
    "square()\n",
    "\n",
    ">>> 5\n",
    "```                       "
   ]
  },
  {
   "cell_type": "markdown",
   "metadata": {},
   "source": [
    "- Create a function to calculate the factorial of a number which is passed as an argument and assign the output of the function to a variable named `out`.\n",
    "\n",
    "    **Example :**\n",
    " \n",
    "```python\n",
    "def factorial(number):\n",
    "    ### your code here\n",
    "\n",
    "out = factorial(5)\n",
    "out\n",
    "\n",
    ">>> 120\n",
    "```                       "
   ]
  },
  {
   "cell_type": "markdown",
   "metadata": {},
   "source": [
    "- Correct the syntax of the following function to get the required output.\n",
    "\n",
    "    **Note :** Make use of all the concepts covered until now.\n",
    "\n",
    "    **Example :**\n",
    "\n",
    "```python\n",
    "    defn 123string_concatenation{s1 = 'ai',s2 ,s3 = 3);\n",
    "    \n",
    "    elif s3 == 3;\n",
    "    s = s1 + s2 * s3\n",
    "        printf[s,end = '-')\n",
    "    else;;\n",
    "    s = s1 + s2 * 1\n",
    "    printf(s,end = '->'\\\n",
    "    \n",
    "    123string_concat{'adventures']\n",
    "           \n",
    "    >>> 'aiadventuresaiadventuresaiadventures'\n",
    "    \n",
    "```"
   ]
  },
  {
   "cell_type": "markdown",
   "metadata": {},
   "source": [
    "### <center>Difficulty Level : Medium</center>"
   ]
  },
  {
   "cell_type": "markdown",
   "metadata": {},
   "source": [
    "- Create a function to calculate the area of triangle or rectangle using 3 arguments : `base`, `height` and `shape`.\n",
    "\n",
    "    **Example :**\n",
    "\n",
    "```python\n",
    "def calculate_area(base, height,shape):\n",
    "    ### your code here\n",
    "\n",
    "b = 2\n",
    "h = 6\n",
    "\n",
    "calculate_area(b,h, 'Rectangle')\n",
    "\n",
    ">>> 12\n",
    "\n",
    "\n",
    "calculate_area(b,h, 'Triangle')\n",
    "\n",
    ">>> 6.0\n",
    "```"
   ]
  },
  {
   "cell_type": "markdown",
   "metadata": {},
   "source": [
    "- Create a function that returns `None` value and display the result of the string concatenation. You have to take the 2 strings required for the function as argument as shown in the example given below.\n",
    "\n",
    "\n",
    " **Example :**\n",
    " \n",
    "```python\n",
    "\n",
    "def none_value_assignment(s1 = input(),s2 = input()):\n",
    "    ### your code here\n",
    "\n",
    "var1 = none_value_assignment()\n",
    "type(var1)\n",
    "\n",
    ">>> result of string concatenation of s1 and s2\n",
    ">>> NoneType\n",
    "\n",
    "var2 = none_value_assignment('ai', 'adventures')\n",
    "type(var2)\n",
    "\n",
    ">>> aiadventures\n",
    ">>> NoneType\n",
    "\n",
    "\n",
    "```                       "
   ]
  },
  {
   "cell_type": "markdown",
   "metadata": {},
   "source": [
    "### <center>Difficulty Level : Hard</center>"
   ]
  },
  {
   "cell_type": "markdown",
   "metadata": {},
   "source": [
    "- Create a function to calculate and display the sum of the following sequence by taking input from user for `n`.\n",
    "\n",
    "    **Sequence :** 1 + 1/1! + 1/2! + 1/3! + + 1/n!\n",
    "    \n",
    "    **Hint :** Give a thought above `factorial()` you have just created a few problems back.\n",
    "\n",
    "```python \n",
    "def sequence(n):\n",
    "    ### your code here\n",
    "\n",
    "sequence(5)\n",
    ">>> 2.7166666666666663\n",
    "```"
   ]
  },
  {
   "cell_type": "markdown",
   "metadata": {},
   "source": [
    "- Create a function to check whether a string is pangram or not.\n",
    "\n",
    "    **Pangram Definition :** It is a sentence containing all 26 letters of the English alphabets.\n",
    "\n",
    "    **Example :**\n",
    "\n",
    "```python\n",
    "def ispangram(sentence):\n",
    "    ### your code here\n",
    "\n",
    "sentence1 = \"a quick brown fox jumps over the lazy dog\"\n",
    "sentence2 = \"hello my name is ramesh\"\n",
    "\n",
    "ispangram(sentence1)\n",
    "\n",
    ">>> True\n",
    "\n",
    "ispangram(sentence2)\n",
    "\n",
    ">>> False\n",
    "\n",
    "```"
   ]
  },
  {
   "cell_type": "markdown",
   "metadata": {},
   "source": [
    "# <center>Happy Learning!</center>"
   ]
  }
 ],
 "metadata": {
  "colab": {
   "name": "scratchpad",
   "provenance": []
  },
  "kernelspec": {
   "display_name": "Python 3",
   "language": "python",
   "name": "python3"
  },
  "language_info": {
   "codemirror_mode": {
    "name": "ipython",
    "version": 3
   },
   "file_extension": ".py",
   "mimetype": "text/x-python",
   "name": "python",
   "nbconvert_exporter": "python",
   "pygments_lexer": "ipython3",
   "version": "3.7.6"
  }
 },
 "nbformat": 4,
 "nbformat_minor": 1
}
