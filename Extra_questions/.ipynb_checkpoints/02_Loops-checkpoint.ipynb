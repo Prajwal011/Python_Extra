{
 "cells": [
  {
   "cell_type": "markdown",
   "metadata": {
    "id": "qw0NPWR6Rv5v"
   },
   "source": [
    "# <center>Loops Practice Questions</center>"
   ]
  },
  {
   "cell_type": "markdown",
   "metadata": {},
   "source": [
    "### <center>Difficulty Level : Easy</center>"
   ]
  },
  {
   "cell_type": "markdown",
   "metadata": {
    "id": "qQYBHGoGaLAs"
   },
   "source": [
    "- Create a program to display the first 10 even numbers in reverse order in a single line using **end** parameter of print function. \n",
    "\n",
    "    **Note :** Use both the loops."
   ]
  },
  {
   "cell_type": "markdown",
   "metadata": {},
   "source": [
    "- Create a program that displays numbers starting from 20 to 40 with a difference of 5 in a single line using **end** parameter of print function.\n",
    "    \n",
    "    **Note :** Use both the loops."
   ]
  },
  {
   "cell_type": "markdown",
   "metadata": {},
   "source": [
    "- Create a program to display the cube of first 5 numbers in single line using **end** parameter of print function.\n",
    "\n",
    "    **Note :** Use both the loops."
   ]
  },
  {
   "cell_type": "markdown",
   "metadata": {},
   "source": [
    "- Create a program to display the factorial of a number.\n",
    "\n",
    "    **Note :** Use both the loops with positive and negative step values. "
   ]
  },
  {
   "cell_type": "markdown",
   "metadata": {},
   "source": [
    "### <center>Difficulty Level : Medium</center>"
   ]
  },
  {
   "cell_type": "markdown",
   "metadata": {
    "id": "9Nhbu3c5WA-2"
   },
   "source": [
    "- Create a program that keeps on accepting input from user until 0 is entered and print the sum of all the numbers entered at the end."
   ]
  },
  {
   "cell_type": "markdown",
   "metadata": {},
   "source": [
    "-  Create a program to print the following series for `n` terms where `n` is the number taken from the user.\n",
    "\n",
    "   **Series :** 2,22,222,2222,...... n terms"
   ]
  },
  {
   "cell_type": "markdown",
   "metadata": {},
   "source": [
    "### <center>Difficulty Level : Hard</center>"
   ]
  },
  {
   "cell_type": "markdown",
   "metadata": {},
   "source": [
    "- Create a program that displays the first number divisible by 5 between 6 to 16 and then break the loop.\n",
    "\n",
    "    **Note :** Use both the loops."
   ]
  },
  {
   "cell_type": "markdown",
   "metadata": {
    "id": "2tlSas4cWGXe"
   },
   "source": [
    "- Create a program that replicates the following output :\n",
    "\n",
    "    **Note :** Use both the loops.\n",
    "\n",
    "    The Multiplication Table of 2 \n",
    "\n",
    "\n",
    "    2 x 1 = 2\n",
    "\n",
    "    .\n",
    "\n",
    "    .\n",
    "\n",
    "    .\n",
    "\n",
    "    The Multiplication Table of 3\n",
    "\n",
    "\n",
    "    3 x 1 = 3\n",
    "\n",
    "    .\n",
    "\n",
    "    .\n",
    "\n",
    "    .\n",
    "\n",
    "    The Multiplication Table of 4\n",
    "\n",
    "\n",
    "    4 x 1 = 4\n",
    "\n",
    "    .\n",
    "\n",
    "    .\n",
    "\n",
    "    .\t"
   ]
  },
  {
   "cell_type": "markdown",
   "metadata": {},
   "source": [
    "# <center>Happy Learning!</center>"
   ]
  }
 ],
 "metadata": {
  "colab": {
   "name": "scratchpad",
   "provenance": []
  },
  "kernelspec": {
   "display_name": "Python 3",
   "language": "python",
   "name": "python3"
  },
  "language_info": {
   "codemirror_mode": {
    "name": "ipython",
    "version": 3
   },
   "file_extension": ".py",
   "mimetype": "text/x-python",
   "name": "python",
   "nbconvert_exporter": "python",
   "pygments_lexer": "ipython3",
   "version": "3.7.6"
  }
 },
 "nbformat": 4,
 "nbformat_minor": 1
}
