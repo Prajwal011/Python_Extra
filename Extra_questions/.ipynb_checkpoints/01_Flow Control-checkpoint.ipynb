{
 "cells": [
  {
   "cell_type": "markdown",
   "metadata": {
    "id": "qw0NPWR6Rv5v"
   },
   "source": [
    "# Flow Control Practice problems and solutions\n",
    "\n"
   ]
  },
  {
   "cell_type": "markdown",
   "metadata": {
    "id": "SHIka-WmSoD1"
   },
   "source": [
    "- A student will not be allowed to sit in exam if his/her attendance is less than 75%.\n",
    "Take following input from user\n",
    "\n",
    "    - Number of classes held\n",
    "    - Number of classes attended.\n",
    "\n",
    "\n",
    "And print percentage of class attended. Is student is allowed to sit in exam or not.\n",
    "\n"
   ]
  },
  {
   "cell_type": "code",
   "execution_count": 20,
   "metadata": {
    "colab": {
     "base_uri": "https://localhost:8080/"
    },
    "id": "EFllXEDPSv8e",
    "outputId": "cc9546c3-9f0c-41a2-d7cf-2e0c2d026bd5"
   },
   "outputs": [
    {
     "name": "stdout",
     "output_type": "stream",
     "text": [
      "Enter the number of classes held. 20\n",
      "Enter the number of classes attended. 15\n",
      "The student is allowed for the exam.\n"
     ]
    }
   ],
   "source": [
    "cls_held = int(input('Enter the number of classes held. '))\n",
    "cls_atd = int(input('Enter the number of classes attended. '))\n",
    "\n",
    "\n",
    "if (cls_atd/cls_held)*100 >=75:\n",
    "  print('The student is allowed for the exam.')\n",
    "else:\n",
    "  print('The student is allowed for the exam.')"
   ]
  },
  {
   "cell_type": "markdown",
   "metadata": {
    "id": "joQAcohhTim3"
   },
   "source": [
    "-  Write a program to accept the cost price of a bike and display the total price of the bike including tax to be paid according to the following criteria : \n",
    "\n",
    "| Cost price (in Rs)  | Tax |\n",
    "|---------------------|-----|\n",
    "| > 100000            | 15 %| \n",
    "|> 50000 and <= 100000| 10% |\n",
    "|<= 50000             | 5%  |"
   ]
  },
  {
   "cell_type": "code",
   "execution_count": 23,
   "metadata": {
    "colab": {
     "base_uri": "https://localhost:8080/"
    },
    "id": "eXrz_FyWSt2k",
    "outputId": "69835b40-7325-41e8-cf4c-1e98dc9ba316"
   },
   "outputs": [
    {
     "name": "stdout",
     "output_type": "stream",
     "text": [
      "Enter the cost of the bike.75000\n",
      "The final price of your bike will be (Rs.)  82500.0\n"
     ]
    }
   ],
   "source": [
    "cost_price = int(input('Enter the cost of the bike.'))\n",
    "\n",
    "if cost_price > 100000:\n",
    "  total_price = cost_price + (cost_price * 0.15)\n",
    "\n",
    "elif 50000 < cost_price <= 100000:\n",
    "  total_price = cost_price + (cost_price * 0.10)\n",
    "\n",
    "elif cost_price <=50000:\n",
    "  total_price = cost_price + (cost_price * 0.05)\n",
    "\n",
    "print('The final price of your bike will be (Rs.) ',total_price) "
   ]
  },
  {
   "cell_type": "markdown",
   "metadata": {
    "id": "kxUTYMntUYGh"
   },
   "source": [
    "-  Write a program to accept a number from 1 to 12 and display name of the month and days in that month like 1 for January and number of days 31 and so on."
   ]
  },
  {
   "cell_type": "code",
   "execution_count": 26,
   "metadata": {
    "colab": {
     "base_uri": "https://localhost:8080/"
    },
    "id": "nshZxSMESnlo",
    "outputId": "707453e2-c358-4c00-f30f-1a048409d94a"
   },
   "outputs": [
    {
     "name": "stdout",
     "output_type": "stream",
     "text": [
      "Enter the number of the month.1\n",
      "January has 31 Days.\n"
     ]
    }
   ],
   "source": [
    "enter_month  = int(input('Enter the number of the month.'))\n",
    "\n",
    "\n",
    "months = {1: 'January', 2: 'February',3: 'March',4: 'April',\n",
    "          5: 'May',6: 'June',7: 'July',8: 'August',\n",
    "          9: 'September', 10: 'October',11: 'November',12: 'December'}\n",
    "\n",
    "days_31 = [1,3,5,7,8,10,12]\n",
    "days_30 = [4,6,9,11]\n",
    "\n",
    "if enter_month in days_31:\n",
    "  print(months[enter_month] + ' has ' + '31 Days.')\n",
    "\n",
    "elif enter_month in days_30:\n",
    "  print(months[enter_month] + ' has ' + '30 Days.')\n",
    "\n",
    "else :\n",
    "  print(months[enter_month] +' has ' + '28 days') \n",
    "\n",
    "\n"
   ]
  },
  {
   "cell_type": "markdown",
   "metadata": {},
   "source": [
    "- Ask the user, what is the net worth of Mark Zuckerberg. (do not enter commas when entering the number)\n",
    "If the user enters 54500000000, print “yes and that’s a 54.5 billion”. If the user enters less than 54500000000, print “that's not much”. If the user enters more than \n",
    "54500000000, print “I'll make more when I graduate”."
   ]
  },
  {
   "cell_type": "code",
   "execution_count": 2,
   "metadata": {
    "scrolled": true
   },
   "outputs": [
    {
     "name": "stdout",
     "output_type": "stream",
     "text": [
      "What is the net worth of Mark Zuckerberg ??54500000000\n",
      "yes that's 54.5 billion\n"
     ]
    }
   ],
   "source": [
    "user_input = int(input(\"What is the net worth of Mark Zuckerberg ??\"))\n",
    "\n",
    "if user_input == 54500000000:\n",
    "    print(\"yes that's 54.5 billion\")\n",
    "    \n",
    "elif user_input> 54500000000:\n",
    "    print(\"I'll make more when i graduate.\")\n",
    "    \n",
    "else:\n",
    "    print(\"That's not much.\")\n",
    "    "
   ]
  },
  {
   "cell_type": "markdown",
   "metadata": {},
   "source": [
    "- Accept the electric units from user and calculate the bill according to the following rates.\n",
    "\n",
    "First 100 Units     :  Free\n",
    "\n",
    "Next 200 Units      :  Rs 2 per unit\n",
    "\n",
    "Above 300 Units    :  Rs 5 per unit\n",
    "\n",
    "if number of unit is 550 then total bill = 0 +400+1250 = 1650"
   ]
  },
  {
   "cell_type": "code",
   "execution_count": 2,
   "metadata": {},
   "outputs": [
    {
     "name": "stdout",
     "output_type": "stream",
     "text": [
      "enter units: 550\n",
      "bill:  1650\n"
     ]
    }
   ],
   "source": [
    "units= int(input('enter units: '))\n",
    "\n",
    "if units<=100:\n",
    "    print('free')\n",
    "elif 100<units<=300:\n",
    "    print('bill: ',(units-100)*2)\n",
    "elif units>300:\n",
    "    print('bill: ',((units-300)*5+400))"
   ]
  },
  {
   "cell_type": "markdown",
   "metadata": {},
   "source": [
    "- Accept the age, sex (‘M’, ‘F’), number of days and display the wages accordingly\n",
    "      \n",
    "      >=18 and <30             \n",
    "                          M             700 \n",
    "                          F             750\n",
    "      >=30 and <=40            \n",
    "                          M             800\n",
    "                          F             850"
   ]
  },
  {
   "cell_type": "code",
   "execution_count": 3,
   "metadata": {},
   "outputs": [
    {
     "name": "stdout",
     "output_type": "stream",
     "text": [
      "enter age: 23\n",
      "sex: M\n",
      "no of days worked: 30\n",
      "wages:  21000\n"
     ]
    }
   ],
   "source": [
    "age= int(input('enter age: '))\n",
    "sex= input('sex: ')\n",
    "days=int(input('no of days worked: '))\n",
    "\n",
    "if 30>age>=18:\n",
    "    if sex=='M':\n",
    "        print('wages: ',days*700)\n",
    "    elif sex=='F':\n",
    "        print('wages: ',days* 750)\n",
    "elif 40>age>=30:\n",
    "    if sex=='M':\n",
    "        print('wages: ',days*800)\n",
    "    elif sex=='F':\n",
    "        print('wages: ',days* 850)"
   ]
  },
  {
   "cell_type": "markdown",
   "metadata": {},
   "source": [
    "- Accept the number of days from the user and calculate the charge for library according to following :\n",
    "\n",
    "Till five days : Rs 2/day.\n",
    "\n",
    "Six to ten days  : Rs 3/day.\n",
    "\n",
    "11 to 15 days  : Rs 4/day\n",
    "\n",
    "After 15 days    : Rs 5/day"
   ]
  },
  {
   "cell_type": "code",
   "execution_count": 9,
   "metadata": {},
   "outputs": [
    {
     "name": "stdout",
     "output_type": "stream",
     "text": [
      "number of days: 20\n",
      "charges:  70\n"
     ]
    }
   ],
   "source": [
    "days= int(input('number of days: '))\n",
    "\n",
    "if days<=5:\n",
    "    print('charges: ', days*2)\n",
    "elif 5<days<=10:\n",
    "    print('charges: ',((days-5) * 3 + 10))\n",
    "elif 10<days<=15:\n",
    "    print('charges: ',((days-10) * 4 + 25))\n",
    "elif days>15:\n",
    "    print('charges: ',((days-15) * 5 + 45))"
   ]
  },
  {
   "cell_type": "code",
   "execution_count": null,
   "metadata": {},
   "outputs": [],
   "source": []
  }
 ],
 "metadata": {
  "colab": {
   "name": "scratchpad",
   "provenance": []
  },
  "kernelspec": {
   "display_name": "Python 3",
   "language": "python",
   "name": "python3"
  },
  "language_info": {
   "codemirror_mode": {
    "name": "ipython",
    "version": 3
   },
   "file_extension": ".py",
   "mimetype": "text/x-python",
   "name": "python",
   "nbconvert_exporter": "python",
   "pygments_lexer": "ipython3",
   "version": "3.8.3"
  }
 },
 "nbformat": 4,
 "nbformat_minor": 1
}
