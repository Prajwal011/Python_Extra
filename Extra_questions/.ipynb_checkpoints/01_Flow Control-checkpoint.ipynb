{
 "cells": [
  {
   "cell_type": "markdown",
   "metadata": {
    "id": "qw0NPWR6Rv5v"
   },
   "source": [
    "# <center>Flow Control Practice Questions</center>"
   ]
  },
  {
   "cell_type": "markdown",
   "metadata": {},
   "source": [
    "### <center>Difficulty Level : Easy</center>"
   ]
  },
  {
   "cell_type": "markdown",
   "metadata": {
    "id": "SHIka-WmSoD1"
   },
   "source": [
    "- Fill in the blanks with the boolean operators in the following code snippet to get the desired output :\n",
    "\n",
    "| Code Snippet  | Output |\n",
    "|---------------|---------------------|\n",
    "| True __ True | True | \n",
    "| ( 1 > 2 ) __ ( 55 < 54) | False |\n",
    "| ( 55 / 2 ) __ True | True |\n",
    "| __ ( 10 > 5 ) | False |"
   ]
  },
  {
   "cell_type": "markdown",
   "metadata": {},
   "source": [
    "- Create a program that asks the user to enter the net worth of Mark Zuckerberg and display the specific message as mentioned in the table below according input from the user.  \n",
    "\n",
    "    **Note :** Make sure you enter the appropriate message in input function that assists user in entering the values.\n",
    "    \n",
    "    **Note :** Do not enter commas when entering the number.\n",
    "    \n",
    "| Net Worth  | Display |\n",
    "|---------------|---------------------|\n",
    "| = 54500000000 | That's 54.5 billion!| \n",
    "| < 54500000000 | That's not much!|\n",
    "| > 54500000000 | I'll make more when I graduate|"
   ]
  },
  {
   "cell_type": "markdown",
   "metadata": {},
   "source": [
    "- Create a program to accept the cost price of a bike and display the total price of the bike including the tax to be paid according to the following criteria : \n",
    "\n",
    "    **Note :** Make sure you enter the appropriate message in input function that assists user in entering the values.\n",
    "\n",
    "| Cost price (in Rs)  | Tax |\n",
    "|---------------------|-----|\n",
    "| > 100000            | 15 %| \n",
    "|> 50000 and <= 100000| 10% |\n",
    "|<= 50000             | 5%  |"
   ]
  },
  {
   "cell_type": "markdown",
   "metadata": {},
   "source": [
    "- A student needs to have an attendance of atleast 75% to be allowed to sit for the exams. Create a program to check if the student satisfies this attendance criteria to sit for the exams by taking 2 inputs from the user and display the necessary output message along with the attendance in percentage using the print function.\n",
    "\n",
    "    **Note :** Make sure you enter the appropriate message in input function that assists user in entering the values.\n",
    "\n",
    "    **Hint :** Take the user inputs for the following :\n",
    "    - Number of classes held\n",
    "    - Number of classes attended."
   ]
  },
  {
   "cell_type": "markdown",
   "metadata": {},
   "source": [
    "### <center>Difficulty Level : Medium</center>"
   ]
  },
  {
   "cell_type": "markdown",
   "metadata": {},
   "source": [
    "- Create a program that displays the wages of worker depending on their age, gender (‘M’, ‘F’) and number of days they work accodring to the criteria mentioned in the table below:\n",
    "\n",
    "    **Note :** Make sure you enter the appropriate message in input function that assists user in entering the values.\n",
    "\n",
    "      >=18 and <30             \n",
    "                          M             700 \n",
    "                          F             750\n",
    "      >=30 and <=40            \n",
    "                          M             800\n",
    "                          F             850"
   ]
  },
  {
   "cell_type": "markdown",
   "metadata": {},
   "source": [
    "- Create a program to check if a given year is leap year or not.\n",
    "    \n",
    "    **Note :** Make sure you enter the appropriate message in input function that assists user in entering the values.\n",
    "\n",
    "    **Note :** Google to check all the conditions for a year to be a leap year."
   ]
  },
  {
   "cell_type": "markdown",
   "metadata": {},
   "source": [
    "### <center>Difficulty Level : Hard</center>"
   ]
  },
  {
   "cell_type": "markdown",
   "metadata": {},
   "source": [
    "- Create a program that accepts the number of days from the user and calculates the charge for library according to following table :\n",
    "    \n",
    "    **Note :** Make sure you enter the appropriate message in input function that assists user in entering the values.\n",
    "\n",
    "| Number of Days  | Cost / day |\n",
    "|-----------------|----------|\n",
    "| Till 5 days | Rs 2 / day | \n",
    "| 6 to 10 days| Rs 3 / day |\n",
    "|11 to 15 days| Rs 4 / day |\n",
    "|After 15 days| Rs 5 / day |"
   ]
  },
  {
   "cell_type": "markdown",
   "metadata": {},
   "source": [
    "- Create a program that accepts the electric units from user and calculates the bill according to the following rates:\n",
    "\n",
    "   **Note :** Make sure you enter the appropriate message in input function that assists user in entering the values.\n",
    "   \n",
    "   **Example :** \n",
    "   \n",
    "   Number of Unit :550 \n",
    "   \n",
    "   Total Bill : 0 +400+1250 = 1650\n",
    "\n",
    "| Range of Units  | Cost / unit |\n",
    "|-----------------|----------|\n",
    "| First 100 | Free | \n",
    "| Next 200 | Rs 2 / unit |\n",
    "| Above 300 | Rs 5 / unit|"
   ]
  },
  {
   "cell_type": "markdown",
   "metadata": {},
   "source": [
    "# <center>Happy Learning!</center>"
   ]
  }
 ],
 "metadata": {
  "colab": {
   "name": "scratchpad",
   "provenance": []
  },
  "kernelspec": {
   "display_name": "Python 3",
   "language": "python",
   "name": "python3"
  },
  "language_info": {
   "codemirror_mode": {
    "name": "ipython",
    "version": 3
   },
   "file_extension": ".py",
   "mimetype": "text/x-python",
   "name": "python",
   "nbconvert_exporter": "python",
   "pygments_lexer": "ipython3",
   "version": "3.7.6"
  }
 },
 "nbformat": 4,
 "nbformat_minor": 1
}
