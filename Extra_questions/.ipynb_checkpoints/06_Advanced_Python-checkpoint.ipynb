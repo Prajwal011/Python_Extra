{
 "cells": [
  {
   "cell_type": "markdown",
   "metadata": {
    "id": "qw0NPWR6Rv5v"
   },
   "source": [
    "# Advanced Python Practice problems and solutions\n",
    "\n"
   ]
  },
  {
   "cell_type": "markdown",
   "metadata": {},
   "source": [
    "- Find all of the words in a string that are less than 5 letters. \n",
    "`string1 = \"Practice Problems to Drill List Comprehension in Your Head.\"`\n"
   ]
  },
  {
   "cell_type": "code",
   "execution_count": 14,
   "metadata": {},
   "outputs": [
    {
     "data": {
      "text/plain": [
       "['to', 'List', 'in', 'Your']"
      ]
     },
     "execution_count": 14,
     "metadata": {},
     "output_type": "execute_result"
    }
   ],
   "source": [
    "string1 = \"Practice Problems to Drill List Comprehension in Your Head.\"\n",
    "\n",
    "less_5 = [word for word in string1.split(' ') if len(word)<5]\n",
    "\n",
    "less_5"
   ]
  },
  {
   "cell_type": "markdown",
   "metadata": {},
   "source": [
    "- Use a dictionary comprehension to count the length of each word in a sentence.(Use previous string)."
   ]
  },
  {
   "cell_type": "code",
   "execution_count": 15,
   "metadata": {},
   "outputs": [
    {
     "data": {
      "text/plain": [
       "{'Practice': 8,\n",
       " 'Problems': 8,\n",
       " 'to': 2,\n",
       " 'Drill': 5,\n",
       " 'List': 4,\n",
       " 'Comprehension': 13,\n",
       " 'in': 2,\n",
       " 'Your': 4,\n",
       " 'Head.': 5}"
      ]
     },
     "execution_count": 15,
     "metadata": {},
     "output_type": "execute_result"
    }
   ],
   "source": [
    "each_word = {word : len(word) for word in string1.split() }\n",
    "\n",
    "each_word"
   ]
  },
  {
   "cell_type": "markdown",
   "metadata": {},
   "source": [
    "- Given two Python lists `list1 = [10, 20, 30, 40]`, `list2 = [100, 200, 300, 400]`. Iterate both lists simultaneously such that output should look like this `[(10, 400), (20, 300), (30, 200), (40, 100)]`."
   ]
  },
  {
   "cell_type": "code",
   "execution_count": 17,
   "metadata": {},
   "outputs": [
    {
     "data": {
      "text/plain": [
       "[(10, 400), (20, 300), (30, 200), (40, 100)]"
      ]
     },
     "execution_count": 17,
     "metadata": {},
     "output_type": "execute_result"
    }
   ],
   "source": [
    "list1 = [10, 20, 30, 40]\n",
    "list2 = [100, 200, 300, 400]\n",
    "combined = [(i,j) for i , j in zip(list1,list2[::-1])]\n",
    "\n",
    "combined"
   ]
  },
  {
   "cell_type": "code",
   "execution_count": null,
   "metadata": {},
   "outputs": [],
   "source": []
  }
 ],
 "metadata": {
  "colab": {
   "name": "scratchpad",
   "provenance": []
  },
  "kernelspec": {
   "display_name": "Python 3",
   "language": "python",
   "name": "python3"
  },
  "language_info": {
   "codemirror_mode": {
    "name": "ipython",
    "version": 3
   },
   "file_extension": ".py",
   "mimetype": "text/x-python",
   "name": "python",
   "nbconvert_exporter": "python",
   "pygments_lexer": "ipython3",
   "version": "3.8.3"
  }
 },
 "nbformat": 4,
 "nbformat_minor": 1
}
