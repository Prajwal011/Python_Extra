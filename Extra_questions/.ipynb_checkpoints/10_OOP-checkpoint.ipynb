{
 "cells": [
  {
   "cell_type": "markdown",
   "metadata": {
    "id": "qw0NPWR6Rv5v"
   },
   "source": [
    "# OOP Practice problems and solutions\n",
    "\n"
   ]
  },
  {
   "cell_type": "markdown",
   "metadata": {},
   "source": [
    "- Write a Python class named Circle constructed by a radius and two methods which will compute the area and the perimeter of a circle."
   ]
  },
  {
   "cell_type": "code",
   "execution_count": 2,
   "metadata": {},
   "outputs": [
    {
     "name": "stdout",
     "output_type": "stream",
     "text": [
      "200.96\n",
      "50.24\n"
     ]
    }
   ],
   "source": [
    "class Circle():\n",
    "    def __init__(self, r):\n",
    "        self.radius = r\n",
    "\n",
    "    def area(self):\n",
    "        return self.radius**2*3.14\n",
    "    \n",
    "    def perimeter(self):\n",
    "        return 2*self.radius*3.14\n",
    "\n",
    "NewCircle = Circle(8)\n",
    "print(NewCircle.area())\n",
    "print(NewCircle.perimeter())"
   ]
  },
  {
   "cell_type": "markdown",
   "metadata": {},
   "source": [
    "- Create a Class named `BankAccount()` an it should contain attributes as `balance = 10000` and `min_balance=1000`, `withdraw()` and `deposit()` methods repectively.   "
   ]
  },
  {
   "cell_type": "code",
   "execution_count": 3,
   "metadata": {},
   "outputs": [],
   "source": [
    "class BankAccount():\n",
    "\n",
    "    def __init__(self, balance, min_balance):\n",
    "        self.balance = balance\n",
    "        self.min_balance = min_balance\n",
    "\n",
    "    def withdraw(self, amount):\n",
    "        if (self.balance - amount) >= self.min_balance:\n",
    "            self.balance -= amount\n",
    "            return self.balance \n",
    "        else:\n",
    "            print('Sorry, minimum balance must be maintained. \\nYour balance will become ₹ {} after withdrawl'.format(self.balance-amount))\n",
    "\n",
    "\n",
    "# Object \n",
    "new_acc = BankAccount(10000, 1000)"
   ]
  },
  {
   "cell_type": "code",
   "execution_count": 4,
   "metadata": {},
   "outputs": [
    {
     "name": "stdout",
     "output_type": "stream",
     "text": [
      "Sorry, minimum balance must be maintained. \n",
      "Your balance will become ₹ 0 after withdrawl\n"
     ]
    }
   ],
   "source": [
    "new_acc.withdraw(10000)"
   ]
  },
  {
   "cell_type": "markdown",
   "metadata": {},
   "source": [
    "- Create a class called `Animal()` it should have attributes `'name'` and `health` it also should contain methods called `walk(), run()` and `display_health()`. \n",
    "    - `walk()` - Should decrease the health of animal by 1.\n",
    "    - `run()`  - Should decrease the health of animal by 5.\n",
    "    - `display_health()`  - Should display current health of a animal.\n",
    "    \n",
    "  Once you've created the `Animal()` class you should inherit this class to `Dog()` and `Dragon()` classes.\n",
    "\n",
    "    - Dog class - Add a new method called `pet()` it will increase health by 5.\n",
    "    - Dragon class - Add a new method called `fly()` it will decrease health by 10. "
   ]
  },
  {
   "cell_type": "code",
   "execution_count": 5,
   "metadata": {},
   "outputs": [],
   "source": [
    "class Animal():\n",
    "    def __init__(self, name, health):\n",
    "        self.name = name\n",
    "        self.health = health\n",
    "\n",
    "    def walk(self):\n",
    "        self.health-=1\n",
    "\n",
    "    def run(self):\n",
    "        self.health-=5\n",
    "\n",
    "    def display_health(self):\n",
    "        print('Current health of {} is {}.'.format(self.name, self. health))\n",
    "\n",
    "Dog = Animal('Muffin', 100)"
   ]
  },
  {
   "cell_type": "code",
   "execution_count": 6,
   "metadata": {},
   "outputs": [
    {
     "name": "stdout",
     "output_type": "stream",
     "text": [
      "Current health of Muffin is 96.\n"
     ]
    }
   ],
   "source": [
    "Dog.walk()\n",
    "Dog.walk()\n",
    "Dog.walk()\n",
    "Dog.walk()\n",
    "Dog.display_health()"
   ]
  },
  {
   "cell_type": "code",
   "execution_count": 7,
   "metadata": {},
   "outputs": [],
   "source": [
    "class Dog(Animal):\n",
    "    def pet(self):\n",
    "        self.health+=5"
   ]
  },
  {
   "cell_type": "code",
   "execution_count": 8,
   "metadata": {},
   "outputs": [],
   "source": [
    "doggo = Dog('Muffin',100)"
   ]
  },
  {
   "cell_type": "code",
   "execution_count": 9,
   "metadata": {},
   "outputs": [
    {
     "name": "stdout",
     "output_type": "stream",
     "text": [
      "Current health of Muffin is 99.\n"
     ]
    }
   ],
   "source": [
    "doggo.walk()\n",
    "doggo.run()\n",
    "doggo.pet()\n",
    "doggo.display_health()"
   ]
  },
  {
   "cell_type": "code",
   "execution_count": 10,
   "metadata": {},
   "outputs": [],
   "source": [
    "class Dragon(Animal):\n",
    "    def fly(self):\n",
    "        self.health-=10\n",
    "\n",
    "draco = Dragon('Drogon', 200)"
   ]
  },
  {
   "cell_type": "code",
   "execution_count": 11,
   "metadata": {},
   "outputs": [
    {
     "name": "stdout",
     "output_type": "stream",
     "text": [
      "Current health of Drogon is 184.\n"
     ]
    }
   ],
   "source": [
    "draco.walk()\n",
    "draco.run()\n",
    "draco.fly()\n",
    "draco.display_health()"
   ]
  }
 ],
 "metadata": {
  "colab": {
   "name": "scratchpad",
   "provenance": []
  },
  "kernelspec": {
   "display_name": "Python 3",
   "language": "python",
   "name": "python3"
  },
  "language_info": {
   "codemirror_mode": {
    "name": "ipython",
    "version": 3
   },
   "file_extension": ".py",
   "mimetype": "text/x-python",
   "name": "python",
   "nbconvert_exporter": "python",
   "pygments_lexer": "ipython3",
   "version": "3.8.3"
  }
 },
 "nbformat": 4,
 "nbformat_minor": 1
}
