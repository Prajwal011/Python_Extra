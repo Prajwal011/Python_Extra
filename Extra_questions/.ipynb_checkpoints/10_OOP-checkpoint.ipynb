{
 "cells": [
  {
   "cell_type": "markdown",
   "metadata": {
    "id": "qw0NPWR6Rv5v"
   },
   "source": [
    "# <center>OOP Practice Questions</center>"
   ]
  },
  {
   "cell_type": "markdown",
   "metadata": {},
   "source": [
    "### <center>Difficulty Level : Easy</center>"
   ]
  },
  {
   "cell_type": "markdown",
   "metadata": {},
   "source": [
    "- Create a class named `Display_Info` that has 4 instance variables : name, age, hobby and favourite colour and a method `display` that displays the instance variables in the same order. Also, make sure to display a message : **Object Created Successfully!** whenever an object is created.\n",
    "\n",
    "    **Example :**\n",
    " \n",
    "```python\n",
    "class Display_Info():\n",
    "    ### your code here\n",
    "        \n",
    "di1 = Display_Info('Ai Adventures',35,'Drawing','Red')\n",
    "di1.display()\n",
    ">>> Object Created Successfully!\n",
    "Name of the Person :  Ai Adventures\n",
    "Age of the Person :  35\n",
    "Hobby of the Person :  Drawing\n",
    "Favourite Colour of the Person :  Red\n",
    "```"
   ]
  },
  {
   "cell_type": "markdown",
   "metadata": {},
   "source": [
    "- Create a class named `Circle` that has a constructor variable `radius` and 2 methods that calculate the area and the perimeter of the circle.\n",
    "\n",
    "    **Example :**\n",
    " \n",
    "```python\n",
    "class Circle():\n",
    "    ### your code here\n",
    "        \n",
    "c1 = Circle(8)\n",
    "c1.area()\n",
    ">>> 'Area of the Circle :  200.96'\n",
    "\n",
    "c2 = Circle(17)\n",
    "c2.perimeter()\n",
    ">>> 'Perimeter of the Circle :  106.76'\n",
    "```"
   ]
  },
  {
   "cell_type": "markdown",
   "metadata": {},
   "source": [
    "- Create a class named `marks_calculation` that has no constructor and no instance variables but has a method named `percentage` that takes input from the user for marks out of 100 for 5 subjects : `['English','Geometry','History','Science','Geography']` and stores them inside a dictionary with subject names as keys and marks as values. It is then stored as an instance variable `marks`, display this variable alongwith the percentage of the marks.\n",
    "\n",
    "```python\n",
    "class marks_calculation():\n",
    "    ### your code here\n",
    "        \n",
    "m1 = marks_calculation()\n",
    "\n",
    "m1.percentage()\n",
    ">>> Enter the marks for English out of 100 : 90\n",
    "Enter the marks for Geometry out of 100 : 80\n",
    "Enter the marks for History out of 100 : 70\n",
    "Enter the marks for Science out of 100 : 60\n",
    "Enter the marks for Geography out of 100 : 50\n",
    "Percentage :  70.0\n",
    "    \n",
    "m1.marks\n",
    ">>> {'English': 90, 'Geometry': 80, 'History': 70, 'Science': 60, 'Geography': 50}\n",
    "```"
   ]
  },
  {
   "cell_type": "markdown",
   "metadata": {},
   "source": [
    "- Create a class named `BankAccount` that contains 2 initialization variables `balance` and `min_balance = 1000`. Value for `balance` variable is passed during object creation whereas `min_balance` is already defined and does not require a value to be passed to it. It should also contain 2 methods `withdraw()` and `deposit()` that takes an argument to add or reduce the balance. Account should maintain `min_balance` and should not drop the `balance` below it. Display the `balance` after evey withdrawal and deposit.\n",
    "\n",
    "    **Example :**\n",
    " \n",
    "```python\n",
    "class BankAccount():\n",
    "    ### your code here\n",
    "        \n",
    "b1 = BankAccount(3000)\n",
    "b1.withdraw(2000)\n",
    ">>> Withdrawal successful!\n",
    "New Account Balance : ₹ 1000\n",
    "\n",
    "b1.withdraw(500)\n",
    ">>> Withdrawal denied! Cannot let balance cross the min_balance limit!\n",
    "Account balance if this withdrawal is allowed : ₹ 500\n",
    "\n",
    "b1.deposit(1000)\n",
    ">>> Deposit successful!\n",
    "New Account Balance : ₹ 2000\n",
    "```"
   ]
  },
  {
   "cell_type": "markdown",
   "metadata": {},
   "source": [
    "### <center>Difficulty Level : Medium</center>"
   ]
  },
  {
   "cell_type": "markdown",
   "metadata": {},
   "source": [
    "- Create a class named `Point` that consists of 2 constructor variables `x` and `y`, 9 **Dunder** or **Magic** methods and a `length` method to carry out a varied range of operations assuming the constructor variables as x co-ordinate and y co-ordinate of a point respectively. Constructor of the class `Point` should display a message : **Point (x,y) created!** as well.\n",
    "\n",
    "    List of **Dunder** or **Magic** methods : `[addition, subtraction, multiplication, true division, greater than, greater than equal to, less than, less than equal to, equal to equal to]`\n",
    "\n",
    "    **Note :** Google about **Dunder** or **Magic** methods.\n",
    "    \n",
    "    **Example :**\n",
    "    \n",
    "    \n",
    "```python\n",
    "class Point:\n",
    "    ### your code here\n",
    "    \n",
    "p1 = Point(10,5)\n",
    "p2 = Point(5,10)\n",
    "\n",
    "print(p1 + p2)\n",
    "print(p1 - p2)\n",
    "print(p1 * p2)\n",
    "print(p1 / p2)\n",
    "print(p1 > p2)\n",
    "print(p1 >= p2)\n",
    "print(p1 < p2)\n",
    "print(p1 <= p2)\n",
    "print(p1 == p2)\n",
    "\n",
    ">>> \n",
    "Point (10,5) created!\n",
    "Point (5,10) created!\n",
    "(15, 15)\n",
    "(5, -5)\n",
    "100\n",
    "(2.0, 0.5)\n",
    "False\n",
    "True\n",
    "False\n",
    "True\n",
    "False\n",
    "```"
   ]
  },
  {
   "cell_type": "markdown",
   "metadata": {},
   "source": [
    "- Create a class named `Course` that has 1 default value constructor variable `course = 'Machine Learning'` and a method `average_score` that takes marks from the user for 5 tests, assigns it to a new constructor variable `scores` and calculates the average score of these marks. Create another class named `student` which has 2 instance variables `name` and `age` and inherits the `Course` class. It also contains a method `display_info` that displays a message using the attributes of `Course` class and `student` class, it also displays the average score using the `average_score` method of the `Course` class.\n",
    "\n",
    "    **Note :** Try using Super keyword and without using Super keyword.\n",
    "    \n",
    "    **Example :** \n",
    "    \n",
    "```python\n",
    "class Course:\n",
    "    ### your code here\n",
    "    \n",
    "s1 = student('Aiadventures',35)\n",
    "s1.display_info()\n",
    "\n",
    ">>> Aiadventures, age 35, has enrolled in Machine Learning course!\n",
    "Enter the marks scored out of 10 : 8 9 7 10 6\n",
    "Average Score of Aiadventures in Machine Learning course :  8.0\n",
    "```"
   ]
  },
  {
   "cell_type": "markdown",
   "metadata": {},
   "source": [
    "### <center>Difficulty Level : Hard</center>"
   ]
  },
  {
   "cell_type": "markdown",
   "metadata": {},
   "source": [
    "- Create a program that mimics a real-life  **SUPEROVER** in cricket by creating a class named `Team_Performance` having no constructor but 3 constructor variables : `team = {}`, `runs = []` and `wickets = 0` defined in the only method `play` of the class. `play` is responsible for generating the scorecard and storing it inside `team`, runs and wickets are stored inside `runs` and `wickets` respectively. Another class named `Superover` inherits class `Team_Performance` that contains a constructor with 2 instance variables : `team1` and `team2` and displays a message **\"Let's begin the Superover between team1 and team2!\"** whenever an object is created. It also contains a method `begin` that calls the `play` method twice, stores the scorecard, runs and wickets information for both the teams and displays the final ouput.\n",
    "\n",
    "    **Note :** Runs are calculated using random.randint(0,6) from random module.\n",
    "    \n",
    "    **Note :**  '0' is considered as wicket and '5' as run is not accepted.\n",
    "    \n",
    "    **Example :**\n",
    "\n",
    "```python\n",
    "class Team_Performance:\n",
    "    ### your code here\n",
    "    \n",
    "match = Superover('A','B')\n",
    "match.begin()\n",
    "\n",
    ">>> Let's begin the Superover between A and B!\n",
    "Performance of A : {'B1': 4, 'B2': 4, 'B3': 4, 'B4': 1, 'B5': 1, 'B6': 2}\n",
    "Performance of B : {'B1': 2, 'B2': 3, 'B3': 2, 'B4': 6, 'B5': 0, 'B6': 2}\n",
    "Scorecard of A : 16 / 0\n",
    "Scorecard of B : 15 / 1\n",
    "A wins by 1 runs!\n",
    "\n",
    ">>> Let's begin the Superover between A and B!\n",
    "Performance of A : {'B1': 6, 'B2': 1, 'B3': 0, 'B4': 1, 'B5': 1, 'B6': 6} \n",
    "Performance of B : {'B1': 4, 'B2': 1, 'B3': 0, 'B4': 6, 'B5': 3, 'B6': 2}\n",
    "Scorecard of A : 15 / 1\n",
    "Scorecard of B : 16 / 1\n",
    "B wins by 1 runs!\n",
    "\n",
    ">>> Let's begin the Superover between A and B!\n",
    "Performance of A : {'B1': 1, 'B2': 1, 'B3': 4, 'B4': 0, 'B5': 3, 'B6': 6}\n",
    "Performance of B : {'B1': 4, 'B2': 0, 'B3': 2, 'B4': 1, 'B5': 2, 'B6': 6}\n",
    "Scorecard of A : 15 / 1\n",
    "Scorecard of B : 15 / 1\n",
    "Its a Draw!\n",
    "```"
   ]
  },
  {
   "cell_type": "markdown",
   "metadata": {},
   "source": [
    "- Create a program that mimics a race by creating a class named `Player` that has 2 instance variable `name` and `distance = 0`, 1 class variable `number_of_steps` and 3 methods : `walk`, `run` and `jump` that increment `distance` by 0.5, 1 and 2 respectively. Create another class named `Race` with no constructor but with 2 methods : `number_generator` and `start` where `number_generator` uses random.randint to generate numbers. `start` method initiates the game and uses `walk`, `run` and `jump` methods of `Player` when the generated number is an odd number, even number and prime number respectively. Increment the `number_of_steps` variable whenever any of the methods of `Player` is executed and the game is decided by the player that achieves the `distance` of 20 points in the fewest `number_of_steps`.   \n",
    "\n",
    "    **Note :** Do not use inheritance. Pass objects as method arguements.\n",
    "    \n",
    "    **Example :** \n",
    "    \n",
    "```python\n",
    "class Player:\n",
    "    ### your code here\n",
    "    \n",
    "p1 = Player('P1')\n",
    "p2 = Player('P2')\n",
    "race = Race()\n",
    "race.start(p1,p2)\n",
    "\n",
    ">>> P1 won the race with 16 steps!\n",
    "Roadmap of P1 :  {2: 'Jump', 4: 'Jump', 5: 'Run', 7: 'Jump', 8: 'Run', 9: 'Run', 10: 'Run', 12: 'Jump', 12.5: 'Walk', 13.5: 'Run', 15.5: 'Jump', 16.0: 'Walk', 17.0: 'Run', 18.0: 'Run', 20.0: 'Jump', 22.0: 'Jump'}\n",
    "P2 lost the race and took 17 steps!\n",
    "Roadmap of P2 :  {1: 'Run', 2: 'Run', 3: 'Run', 4: 'Run', 5: 'Run', 6: 'Run', 8: 'Jump', 9: 'Run', 11: 'Jump', 12: 'Run', 14: 'Jump', 14.5: 'Walk', 16.5: 'Jump', 17.0: 'Walk', 19.0: 'Jump', 20.0: 'Run', 21.0: 'Run'}\n",
    "\n",
    ">>> P2 won the race with 15 steps!\n",
    "Roadmap of P2 :  {1: 'Run', 3: 'Jump', 3.5: 'Walk', 5.5: 'Jump', 7.5: 'Jump', 8.5: 'Run', 9.5: 'Run', 11.5: 'Jump', 12.5: 'Run', 14.5: 'Jump', 15.5: 'Run', 17.5: 'Jump', 19.5: 'Jump', 20.0: 'Walk', 22.0: 'Jump'}\n",
    "P1 lost the race and took 16 steps!\n",
    "Roadmap of P1 :  {2: 'Jump', 2.5: 'Walk', 3.5: 'Run', 5.5: 'Jump', 6.5: 'Run', 7.0: 'Walk', 9.0: 'Jump', 9.5: 'Walk', 11.5: 'Jump', 13.5: 'Jump', 14.5: 'Run', 15.0: 'Walk', 17.0: 'Jump', 18.0: 'Run', 19.0: 'Run', 21.0: 'Jump'}\n",
    "    \n",
    ">>> Its a Draw!\n",
    "P1 steps : 15\n",
    "Roadmap of P1 :  {2: 'Jump', 3: 'Run', 4: 'Run', 5: 'Run', 7: 'Jump', 9: 'Jump', 9.5: 'Walk', 10.5: 'Run', 11.5: 'Run', 13.5: 'Jump', 14.5: 'Run', 16.5: 'Jump', 18.5: 'Jump', 19.5: 'Run', 21.5: 'Jump'}\n",
    "P2 steps : 15\n",
    "Roadmap of P2 :  {1: 'Run', 3: 'Jump', 5: 'Jump', 6: 'Run', 6.5: 'Walk', 7.5: 'Run', 8.5: 'Run', 10.5: 'Jump', 12.5: 'Jump', 14.5: 'Jump', 15.0: 'Walk', 16.0: 'Run', 18.0: 'Jump', 19.0: 'Run', 21.0: 'Jump'}\n",
    "```"
   ]
  },
  {
   "cell_type": "markdown",
   "metadata": {},
   "source": [
    "# <center>Happy Learning!</center>"
   ]
  }
 ],
 "metadata": {
  "colab": {
   "name": "scratchpad",
   "provenance": []
  },
  "kernelspec": {
   "display_name": "Python 3",
   "language": "python",
   "name": "python3"
  },
  "language_info": {
   "codemirror_mode": {
    "name": "ipython",
    "version": 3
   },
   "file_extension": ".py",
   "mimetype": "text/x-python",
   "name": "python",
   "nbconvert_exporter": "python",
   "pygments_lexer": "ipython3",
   "version": "3.7.6"
  }
 },
 "nbformat": 4,
 "nbformat_minor": 1
}
