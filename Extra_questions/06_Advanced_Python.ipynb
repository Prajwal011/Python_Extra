{
  "nbformat": 4,
  "nbformat_minor": 0,
  "metadata": {
    "colab": {
      "name": "scratchpad",
      "provenance": []
    },
    "kernelspec": {
      "display_name": "Python 3",
      "name": "python3",
      "language": "python"
    }
  },
  "cells": [
    {
      "cell_type": "markdown",
      "metadata": {
        "id": "qw0NPWR6Rv5v"
      },
      "source": [
        "# Advanced Python Practice problems and solutions\n",
        "\n"
      ]
    },
    {
      "source": [
        "- Find all of the words in a string that are less than 5 letters. \n",
        "`string1 = \"Practice Problems to Drill List Comprehension in Your Head.\"`\n"
      ],
      "cell_type": "markdown",
      "metadata": {}
    },
    {
      "cell_type": "code",
      "execution_count": 14,
      "metadata": {},
      "outputs": [
        {
          "output_type": "execute_result",
          "data": {
            "text/plain": [
              "['to', 'List', 'in', 'Your']"
            ]
          },
          "metadata": {},
          "execution_count": 14
        }
      ],
      "source": [
        "string1 = \"Practice Problems to Drill List Comprehension in Your Head.\"\n",
        "\n",
        "less_5 = [word for word in string1.split(' ') if len(word)<5]\n",
        "\n",
        "less_5"
      ]
    },
    {
      "source": [
        "- Use a dictionary comprehension to count the length of each word in a sentence.(Use previous string)."
      ],
      "cell_type": "markdown",
      "metadata": {}
    },
    {
      "cell_type": "code",
      "execution_count": 15,
      "metadata": {},
      "outputs": [
        {
          "output_type": "execute_result",
          "data": {
            "text/plain": [
              "{'Practice': 8,\n",
              " 'Problems': 8,\n",
              " 'to': 2,\n",
              " 'Drill': 5,\n",
              " 'List': 4,\n",
              " 'Comprehension': 13,\n",
              " 'in': 2,\n",
              " 'Your': 4,\n",
              " 'Head.': 5}"
            ]
          },
          "metadata": {},
          "execution_count": 15
        }
      ],
      "source": [
        "each_word = {word : len(word) for word in string1.split() }\n",
        "\n",
        "each_word"
      ]
    },
    {
      "source": [
        "- Given two Python lists `list4 = [10, 20, 30, 40]`, `list5 = [100, 200, 300, 400]`. Iterate both lists simultaneously such that output should look like this `[(10, 400), (20, 300), (30, 200), (40, 100)]`."
      ],
      "cell_type": "markdown",
      "metadata": {}
    },
    {
      "cell_type": "code",
      "execution_count": 16,
      "metadata": {},
      "outputs": [
        {
          "output_type": "execute_result",
          "data": {
            "text/plain": [
              "[(10, 400), (20, 300), (30, 200), (40, 100)]"
            ]
          },
          "metadata": {},
          "execution_count": 16
        }
      ],
      "source": [
        "list4 = [10, 20, 30, 40]\n",
        "list5 = [100, 200, 300, 400]\n",
        "combined = [(i,j) for i , j in zip(list4 ,list5[::-1])]\n",
        "\n",
        "combined"
      ]
    },
    {
      "cell_type": "code",
      "execution_count": null,
      "metadata": {},
      "outputs": [],
      "source": []
    }
  ]
}