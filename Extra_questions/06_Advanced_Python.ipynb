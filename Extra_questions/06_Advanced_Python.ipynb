{
 "cells": [
  {
   "cell_type": "markdown",
   "metadata": {
    "id": "qw0NPWR6Rv5v"
   },
   "source": [
    "# Advanced Python Practice problems and solutions\n",
    "\n"
   ]
  },
  {
   "cell_type": "markdown",
   "metadata": {},
   "source": [
    "- Create a function named as `vowel_count` where you have to take a string as an argument and return the total number of vowels in the string. Try to use list comprehension technique.\n",
    "\n",
    "`string1 = \"practice problems to drill list comprehension in your head.\"`\n",
    "\n",
    "**For Example:-**\n",
    " \n",
    "```python\n",
    "def count_vowels(sentence):\n",
    "    ### your code here\n",
    "\n",
    "string1 = \"practice problems to drill list comprehension in your head.\"\n",
    "\n",
    "count_vowels(string1)\n",
    "\n",
    ">>> 18\n",
    "```\n"
   ]
  },
  {
   "cell_type": "code",
   "execution_count": 1,
   "metadata": {},
   "outputs": [
    {
     "output_type": "execute_result",
     "data": {
      "text/plain": [
       "18"
      ]
     },
     "metadata": {},
     "execution_count": 1
    }
   ],
   "source": [
    "def count_vowels(sentence):\n",
    "    vowels = ['a', 'e', 'i' , 'o', 'u']\n",
    "    return len([ char for char in string1 if char in vowels])\n",
    "\n",
    "\n",
    "string1 = \"practice problems to drill list comprehension in your head.\"\n",
    "count_vowels(string1)"
   ]
  },
  {
   "cell_type": "markdown",
   "metadata": {},
   "source": [
    "- Define a function which will use a dictionary comprehension to create a dictionary which have characters(letters) from above given string `string1`and its value will be `True` if it is vowel or `False` if it is not. \n",
    "\n",
    "\n",
    "**For Example:-**\n",
    " \n",
    "```python\n",
    "def is_vowel(string1)::\n",
    "    ### your code here\n",
    "`string1 = \"practice problems to drill list comprehension in your head.\"`\n",
    "is_vowel(string1)\n",
    "\n",
    ">>> {'p': 'False',\n",
    " 'r': 'False',\n",
    " 'a': ' True',\n",
    " 'c': 'False',\n",
    " 't': 'False',\n",
    " 'i': ' True',\n",
    " 'e': ' True',\n",
    " ' ': 'False',\n",
    " 'o': ' True',\n",
    " 'b': 'False',\n",
    " 'l': 'False',\n",
    " 'm': 'False',\n",
    " 's': 'False',\n",
    " 'd': 'False',\n",
    " 'h': 'False',\n",
    " 'n': 'False',\n",
    " 'y': 'False',\n",
    " 'u': ' True',\n",
    " '.': 'False'}\n",
    "```"
   ]
  },
  {
   "cell_type": "code",
   "execution_count": 3,
   "metadata": {},
   "outputs": [
    {
     "output_type": "execute_result",
     "data": {
      "text/plain": [
       "{'p': 'False',\n",
       " 'r': 'False',\n",
       " 'a': ' True',\n",
       " 'c': 'False',\n",
       " 't': 'False',\n",
       " 'i': ' True',\n",
       " 'e': ' True',\n",
       " ' ': 'False',\n",
       " 'o': ' True',\n",
       " 'b': 'False',\n",
       " 'l': 'False',\n",
       " 'm': 'False',\n",
       " 's': 'False',\n",
       " 'd': 'False',\n",
       " 'h': 'False',\n",
       " 'n': 'False',\n",
       " 'y': 'False',\n",
       " 'u': ' True',\n",
       " '.': 'False'}"
      ]
     },
     "metadata": {},
     "execution_count": 3
    }
   ],
   "source": [
    "def is_vowel(string1):\n",
    "    vowels = ['a', 'e', 'i' , 'o', 'u']\n",
    "    return {char:' True' if char in vowels else 'False' for char in string1 }\n",
    "\n",
    "is_vowel(string1)"
   ]
  },
  {
   "cell_type": "markdown",
   "metadata": {},
   "source": [
    "- Try to create function which will take two lists as arguments and iterate both lists simultaneously such that function should return this `[(10, 400), (20, 300), (30, 200), (40, 100)]`. You can use follwing two lists.\n",
    " \n",
    "`list1 = [10, 20, 30, 40]` \n",
    "\n",
    "`list2 = [100, 200, 300, 400]`.\n",
    "\n",
    "**For Example:-**\n",
    " \n",
    "```python\n",
    "def create_list(l1, l2):\n",
    "    ### your code here\n",
    "\n",
    "\n",
    "`list1 = [10, 20, 30, 40]` \n",
    "`list2 = [100, 200, 300, 400]`\n",
    "\n",
    "create_list(list1, list2)\n",
    "\n",
    ">>> [(10, 400), (20, 300), (30, 200), (40, 100)]\n",
    "```"
   ]
  },
  {
   "cell_type": "code",
   "execution_count": 4,
   "metadata": {},
   "outputs": [
    {
     "output_type": "execute_result",
     "data": {
      "text/plain": [
       "[(10, 400), (20, 300), (30, 200), (40, 100)]"
      ]
     },
     "metadata": {},
     "execution_count": 4
    }
   ],
   "source": [
    "def create_list(l1, l2):\n",
    "    combined = [(i,j) for i , j in zip(l1,l2[::-1])]\n",
    "    return combined\n",
    "\n",
    "list1 = [10, 20, 30, 40]\n",
    "list2 = [100, 200, 300, 400]\n",
    "create_list(list1, list2)"
   ]
  }
 ],
 "metadata": {
  "colab": {
   "name": "scratchpad",
   "provenance": []
  },
  "kernelspec": {
   "display_name": "Python 3",
   "language": "python",
   "name": "python3"
  },
  "language_info": {
   "codemirror_mode": {
    "name": "ipython",
    "version": 3
   },
   "file_extension": ".py",
   "mimetype": "text/x-python",
   "name": "python",
   "nbconvert_exporter": "python",
   "pygments_lexer": "ipython3",
   "version": "3.7.10"
  }
 },
 "nbformat": 4,
 "nbformat_minor": 1
}