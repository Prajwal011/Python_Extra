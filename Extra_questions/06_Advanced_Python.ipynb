{
 "cells": [
  {
   "cell_type": "markdown",
   "metadata": {
    "id": "qw0NPWR6Rv5v"
   },
   "source": [
    "# <center>Advanced Python Questions</center>"
   ]
  },
  {
   "cell_type": "markdown",
   "metadata": {},
   "source": [
    "### <center>Difficulty Level : Easy</center>"
   ]
  },
  {
   "cell_type": "markdown",
   "metadata": {},
   "source": [
    "- Create a list to store the numbers between 111 to 200 that are divisible by 7 using comprehension. "
   ]
  },
  {
   "cell_type": "markdown",
   "metadata": {},
   "source": [
    "- Create a dictionary with 5 key-value pairs that has key as an integer in `string` and their respective value as a `tuple` consisting of 2 elements i.e key in `float` & square value of key in `integer` using comprehension."
   ]
  },
  {
   "cell_type": "markdown",
   "metadata": {},
   "source": [
    "- Create a dictionary with key-value pairs that has key as the number and their respective value as `True` if the length of the number is greater than 1 else `False` using comprehensions. "
   ]
  },
  {
   "cell_type": "markdown",
   "metadata": {},
   "source": [
    "- Create a set that `filters` the numbers that are divisible by 7 as well as 8 between 0 - 1000 using set comprehension."
   ]
  },
  {
   "cell_type": "markdown",
   "metadata": {},
   "source": [
    "### <center>Difficulty Level : Medium</center>"
   ]
  },
  {
   "cell_type": "markdown",
   "metadata": {},
   "source": [
    "- Create a function that takes numbers as input, displays the sum of those numbers and stores the numbers inside a dictionary with number being the key and values being the square root of those numbers in reverse order and in `float` using `map` function and dictionary comprehension.\n",
    "    \n",
    "    **Note :** Use **input()** inside the function and use **.split()** to split the number string. \n",
    "    \n",
    "    **Example :**\n",
    "\n",
    "```python\n",
    "\n",
    "input('Enter the input numbers : ').split()\n",
    ">>> ['1', '2', '3', '4', '5', '6', '7', '8', '9', '10']\n",
    "\n",
    "def number_operation():\n",
    "    ### your code here\n",
    "    \n",
    "number_operation()\n",
    "    \n",
    ">>> Enter the input numbers : 1 2 3 4 5 6 7 8 9 10\n",
    "    \n",
    "    Sum of Input Numbers :  55\n",
    "        \n",
    "    {10.0: 3.1622776601683795, 9.0: 3.0, 8.0: 2.8284271247461903, 7.0: 2.6457513110645907, 6.0: 2.449489742783178, 5.0: 2.23606797749979, 4.0: 2.0, 3.0: 1.7320508075688772, 2.0: 1.4142135623730951, 1.0: 1.0}\n",
    "                                                                                                                            \n",
    "```"
   ]
  },
  {
   "cell_type": "markdown",
   "metadata": {},
   "source": [
    "- Create a function that uses dictionary comprehension to create a dictionary that stores the character of the string as the keys and its value will be a group of  (1,True) if it is a vowel or (0,False) if it is not.\n",
    "\n",
    "    **Note :** Try to solve this using `zip` function and without `zip` function.\n",
    "\n",
    "    **Example :**\n",
    "\n",
    "```python\n",
    "def is_vowel(string1)::\n",
    "    ### your code here\n",
    "    \n",
    "string1 = \"practice problems to drill list comprehension in your head.\"\n",
    "is_vowel(string1)\n",
    "\n",
    ">>> {'p': (0, False),\n",
    " 'r': (0, False),\n",
    " 'a': (1, True),\n",
    " 'c': (0, False),\n",
    " 't': (0, False),\n",
    " 'i': (1, True),\n",
    " 'e': (1, True),\n",
    " ' ': (0, False),\n",
    " 'o': (1, True),\n",
    " 'b': (0, False),\n",
    " 'l': (0, False),\n",
    " 'm': (0, False),\n",
    " 's': (0, False),\n",
    " 'd': (0, False),\n",
    " 'h': (0, False),\n",
    " 'n': (0, False),\n",
    " 'y': (0, False),\n",
    " 'u': (1, True),\n",
    " '.': (0, False)}\n",
    "```"
   ]
  },
  {
   "cell_type": "markdown",
   "metadata": {},
   "source": [
    "### <center>Difficulty Level : Hard</center>"
   ]
  },
  {
   "cell_type": "markdown",
   "metadata": {},
   "source": [
    "- Create a function that mimics a lottery system that is based on the vowels and consonants from the user's name. Vowels are worth 5 points each and consonants are worth 1 point each. Points calculation also includes the index numbers of the vowels and consonants. If the vowel points equates to consonant points, it is a lottery!\n",
    "\n",
    "    **Note :** Enter your name in lowercase. Try solving this using `enumerate` and `range` function.\n",
    "    \n",
    "    **Example :**\n",
    "\n",
    "```python\n",
    "\n",
    "def lottery():\n",
    "    ##Your code here\n",
    "    \n",
    "result('143','345')\n",
    ">>> 'Fermi Pico'\n",
    "\n",
    "result('178','345')\n",
    ">>> 'Bagels'\n",
    "```"
   ]
  },
  {
   "cell_type": "markdown",
   "metadata": {},
   "source": [
    "- Create a function to mimic the `fermi pico bagels` game by passing two strings as arguements using any type of comprehension.\n",
    "\n",
    "    **Note :** Do not pass numbers with repetitive digits.\n",
    "\n",
    "    **Note :** Make use of iterators, loops and flow control statements in the comprehension.\n",
    "\n",
    "    **Example :**\n",
    "\n",
    "```python\n",
    "\n",
    "def result(guess_number,original_number):\n",
    "    ##Your code here\n",
    "    \n",
    "result('143','345')\n",
    ">>> 'Fermi Pico'\n",
    "\n",
    "result('178','345')\n",
    ">>> 'Bagels'\n",
    "```"
   ]
  },
  {
   "cell_type": "markdown",
   "metadata": {},
   "source": [
    "# <center>Happy Learning!</center>"
   ]
  }
 ],
 "metadata": {
  "colab": {
   "name": "scratchpad",
   "provenance": []
  },
  "kernelspec": {
   "display_name": "Python 3",
   "language": "python",
   "name": "python3"
  },
  "language_info": {
   "codemirror_mode": {
    "name": "ipython",
    "version": 3
   },
   "file_extension": ".py",
   "mimetype": "text/x-python",
   "name": "python",
   "nbconvert_exporter": "python",
   "pygments_lexer": "ipython3",
   "version": "3.7.6"
  }
 },
 "nbformat": 4,
 "nbformat_minor": 1
}
