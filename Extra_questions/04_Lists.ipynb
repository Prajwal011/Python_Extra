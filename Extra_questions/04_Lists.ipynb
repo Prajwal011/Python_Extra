{
  "nbformat": 4,
  "nbformat_minor": 0,
  "metadata": {
    "colab": {
      "name": "scratchpad",
      "provenance": []
    },
    "kernelspec": {
      "display_name": "Python 3",
      "name": "python3",
      "language": "python"
    }
  },
  "cells": [
    {
      "cell_type": "markdown",
      "metadata": {
        "id": "qw0NPWR6Rv5v"
      },
      "source": [
        "# Lists Practice problems and solutions\n",
        "\n"
      ]
    },
    {
      "source": [
        "- Reverse a given list in Python `list1 = [8, 6, 4, 2, 0]` "
      ],
      "cell_type": "markdown",
      "metadata": {
        "id": "QFdpL4JQBD0u"
      }
    },
    {
      "cell_type": "code",
      "execution_count": 2,
      "metadata": {},
      "outputs": [
        {
          "output_type": "execute_result",
          "data": {
            "text/plain": [
              "[0, 2, 4, 6, 8]"
            ]
          },
          "metadata": {},
          "execution_count": 2
        }
      ],
      "source": [
        "list1 = [8, 6, 4, 2, 0]\n",
        "print(list1[::-1])"
      ]
    },
    {
      "source": [
        "- Given a Python list of numbers. Turn every item of a list into its square `list2 = [1, 2, 3, 4, 5]`"
      ],
      "cell_type": "markdown",
      "metadata": {}
    },
    {
      "cell_type": "code",
      "execution_count": 3,
      "metadata": {},
      "outputs": [
        {
          "output_type": "stream",
          "name": "stdout",
          "text": [
            "[1, 4, 9, 16, 25]\n"
          ]
        }
      ],
      "source": [
        "list2 = [1, 2, 3, 4, 5]\n",
        "\n",
        "squares = []\n",
        "for i in list2:\n",
        "    squares.append(i**2)\n",
        "print(squares)"
      ]
    },
    {
      "source": [
        "- Remove empty strings from the list of strings `list3 = [\"Vivek\", \"\", \"Ankur\", \"aiadventures\", \"\", \"Pranav\"]`"
      ],
      "cell_type": "markdown",
      "metadata": {}
    },
    {
      "cell_type": "code",
      "execution_count": 4,
      "metadata": {},
      "outputs": [
        {
          "output_type": "stream",
          "name": "stdout",
          "text": [
            "['Vivek', 'Ankur', 'aiadventures', 'Pranav']\n"
          ]
        }
      ],
      "source": [
        "list3 = [\"Vivek\", \"\", \"Ankur\", \"aiadventures\", \"\", \"Pranav\"]\n",
        "\n",
        "for i in list3:\n",
        "    if i == \"\":\n",
        "        list3.remove(i)\n",
        "print(list3)"
      ]
    },
    {
      "source": [
        "- Given a two Python list. Iterate both lists simultaneously such that list1 should display item in original order and list2 in reverse order `list4 = [10, 20, 30, 40]`, `list5 = [100, 200, 300, 400]`"
      ],
      "cell_type": "markdown",
      "metadata": {}
    },
    {
      "cell_type": "code",
      "execution_count": 5,
      "metadata": {},
      "outputs": [],
      "source": [
        "list4 = [10, 20, 30, 40]\n",
        "list5 = [100, 200, 300, 400]\n"
      ]
    }
  ]
}