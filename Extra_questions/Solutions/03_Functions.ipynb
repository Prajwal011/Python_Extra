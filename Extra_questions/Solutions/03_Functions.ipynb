{
 "cells": [
  {
   "cell_type": "markdown",
   "metadata": {
    "id": "qw0NPWR6Rv5v"
   },
   "source": [
    "# <center>Functions Practice Solutions</center>"
   ]
  },
  {
   "cell_type": "markdown",
   "metadata": {},
   "source": [
    "### <center>Difficulty Level : Easy</center>"
   ]
  },
  {
   "cell_type": "markdown",
   "metadata": {},
   "source": [
    "- Create a function to calculate the cube of a number that is passed as the argument to the function.\n",
    "\n",
    "    **Example :**\n",
    " \n",
    "```python\n",
    "def cube(number):\n",
    "    ### your code here\n",
    "\n",
    "number = 4\n",
    "\n",
    "cube(number)\n",
    "\n",
    ">>> 64\n",
    "```"
   ]
  },
  {
   "cell_type": "code",
   "execution_count": 1,
   "metadata": {},
   "outputs": [
    {
     "name": "stdout",
     "output_type": "stream",
     "text": [
      "64\n",
      "64\n"
     ]
    }
   ],
   "source": [
    "# Solution 1 :\n",
    "def cube(number):\n",
    "    return number**3\n",
    "print(cube(4))\n",
    "\n",
    "# Solution 2 :\n",
    "def cube(number):\n",
    "    print(number**3) \n",
    "cube(4)"
   ]
  },
  {
   "cell_type": "markdown",
   "metadata": {},
   "source": [
    "- Create a function to calculate the sum of square of 2 numbers that are defined as the default arguments and its square output is 5.\n",
    "\n",
    "    **Example :**\n",
    " \n",
    "```python\n",
    "def square(n1 = value,n2 = value):\n",
    "    ### your code here\n",
    "\n",
    "square()\n",
    "\n",
    ">>> 5\n",
    "```                       "
   ]
  },
  {
   "cell_type": "code",
   "execution_count": 1,
   "metadata": {},
   "outputs": [
    {
     "output_type": "stream",
     "name": "stdout",
     "text": [
      "5\n"
     ]
    }
   ],
   "source": [
    "# Solution 1 :\n",
    "def sum_of_square(n1 = 1,n2 = 2):\n",
    "    print(( n1)**2 + (n2)** 2)\n",
    "sum_of_square()\n"
   ]
  },
  {
   "cell_type": "markdown",
   "metadata": {},
   "source": [
    "- Create a function to calculate the factorial of a number which is passed as an argument and assign the output of the function to a variable named `out`.\n",
    "\n",
    "    **Example :**\n",
    " \n",
    "```python\n",
    "def factorial(number):\n",
    "    ### your code here\n",
    "\n",
    "out = factorial(5)\n",
    "out\n",
    "\n",
    ">>> 120\n",
    "```                       "
   ]
  },
  {
   "cell_type": "code",
   "execution_count": 2,
   "metadata": {},
   "outputs": [
    {
     "output_type": "stream",
     "name": "stdout",
     "text": [
      "120\n"
     ]
    }
   ],
   "source": [
    "def factorial_1(n):\n",
    "    # Solution using while loop and positive step value :\n",
    "    fact = 1\n",
    "    i = 1\n",
    "    while n >= i:\n",
    "        fact = fact * i\n",
    "        i = i + 1\n",
    "    return(fact)\n",
    "\n",
    "\n",
    "def factorial_2(n):\n",
    "    # Solution using while loop and negative step value :\n",
    "    fact = 1\n",
    "    i = n\n",
    "    while i > 0:\n",
    "        fact = fact * i\n",
    "        i = i - 1\n",
    "    return(fact)\n",
    "\n",
    "\n",
    "def factorial_3(n):\n",
    "    # Solution using for loop and positive step value :\n",
    "    fact = 1\n",
    "    for i in range(1,n+1):\n",
    "        fact = fact * i\n",
    "    return(fact)\n",
    "\n",
    "def factorial_4(n):\n",
    "    # Solution using for loop and negative step value :\n",
    "    fact = 1\n",
    "    for i in range(n,0,-1):\n",
    "        fact = fact * i\n",
    "    return(fact)\n",
    "\n",
    "n = int(input('Enter any number greater than 0 to calculate its factorial : '))\n",
    "out = factorial_4(n)\n",
    "print(out)"
   ]
  },
  {
   "cell_type": "markdown",
   "metadata": {},
   "source": [
    "- Correct the syntax of the following function to get the required output.\n",
    "\n",
    "    **Note :** Make use of all the concepts covered until now.\n",
    "\n",
    "    **Example :**\n",
    "\n",
    "```python\n",
    "    defn 123string_concatenation{s1 = 'ai',s2 ,s3 = 3);\n",
    "    \n",
    "    elif s3 == 3;\n",
    "    s = s1 + s2 * s3\n",
    "        printf[s,end = '-')\n",
    "    else;;\n",
    "    s = s1 + s2 * 1\n",
    "    printf(s,end = '->'\\\n",
    "    \n",
    "    123string_concat{'adventures']\n",
    "           \n",
    "    >>> 'aiadventuresaiadventuresaiadventures'\n",
    "    \n",
    "```"
   ]
  },
  {
   "cell_type": "code",
   "execution_count": 6,
   "metadata": {},
   "outputs": [
    {
     "output_type": "stream",
     "name": "stdout",
     "text": [
      "aiadventuresaiadventuresaiadventures\n"
     ]
    }
   ],
   "source": [
    "def string_concatenation(s2,s1 = 'ai',s3 = 3):\n",
    "\n",
    "    if s3 == 3:\n",
    "        s = ( s1 + s2 ) * s3\n",
    "        print(s)\n",
    "    else:\n",
    "        s = ( s1 + s2 ) * 1\n",
    "        print(s)\n",
    "\n",
    "string_concatenation('adventures')"
   ]
  },
  {
   "cell_type": "markdown",
   "metadata": {},
   "source": [
    "### <center>Difficulty Level : Medium</center>"
   ]
  },
  {
   "cell_type": "markdown",
   "metadata": {},
   "source": [
    "- Create a function to calculate the area of triangle or rectangle with 3 arguments i.e base, height and shape.\n",
    "\n",
    "    **Example :**\n",
    "\n",
    "```python\n",
    "def calculate_area(base, height,shape):\n",
    "    ### your code here\n",
    "\n",
    "b = 2\n",
    "h = 6\n",
    "\n",
    "calculate_area(b,h, 'Rectangle')\n",
    "\n",
    ">>> 12\n",
    "\n",
    "\n",
    "calculate_area(b,h, 'Triangle')\n",
    "\n",
    ">>> 6.0\n",
    "```"
   ]
  },
  {
   "cell_type": "code",
   "execution_count": 5,
   "metadata": {},
   "outputs": [
    {
     "name": "stdout",
     "output_type": "stream",
     "text": [
      "12\n",
      "6.0\n"
     ]
    }
   ],
   "source": [
    "# Solution 1 :\n",
    "def calculate_area(base, height, shape):\n",
    "    if shape == 'Triangle':\n",
    "        area = ( 1 / 2 ) * base * height\n",
    "    elif shape == 'Rectangle':\n",
    "        area = base * height \n",
    "    return area\n",
    "\n",
    "print(calculate_area(2,6,'Rectangle'))\n",
    "\n",
    "print(calculate_area(2,6,'Triangle'))"
   ]
  },
  {
   "cell_type": "markdown",
   "metadata": {},
   "source": [
    "- Create a function that returns 'None' value and display the result of the string concatenation. You have to take the 2 strings required for the function as argument as shown in the example given below.\n",
    "\n",
    "\n",
    " **Example :**\n",
    " \n",
    "```python\n",
    "\n",
    "def none_value_assignment(s1 = input(),s2 = input()):\n",
    "    ### your code here\n",
    "\n",
    "var1 = none_value_assignment()\n",
    "type(var1)\n",
    "\n",
    ">>> result of string concatenation of s1 and s2\n",
    ">>> NoneType\n",
    "\n",
    "var2 = none_value_assignment('ai', 'adventures')\n",
    "type(var2)\n",
    "\n",
    ">>> aiadventures\n",
    ">>> NoneType\n",
    "\n",
    "\n",
    "```                       "
   ]
  },
  {
   "cell_type": "code",
   "execution_count": 5,
   "metadata": {},
   "outputs": [
    {
     "output_type": "stream",
     "name": "stdout",
     "text": [
      "\naiadventures\n"
     ]
    },
    {
     "output_type": "execute_result",
     "data": {
      "text/plain": [
       "NoneType"
      ]
     },
     "metadata": {},
     "execution_count": 5
    }
   ],
   "source": [
    "def none_value_assignment(s1 = input(),s2 = input()):\n",
    "    print( s1 + s2 )\n",
    "\n",
    "var1 = none_value_assignment()\n",
    "type(var1)\n",
    "\n",
    "var2 = none_value_assignment('ai','adventures')\n",
    "type(var2)"
   ]
  },
  {
   "cell_type": "markdown",
   "metadata": {},
   "source": [
    "### <center>Difficulty Level : Hard</center>"
   ]
  },
  {
   "cell_type": "markdown",
   "metadata": {},
   "source": [
    "- Create a function to calculate and display the sum of the following sequence by taking input from user for 'n'.\n",
    "\n",
    "\n",
    "    **Sequence :** 1 + 1/1! + 1/2! + 1/3! + + 1/n!\n",
    "    \n",
    "\n",
    "    **Hint :** Give a thought above `factorial()` you have just created a few problems back.\n",
    "\n",
    "```python \n",
    "def sequence(n):\n",
    "    ### your code here\n",
    "\n",
    "sequence(5)\n",
    ">>> 2.7166666666666663\n",
    "```"
   ]
  },
  {
   "cell_type": "code",
   "execution_count": 7,
   "metadata": {},
   "outputs": [
    {
     "data": {
      "text/plain": [
       "2.7166666666666663"
      ]
     },
     "execution_count": 7,
     "metadata": {},
     "output_type": "execute_result"
    }
   ],
   "source": [
    "# Solution 1 :\n",
    "def sequence(n):\n",
    "    result = 1\n",
    "    for num in range(1 , n + 1):\n",
    "        fact = factorial_1(num)\n",
    "        term = 1 / fact\n",
    "        result += term\n",
    "    return result\n",
    "\n",
    "sequence(5)"
   ]
  },
  {
   "cell_type": "markdown",
   "metadata": {},
   "source": [
    "- Create a function to check whether a string is pangram or not.\n",
    "\n",
    "    **Pangram definition :** It is a sentence containing all 26 letters of the English alphabets.\n",
    "\n",
    "    **Example :**\n",
    "\n",
    "```python\n",
    "def ispangram(sentence):\n",
    "    ### your code here\n",
    "\n",
    "sentence1 = \"a quick brown fox jumps over the lazy dog\"\n",
    "sentence2 = \"hello my name is ramesh\"\n",
    "\n",
    "ispangram(sentence1)\n",
    "\n",
    ">>> True\n",
    "\n",
    "ispangram(sentence2)\n",
    "\n",
    ">>> False\n",
    "\n",
    "```"
   ]
  },
  {
   "cell_type": "code",
   "execution_count": 8,
   "metadata": {},
   "outputs": [
    {
     "name": "stdout",
     "output_type": "stream",
     "text": [
      "It is a pangram.\n",
      "It is not a pangram.\n"
     ]
    }
   ],
   "source": [
    "# Solution 1 :\n",
    "sentence1 = 'a quick brown fox jumps over the lazy dog'\n",
    "sentence2 = 'hello my name is ramesh'\n",
    "\n",
    "def ispangram(string):\n",
    "    count = 0\n",
    "    alphabets = \"abcdefghijklmnopqrstuvwxyz\"\n",
    "    for i in alphabets:\n",
    "        if i in string.lower():\n",
    "            count += 1\n",
    "    return count\n",
    "\n",
    "result = ispangram(sentence1)\n",
    "if result >= 26:\n",
    "    print('It is a pangram.')\n",
    "else:\n",
    "    print('It is not a pangram.')\n",
    "    \n",
    "result = ispangram(sentence2)\n",
    "if result >= 26:\n",
    "    print('It is a pangram.')\n",
    "else:\n",
    "    print('It is not a pangram.')"
   ]
  },
  {
   "cell_type": "code",
   "execution_count": 9,
   "metadata": {},
   "outputs": [
    {
     "name": "stdout",
     "output_type": "stream",
     "text": [
      "It is a pangram.\n",
      "It is not a pangram.\n"
     ]
    }
   ],
   "source": [
    "# Solution 2 :\n",
    "sentence1 = 'a quick brown fox jumps over the lazy dog'\n",
    "sentence2 = 'hello my name is ramesh'\n",
    "\n",
    "def ispangram(string):\n",
    "    alphabets = \"abcdefghijklmnopqrstuvwxyz\"\n",
    "    result = True\n",
    "    for i in alphabets:\n",
    "        if i not in string.lower():\n",
    "            return False\n",
    "    return True\n",
    "\n",
    "result = ispangram(sentence1) \n",
    "if result == True:\n",
    "    print('It is a pangram.')\n",
    "else:\n",
    "    print('It is not a pangram.')\n",
    "    \n",
    "result = ispangram(sentence2)\n",
    "if result == True:\n",
    "    print('It is a pangram.')\n",
    "else:\n",
    "    print('It is not a pangram.')"
   ]
  }
 ],
 "metadata": {
  "colab": {
   "name": "scratchpad",
   "provenance": []
  },
  "kernelspec": {
   "display_name": "Python 3",
   "language": "python",
   "name": "python3"
  },
  "language_info": {
   "codemirror_mode": {
    "name": "ipython",
    "version": 3
   },
   "file_extension": ".py",
   "mimetype": "text/x-python",
   "name": "python",
   "nbconvert_exporter": "python",
   "pygments_lexer": "ipython3",
   "version": "3.7.10-final"
  }
 },
 "nbformat": 4,
 "nbformat_minor": 1
}