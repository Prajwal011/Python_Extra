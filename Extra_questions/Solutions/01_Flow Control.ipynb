{
 "cells": [
  {
   "cell_type": "markdown",
   "metadata": {
    "id": "qw0NPWR6Rv5v"
   },
   "source": [
    "# <center>Flow Control Solutions</center>"
   ]
  },
  {
   "cell_type": "markdown",
   "metadata": {},
   "source": [
    "### <center>Difficulty Level : Easy</center>"
   ]
  },
  {
   "cell_type": "markdown",
   "metadata": {
    "id": "SHIka-WmSoD1"
   },
   "source": [
    "- Fill in the blanks with the boolean operators in the following code snippet to get the desired output :\n",
    "\n",
    "| Code Snippet  | Output |\n",
    "|---------------|---------------------|\n",
    "| True __ True | True | \n",
    "| ( 1 > 2 ) __ ( 55 < 54) | False |\n",
    "| ( 55 / 2 ) __ True | True |\n",
    "| __ ( 10 > 5 ) | False |\n",
    "| __ ( False __ True ) | True |"
   ]
  },
  {
   "cell_type": "code",
   "execution_count": 1,
   "metadata": {},
   "outputs": [
    {
     "name": "stdout",
     "output_type": "stream",
     "text": [
      "True\n",
      "True\n"
     ]
    }
   ],
   "source": [
    "# Solution 1 :\n",
    "print(True or True)\n",
    "\n",
    "# Solution 2 :\n",
    "print(True and True)"
   ]
  },
  {
   "cell_type": "code",
   "execution_count": 2,
   "metadata": {},
   "outputs": [
    {
     "name": "stdout",
     "output_type": "stream",
     "text": [
      "False\n",
      "False\n"
     ]
    }
   ],
   "source": [
    "# Solution 1 :\n",
    "print( ( 1 > 2 ) and ( 55 < 54) )\n",
    "\n",
    "# Solution 2 :\n",
    "print( ( 1 > 2 ) or ( 55 < 54) )"
   ]
  },
  {
   "cell_type": "code",
   "execution_count": 3,
   "metadata": {},
   "outputs": [
    {
     "name": "stdout",
     "output_type": "stream",
     "text": [
      "True\n"
     ]
    }
   ],
   "source": [
    "# Solution 1 :\n",
    "print(( 55 / 2 ) and True)"
   ]
  },
  {
   "cell_type": "code",
   "execution_count": 4,
   "metadata": {},
   "outputs": [
    {
     "name": "stdout",
     "output_type": "stream",
     "text": [
      "False\n"
     ]
    }
   ],
   "source": [
    "# Solution 1 :\n",
    "print( not( 10 > 5 ) )"
   ]
  },
  {
   "cell_type": "code",
   "execution_count": 5,
   "metadata": {},
   "outputs": [
    {
     "name": "stdout",
     "output_type": "stream",
     "text": [
      "True\n"
     ]
    }
   ],
   "source": [
    "# Solution 1 :\n",
    "print( not( False and True ) )"
   ]
  },
  {
   "cell_type": "markdown",
   "metadata": {},
   "source": [
    "- Create a program that asks the user to enter the net worth of Mark Zuckerberg and display the specific message as mentioned in the table below according input from the user.  \n",
    "\n",
    "    **Note :** Make sure you enter the appropriate message in input function that assists user in entering the values.\n",
    "    \n",
    "    **Note :** Do not enter commas when entering the number.\n",
    "    \n",
    "| Net Worth  | Display |\n",
    "|---------------|---------------------|\n",
    "| = 54500000000 | That's 54.5 billion!| \n",
    "| < 54500000000 | That's not much!|\n",
    "| > 54500000000 | I'll make more when I graduate|"
   ]
  },
  {
   "cell_type": "code",
   "execution_count": 6,
   "metadata": {},
   "outputs": [
    {
     "name": "stdout",
     "output_type": "stream",
     "text": [
      "Enter the net worth of Mark Zuckerberg : 5450000000\n",
      "That's not much!\n"
     ]
    }
   ],
   "source": [
    "# Solution 1 :\n",
    "net_worth = int(input(\"Enter the net worth of Mark Zuckerberg : \"))\n",
    "\n",
    "if ( net_worth == 54500000000 ):\n",
    "    print(\"That's 54.5 billion!\")\n",
    "    \n",
    "elif ( net_worth > 54500000000 ):\n",
    "    print(\"I'll make more when I graduate\")\n",
    "    \n",
    "elif ( net_worth < 54500000000 ):\n",
    "    print(\"That's not much!\")"
   ]
  },
  {
   "cell_type": "markdown",
   "metadata": {},
   "source": [
    "- Create a program to accept the cost price of a bike and display the total price of the bike including the tax to be paid according to the following criteria : \n",
    "\n",
    "    **Note :** Make sure you enter the appropriate message in input function that assists user in entering the values.\n",
    "\n",
    "| Cost price (in Rs)  | Tax |\n",
    "|---------------------|-----|\n",
    "| > 100000            | 15 %| \n",
    "|> 50000 and <= 100000| 10% |\n",
    "|<= 50000             | 5%  |"
   ]
  },
  {
   "cell_type": "code",
   "execution_count": 7,
   "metadata": {},
   "outputs": [
    {
     "name": "stdout",
     "output_type": "stream",
     "text": [
      "Enter the cost of the bike : 75000\n",
      "Total Cost of the Bike with Tax :  82500.0\n"
     ]
    }
   ],
   "source": [
    "cost_price = int(input('Enter the cost of the bike : '))\n",
    "\n",
    "if ( cost_price > 100000 ):\n",
    "    print('Total Cost of the Bike with Tax : ', 1.15 * cost_price)\n",
    "\n",
    "elif ( 50000 < cost_price <= 100000 ):\n",
    "    print('Total Cost of the Bike with Tax : ', 1.10 * cost_price)\n",
    "\n",
    "elif ( cost_price <= 50000 ):\n",
    "    print('Total Cost of the Bike with Tax : ', 1.05 * cost_price)"
   ]
  },
  {
   "cell_type": "markdown",
   "metadata": {},
   "source": [
    "- A student needs to have an attendance of atleast 75% to be allowed to sit for the exams. Create a program to check if the student satisfies this attendance criteria to sit for the exams by taking 2 inputs from the user and display the necessary output message along with the attendance in percentage using the print function.\n",
    "\n",
    "    **Note :** Make sure you enter the appropriate message in input function that assists user in entering the values.\n",
    "\n",
    "    **Hint :** Take the user inputs for the following :\n",
    "    - Number of classes held\n",
    "    - Number of classes attended."
   ]
  },
  {
   "cell_type": "code",
   "execution_count": 8,
   "metadata": {
    "colab": {
     "base_uri": "https://localhost:8080/"
    },
    "id": "EFllXEDPSv8e",
    "outputId": "cc9546c3-9f0c-41a2-d7cf-2e0c2d026bd5"
   },
   "outputs": [
    {
     "name": "stdout",
     "output_type": "stream",
     "text": [
      "Enter the number of classes held : 16\n",
      "Enter the number of classes attended : 12\n",
      "The student is allowed for the exam with attendance of  75.0\n"
     ]
    }
   ],
   "source": [
    "cls_held = int(input('Enter the number of classes held : '))\n",
    "cls_atd = int(input('Enter the number of classes attended : '))\n",
    "att = ( cls_atd / cls_held ) * 100\n",
    "\n",
    "if ( att >= 75 ):\n",
    "    print('The student is allowed for the exam with attendance of ',att)\n",
    "else:\n",
    "    print('The student is allowed for the exam due to low attendance of ',att)"
   ]
  },
  {
   "cell_type": "markdown",
   "metadata": {},
   "source": [
    "### <center>Difficulty Level : Medium</center>"
   ]
  },
  {
   "cell_type": "markdown",
   "metadata": {},
   "source": [
    "- Create a program that displays the wages of worker depending on their age, gender (‘M’, ‘F’) and number of days they work accodring to the criteria mentioned in the table below:\n",
    "\n",
    "    **Note :** Make sure you enter the appropriate message in input function that assists user in entering the values.\n",
    "\n",
    "| Age Group           | Gender | Daily Wages |\n",
    "|---------------------|--------|-------------|\n",
    "| >= 18 and < 30      | M      | 700         |\n",
    "|                     | F      | 750         |\n",
    "| >= 30 and <= 40     | M      | 800         |\n",
    "|                     | F      | 850         |"
   ]
  },
  {
   "cell_type": "code",
   "execution_count": 9,
   "metadata": {},
   "outputs": [
    {
     "name": "stdout",
     "output_type": "stream",
     "text": [
      "Enter the age of the worker : 25\n",
      "Enter the gender of the worker : M\n",
      "Enter the number of days the worker has worked : 5\n",
      "Wages :  3500\n"
     ]
    }
   ],
   "source": [
    "# Solution 1 :\n",
    "age = int(input('Enter the age of the worker : '))\n",
    "gender = input('Enter the gender of the worker : ')\n",
    "days = int(input('Enter the number of days the worker has worked : '))\n",
    "\n",
    "if ( 30 > age >= 18 ):\n",
    "    if ( gender == 'M' ):\n",
    "        print('Wages : ',days*700)\n",
    "    elif ( gender == 'F' ):\n",
    "        print('Wages : ',days*750)\n",
    "        \n",
    "elif ( 40 > age >= 30 ):\n",
    "    if ( gender == 'M' ):\n",
    "        print('Wages : ',days*800)\n",
    "    elif ( gender == 'F' ):\n",
    "        print('Wages : ',days*850)"
   ]
  },
  {
   "cell_type": "code",
   "execution_count": 10,
   "metadata": {},
   "outputs": [
    {
     "name": "stdout",
     "output_type": "stream",
     "text": [
      "Enter the age of the worker : 35\n",
      "Enter the gender of the worker : F\n",
      "Enter the number of days the worker has worked : 10\n",
      "Wages :  8500\n"
     ]
    }
   ],
   "source": [
    "# Solution 2 :\n",
    "age = int(input('Enter the age of the worker : '))\n",
    "gender = input('Enter the gender of the worker : ')\n",
    "days = int(input('Enter the number of days the worker has worked : '))\n",
    "\n",
    "\n",
    "if ( gender == 'M' ):\n",
    "    if ( 30 > age >= 18 ):\n",
    "        print('Wages : ',days*700)\n",
    "    elif ( 40 > age >= 30 ):\n",
    "        print('Wages : ',days*800)\n",
    "        \n",
    "elif ( gender == 'F' ):\n",
    "    if ( 30 > age >= 18 ):\n",
    "        print('Wages : ',days*750)\n",
    "    elif ( 40 > age >= 30 ):\n",
    "        print('Wages : ',days*850)"
   ]
  },
  {
   "cell_type": "code",
   "execution_count": 11,
   "metadata": {},
   "outputs": [
    {
     "name": "stdout",
     "output_type": "stream",
     "text": [
      "Enter the age of the worker : 29\n",
      "Enter the gender of the worker : M\n",
      "Enter the number of days the worker has worked : 10\n",
      "Wages :  7000\n"
     ]
    }
   ],
   "source": [
    "# Solution 3 :\n",
    "age = int(input('Enter the age of the worker : '))\n",
    "gender = input('Enter the gender of the worker : ')\n",
    "days = int(input('Enter the number of days the worker has worked : '))\n",
    "\n",
    "\n",
    "if ( gender == 'M' ) and ( 30 > age >= 18 ):\n",
    "    print('Wages : ',days*700)\n",
    "elif ( gender == 'M' ) and ( 40 > age >= 30 ):\n",
    "    print('Wages : ',days*800)\n",
    "elif ( gender == 'F' ) and ( 30 > age >= 18 ):\n",
    "    print('Wages : ',days*750)\n",
    "elif ( gender == 'F' ) and ( 40 > age >= 30 ):\n",
    "    print('Wages : ',days*850)"
   ]
  },
  {
   "cell_type": "markdown",
   "metadata": {},
   "source": [
    "- Create a program to check if a given year is leap year or not.\n",
    "    \n",
    "    **Note :** Make sure you enter the appropriate message in input function that assists user in entering the values.\n",
    "\n",
    "    **Note :** Google to check all the conditions for a year to be a leap year."
   ]
  },
  {
   "cell_type": "code",
   "execution_count": 12,
   "metadata": {},
   "outputs": [
    {
     "name": "stdout",
     "output_type": "stream",
     "text": [
      "Enter the year to be checked for leap year : 2020\n",
      "It is a leap year\n"
     ]
    }
   ],
   "source": [
    "# Solution 1 : \n",
    "year = int(input('Enter the year to be checked for leap year : '))\n",
    "\n",
    "if ( year % 4 == 0 ):\n",
    "    if ( year % 100 != 0 ):\n",
    "        print('It is a leap year')\n",
    "    elif ( year % 400 == 0 ):\n",
    "        print('It is a leap year')\n",
    "else:\n",
    "    print('It is not a leap year')"
   ]
  },
  {
   "cell_type": "code",
   "execution_count": 13,
   "metadata": {},
   "outputs": [
    {
     "name": "stdout",
     "output_type": "stream",
     "text": [
      "Enter the year to be checked for leap year : 2021\n",
      "It is not a leap year\n"
     ]
    }
   ],
   "source": [
    "# Solution 2 : \n",
    "year = int(input('Enter the year to be checked for leap year : '))\n",
    "\n",
    "if (year % 4 == 0) and ((year % 100 != 0) or (year % 400 == 0)):\n",
    "    print('It is a leap year')\n",
    "else:\n",
    "    print('It is not a leap year')"
   ]
  },
  {
   "cell_type": "markdown",
   "metadata": {},
   "source": [
    "### <center>Difficulty Level : Hard</center>"
   ]
  },
  {
   "cell_type": "markdown",
   "metadata": {},
   "source": [
    "- Create a program that accepts the number of days from the user and calculates the charge for library according to following table :\n",
    "    \n",
    "    **Note :** Make sure you enter the appropriate message in input function that assists user in entering the values.\n",
    "\n",
    "| Number of Days  | Cost / day |\n",
    "|-----------------|----------|\n",
    "| Till 5 days | Rs 2 / day | \n",
    "| 6 to 10 days| Rs 3 / day |\n",
    "|11 to 15 days| Rs 4 / day |\n",
    "|After 15 days| Rs 5 / day |"
   ]
  },
  {
   "cell_type": "code",
   "execution_count": 14,
   "metadata": {},
   "outputs": [
    {
     "name": "stdout",
     "output_type": "stream",
     "text": [
      "Enter the number of days : 10\n",
      "Total Library Charge :  25\n"
     ]
    }
   ],
   "source": [
    "days = int(input('Enter the number of days : '))\n",
    "\n",
    "if ( days <= 5 ):\n",
    "    print('Total Library Charge : ', days*2)\n",
    "elif ( 5 < days <= 10 ):\n",
    "    print('Total Library Charge : ',(days - 5) * 3 + 10)\n",
    "elif ( 10 < days <= 15 ):\n",
    "    print('Total Library Charge : ',(days - 10) * 4 + 25)\n",
    "elif ( days > 15 ):\n",
    "    print('Total Library Charge : ',(days - 15) * 5 + 45)"
   ]
  },
  {
   "cell_type": "markdown",
   "metadata": {},
   "source": [
    "- Create a program that accepts the electric units from user and calculates the bill according to the following rates:\n",
    "\n",
    "   **Note :** Make sure you enter the appropriate message in input function that assists user in entering the values.\n",
    "   \n",
    "   **Example :** \n",
    "   \n",
    "   Number of Unit :550 \n",
    "   \n",
    "   Total Bill : 0 +400+1250 = 1650\n",
    "\n",
    "| Range of Units  | Cost / unit |\n",
    "|-----------------|----------|\n",
    "| First 100 | Free | \n",
    "| Next 200 | Rs 2 / unit |\n",
    "| Above 300 | Rs 5 / unit|"
   ]
  },
  {
   "cell_type": "code",
   "execution_count": 15,
   "metadata": {},
   "outputs": [
    {
     "name": "stdout",
     "output_type": "stream",
     "text": [
      "Enter the electricty units : 550\n",
      "Electricty Bill :  1650\n"
     ]
    }
   ],
   "source": [
    "units = int(input('Enter the electricty units : '))\n",
    "\n",
    "if ( units <= 100 ) :\n",
    "    print('Electricty Bill : Free')\n",
    "elif ( 100 < units <= 300 ) :\n",
    "    print('Electricty Bill : ',(units - 100)*2)\n",
    "elif ( units > 300 ):\n",
    "    print('Electricty Bill : ',(units - 300)*5 + 400)"
   ]
  },
  {
   "cell_type": "markdown",
   "metadata": {},
   "source": [
    "# <center>Happy Learning!</center>"
   ]
  }
 ],
 "metadata": {
  "colab": {
   "name": "scratchpad",
   "provenance": []
  },
  "kernelspec": {
   "display_name": "Python 3",
   "language": "python",
   "name": "python3"
  },
  "language_info": {
   "codemirror_mode": {
    "name": "ipython",
    "version": 3
   },
   "file_extension": ".py",
   "mimetype": "text/x-python",
   "name": "python",
   "nbconvert_exporter": "python",
   "pygments_lexer": "ipython3",
   "version": "3.7.6"
  }
 },
 "nbformat": 4,
 "nbformat_minor": 1
}