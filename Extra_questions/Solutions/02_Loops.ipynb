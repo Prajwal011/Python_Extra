{
 "cells": [
  {
   "cell_type": "markdown",
   "metadata": {
    "id": "qw0NPWR6Rv5v"
   },
   "source": [
    "# <center>Loops Solutions</center>"
   ]
  },
  {
   "cell_type": "markdown",
   "metadata": {},
   "source": [
    "### <center>Difficulty Level : Easy</center>"
   ]
  },
  {
   "cell_type": "markdown",
   "metadata": {
    "id": "qQYBHGoGaLAs"
   },
   "source": [
    "- Create a program to display the first 10 even numbers in reverse order in a single line using 'end' parameter of 'print' function. \n",
    "\n",
    "    **Note :** Use both the loops."
   ]
  },
  {
   "cell_type": "code",
   "execution_count": 1,
   "metadata": {
    "colab": {
     "base_uri": "https://localhost:8080/"
    },
    "id": "TqXwZh_dUmtF",
    "outputId": "f473edcf-dba2-4005-8eaf-68b5230b03de"
   },
   "outputs": [
    {
     "name": "stdout",
     "output_type": "stream",
     "text": [
      "20 18 16 14 12 10 8 6 4 2 \n",
      "\n",
      "20 18 16 14 12 10 8 6 4 2 "
     ]
    }
   ],
   "source": [
    "# Solution using While loop :\n",
    "i = 20\n",
    "while i > 0:\n",
    "    print(i, end = ' ')\n",
    "    i-=2\n",
    "print('\\n') \n",
    "\n",
    "# Solution using For Loop :\n",
    "for i in range(20,0,-2):\n",
    "    print(i,end = ' ')"
   ]
  },
  {
   "cell_type": "markdown",
   "metadata": {},
   "source": [
    "- Create a program that displays numbers starting from 20 to 40 with a difference of 5 in a single line using 'end' parameter of 'print' function.\n",
    "    \n",
    "    **Note :** Use both the loops."
   ]
  },
  {
   "cell_type": "code",
   "execution_count": 2,
   "metadata": {},
   "outputs": [
    {
     "name": "stdout",
     "output_type": "stream",
     "text": [
      "20 25 30 35 \n",
      "\n",
      "20 25 30 35 "
     ]
    }
   ],
   "source": [
    "# Solution using While loop :\n",
    "i = 20\n",
    "while 40 > i:\n",
    "    print(i, end = ' ')\n",
    "    i+=5\n",
    "print('\\n')\n",
    "\n",
    "# Solution using For Loop :\n",
    "for i in range(20,40,5):\n",
    "    print(i,end = ' ')"
   ]
  },
  {
   "cell_type": "markdown",
   "metadata": {},
   "source": [
    "- Create a program to display the cube of first 5 numbers in single line using 'end' parameter of 'print' function.\n",
    "\n",
    "    **Note :** Use both the loops."
   ]
  },
  {
   "cell_type": "code",
   "execution_count": 3,
   "metadata": {},
   "outputs": [
    {
     "name": "stdout",
     "output_type": "stream",
     "text": [
      "1 8 27 64 125 \n",
      "\n",
      "1 8 27 64 125 "
     ]
    }
   ],
   "source": [
    "# Solution using While Loop :\n",
    "x = 1\n",
    "while (x < 6):\n",
    "    print(x**3, end = ' ')\n",
    "    x = x + 1\n",
    "print('\\n')\n",
    "\n",
    "# Solution using for Loop :\n",
    "for x in range(1,6):\n",
    "    print(x**3, end = ' ')"
   ]
  },
  {
   "cell_type": "markdown",
   "metadata": {},
   "source": [
    "- Create a program to display the factorial of a number.\n",
    "\n",
    "    **Note :** Use both the loops with positive and negative step values. "
   ]
  },
  {
   "cell_type": "code",
   "execution_count": 4,
   "metadata": {},
   "outputs": [
    {
     "name": "stdout",
     "output_type": "stream",
     "text": [
      "Enter any number greater than 0 to calculate its factorial : 5\n",
      "Factorial of 5 : 120\n",
      "Factorial of 5 : 120\n",
      "Factorial of 5 : 120\n",
      "Factorial of 5 : 120\n"
     ]
    }
   ],
   "source": [
    "n = int(input('Enter any number greater than 0 to calculate its factorial : '))\n",
    "\n",
    "# Solution using while loop and positive step value :\n",
    "fact = 1\n",
    "i = 1\n",
    "while n >= i:\n",
    "    fact = fact * i\n",
    "    i = i + 1\n",
    "print(f'Factorial of {n} : {fact}')\n",
    "\n",
    "# Solution using while loop and negative step value :\n",
    "fact = 1\n",
    "i = n\n",
    "while i > 0:\n",
    "    fact = fact * i\n",
    "    i = i - 1\n",
    "print(f'Factorial of {n} : {fact}')\n",
    "\n",
    "# Solution using for loop and positive step value :\n",
    "fact = 1\n",
    "for i in range(1,n+1):\n",
    "    fact = fact * i\n",
    "print(f'Factorial of {n} : {fact}')\n",
    "\n",
    "# Solution using for loop and negative step value :\n",
    "fact = 1\n",
    "for i in range(n,0,-1):\n",
    "    fact = fact * i\n",
    "print(f'Factorial of {n} : {fact}')"
   ]
  },
  {
   "cell_type": "markdown",
   "metadata": {},
   "source": [
    "### <center>Difficulty Level : Medium</center>"
   ]
  },
  {
   "cell_type": "markdown",
   "metadata": {
    "id": "9Nhbu3c5WA-2"
   },
   "source": [
    "- Create a program that keeps on accepting input from user until 0 is entered and print the sum of all the numbers entered at the end."
   ]
  },
  {
   "cell_type": "code",
   "execution_count": 5,
   "metadata": {
    "colab": {
     "base_uri": "https://localhost:8080/"
    },
    "id": "lIYdn1woOS1n",
    "outputId": "6ecebd5a-6463-49ee-8c42-53eb13a95aa7"
   },
   "outputs": [
    {
     "name": "stdout",
     "output_type": "stream",
     "text": [
      "Enter any number : 5\n",
      "Enter any number : 5\n",
      "Enter any number : 4\n",
      "Enter any number : 0\n",
      "The sum of all the numbers entered uptill now :  14\n"
     ]
    }
   ],
   "source": [
    "# Solution using while loop :\n",
    "num = 1\n",
    "sum = 0\n",
    "while ( num != 0 ):\n",
    "    num = int(input(\"Enter any number : \"))\n",
    "    sum = sum + num\n",
    "print('The sum of all the numbers entered uptill now : ', sum)"
   ]
  },
  {
   "cell_type": "markdown",
   "metadata": {},
   "source": [
    "-  Create a program to print the following series for 'n' terms where 'n' is the number taken from the user.\n",
    "\n",
    "   **Series :** 2,22,222,2222,...... n terms"
   ]
  },
  {
   "cell_type": "code",
   "execution_count": 6,
   "metadata": {},
   "outputs": [
    {
     "name": "stdout",
     "output_type": "stream",
     "text": [
      "Enter any number uptill which the series will be displayed : 5\n",
      "2,22,222,2222,22222\n"
     ]
    }
   ],
   "source": [
    "# Solution 1 :\n",
    "n = int(input('Enter any number uptill which the series will be displayed : '))\n",
    "for i in range(1,n):\n",
    "    print('2'*i,end = ',')\n",
    "print('2'*n)"
   ]
  },
  {
   "cell_type": "markdown",
   "metadata": {},
   "source": [
    "### <center>Difficulty Level : Hard</center>"
   ]
  },
  {
   "cell_type": "markdown",
   "metadata": {},
   "source": [
    "- Create a program that displays the first number divisible by 5 between 6 to 16 and then break the loop.\n",
    "\n",
    "    **Note :** Use both the loops."
   ]
  },
  {
   "cell_type": "code",
   "execution_count": 7,
   "metadata": {},
   "outputs": [
    {
     "name": "stdout",
     "output_type": "stream",
     "text": [
      "10\n",
      "10\n"
     ]
    }
   ],
   "source": [
    "# Solution using while loop :\n",
    "i = 6\n",
    "while i < 17:\n",
    "    if i % 5 == 0:\n",
    "        print(i)\n",
    "        break\n",
    "    i = i + 1\n",
    "\n",
    "# Solution using for loop :\n",
    "for i in range(6,16):\n",
    "    if i % 5 == 0 :\n",
    "        print(i)\n",
    "        break"
   ]
  },
  {
   "cell_type": "markdown",
   "metadata": {
    "id": "2tlSas4cWGXe"
   },
   "source": [
    "- Create a program that replicates the following output :\n",
    "\n",
    "    **Note :** Use both the loops.\n",
    "\n",
    "    The Multiplication Table of 2 \n",
    "\n",
    "\n",
    "    2 x 1 = 2\n",
    "\n",
    "    .\n",
    "\n",
    "    .\n",
    "\n",
    "    .\n",
    "\n",
    "    The Multiplication Table of 3\n",
    "\n",
    "\n",
    "    3 x 1 = 3\n",
    "\n",
    "    .\n",
    "\n",
    "    .\n",
    "\n",
    "    .\n",
    "\n",
    "    The Multiplication Table of 4\n",
    "\n",
    "\n",
    "    4 x 1 = 4\n",
    "\n",
    "    .\n",
    "\n",
    "    .\n",
    "\n",
    "    .\t"
   ]
  },
  {
   "cell_type": "code",
   "execution_count": 8,
   "metadata": {},
   "outputs": [
    {
     "name": "stdout",
     "output_type": "stream",
     "text": [
      "Multiplication Table : 2\n",
      "2 x 1 = 2\n",
      "2 x 2 = 4\n",
      "2 x 3 = 6\n",
      "2 x 4 = 8\n",
      "2 x 5 = 10\n",
      "2 x 6 = 12\n",
      "2 x 7 = 14\n",
      "2 x 8 = 16\n",
      "2 x 9 = 18\n",
      "2 x 10 = 20\n",
      "\t\n",
      "Multiplication Table : 3\n",
      "3 x 1 = 3\n",
      "3 x 2 = 6\n",
      "3 x 3 = 9\n",
      "3 x 4 = 12\n",
      "3 x 5 = 15\n",
      "3 x 6 = 18\n",
      "3 x 7 = 21\n",
      "3 x 8 = 24\n",
      "3 x 9 = 27\n",
      "3 x 10 = 30\n",
      "\t\n",
      "Multiplication Table : 4\n",
      "4 x 1 = 4\n",
      "4 x 2 = 8\n",
      "4 x 3 = 12\n",
      "4 x 4 = 16\n",
      "4 x 5 = 20\n",
      "4 x 6 = 24\n",
      "4 x 7 = 28\n",
      "4 x 8 = 32\n",
      "4 x 9 = 36\n",
      "4 x 10 = 40\n",
      "\t\n"
     ]
    }
   ],
   "source": [
    "# Solution using while loop :\n",
    "i = 2\n",
    "while i <= 4:\n",
    "    print(f'Multiplication Table : {i}')\n",
    "    j = 1\n",
    "    while j <= 10:\n",
    "        print(f'{i} x {j} = {i * j}')\n",
    "        j = j + 1\n",
    "    print('\\t')\n",
    "    i = i + 1"
   ]
  },
  {
   "cell_type": "code",
   "execution_count": 9,
   "metadata": {
    "colab": {
     "base_uri": "https://localhost:8080/"
    },
    "id": "gQUQJ47WAJkt",
    "outputId": "34e9bd4d-9f35-477d-b78d-200405b69f97",
    "scrolled": false
   },
   "outputs": [
    {
     "name": "stdout",
     "output_type": "stream",
     "text": [
      "Multiplication Table : 2\n",
      "2 x 1 = 2\n",
      "2 x 2 = 4\n",
      "2 x 3 = 6\n",
      "2 x 4 = 8\n",
      "2 x 5 = 10\n",
      "2 x 6 = 12\n",
      "2 x 7 = 14\n",
      "2 x 8 = 16\n",
      "2 x 9 = 18\n",
      "2 x 10 = 20\n",
      "\t\n",
      "Multiplication Table : 3\n",
      "3 x 1 = 3\n",
      "3 x 2 = 6\n",
      "3 x 3 = 9\n",
      "3 x 4 = 12\n",
      "3 x 5 = 15\n",
      "3 x 6 = 18\n",
      "3 x 7 = 21\n",
      "3 x 8 = 24\n",
      "3 x 9 = 27\n",
      "3 x 10 = 30\n",
      "\t\n",
      "Multiplication Table : 4\n",
      "4 x 1 = 4\n",
      "4 x 2 = 8\n",
      "4 x 3 = 12\n",
      "4 x 4 = 16\n",
      "4 x 5 = 20\n",
      "4 x 6 = 24\n",
      "4 x 7 = 28\n",
      "4 x 8 = 32\n",
      "4 x 9 = 36\n",
      "4 x 10 = 40\n",
      "\t\n"
     ]
    }
   ],
   "source": [
    "# Solution using for loop :\n",
    "for i in range(2, 5):\n",
    "    print(f'Multiplication Table : {i}')\n",
    "    for j in range(1,11):\n",
    "        print(f'{i} x {j} = {i * j}')\n",
    "    print('\\t')"
   ]
  },
  {
   "cell_type": "markdown",
   "metadata": {},
   "source": [
    "# <center>Happy Learning!</center>"
   ]
  }
 ],
 "metadata": {
  "colab": {
   "name": "scratchpad",
   "provenance": []
  },
  "kernelspec": {
   "display_name": "Python 3",
   "language": "python",
   "name": "python3"
  },
  "language_info": {
   "codemirror_mode": {
    "name": "ipython",
    "version": 3
   },
   "file_extension": ".py",
   "mimetype": "text/x-python",
   "name": "python",
   "nbconvert_exporter": "python",
   "pygments_lexer": "ipython3",
   "version": "3.7.6"
  }
 },
 "nbformat": 4,
 "nbformat_minor": 1
}
