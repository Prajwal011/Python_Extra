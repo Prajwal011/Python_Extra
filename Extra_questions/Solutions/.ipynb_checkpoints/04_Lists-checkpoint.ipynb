{
 "cells": [
  {
   "cell_type": "markdown",
   "metadata": {
    "id": "qw0NPWR6Rv5v"
   },
   "source": [
    "# <center>Lists Practice Solutions</center>"
   ]
  },
  {
   "cell_type": "markdown",
   "metadata": {},
   "source": [
    "### <center>Difficulty Level : Easy</center>"
   ]
  },
  {
   "cell_type": "markdown",
   "metadata": {},
   "source": [
    "- Create a function that will reverse a given list.\n",
    "\n",
    "    **Example :**\n",
    "\n",
    "```python\n",
    "def reverse_list(numbers):\n",
    "    ### your code here\n",
    "    \n",
    "list1 = [8, 6, 4, 2, 0]\n",
    "reverse_list(list1)\n",
    "\n",
    ">>> [0, 2, 4, 6, 8]\n",
    "```"
   ]
  },
  {
   "cell_type": "code",
   "execution_count": 1,
   "metadata": {},
   "outputs": [
    {
     "name": "stdout",
     "output_type": "stream",
     "text": [
      "[0, 2, 4, 6, 8]\n",
      "[0, 2, 4, 6, 8]\n"
     ]
    }
   ],
   "source": [
    "# Solution 1 :\n",
    "def reverse_list(numbers):\n",
    "    return numbers[::-1]\n",
    "\n",
    "list1 = [8, 6, 4, 2, 0]\n",
    "print(reverse_list(list1))\n",
    "\n",
    "# Solution 2 :\n",
    "def reverse_list(numbers):\n",
    "    l1 = []\n",
    "    for i in range(len(numbers)):\n",
    "        l1.append(numbers[-(i+1)])\n",
    "    return(l1)\n",
    "\n",
    "list1 = [8, 6, 4, 2, 0]\n",
    "print(reverse_list(list1))"
   ]
  },
  {
   "cell_type": "markdown",
   "metadata": {},
   "source": [
    "- Create a function that will display the square of every element of the list provided as an argument\n",
    "\n",
    "    **Example :**\n",
    " \n",
    "```python\n",
    "def square_list(list_numbers):\n",
    "    ### your code here\n",
    "\n",
    "list2 = [1, 2, 3, 4, 5]\n",
    "square_list(list2)\n",
    ">>> 1\n",
    "    4\n",
    "    9\n",
    "    16\n",
    "    25\n",
    "```"
   ]
  },
  {
   "cell_type": "code",
   "execution_count": 2,
   "metadata": {},
   "outputs": [
    {
     "name": "stdout",
     "output_type": "stream",
     "text": [
      "1\n",
      "4\n",
      "9\n",
      "16\n",
      "25\n",
      "1\n",
      "4\n",
      "9\n",
      "16\n",
      "25\n"
     ]
    }
   ],
   "source": [
    "# Solution 1 :\n",
    "def square_list(list_numbers):\n",
    "    for i in list_numbers:\n",
    "        print(i ** 2)\n",
    "\n",
    "list2 = [1, 2, 3, 4, 5]\n",
    "square_list(list2)\n",
    "\n",
    "def square_list(list_numbers):\n",
    "    for i in range(len(list_numbers)):\n",
    "        print(list_numbers[i] ** 2)\n",
    "\n",
    "list2 = [1, 2, 3, 4, 5]\n",
    "square_list(list2)"
   ]
  },
  {
   "cell_type": "markdown",
   "metadata": {},
   "source": [
    "- Create a function that will take list of fruits and a new fruit as 2 arguments. Add the new fruit into the list of fruits and display the updated list. Also, try adding the new fruit at the index position 2.\n",
    "\n",
    "    **Example :**\n",
    "\n",
    "```python\n",
    "def to_append(fruits, new_fruit):\n",
    "    ### your code here\n",
    "\n",
    "fruits = ['banana', 'orange', 'mango', 'lemon']\n",
    "new_fruit = 'blueberry'\n",
    "\n",
    "to_append(fruits, new_fruit)\n",
    "\n",
    ">>> ['banana', 'orange', 'mango', 'lemon', 'blueberry']\n",
    "\n",
    "to_append(fruits, new_fruit)\n",
    "\n",
    ">>> ['banana', 'orange','blueberry' ,'mango', 'lemon',]\n",
    "```"
   ]
  },
  {
   "cell_type": "code",
   "execution_count": 3,
   "metadata": {},
   "outputs": [
    {
     "name": "stdout",
     "output_type": "stream",
     "text": [
      "['banana', 'orange', 'mango', 'lemon', 'blueberry']\n",
      "['banana', 'orange', 'blueberry', 'mango', 'lemon']\n"
     ]
    }
   ],
   "source": [
    "# Solution 1 :\n",
    "def to_append(fruits, new_fruit):\n",
    "    fruits.append(new_fruit)\n",
    "    return fruits\n",
    "\n",
    "fruits = ['banana', 'orange', 'mango', 'lemon']\n",
    "new_fruit = 'blueberry'\n",
    "print(to_append(fruits, new_fruit))\n",
    "\n",
    "def to_append(fruits, new_fruit):\n",
    "    fruits.insert(2,new_fruit)\n",
    "    return fruits\n",
    "\n",
    "fruits = ['banana', 'orange', 'mango', 'lemon']\n",
    "new_fruit = 'blueberry'\n",
    "print(to_append(fruits, new_fruit))"
   ]
  },
  {
   "cell_type": "markdown",
   "metadata": {},
   "source": [
    "- Create a function that will take a list as an argument and return an updated list after removing empty strings from the list. `list3 = [\"Vivek\", \"\", \"Ankur\", \"aiadventures\", \"\", \"Pranav\"]`.\n",
    "\n",
    "    **Example :**\n",
    " \n",
    "```python\n",
    "def remove_spaces(list_names):\n",
    "    ### your code here\n",
    "\n",
    "list3 = [\"Vivek\", \"\", \"Ankur\", \"aiadventures\", \"\", \"Pranav\"]\n",
    "remove_spaces(list3)\n",
    "\n",
    ">>> ['Vivek', 'Ankur', 'aiadventures', 'Pranav']\n",
    "```"
   ]
  },
  {
   "cell_type": "code",
   "execution_count": 4,
   "metadata": {},
   "outputs": [
    {
     "data": {
      "text/plain": [
       "['Vivek', 'Ankur', 'aiadventures', 'Pranav']"
      ]
     },
     "execution_count": 4,
     "metadata": {},
     "output_type": "execute_result"
    }
   ],
   "source": [
    "# Solution 1 :\n",
    "def remove_spaces(list_names):\n",
    "    for i in list_names:\n",
    "        if i == \"\":\n",
    "            list_names.remove(i)\n",
    "    return list_names\n",
    "\n",
    "list3 = [\"Vivek\", \"\", \"Ankur\", \"aiadventures\", \"\", \"Pranav\"]    \n",
    "remove_spaces(list3)"
   ]
  },
  {
   "cell_type": "markdown",
   "metadata": {},
   "source": [
    "### <center>Difficulty Level : Medium</center>"
   ]
  },
  {
   "cell_type": "markdown",
   "metadata": {},
   "source": [
    "- Create a function that takes 2 lists as arguments and it iterates over both lists simultaneously such that output should display items in original order from 1st list and elements from 2nd list in reverse order. \n",
    "\n",
    "    **Note :** Please give attention to the output as it doesn't include `[]` brackets.\n",
    "\n",
    "    **Example :**\n",
    " \n",
    "```python\n",
    "def reverse_list(first, second):\n",
    "    ### your code here\n",
    "\n",
    "list4 = [10, 20, 30, 40]\n",
    "list5 = [100, 200, 300, 400]\n",
    "\n",
    "reverse_list(list4, list5)\n",
    ">>> 10 20 30 40 400 300 200 100 \n",
    "```"
   ]
  },
  {
   "cell_type": "code",
   "execution_count": 5,
   "metadata": {},
   "outputs": [
    {
     "name": "stdout",
     "output_type": "stream",
     "text": [
      "10 20 30 40 400 300 200 100 "
     ]
    }
   ],
   "source": [
    "# Solution 1 :\n",
    "def reverse_list(first, second):\n",
    "    \n",
    "    for i in (first+second[::-1]):\n",
    "        print(i ,end = ' ')\n",
    "\n",
    "list4 = [10, 20, 30, 40]\n",
    "list5 = [100, 200, 300, 400]\n",
    "\n",
    "reverse_list(list4, list5)"
   ]
  },
  {
   "cell_type": "markdown",
   "metadata": {},
   "source": [
    "- Create a function that takes 2 lists as arguments and returns a new single list by performing the string replication between the elements of the lists. The elements should be selected in original order from the 1st list and in reverse order from the 2nd list.\n",
    "\n",
    "    **Example :**\n",
    " \n",
    "```python\n",
    "def multiply_elements(first, second):\n",
    "    ### your code here\n",
    "\n",
    "list4 = ['Ai', 'Adventures', 'Python', 'ML']\n",
    "list5 = [1, 2, 3, 4]\n",
    "\n",
    "reverse_list(list4, list5)\n",
    ">>> ['AiAiAiAi', 'AdventuresAdventuresAdventures', 'PythonPython','ML'] \n",
    "```"
   ]
  },
  {
   "cell_type": "code",
   "execution_count": 6,
   "metadata": {},
   "outputs": [
    {
     "data": {
      "text/plain": [
       "['AiAiAiAi', 'AdventuresAdventuresAdventures', 'PythonPython', 'ML']"
      ]
     },
     "execution_count": 6,
     "metadata": {},
     "output_type": "execute_result"
    }
   ],
   "source": [
    "# Solution 1 :\n",
    "def multiply_elements(first, second):\n",
    "    l1 = []\n",
    "    for i in range(len(first)):\n",
    "        l1.append(first[i] * second[-(i+1)])\n",
    "    return(l1)\n",
    "\n",
    "list4 = ['Ai', 'Adventures', 'Python', 'ML']\n",
    "list5 = [1, 2, 3, 4]\n",
    "\n",
    "multiply_elements(list4, list5)"
   ]
  },
  {
   "cell_type": "markdown",
   "metadata": {},
   "source": [
    "### <center>Difficulty Level : Hard</center>"
   ]
  },
  {
   "cell_type": "markdown",
   "metadata": {},
   "source": [
    "- We're using lists to record people that attended our party and in the order they arrive in. For example, the following list represents a party with 7 guests, in which Adela showed up first and Ford was the last to arrive:\n",
    "\n",
    "    `party_attendees = ['Adela', 'Fleda', 'Owen', 'May', 'Mona', 'Gilbert', 'Ford']`\n",
    "\n",
    "    A guest is considered 'fashionably late' if they arrived after at least half of the party's guests. However, they must not be the very last guest (that's taking it too far). In the above example, Mona and Gilbert are the only guests who were fashionably late.\n",
    "\n",
    "    Create a function which takes a list of party attendees as well as a person as arguments and displays whether that person is fashionably late or not.\n",
    "\n",
    "   **Example :**\n",
    "\n",
    "```python\n",
    "def fashionably_late(arrivals, name):\n",
    "    ### your code here\n",
    "\n",
    "party_attendees = ['Adela', 'Fleda', 'Owen', 'May', 'Mona', 'Gilbert', 'Ford']\n",
    "fashionably_late(party_attendees, 'Mona')\n",
    ">>> True\n",
    "fashionably_late(party_attendees, 'Ford')\n",
    ">>> False\n",
    "```"
   ]
  },
  {
   "cell_type": "code",
   "execution_count": 7,
   "metadata": {},
   "outputs": [
    {
     "name": "stdout",
     "output_type": "stream",
     "text": [
      "True\n",
      "False\n"
     ]
    }
   ],
   "source": [
    "# Solution 1 :\n",
    "def fashionably_late(arrivals, name):\n",
    "    order = arrivals.index(name)\n",
    "    return order >= len(arrivals) / 2 and order != len(arrivals)-1\n",
    "\n",
    "party_attendees = ['Adela', 'Fleda', 'Owen', 'May', 'Mona', 'Gilbert', 'Ford']\n",
    "\n",
    "print(fashionably_late(party_attendees,'Mona'))\n",
    "\n",
    "print(fashionably_late(party_attendees,'Ford'))"
   ]
  },
  {
   "cell_type": "markdown",
   "metadata": {},
   "source": [
    "- Create a function that takes 2 empty lists as arguments. The 1st list is updated with any 3 strings and the 2nd list is updated with any 3 integers. Then add the elements of the 2 lists in alternate manner into a new list and finally replace the string elements of the new list with the output of the `len()` of the same string. Display all the new list along the way.\n",
    "\n",
    "    **Note :** Use loops to update the empty lists.\n",
    "\n",
    "    **Example :**\n",
    " \n",
    "```python\n",
    "def list_operations(first, second):\n",
    "    ### your code here\n",
    "\n",
    "reverse_list([],[])\n",
    ">>> 'List of all string elements' :  ['Ai', 'Adventures', 'Python']\n",
    "    'List of all integer elements' :  [10, 20, 30]\n",
    "    'List with alternate string and integer elements from the above 2 lists' :  ['Ai', 10, 'Adventures', 9, 'Python', 25]\n",
    "    'Final output list' :  [2, 10, 10, 20, 6, 30]\n",
    "```"
   ]
  },
  {
   "cell_type": "code",
   "execution_count": 8,
   "metadata": {},
   "outputs": [
    {
     "name": "stdout",
     "output_type": "stream",
     "text": [
      "Enter any string value :Ai\n",
      "Enter any integer value :10\n",
      "Enter any string value :Adventures\n",
      "Enter any integer value :20\n",
      "Enter any string value :Python\n",
      "Enter any integer value :30\n",
      "List of all string elements :  ['Ai', 'Adventures', 'Python']\n",
      "List of all integer elements :  [10, 20, 30]\n",
      "List with alternate string and integer elements from the above 2 lists :  ['Ai', 10, 'Adventures', 20, 'Python', 30]\n",
      "Final output list :  [2, 10, 10, 20, 6, 30]\n"
     ]
    }
   ],
   "source": [
    "# Solution 1 :\n",
    "def list_operations(l1,l2):\n",
    "    for i in range(3):\n",
    "        l1.append(input('Enter any string value :'))\n",
    "        l2.append(int(input('Enter any integer value :')))\n",
    "    print('List of all string elements : ',l1)\n",
    "    print('List of all integer elements : ',l2)\n",
    "    l3 = []\n",
    "    for i in range(len(l1)):\n",
    "        l3.append(l1[i])\n",
    "        l3.append(l2[i])\n",
    "    print('List with alternate string and integer elements from the above 2 lists : ',l3)\n",
    "    for i in range(len(l3)):\n",
    "        if type(l3[i]) == str:\n",
    "            l3[i] = len(l3[i])\n",
    "    print('Final output list : ',l3)\n",
    "list_operations([],[])"
   ]
  }
 ],
 "metadata": {
  "colab": {
   "name": "scratchpad",
   "provenance": []
  },
  "kernelspec": {
   "display_name": "Python 3",
   "language": "python",
   "name": "python3"
  },
  "language_info": {
   "codemirror_mode": {
    "name": "ipython",
    "version": 3
   },
   "file_extension": ".py",
   "mimetype": "text/x-python",
   "name": "python",
   "nbconvert_exporter": "python",
   "pygments_lexer": "ipython3",
   "version": "3.7.6"
  }
 },
 "nbformat": 4,
 "nbformat_minor": 1
}
