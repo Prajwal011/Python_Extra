{
 "cells": [
  {
   "cell_type": "markdown",
   "metadata": {
    "id": "qw0NPWR6Rv5v"
   },
   "source": [
    "# <center>Other Data Structures Solutions</center>"
   ]
  },
  {
   "cell_type": "markdown",
   "metadata": {},
   "source": [
    "### <center>Difficulty Level : Easy</center>"
   ]
  },
  {
   "cell_type": "markdown",
   "metadata": {},
   "source": [
    "- Create a dictionary named `student` and it should contain your 'Name', 'Gender', 'Age' & 'Programming language'. After creating it add a new key 'Roll number' and set its value as 43 into the dictionary."
   ]
  },
  {
   "cell_type": "code",
   "execution_count": 1,
   "metadata": {},
   "outputs": [
    {
     "name": "stdout",
     "output_type": "stream",
     "text": [
      "{'Name': 'Pranav', 'Gender': 'Male', 'Age': 24, 'Programming Language': 'C', 'Roll number': 43}\n",
      "{'Name': 'Pranav', 'Gender': 'Male', 'Age': 24, 'Programming Language': 'C', 'Roll number': 43}\n"
     ]
    }
   ],
   "source": [
    "# Solution 1 :\n",
    "student = {'Name' : 'Pranav', 'Gender': 'Male','Age' : 24, 'Programming Language': 'C'}\n",
    "\n",
    "student['Roll number'] = 43\n",
    "print(student)\n",
    "\n",
    "# Solution 2 :\n",
    "student = {'Name' : 'Pranav', 'Gender': 'Male','Age' : 24, 'Programming Language': 'C'}\n",
    "\n",
    "student.update({'Roll number' : 43})\n",
    "print(student)"
   ]
  },
  {
   "cell_type": "markdown",
   "metadata": {},
   "source": [
    "- Create a function to display how many times `'A'` is immediately followed by `'B'` in the string `'QABABCABGPABTCCABC'`.\n",
    "\n",
    "    **Example :**\n",
    "    \n",
    "```python\n",
    "def match_string(string,substring):\n",
    "    ### your code here\n",
    "\n",
    "string = 'QABABCABGPABTCCABC'\n",
    "substring = 'AB'\n",
    "\n",
    "match_string(string,substring)\n",
    ">>> 5```    "
   ]
  },
  {
   "cell_type": "code",
   "execution_count": 2,
   "metadata": {},
   "outputs": [
    {
     "name": "stdout",
     "output_type": "stream",
     "text": [
      "5\n"
     ]
    }
   ],
   "source": [
    "# Solution 1 :\n",
    "def match_string(string,substring):\n",
    "    count = 0\n",
    "    for i in range(len(string)):\n",
    "        if substring == string[i:i+2]:\n",
    "            count += 1\n",
    "    print(count)\n",
    "    \n",
    "\n",
    "string = 'QABABCABGPABTCCABC'\n",
    "substring = 'AB'\n",
    "\n",
    "match_string(string,substring)"
   ]
  },
  {
   "cell_type": "markdown",
   "metadata": {},
   "source": [
    "- Create a function that takes 2 dictionaries as arguments and returns the total bill after selling every fruit according to their rate specified.\n",
    "\n",
    "    **Example :**\n",
    " \n",
    "```python\n",
    "def total_bill(first, second):\n",
    "    ### your code here\n",
    "\n",
    "stock = {\"banana\": 6, \"apple\": 0, \"orange\": 32, \"pear\": 15}\n",
    "prices = {\"banana\": 4, \"apple\": 2, \"orange\": 1.5, \"pear\": 3}\n",
    "\n",
    "total_bill(stock, prices)\n",
    ">>> 117.0```"
   ]
  },
  {
   "cell_type": "code",
   "execution_count": 3,
   "metadata": {},
   "outputs": [
    {
     "name": "stdout",
     "output_type": "stream",
     "text": [
      "117.0\n"
     ]
    }
   ],
   "source": [
    "# Solution 1 :\n",
    "\n",
    "stock = {\"banana\": 6, \"apple\": 0, \"orange\": 32, \"pear\": 15}\n",
    "prices = {\"banana\": 4, \"apple\": 2, \"orange\": 1.5, \"pear\": 3}\n",
    "\n",
    "def total_bill(first,second):\n",
    "    sum = 0 \n",
    "    for i in first.keys():\n",
    "        sum = sum + (first[i] * second[i])\n",
    "        \n",
    "    print(sum)\n",
    "\n",
    "total_bill(stock,prices)"
   ]
  },
  {
   "cell_type": "markdown",
   "metadata": {},
   "source": [
    "- Create a dictionary by assigning the keys from a list and its values from the user using input function.\n",
    "\n",
    "    **List :**\n",
    "    \n",
    "    keys_list = [ \"Name\", \"Birth Month\", \"Programming Language\", \"Salary\" ]\n",
    "\n",
    "    **Example :**\n",
    "\n",
    "```python\n",
    "\n",
    "def create_dict(keys_list):\n",
    "    ### your code here\n",
    "    sampleDict = {}\n",
    "\n",
    "keys_list = [ \"Name\", \"Birth Month\", \"Programming Language\", \"Salary\" ]\n",
    "\n",
    "create_dict(keys_list)\n",
    ">>> \n",
    "```"
   ]
  },
  {
   "cell_type": "code",
   "execution_count": 4,
   "metadata": {},
   "outputs": [
    {
     "name": "stdout",
     "output_type": "stream",
     "text": [
      "Enter your Name : Ai Adventures\n",
      "Enter your Birth Month : February\n",
      "Enter your Programming Language : Python\n",
      "Enter your Salary : 80000\n",
      "{'Name': 'Ai Adventures', 'Birth Month': 'February', 'Programming Language': 'Python', 'Salary': '80000'}\n",
      "Enter your Name : Ai Adventures\n",
      "Enter your Birth Month : February\n",
      "Enter your Programming Language : Python\n",
      "Enter your Salary : 1000\n",
      "{'Name': 'Ai Adventures', 'Birth Month': 'February', 'Programming Language': 'Python', 'Salary': '1000'}\n"
     ]
    }
   ],
   "source": [
    "# Solution 1 :\n",
    "\n",
    "keys_list = [ \"Name\", \"Birth Month\", \"Programming Language\", \"Salary\" ]\n",
    "\n",
    "def create_dict(keys_list):\n",
    "    sampleDict = {}\n",
    "    for i in keys_list:\n",
    "        sampleDict[i] = input(f'Enter your {i} : ')\n",
    "    print(sampleDict)\n",
    "\n",
    "create_dict(keys_list)\n",
    "\n",
    "# Solution 2 :\n",
    "\n",
    "keys_list = [\"Name\", \"Birth Month\", \"Programming Language\", \"Salary\" ]\n",
    "\n",
    "def create_dict(keys_list):\n",
    "    sampleDict = {}\n",
    "    for i in keys_list:\n",
    "        sampleDict.update({i:input(f'Enter your {i} : ')})\n",
    "    print(sampleDict)\n",
    "\n",
    "create_dict(keys_list)"
   ]
  },
  {
   "cell_type": "markdown",
   "metadata": {},
   "source": [
    "### <center>Difficulty Level : Medium</center>"
   ]
  },
  {
   "cell_type": "markdown",
   "metadata": {},
   "source": [
    "- Create a function that displays the unique elements present inside the dictionary values in descending order in a single line.\n",
    "\n",
    "    **Example :**\n",
    "\n",
    "```python\n",
    "def unique_elements(dictionary):\n",
    "    ### your code here\n",
    "    \n",
    "marks = {\"English\": 78, \"Maths\": 89, \"Science\": 92, \"History\": 89, \"Geography\": 77, \"Physics\": 92, \"Chemistry\": 78}\n",
    "\n",
    "unique_elements(marks)\n",
    ">>> 92 89 78 77```  "
   ]
  },
  {
   "cell_type": "code",
   "execution_count": 5,
   "metadata": {},
   "outputs": [
    {
     "name": "stdout",
     "output_type": "stream",
     "text": [
      "92 89 78 77 "
     ]
    }
   ],
   "source": [
    "# Solution 1 :\n",
    "\n",
    "marks = {\"English\": 78, \"Maths\": 89, \"Science\": 92, \"History\": 89, \"Geography\": 77, \"Physics\": 92, \"Chemistry\": 78}\n",
    "\n",
    "def unique_elements(dictionary):\n",
    "    \n",
    "    l1 = []\n",
    "    for i in dictionary.values():\n",
    "        l1.append(i)\n",
    "        \n",
    "    l1 = list(set(l1))\n",
    "    l1.sort()\n",
    "    \n",
    "    for i in range(len(l1)):\n",
    "        print(l1[-(i+1)],end = ' ')\n",
    "\n",
    "unique_elements(marks)"
   ]
  },
  {
   "cell_type": "markdown",
   "metadata": {},
   "source": [
    "- Create a function that will take 1 argument as tuple of countries and display the number of vowels in the name of each country.\n",
    "\n",
    "    **Example :**\n",
    " \n",
    "```python\n",
    "def count_vowels(countries):\n",
    "    ### your code here\n",
    "\n",
    "asian_countries = ('afghanistan', 'bangladesh', 'bhutan', 'china', 'india', 'iran', 'iraq', 'israel','japan')\n",
    "count_vowels(asian_countries)\n",
    "\n",
    ">>> afghanistan has 4 vowels.\n",
    "    bangladesh has 3 vowels.\n",
    "    bhutan has 2 vowels.\n",
    "    china has 2 vowels.\n",
    "    india has 3 vowels.\n",
    "    iran has 2 vowels.\n",
    "    iraq has 2 vowels.\n",
    "    israel has 3 vowels.\n",
    "    japan has 2 vowels.\n",
    "```"
   ]
  },
  {
   "cell_type": "code",
   "execution_count": 6,
   "metadata": {},
   "outputs": [
    {
     "name": "stdout",
     "output_type": "stream",
     "text": [
      "afghanistan has 4 vowels.\n",
      "bangladesh has 3 vowels.\n",
      "bhutan has 2 vowels.\n",
      "china has 2 vowels.\n",
      "india has 3 vowels.\n",
      "iran has 2 vowels.\n",
      "iraq has 2 vowels.\n",
      "israel has 3 vowels.\n",
      "japan has 2 vowels.\n"
     ]
    }
   ],
   "source": [
    "# Solution 1 :\n",
    "def count_vowels(countries):\n",
    "    vowels = ('a','e','i','o','u')\n",
    "    for country in countries:\n",
    "        count = 0\n",
    "        for char in country:\n",
    "            if char in vowels:\n",
    "                count += 1\n",
    "\n",
    "        print(country + ' has ' + str(count) + ' vowels.')\n",
    "\n",
    "asian_countries = ('afghanistan', 'bangladesh', 'bhutan', 'china', 'india', 'iran', 'iraq', 'israel','japan')\n",
    "count_vowels(asian_countries)"
   ]
  },
  {
   "cell_type": "markdown",
   "metadata": {},
   "source": [
    "### <center>Difficulty Level : Hard</center>"
   ]
  },
  {
   "cell_type": "markdown",
   "metadata": {},
   "source": [
    "- Write a program that will find all the numbers between 1000 and 3000 (both included) such that each digit of the number is an even number and the numbers obtained should be printed in a comma - separated sequence on a single line.\n",
    "\n",
    "    **Note :** Google search for `join` function of string datatype.\n",
    "    \n",
    "```python\n",
    "def even_in_range():\n",
    "    ### your code here\n",
    "```"
   ]
  },
  {
   "cell_type": "code",
   "execution_count": 7,
   "metadata": {},
   "outputs": [
    {
     "data": {
      "text/plain": [
       "'2000,2002,2004,2006,2008,2020,2022,2024,2026,2028,2040,2042,2044,2046,2048,2060,2062,2064,2066,2068,2080,2082,2084,2086,2088,2200,2202,2204,2206,2208,2220,2222,2224,2226,2228,2240,2242,2244,2246,2248,2260,2262,2264,2266,2268,2280,2282,2284,2286,2288,2400,2402,2404,2406,2408,2420,2422,2424,2426,2428,2440,2442,2444,2446,2448,2460,2462,2464,2466,2468,2480,2482,2484,2486,2488,2600,2602,2604,2606,2608,2620,2622,2624,2626,2628,2640,2642,2644,2646,2648,2660,2662,2664,2666,2668,2680,2682,2684,2686,2688,2800,2802,2804,2806,2808,2820,2822,2824,2826,2828,2840,2842,2844,2846,2848,2860,2862,2864,2866,2868,2880,2882,2884,2886,2888'"
      ]
     },
     "execution_count": 7,
     "metadata": {},
     "output_type": "execute_result"
    }
   ],
   "source": [
    "# Solution 1 :\n",
    "def even_in_range():\n",
    "    values = []\n",
    "    for i in range(1000, 3001):\n",
    "        s = str(i)\n",
    "        if (int(s[0]) % 2 == 0) and (int(s[1]) % 2 == 0) and (int(s[2]) % 2 == 0) and (int(s[3]) % 2 == 0):\n",
    "            values.append(s)\n",
    "    return \",\".join(values)\n",
    "even_in_range()"
   ]
  },
  {
   "cell_type": "markdown",
   "metadata": {},
   "source": [
    "- Create a function that will mimic the scenario of a `SUPEROVER` Cricket match. This function will utilize 2 dictionaries for 2 players. Runs scored will be the keys and the values to these keys will be either 'O' or 'R' depending on the run value. The dictionary should have 6 unique elements and should be displayed before making the final decision. The winner of the `SUPEROVER` should be declared on the basis of just like any other cricket match.\n",
    "\n",
    "    **Note :** Generate runs using the following code snippet :\n",
    "    \n",
    "    import random\n",
    "    \n",
    "    random.randint(0,9)\n",
    "\n",
    "    **Labels :** \n",
    "    \n",
    "    0 : 'W'\n",
    "    \n",
    "    1 - 9 : 'R'\n",
    "                 \n",
    "    **Example :**\n",
    "    \n",
    "```python\n",
    "def superover():\n",
    "    ### your code here\n",
    "    \n",
    "superover()\n",
    ">>> Performance of Player1 : {3: 'R', 4: 'R', 6: 'R', 7: 'R', 8: 'R', 9: 'R'}\n",
    "    Performance of Player2 : {0: 'W', 2: 'R', 4: 'R', 6: 'R', 7: 'R', 8: 'R'}\n",
    "    Scorecard of Player1 : 37 / 0\n",
    "    Scorecard of Player2 : 27 / 1\n",
    "    Player1 wins by 10 runs! \n",
    "    \n",
    ">>> Performance of Player1 : {1: 'R', 2: 'R', 4: 'R', 5: 'R', 6: 'R', 7: 'R'}\n",
    "    Performance of Player2 : {1: 'R', 3: 'R', 5: 'R', 7: 'R', 8: 'R', 9: 'R'}\n",
    "    Scorecard of Player1 : 25 / 0\n",
    "    Scorecard of Player2 : 33 / 0\n",
    "    Player2 wins by 8 runs!\n",
    "    \n",
    ">>> Performance of Player1 : {0: 'W', 2: 'R', 3: 'R', 6: 'R', 8: 'R', 9: 'R'}\n",
    "    Performance of Player2 : {0: 'W', 2: 'R', 5: 'R', 6: 'R', 7: 'R', 8: 'R'}\n",
    "    Scorecard of Player1 : 28 / 1\n",
    "    Scorecard of Player2 : 28 / 1\n",
    "    Its a Draw!\n",
    "```"
   ]
  },
  {
   "cell_type": "code",
   "execution_count": 8,
   "metadata": {},
   "outputs": [
    {
     "name": "stdout",
     "output_type": "stream",
     "text": [
      "Performance of Player1 : {1: 'R', 2: 'R', 4: 'R', 6: 'R', 7: 'R', 9: 'R'}\n",
      "Performance of Player2 : {0: 'W', 2: 'R', 3: 'R', 5: 'R', 6: 'R', 9: 'R'}\n",
      "Scorecard of Player1 : 29 / 0\n",
      "Scorecard of Player2 : 25 / 1\n",
      "Player1 wins by 4 runs!\n"
     ]
    }
   ],
   "source": [
    "# Solution 1 :\n",
    "\n",
    "import random\n",
    "\n",
    "def superover():\n",
    "    player1 = {}\n",
    "    player2 = {}\n",
    "    \n",
    "    while (len(player1) != 6):\n",
    "        player1 = {};runs1 = [];wickets1 = 0\n",
    "        for i in range(6):\n",
    "            runs1.append(random.randint(0,9))\n",
    "        runs1 = list(set(runs1))\n",
    "               \n",
    "        for run in runs1:\n",
    "            if run == 0:\n",
    "                player1[run] = 'W'\n",
    "            else :\n",
    "                player1[run] = 'R'\n",
    "                \n",
    "        for i in player1.values():\n",
    "            if i == 'W':\n",
    "                wickets1 += 1\n",
    "                               \n",
    "    while (len(player2) != 6):\n",
    "        player2 = {};runs2 = [];wickets2 = 0\n",
    "        for i in range(6):\n",
    "            runs2.append(random.randint(0,9))\n",
    "        runs2 = list(set(runs2))\n",
    "               \n",
    "        for run in runs2:\n",
    "            if run == 0:\n",
    "                player2[run] = 'W'\n",
    "            else :\n",
    "                player2[run] = 'R'\n",
    "                \n",
    "        for i in player2.values():\n",
    "            if i == 'W':\n",
    "                wickets2 += 1\n",
    "                \n",
    "    print(f'Performance of Player1 : {player1}')\n",
    "    print(f'Performance of Player2 : {player2}')\n",
    "    \n",
    "    print(f'Scorecard of Player1 : {sum(player1.keys())} / {wickets1}')\n",
    "    print(f'Scorecard of Player2 : {sum(player2.keys())} / {wickets2}')\n",
    "    \n",
    "    if sum(player1.keys()) > sum(player2.keys()):\n",
    "        print(f'Player1 wins by {sum(player1.keys()) - sum(player2.keys())} runs!')\n",
    "    elif sum(player1.keys()) < sum(player2.keys()):\n",
    "        print(f'Player2 wins by {sum(player2.keys()) - sum(player1.keys())} runs!')\n",
    "    else:\n",
    "        print('Its a Draw!')\n",
    "            \n",
    "superover()"
   ]
  }
 ],
 "metadata": {
  "colab": {
   "name": "scratchpad",
   "provenance": []
  },
  "kernelspec": {
   "display_name": "Python 3",
   "language": "python",
   "name": "python3"
  },
  "language_info": {
   "codemirror_mode": {
    "name": "ipython",
    "version": 3
   },
   "file_extension": ".py",
   "mimetype": "text/x-python",
   "name": "python",
   "nbconvert_exporter": "python",
   "pygments_lexer": "ipython3",
   "version": "3.7.6"
  }
 },
 "nbformat": 4,
 "nbformat_minor": 1
}
