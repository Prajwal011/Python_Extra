{
 "cells": [
  {
   "cell_type": "markdown",
   "metadata": {
    "id": "qw0NPWR6Rv5v"
   },
   "source": [
    "# <center>Expressions Practice problems and solutions</center>"
   ]
  },
  {
   "cell_type": "markdown",
   "metadata": {},
   "source": [
    "## <center> Difficulty Level : Easy</center>"
   ]
  },
  {
   "cell_type": "markdown",
   "metadata": {},
   "source": [
    "- Add parentheses to the following expression so that it evaluates to 0.\n",
    "              8 - 3 * 2 - 1 + 1"
   ]
  },
  {
   "cell_type": "code",
   "execution_count": 3,
   "metadata": {},
   "outputs": [
    {
     "data": {
      "text/plain": [
       "0"
      ]
     },
     "execution_count": 3,
     "metadata": {},
     "output_type": "execute_result"
    }
   ],
   "source": [
    "8 - 3 * 2 - (1 + 1)"
   ]
  },
  {
   "cell_type": "markdown",
   "metadata": {},
   "source": [
    "- Implement Simple Interest Formula : S.I. = P × R × T\n",
    "\n",
    "    - P = 1500\n",
    "    - R = 9.5\n",
    "    - T = 20"
   ]
  },
  {
   "cell_type": "code",
   "execution_count": 4,
   "metadata": {},
   "outputs": [
    {
     "data": {
      "text/plain": [
       "285000.0"
      ]
     },
     "execution_count": 4,
     "metadata": {},
     "output_type": "execute_result"
    }
   ],
   "source": [
    "P = 1500\n",
    "R = 9.5\n",
    "T = 20\n",
    "\n",
    "SI = P * R * T\n",
    "SI"
   ]
  },
  {
   "cell_type": "markdown",
   "metadata": {
    "id": "oc4E8TFcR3ja"
   },
   "source": [
    "- Try to implement compound interest formula V=P(1+r/n)^nt\n",
    "\n",
    "    - P = 1500\n",
    "    - r = 0.043\n",
    "    - n = 4\n",
    "    - t = 6"
   ]
  },
  {
   "cell_type": "code",
   "execution_count": 6,
   "metadata": {
    "colab": {
     "base_uri": "https://localhost:8080/"
    },
    "id": "hL1VCYZ7SYKr",
    "outputId": "a88786ac-c6ca-4577-f085-c0324f7bfa88"
   },
   "outputs": [
    {
     "data": {
      "text/plain": [
       "1938.8368221341054"
      ]
     },
     "execution_count": 6,
     "metadata": {},
     "output_type": "execute_result"
    }
   ],
   "source": [
    "P = 1500\n",
    "r = 0.043\n",
    "n = 4\n",
    "t = 6\n",
    "\n",
    "V = P * ( 1 + r / n ) ** ( n * t )\n",
    "V"
   ]
  },
  {
   "cell_type": "markdown",
   "metadata": {},
   "source": [
    "- Implement Fahrenheit to Celsius conversion formula : F = ( C x 9 / 5 ) + 32.\n",
    "    - C = 253\n",
    "    - C = 147\n",
    "    - C = 333"
   ]
  },
  {
   "cell_type": "code",
   "execution_count": 7,
   "metadata": {},
   "outputs": [
    {
     "name": "stdout",
     "output_type": "stream",
     "text": [
      "487.4\n",
      "296.6\n",
      "631.4\n"
     ]
    }
   ],
   "source": [
    "C = 253\n",
    "F = (C * 9 / 5) + 32\n",
    "print(F)\n",
    "\n",
    "C = 147\n",
    "F = (C * 9 / 5) + 32\n",
    "print(F)\n",
    "\n",
    "C = 333\n",
    "F = (C * 9 / 5) + 32\n",
    "print(F)"
   ]
  },
  {
   "cell_type": "markdown",
   "metadata": {},
   "source": [
    "## <center> Difficulty Level : Medium</center>"
   ]
  },
  {
   "cell_type": "markdown",
   "metadata": {},
   "source": [
    "- Create 2 variables and assign values like name and surname from the user. Then concatenate these 2 variables and display using print function."
   ]
  },
  {
   "cell_type": "code",
   "execution_count": 8,
   "metadata": {},
   "outputs": [
    {
     "name": "stdout",
     "output_type": "stream",
     "text": [
      "AI \n",
      "ADVENTURES\n",
      "AI ADVENTURES\n"
     ]
    }
   ],
   "source": [
    "name = input()\n",
    "surname = input()\n",
    "print(name + surname)"
   ]
  },
  {
   "cell_type": "markdown",
   "metadata": {},
   "source": [
    "- Create 2 variables and assign values like birth month and birth year from the user. Display these 2 variables and the length of these variables inside a single print function."
   ]
  },
  {
   "cell_type": "code",
   "execution_count": 9,
   "metadata": {},
   "outputs": [
    {
     "name": "stdout",
     "output_type": "stream",
     "text": [
      "January\n",
      "2022\n",
      "January 7 2022 4\n"
     ]
    }
   ],
   "source": [
    "month = input()\n",
    "year = input()\n",
    "print(month,len(month),year,len(year))"
   ]
  },
  {
   "cell_type": "markdown",
   "metadata": {},
   "source": [
    "## <center> Difficulty Level : Hard</center>"
   ]
  },
  {
   "cell_type": "markdown",
   "metadata": {},
   "source": [
    "- Create 2 variables and assign values of user's favourite IPL team and any number between 1 - 10. Display the name of this favourite IPL team as many times as the number they pick from 1 - 10.\n",
    "\n",
    "    **Note :** Pass the message in the input function for taking information from the user."
   ]
  },
  {
   "cell_type": "code",
   "execution_count": 10,
   "metadata": {},
   "outputs": [
    {
     "name": "stdout",
     "output_type": "stream",
     "text": [
      "Enter the name of your favourite IPL team MI\n",
      "Enter any number between 1 - 10 7\n",
      "MIMIMIMIMIMIMI\n"
     ]
    }
   ],
   "source": [
    "team = input('Enter the name of your favourite IPL team ')\n",
    "number = input('Enter any number between 1 - 10 ')\n",
    "print(team * int(number))"
   ]
  },
  {
   "cell_type": "markdown",
   "metadata": {},
   "source": [
    "- Create 4 variables and take input from user for information like height, weight, age and a number from 1 - 10. Display the results of true division, floor division and exponentiation of height, weight and age with the number selected from 1 - 10 concatenated together inside a print function respectively.\n",
    "\n",
    "    **Note :** Pass the message in the input function for taking information from the user."
   ]
  },
  {
   "cell_type": "code",
   "execution_count": 12,
   "metadata": {},
   "outputs": [
    {
     "name": "stdout",
     "output_type": "stream",
     "text": [
      "Enter your height12\n",
      "Enter your weight12\n",
      "Enter your age12\n",
      "Enter any number between 1 - 103\n",
      "4.0\n",
      "41728\n"
     ]
    }
   ],
   "source": [
    "height = input('Enter your height')\n",
    "weight = input('Enter your weight')\n",
    "age = input('Enter your age')\n",
    "number = input('Enter any number between 1 - 10')\n",
    "\n",
    "print(str(int(height) / int(number))+ '\\n' + str(int(weight) // int(number)) + str(int(age) ** int(number)))"
   ]
  },
  {
   "cell_type": "code",
   "execution_count": null,
   "metadata": {},
   "outputs": [],
   "source": []
  }
 ],
 "metadata": {
  "colab": {
   "name": "scratchpad",
   "provenance": []
  },
  "kernelspec": {
   "display_name": "Python 3",
   "language": "python",
   "name": "python3"
  },
  "language_info": {
   "codemirror_mode": {
    "name": "ipython",
    "version": 3
   },
   "file_extension": ".py",
   "mimetype": "text/x-python",
   "name": "python",
   "nbconvert_exporter": "python",
   "pygments_lexer": "ipython3",
   "version": "3.7.6"
  }
 },
 "nbformat": 4,
 "nbformat_minor": 1
}
