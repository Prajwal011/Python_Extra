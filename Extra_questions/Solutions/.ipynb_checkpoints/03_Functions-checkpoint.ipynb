{
 "cells": [
  {
   "cell_type": "markdown",
   "metadata": {
    "id": "qw0NPWR6Rv5v"
   },
   "source": [
    "# <center>Functions Practice Solutions</center>"
   ]
  },
  {
   "cell_type": "markdown",
   "metadata": {},
   "source": [
    "### <center>Difficulty Level : Easy</center>"
   ]
  },
  {
   "cell_type": "markdown",
   "metadata": {},
   "source": [
    "- Create a function to calculate the cube of a number that is passed as the arguement to the function.\n",
    "\n",
    "    **Example :**\n",
    " \n",
    "```python\n",
    "def cube(number):\n",
    "    ### your code here\n",
    "\n",
    "number = 4\n",
    "\n",
    "cube(number)\n",
    "\n",
    ">>> 64\n",
    "```"
   ]
  },
  {
   "cell_type": "code",
   "execution_count": 1,
   "metadata": {},
   "outputs": [
    {
     "name": "stdout",
     "output_type": "stream",
     "text": [
      "64\n",
      "64\n"
     ]
    }
   ],
   "source": [
    "# Solution 1 :\n",
    "def cube(number):\n",
    "    return number**3\n",
    "print(cube(4))\n",
    "\n",
    "# Solution 2 :\n",
    "def cube(number):\n",
    "    print(number**3) \n",
    "cube(4)"
   ]
  },
  {
   "cell_type": "markdown",
   "metadata": {},
   "source": [
    "- Create a function to calculate the square of sum of 2 numbers that are defined as the default arguements and its square output is 9.\n",
    "\n",
    "    **Example :**\n",
    " \n",
    "```python\n",
    "def square(n1 = value,n2 = value):\n",
    "    ### your code here\n",
    "\n",
    "square()\n",
    "\n",
    ">>> 9\n",
    "```                       "
   ]
  },
  {
   "cell_type": "code",
   "execution_count": 2,
   "metadata": {},
   "outputs": [
    {
     "name": "stdout",
     "output_type": "stream",
     "text": [
      "9\n"
     ]
    },
    {
     "data": {
      "text/plain": [
       "9"
      ]
     },
     "execution_count": 2,
     "metadata": {},
     "output_type": "execute_result"
    }
   ],
   "source": [
    "# Solution 1 :\n",
    "def square(n1 = 1,n2 = 2):\n",
    "    print(( n1 + n2 ) ** 2)\n",
    "square()\n",
    "\n",
    "# Solution 2 :\n",
    "def square(n1 = 1,n2 = 2):\n",
    "    return(( n1 + n2 ) ** 2)\n",
    "square()"
   ]
  },
  {
   "cell_type": "markdown",
   "metadata": {},
   "source": [
    "- Create a function to assign the value of factorial of a number to a variable and display it.\n",
    "\n",
    "    **Example :**\n",
    " \n",
    "```python\n",
    "def factorial(number):\n",
    "    ### your code here\n",
    "\n",
    "var = factorial(5)\n",
    "var\n",
    "\n",
    ">>> 120\n",
    "```                       "
   ]
  },
  {
   "cell_type": "code",
   "execution_count": 3,
   "metadata": {},
   "outputs": [
    {
     "name": "stdout",
     "output_type": "stream",
     "text": [
      "Enter any number greater than 0 to calculate its factorial : 5\n",
      "120\n",
      "120\n",
      "120\n",
      "120\n"
     ]
    }
   ],
   "source": [
    "n = int(input('Enter any number greater than 0 to calculate its factorial : '))\n",
    "\n",
    "def factorial_1(n):\n",
    "    # Solution using while loop and positive step value :\n",
    "    fact = 1\n",
    "    i = 1\n",
    "    while n >= i:\n",
    "        fact = fact * i\n",
    "        i = i + 1\n",
    "    return(fact)\n",
    "print(factorial_1(n))\n",
    "\n",
    "def factorial_2(n):\n",
    "    # Solution using while loop and negative step value :\n",
    "    fact = 1\n",
    "    i = n\n",
    "    while i > 0:\n",
    "        fact = fact * i\n",
    "        i = i - 1\n",
    "    return(fact)\n",
    "print(factorial_2(n))\n",
    "\n",
    "def factorial_3(n):\n",
    "    # Solution using for loop and positive step value :\n",
    "    fact = 1\n",
    "    for i in range(1,n+1):\n",
    "        fact = fact * i\n",
    "    return(fact)\n",
    "print(factorial_3(n))\n",
    "\n",
    "def factorial_4(n):\n",
    "    # Solution using for loop and negative step value :\n",
    "    fact = 1\n",
    "    for i in range(n,0,-1):\n",
    "        fact = fact * i\n",
    "    return(fact)\n",
    "print(factorial_4(n))"
   ]
  },
  {
   "cell_type": "markdown",
   "metadata": {},
   "source": [
    "- Correct the syntax of the following function to get the required output.\n",
    "\n",
    "    **Note :** Make use of all the concepts covered uptill now.\n",
    "\n",
    "    **Example :**\n",
    "\n",
    "```python\n",
    "    defn 123string_concatenation{s1 = 'Ai',s2 ,s3 = 3);\n",
    "    \n",
    "    elif s3 == 3;\n",
    "    s = s1 + s2 * s3\n",
    "        printf[s,end = '-')\n",
    "    else;;\n",
    "    s = s1 + s2 * 1\n",
    "    printf(s,end = '->'\\\n",
    "    \n",
    "    123string_concat{'Adventures']\n",
    "           \n",
    "    >>> 'AiAdventuresAiAdventuresAiAdventures'\n",
    "    \n",
    "```"
   ]
  },
  {
   "cell_type": "code",
   "execution_count": 4,
   "metadata": {},
   "outputs": [
    {
     "name": "stdout",
     "output_type": "stream",
     "text": [
      "AiAdventuresAiAdventuresAiAdventures\n"
     ]
    }
   ],
   "source": [
    "def string_concatenation(s2,s1 = 'Ai',s3 = 3):\n",
    "\n",
    "    if s3 == 3:\n",
    "        s = ( s1 + s2 ) * s3\n",
    "        print(s)\n",
    "    else:\n",
    "        s = ( s1 + s2 ) * 1\n",
    "        print(s)\n",
    "\n",
    "string_concatenation('Adventures')"
   ]
  },
  {
   "cell_type": "markdown",
   "metadata": {},
   "source": [
    "### <center>Difficulty Level : Medium</center>"
   ]
  },
  {
   "cell_type": "markdown",
   "metadata": {},
   "source": [
    "- Create a function to calculate the area of triangle or rectangle with 3 arguements i.e base, height and shape.\n",
    "\n",
    "    **Example :**\n",
    "\n",
    "```python\n",
    "def calculate_area(base, height,shape):\n",
    "    ### your code here\n",
    "\n",
    "b = 2\n",
    "h = 6\n",
    "\n",
    "calculate_area(b,h, 'Rectangle')\n",
    "\n",
    ">>> 12\n",
    "\n",
    "\n",
    "calculate_area(b,h, 'Triangle')\n",
    "\n",
    ">>> 6.0\n",
    "```"
   ]
  },
  {
   "cell_type": "code",
   "execution_count": 5,
   "metadata": {},
   "outputs": [
    {
     "name": "stdout",
     "output_type": "stream",
     "text": [
      "12\n",
      "6.0\n"
     ]
    }
   ],
   "source": [
    "# Solution 1 :\n",
    "def calculate_area(base, height, shape):\n",
    "    if shape == 'Triangle':\n",
    "        area = ( 1 / 2 ) * base * height\n",
    "    elif shape == 'Rectangle':\n",
    "        area = base * height \n",
    "    return area\n",
    "\n",
    "print(calculate_area(2,6,'Rectangle'))\n",
    "\n",
    "print(calculate_area(2,6,'Triangle'))"
   ]
  },
  {
   "cell_type": "markdown",
   "metadata": {},
   "source": [
    "- Create a function that assigns 'None' value to a variable and displays the output of string concatenation. The strings for concatenation are taken from the input function that are used to define the default arguements to the function. \n",
    "\n",
    "    **Note :** Try passing arguement values to the function as well.\n",
    "\n",
    "    **Example :**\n",
    " \n",
    "```python\n",
    "def none_value_assignment(s1 = input(),s2 = input()):\n",
    "    ### your code here\n",
    "\n",
    "var = non_value_assignment()\n",
    "type(var)\n",
    "\n",
    ">>> String Concatenation of s1 and s2\n",
    ">>> NoneType\n",
    "```                       "
   ]
  },
  {
   "cell_type": "code",
   "execution_count": 6,
   "metadata": {},
   "outputs": [
    {
     "name": "stdout",
     "output_type": "stream",
     "text": [
      "Ai\n",
      "Adventures\n",
      "AiAdventures\n"
     ]
    },
    {
     "data": {
      "text/plain": [
       "NoneType"
      ]
     },
     "execution_count": 6,
     "metadata": {},
     "output_type": "execute_result"
    }
   ],
   "source": [
    "# Solution 1 :\n",
    "def none_value_assignment(s1 = input(),s2 = input()):\n",
    "    print( s1 + s2 )\n",
    "    \n",
    "var = none_value_assignment()\n",
    "type(var)"
   ]
  },
  {
   "cell_type": "markdown",
   "metadata": {},
   "source": [
    "### <center>Difficulty Level : Hard</center>"
   ]
  },
  {
   "cell_type": "markdown",
   "metadata": {},
   "source": [
    "- Create a function to calculate and display the sum of the following sequence by taking input from user for 'n'.\n",
    "    \n",
    "    **Sequence :** 1 + 1/1! + 1/2! + 1/3! + + 1/n!\n",
    "    \n",
    "    **Note :** To calculate the factorial of the denominator part, call the function from the 3rd question in the 'Easy section'.\n",
    "\n",
    "```python \n",
    "def sequence(n):\n",
    "    ### your code here\n",
    "\n",
    "sequence(5)\n",
    ">>> 2.7166666666666663\n",
    "```"
   ]
  },
  {
   "cell_type": "code",
   "execution_count": 7,
   "metadata": {},
   "outputs": [
    {
     "data": {
      "text/plain": [
       "2.7166666666666663"
      ]
     },
     "execution_count": 7,
     "metadata": {},
     "output_type": "execute_result"
    }
   ],
   "source": [
    "# Solution 1 :\n",
    "def sequence(n):\n",
    "    result = 1\n",
    "    for num in range(1 , n + 1):\n",
    "        fact = factorial_1(num)\n",
    "        term = 1 / fact\n",
    "        result += term\n",
    "    return result\n",
    "\n",
    "sequence(5)"
   ]
  },
  {
   "cell_type": "markdown",
   "metadata": {},
   "source": [
    "- Create a function to check whether a string is pangram or not.\n",
    "\n",
    "    **Pangram definition :** It is a sentence containing all 26 letters of the English alphabets.\n",
    "\n",
    "    **Example :**\n",
    "\n",
    "    ```python\n",
    "    def ispangram(sentence):\n",
    "        ### your code here\n",
    "\n",
    "    sentence1 = \"a quick brown fox jumps over the lazy dog\"\n",
    "    sentence2 = \"hello my name is ramesh\"\n",
    "\n",
    "    ispangram(sentence1)\n",
    "\n",
    "    >>> True\n",
    "\n",
    "    ispangram(sentence2)\n",
    "\n",
    "    >>> False\n",
    "\n",
    "    ```"
   ]
  },
  {
   "cell_type": "code",
   "execution_count": 8,
   "metadata": {},
   "outputs": [
    {
     "name": "stdout",
     "output_type": "stream",
     "text": [
      "It is a pangram.\n",
      "It is not a pangram.\n"
     ]
    }
   ],
   "source": [
    "# Solution 1 :\n",
    "sentence1 = 'a quick brown fox jumps over the lazy dog'\n",
    "sentence2 = 'hello my name is ramesh'\n",
    "\n",
    "def ispangram(string):\n",
    "    count = 0\n",
    "    alphabets = \"abcdefghijklmnopqrstuvwxyz\"\n",
    "    for i in alphabets:\n",
    "        if i in string.lower():\n",
    "            count += 1\n",
    "    return count\n",
    "\n",
    "result = ispangram(sentence1)\n",
    "if result >= 26:\n",
    "    print('It is a pangram.')\n",
    "else:\n",
    "    print('It is not a pangram.')\n",
    "    \n",
    "result = ispangram(sentence2)\n",
    "if result >= 26:\n",
    "    print('It is a pangram.')\n",
    "else:\n",
    "    print('It is not a pangram.')"
   ]
  },
  {
   "cell_type": "code",
   "execution_count": 9,
   "metadata": {},
   "outputs": [
    {
     "name": "stdout",
     "output_type": "stream",
     "text": [
      "It is a pangram.\n",
      "It is not a pangram.\n"
     ]
    }
   ],
   "source": [
    "# Solution 2 :\n",
    "sentence1 = 'a quick brown fox jumps over the lazy dog'\n",
    "sentence2 = 'hello my name is ramesh'\n",
    "\n",
    "def ispangram(string):\n",
    "    alphabets = \"abcdefghijklmnopqrstuvwxyz\"\n",
    "    result = True\n",
    "    for i in alphabets:\n",
    "        if i not in string.lower():\n",
    "            return(False)\n",
    "    return(True)\n",
    "\n",
    "result = ispangram(sentence1) \n",
    "if result == True:\n",
    "    print('It is a pangram.')\n",
    "else:\n",
    "    print('It is not a pangram.')\n",
    "    \n",
    "result = ispangram(sentence2)\n",
    "if result == True:\n",
    "    print('It is a pangram.')\n",
    "else:\n",
    "    print('It is not a pangram.')"
   ]
  }
 ],
 "metadata": {
  "colab": {
   "name": "scratchpad",
   "provenance": []
  },
  "kernelspec": {
   "display_name": "Python 3",
   "language": "python",
   "name": "python3"
  },
  "language_info": {
   "codemirror_mode": {
    "name": "ipython",
    "version": 3
   },
   "file_extension": ".py",
   "mimetype": "text/x-python",
   "name": "python",
   "nbconvert_exporter": "python",
   "pygments_lexer": "ipython3",
   "version": "3.7.6"
  }
 },
 "nbformat": 4,
 "nbformat_minor": 1
}
