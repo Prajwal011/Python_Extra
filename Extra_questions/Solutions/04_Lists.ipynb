{
 "cells": [
  {
   "cell_type": "markdown",
   "metadata": {
    "id": "qw0NPWR6Rv5v"
   },
   "source": [
    "# Lists Practice problems and solutions\n",
    "\n"
   ]
  },
  {
   "source": [
    "- Create a function named `to_append()` which will take two argument one will be list of fruits and second argument will be a new fruit that you want to add to that list. The output should be updated list after adding the new fruit\n",
    "\n",
    "**For Example:**\n",
    "\n",
    "```python\n",
    "def to_append(fruits, new_fruit):\n",
    "    ### your code here\n",
    "\n",
    "fruits = ['banana', 'orange', 'mango', 'lemon']\n",
    "new_fruit = 'blueberry'\n",
    "\n",
    "to_append(fruits, new_fruit)\n",
    "\n",
    ">>> ['banana', 'orange', 'mango', 'lemon', 'blueberry']\n",
    "```"
   ],
   "cell_type": "markdown",
   "metadata": {}
  },
  {
   "cell_type": "code",
   "execution_count": 6,
   "metadata": {},
   "outputs": [
    {
     "output_type": "execute_result",
     "data": {
      "text/plain": [
       "['banana', 'orange', 'mango', 'lemon', 'blueberry']"
      ]
     },
     "metadata": {},
     "execution_count": 6
    }
   ],
   "source": [
    "def to_append(fruits, new_fruit):\n",
    "    fruits.append(new_fruit)\n",
    "    return fruits\n",
    "fruits = ['banana', 'orange', 'mango', 'lemon']\n",
    "\n",
    "new_fruit = 'blueberry'\n",
    "to_append(fruits, new_fruit)"
   ]
  },
  {
   "source": [
    "Update the above function such that it will take third argument as index and add the new_fruit to that particular index.\n",
    "\n",
    "- Add 'apple' to the index 3 in same list fruits.\n",
    "\n",
    "\n",
    "**For Example:**\n",
    "\n",
    "```python\n",
    "def to_append(fruits, new_fruit, index):\n",
    "    ### your code here\n",
    "\n",
    "\n",
    "fruits = ['banana', 'orange', 'mango', 'lemon']\n",
    "\n",
    "new_fruit = 'apple'\n",
    "index = 3\n",
    "\n",
    "to_append(fruits, new_fruit, index)\n",
    "\n",
    ">>> ['banana', 'orange', 'mango', 'apple', 'lemon']\n",
    "```\n"
   ],
   "cell_type": "markdown",
   "metadata": {}
  },
  {
   "cell_type": "code",
   "execution_count": 7,
   "metadata": {},
   "outputs": [
    {
     "output_type": "execute_result",
     "data": {
      "text/plain": [
       "['banana', 'orange', 'mango', 'apple', 'lemon']"
      ]
     },
     "metadata": {},
     "execution_count": 7
    }
   ],
   "source": [
    "def to_append(fruits, new_fruit, index):\n",
    "    fruits.insert(index, new_fruit)\n",
    "    return fruits\n",
    "\n",
    "fruits = ['banana', 'orange', 'mango', 'lemon']\n",
    "\n",
    "new_fruit = 'apple'\n",
    "index = 3\n",
    "to_append(fruits, new_fruit, index = 3)"
   ]
  },
  {
   "source": [
    "-  Create a function which will take a list as an argument and print all the items on same line using loop.\n",
    "\n",
    "\n",
    "**For Example:**\n",
    "\n",
    "```python\n",
    "def one_line(fruits):\n",
    "    ### your code here\n",
    "\n",
    "fruits = ['banana', 'orange', 'mango', 'lemon']\n",
    "one_line(fruits)\n",
    "\n",
    ">>> banana orange mango apple lemon \n",
    "```"
   ],
   "cell_type": "markdown",
   "metadata": {}
  },
  {
   "cell_type": "code",
   "execution_count": 8,
   "metadata": {},
   "outputs": [
    {
     "output_type": "stream",
     "name": "stdout",
     "text": [
      "banana orange mango apple lemon "
     ]
    }
   ],
   "source": [
    "def one_line(list1):\n",
    "    for i in list1:\n",
    "        print(i, end = ' ')\n",
    "\n",
    "one_line(fruits)"
   ]
  },
  {
   "cell_type": "markdown",
   "metadata": {
    "id": "QFdpL4JQBD0u"
   },
   "source": [
    "- Create a function which will Reverse a given list `list1 = [8, 6, 4, 2, 0]` \n",
    "\n",
    "**For Example:**\n",
    "\n",
    "```python\n",
    "def reverse_list(numbers):\n",
    "    ### your code here\n",
    "    \n",
    "list1 = [8, 6, 4, 2, 0]\n",
    "reverse_list(list1)\n",
    "\n",
    ">>> [0, 2, 4, 6, 8]\n",
    "```"
   ]
  },
  {
   "cell_type": "code",
   "execution_count": 13,
   "metadata": {},
   "outputs": [
    {
     "output_type": "execute_result",
     "data": {
      "text/plain": [
       "[0, 2, 4, 6, 8]"
      ]
     },
     "metadata": {},
     "execution_count": 13
    }
   ],
   "source": [
    "def reverse_list(numbers):\n",
    "    return numbers[::-1]\n",
    "\n",
    "\n",
    "list1 = [8, 6, 4, 2, 0]\n",
    "reverse_list(list1)"
   ]
  },
  {
   "cell_type": "markdown",
   "metadata": {},
   "source": [
    "- Create a function named as `square_list` which will give square of every element of list provided as argument\n",
    "\n",
    "**For Example:-**\n",
    " \n",
    "```python\n",
    "def square_list(list_numbers):\n",
    "    ### your code here\n",
    "\n",
    "list2 = [1, 2, 3, 4, 5]\n",
    "square_list(list2)\n",
    ">>> 1\n",
    "    4\n",
    "    9\n",
    "    16\n",
    "    25\n",
    "```\n"
   ]
  },
  {
   "cell_type": "code",
   "execution_count": 10,
   "metadata": {},
   "outputs": [
    {
     "output_type": "stream",
     "name": "stdout",
     "text": [
      "1\n4\n9\n16\n25\n"
     ]
    }
   ],
   "source": [
    "def square_list(list_numbers):\n",
    "    for i in list_numbers:\n",
    "        print(i**2)\n",
    "\n",
    "\n",
    "list2 = [1, 2, 3, 4, 5]\n",
    "square_list(list2)"
   ]
  },
  {
   "cell_type": "markdown",
   "metadata": {},
   "source": [
    "- Create a function which will take a list as an argument and it will give us updated list after removing empty strings from the list. Use the following list `list3 = [\"Vivek\", \"\", \"Ankur\", \"aiadventures\", \"\", \"Pranav\"]`.\n",
    "\n",
    "\n",
    "**For Example:-**\n",
    " \n",
    "```python\n",
    "def remove_spaces(list_names):\n",
    "    ### your code here\n",
    "\n",
    "list3 = [\"Vivek\", \"\", \"Ankur\", \"aiadventures\", \"\", \"Pranav\"]\n",
    "remove_spaces(list3)\n",
    "\n",
    ">>> ['Vivek', 'Ankur', 'aiadventures', 'Pranav']\n",
    "```"
   ]
  },
  {
   "cell_type": "code",
   "execution_count": 14,
   "metadata": {},
   "outputs": [
    {
     "output_type": "execute_result",
     "data": {
      "text/plain": [
       "['Vivek', 'Ankur', 'aiadventures', 'Pranav']"
      ]
     },
     "metadata": {},
     "execution_count": 14
    }
   ],
   "source": [
    "def remove_spaces(list_names):\n",
    "\n",
    "    for i in list_names:\n",
    "        if i == \"\":\n",
    "            list_names.remove(i)\n",
    "    return list_names\n",
    "\n",
    "list3 = [\"Vivek\", \"\", \"Ankur\", \"aiadventures\", \"\", \"Pranav\"]    \n",
    "remove_spaces(list3)"
   ]
  },
  {
   "cell_type": "markdown",
   "metadata": {},
   "source": [
    "- Create a function which will take two lists. And the function should iterate both lists simultaneously such that output should display items in original order from first list and elements from second list in reverse order. You can use following lists. `list4 = [10, 20, 30, 40]`, `list5 = [100, 200, 300, 400]`\n",
    "\n",
    "\n",
    "\n",
    "**For Example:-**\n",
    " \n",
    "```python\n",
    "def reverse_list(first, second)::\n",
    "    ### your code here\n",
    "\n",
    "list4 = [10, 20, 30, 40]\n",
    "list5 = [100, 200, 300, 400]\n",
    "\n",
    "reverse_list(list4, list5)\n",
    ">>> 10 20 30 40 400 300 200 100 \n",
    "```\n",
    "\n",
    "**Note:-** Please give attention to the output it doesn't include `[]`  brackets. You have to do the same thing."
   ]
  },
  {
   "cell_type": "code",
   "execution_count": 26,
   "metadata": {},
   "outputs": [
    {
     "output_type": "stream",
     "name": "stdout",
     "text": [
      "10 20 30 40 400 300 200 100 "
     ]
    }
   ],
   "source": [
    "def reverse_list(first, second):\n",
    "    # new_list = []\n",
    "    for i in (first+second[::-1]):\n",
    "        print(i ,end = ' ')\n",
    "\n",
    "list4 = [10, 20, 30, 40]\n",
    "list5 = [100, 200, 300, 400]\n",
    "\n",
    "reverse_list(list4, list5)"
   ]
  },
  {
   "cell_type": "markdown",
   "metadata": {},
   "source": [
    "- We're using lists to record people who attended our party and what order they arrived in. For example, the following list represents a party with 7 guests, in which Adela showed up first and Ford was the last to arrive:\n",
    "\n",
    "`party_attendees = ['Adela', 'Fleda', 'Owen', 'May', 'Mona', 'Gilbert', 'Ford']`\n",
    "\n",
    "A guest is considered 'fashionably late' if they arrived after at least half of the party's guests. However, they must not be the very last guest (that's taking it too far). In the above example, Mona and Gilbert are the only guests who were fashionably late.\n",
    "\n",
    "Create the function which takes a list of party attendees as well as a person, and tells us whether that person is fashionably late.\n",
    "\n",
    "\n",
    "**For Example:-**\n",
    " \n",
    "```python\n",
    "def fashionably_late(arrivals, name):\n",
    "    ### your code here\n",
    "\n",
    "party_attendees = ['Adela', 'Fleda', 'Owen', 'May', 'Mona', 'Gilbert', 'Ford']\n",
    "fashionably_late(party_attendees, 'Mona')\n",
    ">>> True\n",
    "fashionably_late(party_attendees, 'Ford')\n",
    ">>> False\n",
    "```"
   ]
  },
  {
   "cell_type": "code",
   "execution_count": 27,
   "metadata": {},
   "outputs": [],
   "source": [
    "def fashionably_late(arrivals, name):\n",
    "    order= arrivals.index(name)\n",
    "    return order>= len(arrivals)/2 and order != len(arrivals)-1"
   ]
  },
  {
   "cell_type": "code",
   "execution_count": 28,
   "metadata": {},
   "outputs": [],
   "source": [
    "party_attendees = ['Adela', 'Fleda', 'Owen', 'May', 'Mona', 'Gilbert', 'Ford']"
   ]
  },
  {
   "cell_type": "code",
   "execution_count": 29,
   "metadata": {},
   "outputs": [
    {
     "output_type": "execute_result",
     "data": {
      "text/plain": [
       "True"
      ]
     },
     "metadata": {},
     "execution_count": 29
    }
   ],
   "source": [
    "fashionably_late(party_attendees,'Mona')"
   ]
  },
  {
   "cell_type": "code",
   "execution_count": 31,
   "metadata": {},
   "outputs": [
    {
     "output_type": "execute_result",
     "data": {
      "text/plain": [
       "False"
      ]
     },
     "metadata": {},
     "execution_count": 31
    }
   ],
   "source": [
    "fashionably_late(party_attendees,'Ford')"
   ]
  }
 ],
 "metadata": {
  "colab": {
   "name": "scratchpad",
   "provenance": []
  },
  "kernelspec": {
   "display_name": "Python 3",
   "language": "python",
   "name": "python3"
  },
  "language_info": {
   "codemirror_mode": {
    "name": "ipython",
    "version": 3
   },
   "file_extension": ".py",
   "mimetype": "text/x-python",
   "name": "python",
   "nbconvert_exporter": "python",
   "pygments_lexer": "ipython3",
   "version": "3.7.10"
  }
 },
 "nbformat": 4,
 "nbformat_minor": 1
}